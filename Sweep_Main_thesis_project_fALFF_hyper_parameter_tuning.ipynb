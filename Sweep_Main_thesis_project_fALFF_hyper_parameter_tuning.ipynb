{
 "cells": [
  {
   "cell_type": "markdown",
   "metadata": {},
   "source": [
    "# main thesis project -fALFF"
   ]
  },
  {
   "cell_type": "code",
   "execution_count": 1,
   "metadata": {},
   "outputs": [],
   "source": [
    "import pandas as pd\n",
    "import os\n",
    "import torch\n",
    "from torch import nn\n",
    "from torchvision.datasets import MNIST\n",
    "from torch.utils.data import DataLoader, ConcatDataset, TensorDataset\n",
    "from torchvision import transforms\n",
    "from sklearn.model_selection import KFold\n",
    "import torch.optim as optim\n",
    "import torch.nn.functional as F\n",
    "import numpy as np\n",
    "import nibabel as nib\n",
    "import matplotlib.pyplot as plt\n",
    "from sklearn.model_selection import train_test_split"
   ]
  },
  {
   "cell_type": "markdown",
   "metadata": {},
   "source": [
    "## start of classsification using fALFF"
   ]
  },
  {
   "cell_type": "code",
   "execution_count": 2,
   "metadata": {},
   "outputs": [
    {
     "name": "stdout",
     "output_type": "stream",
     "text": [
      "811 781\n"
     ]
    }
   ],
   "source": [
    "control_base_path = '/data/zmohaghegh/Downloads/control_falff/fALFF_ALFF/fALFF_Normalised_z/'\n",
    "mdd_base_path = '/data/zmohaghegh/Downloads/MDD_falff/fALFF_Normalised_z/'\n",
    "\n",
    "#define data path for control and MDD seprately\n",
    "\n",
    "control_files_path = [control_base_path + f for f in os.listdir(control_base_path) if f.startswith('fALFF')]\n",
    "mdd_files_path = [mdd_base_path + f for f in os.listdir(mdd_base_path) if f.startswith('fALFF')]\n",
    "print(len(control_files_path), len(mdd_files_path))"
   ]
  },
  {
   "cell_type": "markdown",
   "metadata": {},
   "source": [
    "### load data with nan "
   ]
  },
  {
   "cell_type": "code",
   "execution_count": 3,
   "metadata": {},
   "outputs": [],
   "source": [
    "#loading data seprately and set a label column for Control=0 and MDD=1\n",
    "\n",
    "control_dataset_fALFF_zero = [[nib.load(c).get_fdata(),0] for c in control_files_path]\n",
    "mdd_dataset_fALFF_zero = [[nib.load(m).get_fdata(),1] for m in mdd_files_path]"
   ]
  },
  {
   "cell_type": "markdown",
   "metadata": {},
   "source": [
    "##### define numpy array for doing the zero nan"
   ]
  },
  {
   "cell_type": "code",
   "execution_count": 4,
   "metadata": {},
   "outputs": [
    {
     "name": "stdout",
     "output_type": "stream",
     "text": [
      "(91, 109, 91)\n",
      "781\n",
      "1\n",
      "(91, 109, 91)\n",
      "811\n"
     ]
    },
    {
     "name": "stderr",
     "output_type": "stream",
     "text": [
      "/data/zmohaghegh/venv/lib64/python3.6/site-packages/ipykernel_launcher.py:8: VisibleDeprecationWarning: Creating an ndarray from ragged nested sequences (which is a list-or-tuple of lists-or-tuples-or ndarrays with different lengths or shapes) is deprecated. If you meant to do this, you must specify 'dtype=object' when creating the ndarray\n",
      "  \n",
      "/data/zmohaghegh/venv/lib64/python3.6/site-packages/ipykernel_launcher.py:9: VisibleDeprecationWarning: Creating an ndarray from ragged nested sequences (which is a list-or-tuple of lists-or-tuples-or ndarrays with different lengths or shapes) is deprecated. If you meant to do this, you must specify 'dtype=object' when creating the ndarray\n",
      "  if __name__ == '__main__':\n"
     ]
    },
    {
     "data": {
      "text/plain": [
       "0"
      ]
     },
     "execution_count": 4,
     "metadata": {},
     "output_type": "execute_result"
    }
   ],
   "source": [
    "control_fALFF_zero_nan2= control_dataset_fALFF_zero\n",
    "mdd_fALFF_zero_nan2 = mdd_dataset_fALFF_zero\n",
    "\n",
    "print(mdd_fALFF_zero_nan2[0][0].shape)\n",
    "print(len(mdd_fALFF_zero_nan2))\n",
    "print(mdd_fALFF_zero_nan2[0][1])\n",
    "\n",
    "mdd_fALFF_zero_nan3 = np.array(mdd_fALFF_zero_nan2)\n",
    "control_fALFF_zero_nan3 =np.array(control_fALFF_zero_nan2)\n",
    "print(control_fALFF_zero_nan2[0][0].shape)\n",
    "print(len(control_fALFF_zero_nan2))\n",
    "\n",
    "control_fALFF_zero_nan2[0][1]"
   ]
  },
  {
   "cell_type": "code",
   "execution_count": 5,
   "metadata": {},
   "outputs": [
    {
     "data": {
      "text/plain": [
       "781"
      ]
     },
     "execution_count": 5,
     "metadata": {},
     "output_type": "execute_result"
    }
   ],
   "source": [
    "len(mdd_dataset_fALFF_zero)"
   ]
  },
  {
   "cell_type": "code",
   "execution_count": 6,
   "metadata": {},
   "outputs": [
    {
     "data": {
      "text/plain": [
       "811"
      ]
     },
     "execution_count": 6,
     "metadata": {},
     "output_type": "execute_result"
    }
   ],
   "source": [
    "len(control_dataset_fALFF_zero)"
   ]
  },
  {
   "cell_type": "code",
   "execution_count": 7,
   "metadata": {},
   "outputs": [
    {
     "data": {
      "text/plain": [
       "2"
      ]
     },
     "execution_count": 7,
     "metadata": {},
     "output_type": "execute_result"
    }
   ],
   "source": [
    "len(mdd_dataset_fALFF_zero[0])\n",
    "len(control_dataset_fALFF_zero[0])"
   ]
  },
  {
   "cell_type": "code",
   "execution_count": 8,
   "metadata": {},
   "outputs": [
    {
     "data": {
      "text/plain": [
       "(91, 109, 91)"
      ]
     },
     "execution_count": 8,
     "metadata": {},
     "output_type": "execute_result"
    }
   ],
   "source": [
    "mdd_dataset_fALFF_zero[0][0].shape\n",
    "control_dataset_fALFF_zero[0][0].shape"
   ]
  },
  {
   "cell_type": "code",
   "execution_count": 9,
   "metadata": {},
   "outputs": [
    {
     "data": {
      "text/plain": [
       "array([        nan,         nan,         nan,         nan,         nan,\n",
       "               nan,         nan,         nan,         nan,         nan,\n",
       "               nan,         nan,         nan,         nan,         nan,\n",
       "               nan,  0.79285711,  0.38341027,  0.7084465 ,  0.07752176,\n",
       "       -0.05522991,  0.23621455, -0.34578028, -0.43479103, -1.26370239,\n",
       "        0.33605337,  1.18806696, -0.56419861,  0.28790414,  0.58104312,\n",
       "        0.91181123,  0.57643491,  0.0270216 ,  1.27149177, -1.447119  ,\n",
       "        1.33609557, -1.07177174, -0.02550264,  0.76837009,  0.17475575,\n",
       "       -0.17505197, -0.3093361 , -1.25800562, -1.1337204 , -0.14657176,\n",
       "        0.90695989,  1.63714087,  1.67899549,  0.29507214, -0.90126312,\n",
       "        0.63817197, -1.19335771,  0.73683125,  0.6093775 ,  0.58331841,\n",
       "       -0.83863473, -0.69378096,  1.27149355,  0.2894654 ,  1.47491312,\n",
       "        2.22593808,  1.77908099,  1.85931027,  2.66383648,  2.32862401,\n",
       "       -0.35544148, -1.25970018,  1.31814718,  0.97653753, -1.15167773,\n",
       "        0.58553696,  1.15626431, -0.59563035,  2.16053748,  0.93063474,\n",
       "        0.5309031 ,         nan,         nan,         nan,         nan,\n",
       "               nan,         nan,         nan,         nan,         nan,\n",
       "               nan,         nan,         nan,         nan,         nan,\n",
       "               nan])"
      ]
     },
     "execution_count": 9,
     "metadata": {},
     "output_type": "execute_result"
    }
   ],
   "source": [
    "control_dataset_fALFF_zero[800][0][:,34,56]"
   ]
  },
  {
   "cell_type": "code",
   "execution_count": 10,
   "metadata": {},
   "outputs": [
    {
     "data": {
      "text/plain": [
       "array([        nan,         nan,         nan,         nan,         nan,\n",
       "               nan,         nan,         nan,         nan,         nan,\n",
       "               nan,         nan,         nan,         nan,         nan,\n",
       "               nan,  2.81553602,  0.6552543 ,  0.6718654 ,  1.2881608 ,\n",
       "        1.98794246,  1.845644  ,  1.62484765,  1.23959112,  1.06100953,\n",
       "        0.46731874,  0.37081704,  0.03591866,  0.99368274,  0.86924809,\n",
       "        1.32316458, -0.84771317, -0.54154211,  0.0110574 ,  1.14759302,\n",
       "        0.37972936,  0.85268015,  0.31535962,  1.24906075,  0.1162873 ,\n",
       "        1.25974882, -0.32019141,  1.54673874,  0.81460953,  1.06063545,\n",
       "        1.43340743,  1.15204477,  0.44803467, -1.22255886, -1.12389338,\n",
       "        0.40134168, -1.26558554,  0.69545043,  1.57197809, -1.81120825,\n",
       "       -1.73631978, -1.43275416, -1.69512367, -0.23725261, -1.60847461,\n",
       "       -2.10287309,  0.8710357 ,  0.11449484, -0.11623833,  1.4695338 ,\n",
       "        2.35465837, -1.44191825,  0.96613085,  0.09745965, -0.20174141,\n",
       "        0.05207134,  1.37507236, -0.89479601,  1.69209313,  1.1610707 ,\n",
       "        0.01100744,         nan,         nan,         nan,         nan,\n",
       "               nan,         nan,         nan,         nan,         nan,\n",
       "               nan,         nan,         nan,         nan,         nan,\n",
       "               nan])"
      ]
     },
     "execution_count": 10,
     "metadata": {},
     "output_type": "execute_result"
    }
   ],
   "source": [
    "mdd_dataset_fALFF_zero[700][0][:,34,56]"
   ]
  },
  {
   "cell_type": "code",
   "execution_count": 11,
   "metadata": {},
   "outputs": [
    {
     "data": {
      "text/plain": [
       "array([ 0.        ,  0.        ,  0.        ,  0.        ,  0.        ,\n",
       "        0.        ,  0.        ,  0.        ,  0.        ,  0.        ,\n",
       "        0.        ,  0.        ,  0.        ,  0.        ,  0.        ,\n",
       "        0.        ,  0.79285711,  0.38341027,  0.7084465 ,  0.07752176,\n",
       "       -0.05522991,  0.23621455, -0.34578028, -0.43479103, -1.26370239,\n",
       "        0.33605337,  1.18806696, -0.56419861,  0.28790414,  0.58104312,\n",
       "        0.91181123,  0.57643491,  0.0270216 ,  1.27149177, -1.447119  ,\n",
       "        1.33609557, -1.07177174, -0.02550264,  0.76837009,  0.17475575,\n",
       "       -0.17505197, -0.3093361 , -1.25800562, -1.1337204 , -0.14657176,\n",
       "        0.90695989,  1.63714087,  1.67899549,  0.29507214, -0.90126312,\n",
       "        0.63817197, -1.19335771,  0.73683125,  0.6093775 ,  0.58331841,\n",
       "       -0.83863473, -0.69378096,  1.27149355,  0.2894654 ,  1.47491312,\n",
       "        2.22593808,  1.77908099,  1.85931027,  2.66383648,  2.32862401,\n",
       "       -0.35544148, -1.25970018,  1.31814718,  0.97653753, -1.15167773,\n",
       "        0.58553696,  1.15626431, -0.59563035,  2.16053748,  0.93063474,\n",
       "        0.5309031 ,  0.        ,  0.        ,  0.        ,  0.        ,\n",
       "        0.        ,  0.        ,  0.        ,  0.        ,  0.        ,\n",
       "        0.        ,  0.        ,  0.        ,  0.        ,  0.        ,\n",
       "        0.        ])"
      ]
     },
     "execution_count": 11,
     "metadata": {},
     "output_type": "execute_result"
    }
   ],
   "source": [
    "#example control\n",
    "zero_nan_control_800= np.nan_to_num(control_dataset_fALFF_zero[800][0],copy=True)\n",
    "zero_nan_control_800[:,34,56]"
   ]
  },
  {
   "cell_type": "code",
   "execution_count": 12,
   "metadata": {},
   "outputs": [
    {
     "data": {
      "text/plain": [
       "array([ 0.        ,  0.        ,  0.        ,  0.        ,  0.        ,\n",
       "        0.        ,  0.        ,  0.        ,  0.        ,  0.        ,\n",
       "        0.        ,  0.        ,  0.        ,  0.        ,  0.        ,\n",
       "        0.        ,  2.81553602,  0.6552543 ,  0.6718654 ,  1.2881608 ,\n",
       "        1.98794246,  1.845644  ,  1.62484765,  1.23959112,  1.06100953,\n",
       "        0.46731874,  0.37081704,  0.03591866,  0.99368274,  0.86924809,\n",
       "        1.32316458, -0.84771317, -0.54154211,  0.0110574 ,  1.14759302,\n",
       "        0.37972936,  0.85268015,  0.31535962,  1.24906075,  0.1162873 ,\n",
       "        1.25974882, -0.32019141,  1.54673874,  0.81460953,  1.06063545,\n",
       "        1.43340743,  1.15204477,  0.44803467, -1.22255886, -1.12389338,\n",
       "        0.40134168, -1.26558554,  0.69545043,  1.57197809, -1.81120825,\n",
       "       -1.73631978, -1.43275416, -1.69512367, -0.23725261, -1.60847461,\n",
       "       -2.10287309,  0.8710357 ,  0.11449484, -0.11623833,  1.4695338 ,\n",
       "        2.35465837, -1.44191825,  0.96613085,  0.09745965, -0.20174141,\n",
       "        0.05207134,  1.37507236, -0.89479601,  1.69209313,  1.1610707 ,\n",
       "        0.01100744,  0.        ,  0.        ,  0.        ,  0.        ,\n",
       "        0.        ,  0.        ,  0.        ,  0.        ,  0.        ,\n",
       "        0.        ,  0.        ,  0.        ,  0.        ,  0.        ,\n",
       "        0.        ])"
      ]
     },
     "execution_count": 12,
     "metadata": {},
     "output_type": "execute_result"
    }
   ],
   "source": [
    "#example mdd\n",
    "zero_nan_mdd_700= np.nan_to_num(mdd_dataset_fALFF_zero[700][0],copy=True)\n",
    "zero_nan_mdd_700[:,34,56]"
   ]
  },
  {
   "cell_type": "code",
   "execution_count": 13,
   "metadata": {},
   "outputs": [
    {
     "name": "stdout",
     "output_type": "stream",
     "text": [
      "(811, 2)\n",
      "(91, 109, 91)\n",
      "0\n",
      "0\n",
      "(2,)\n",
      "<class 'numpy.ndarray'>\n"
     ]
    }
   ],
   "source": [
    "#zero_nan_control\n",
    "print(control_fALFF_zero_nan3.shape)\n",
    "print(control_fALFF_zero_nan3[0][0].shape)\n",
    "print(control_fALFF_zero_nan3[0][1])\n",
    "print(control_fALFF_zero_nan3[100][1])\n",
    "print(control_fALFF_zero_nan3[0].shape)\n",
    "print(type(control_fALFF_zero_nan3))\n",
    "\n",
    "\n",
    "for i in range(len(control_dataset_fALFF_zero)):    \n",
    "    control_fALFF_zero_nan3[i][0] =np.nan_to_num(control_dataset_fALFF_zero[i][0],copy=True)\n",
    "    control_fALFF_zero_nan3[i][1] =np.nan_to_num(control_dataset_fALFF_zero[i][1],copy=True)"
   ]
  },
  {
   "cell_type": "code",
   "execution_count": 14,
   "metadata": {},
   "outputs": [
    {
     "name": "stdout",
     "output_type": "stream",
     "text": [
      "(811, 2)\n",
      "(91, 109, 91)\n",
      "0\n",
      "0\n"
     ]
    },
    {
     "data": {
      "text/plain": [
       "array([ 0.00000000e+00,  0.00000000e+00,  0.00000000e+00,  0.00000000e+00,\n",
       "        0.00000000e+00,  0.00000000e+00,  0.00000000e+00,  0.00000000e+00,\n",
       "        0.00000000e+00,  0.00000000e+00,  0.00000000e+00,  0.00000000e+00,\n",
       "        0.00000000e+00,  0.00000000e+00,  0.00000000e+00,  0.00000000e+00,\n",
       "        8.54095221e-01,  1.63226497e+00,  8.17795992e-01,  9.50136483e-01,\n",
       "        4.11450684e-01, -1.09165692e+00,  5.68864763e-01,  1.33423610e-02,\n",
       "        8.38708058e-02,  1.47008955e-01, -5.16210198e-01,  3.18717659e-01,\n",
       "        9.11356986e-01,  4.62050170e-01,  8.42347145e-01,  6.87091887e-01,\n",
       "        1.57751429e+00, -1.30070031e+00, -1.02044439e+00,  7.76194215e-01,\n",
       "       -5.35993397e-01,  1.48952782e-01,  2.03351808e+00,  1.85308084e-01,\n",
       "       -1.28918397e+00,  3.66357476e-01, -7.58638024e-01, -1.01682770e+00,\n",
       "       -1.00189006e+00,  3.38434488e-01,  5.43135107e-01,  1.21917140e+00,\n",
       "        7.15234458e-01, -3.36432713e-05, -3.67613494e-01,  1.58524299e+00,\n",
       "        1.59939373e+00,  9.10329938e-01, -1.45621538e+00,  9.93699849e-01,\n",
       "       -1.14863646e+00, -3.59896094e-01,  1.04122841e+00,  1.92590907e-01,\n",
       "        1.58162439e+00,  4.84929442e-01,  1.12026393e+00,  1.82442701e+00,\n",
       "        1.13526797e+00,  5.58335304e-01,  3.51472199e-01, -6.01517379e-01,\n",
       "        3.78811091e-01,  1.16086110e-01, -6.29866540e-01,  4.43039834e-01,\n",
       "       -1.18320584e-01, -2.37376645e-01, -2.09462076e-01,  8.28190804e-01,\n",
       "        0.00000000e+00,  0.00000000e+00,  0.00000000e+00,  0.00000000e+00,\n",
       "        0.00000000e+00,  0.00000000e+00,  0.00000000e+00,  0.00000000e+00,\n",
       "        0.00000000e+00,  0.00000000e+00,  0.00000000e+00,  0.00000000e+00,\n",
       "        0.00000000e+00,  0.00000000e+00,  0.00000000e+00])"
      ]
     },
     "execution_count": 14,
     "metadata": {},
     "output_type": "execute_result"
    }
   ],
   "source": [
    "print(control_fALFF_zero_nan3.shape)\n",
    "print(control_fALFF_zero_nan3[0][0].shape)\n",
    "print(control_fALFF_zero_nan3[0][1]) ## mdd label for control=0\n",
    "print(control_fALFF_zero_nan3[810][1])\n",
    "control_fALFF_zero_nan3[810][0][:,34,56]\n"
   ]
  },
  {
   "cell_type": "code",
   "execution_count": 15,
   "metadata": {},
   "outputs": [
    {
     "name": "stdout",
     "output_type": "stream",
     "text": [
      "(781, 2)\n",
      "(91, 109, 91)\n",
      "<class 'numpy.ndarray'>\n"
     ]
    },
    {
     "data": {
      "text/plain": [
       "(781, 2)"
      ]
     },
     "execution_count": 15,
     "metadata": {},
     "output_type": "execute_result"
    }
   ],
   "source": [
    "#zero_nan_mdd\n",
    "\n",
    "print(mdd_fALFF_zero_nan3.shape)\n",
    "print(mdd_fALFF_zero_nan3[0][0].shape)\n",
    "print(type(mdd_fALFF_zero_nan3))\n",
    "\n",
    "for i in range(len(mdd_dataset_fALFF_zero)):    \n",
    "    mdd_fALFF_zero_nan3[i][0] =np.nan_to_num(mdd_dataset_fALFF_zero[i][0],copy=True)\n",
    "    mdd_fALFF_zero_nan3[i][1] =np.nan_to_num(mdd_dataset_fALFF_zero[i][1],copy=True)\n",
    "\n",
    "mdd_fALFF_zero_nan3.shape"
   ]
  },
  {
   "cell_type": "code",
   "execution_count": 16,
   "metadata": {},
   "outputs": [
    {
     "name": "stdout",
     "output_type": "stream",
     "text": [
      "(781, 2)\n",
      "(91, 109, 91)\n",
      "(2,)\n",
      "1\n"
     ]
    },
    {
     "data": {
      "text/plain": [
       "array([ 0.        ,  0.        ,  0.        ,  0.        ,  0.        ,\n",
       "        0.        ,  0.        ,  0.        ,  0.        ,  0.        ,\n",
       "        0.        ,  0.        ,  0.        ,  0.        ,  0.        ,\n",
       "        0.        , -1.35622644, -0.40713361, -0.01371213,  0.77628934,\n",
       "       -1.27482736,  1.1860497 ,  0.574938  ,  0.30892873,  1.47411656,\n",
       "        1.01888108,  0.59245348, -0.03579801,  0.91579568,  0.78738749,\n",
       "        1.59277833,  0.94882649,  0.33899343,  0.42292801, -0.16982096,\n",
       "       -0.31009254,  0.35575098, -0.74997598,  0.63261026,  1.88919067,\n",
       "        2.26162815,  1.5200696 ,  0.26807237, -0.39947766,  1.12354076,\n",
       "       -1.37134945,  0.85698241,  0.20198709, -0.20639515,  1.16627228,\n",
       "        2.38697624,  0.14920443,  0.67725903,  0.1856637 , -0.2536771 ,\n",
       "       -0.30439115,  0.80092996, -0.13461579, -0.3299183 ,  1.3129667 ,\n",
       "        0.69235116,  0.13360614,  1.05824077,  1.03701222,  2.11989617,\n",
       "        2.43561625,  0.70925099, -0.55656517,  0.91527492,  1.98366797,\n",
       "        1.83137524,  1.40650821,  1.37314534,  1.54724121,  1.66221094,\n",
       "        2.26697278,  0.        ,  0.        ,  0.        ,  0.        ,\n",
       "        0.        ,  0.        ,  0.        ,  0.        ,  0.        ,\n",
       "        0.        ,  0.        ,  0.        ,  0.        ,  0.        ,\n",
       "        0.        ])"
      ]
     },
     "execution_count": 16,
     "metadata": {},
     "output_type": "execute_result"
    }
   ],
   "source": [
    "print(mdd_fALFF_zero_nan3.shape)\n",
    "\n",
    "mdd_fALFF_zero_nan3.shape\n",
    "print(mdd_fALFF_zero_nan3[0][0].shape)\n",
    "print(mdd_fALFF_zero_nan3[0].shape)\n",
    "print(mdd_fALFF_zero_nan3[0][1])\n",
    "mdd_fALFF_zero_nan3[710][0][:,34,56]"
   ]
  },
  {
   "cell_type": "markdown",
   "metadata": {},
   "source": [
    "### load and add 1 channel to dimension of data 'without nan'"
   ]
  },
  {
   "cell_type": "code",
   "execution_count": 17,
   "metadata": {},
   "outputs": [],
   "source": [
    "# np.reshape(control_dataset[0][0], (1, 91, 109, 91))\n",
    "\n",
    "control_fALFF_4d_zero_nan = [[np.reshape(c[0], (1, 91, 109, 91)), c[1]] for c in control_fALFF_zero_nan3]\n",
    "mdd_fALFF_4d_zero_nan = [[np.reshape(m[0], (1, 91, 109, 91)), m[1]] for m in mdd_fALFF_zero_nan3]"
   ]
  },
  {
   "cell_type": "code",
   "execution_count": 18,
   "metadata": {
    "scrolled": true
   },
   "outputs": [
    {
     "name": "stdout",
     "output_type": "stream",
     "text": [
      "(1, 91, 109, 91)\n"
     ]
    },
    {
     "data": {
      "text/plain": [
       "1"
      ]
     },
     "execution_count": 18,
     "metadata": {},
     "output_type": "execute_result"
    }
   ],
   "source": [
    "print(mdd_fALFF_4d_zero_nan[700][0].shape)\n",
    "mdd_fALFF_4d_zero_nan[700][1]"
   ]
  },
  {
   "cell_type": "code",
   "execution_count": 19,
   "metadata": {},
   "outputs": [
    {
     "name": "stdout",
     "output_type": "stream",
     "text": [
      "(1, 91, 109, 91)\n"
     ]
    },
    {
     "data": {
      "text/plain": [
       "0"
      ]
     },
     "execution_count": 19,
     "metadata": {},
     "output_type": "execute_result"
    }
   ],
   "source": [
    "print(control_fALFF_4d_zero_nan[800][0].shape)\n",
    "control_fALFF_4d_zero_nan[800][1]"
   ]
  },
  {
   "cell_type": "code",
   "execution_count": 20,
   "metadata": {},
   "outputs": [
    {
     "data": {
      "text/plain": [
       "781"
      ]
     },
     "execution_count": 20,
     "metadata": {},
     "output_type": "execute_result"
    }
   ],
   "source": [
    "len(mdd_fALFF_4d_zero_nan)"
   ]
  },
  {
   "cell_type": "code",
   "execution_count": 21,
   "metadata": {},
   "outputs": [
    {
     "data": {
      "text/plain": [
       "2"
      ]
     },
     "execution_count": 21,
     "metadata": {},
     "output_type": "execute_result"
    }
   ],
   "source": [
    "len(mdd_fALFF_4d_zero_nan[0])"
   ]
  },
  {
   "cell_type": "markdown",
   "metadata": {},
   "source": [
    "### concat data for control and MDD without nan"
   ]
  },
  {
   "cell_type": "code",
   "execution_count": 22,
   "metadata": {},
   "outputs": [
    {
     "name": "stdout",
     "output_type": "stream",
     "text": [
      "(1, 91, 109, 91)\n",
      "1\n",
      "0\n"
     ]
    },
    {
     "data": {
      "text/plain": [
       "array([ 0.        ,  0.        ,  0.        ,  0.        ,  0.        ,\n",
       "        0.        ,  0.        ,  0.        ,  0.        ,  0.        ,\n",
       "        0.        ,  0.26051483, -0.14298151, -0.71571755,  0.57755512,\n",
       "       -1.31374657, -0.56984562, -1.30225861,  0.62331015,  0.5041917 ,\n",
       "       -0.83847451,  0.96808773,  0.67395806,  0.42258695,  0.68993944,\n",
       "        0.31827262,  0.02916557,  0.45467517,  0.33197761,  0.91665024,\n",
       "       -0.90823931, -1.11290121,  1.57923055,  0.14622138,  0.32043791,\n",
       "        1.72918117,  0.14077128,  0.99111116,  0.38565841,  0.7349574 ,\n",
       "       -1.12849081, -2.68588185, -1.5026052 , -1.72727966,  0.34865782,\n",
       "        1.290205  ,  0.65884262,  0.49757457, -0.23207611,  1.03446007,\n",
       "        0.79974961,  1.06815457, -0.36284623,  0.56689322,  0.99398375,\n",
       "        1.81708336,  1.41056597,  1.93723655,  0.75482833,  0.48027435,\n",
       "        0.75945824,  1.08402658,  1.06377399,  0.25535056,  0.64601636,\n",
       "        1.66061056,  1.16460681, -0.03491591,  1.90987241,  0.43985492,\n",
       "        0.76577598, -0.09525288,  0.80856597,  0.36094809,  0.92959613,\n",
       "        0.7031762 ,  1.19572556,  1.83147359,  1.18172717,  0.23772211,\n",
       "        0.        ,  0.        ,  0.        ,  0.        ,  0.        ,\n",
       "        0.        ,  0.        ,  0.        ,  0.        ,  0.        ,\n",
       "        0.        ])"
      ]
     },
     "execution_count": 22,
     "metadata": {},
     "output_type": "execute_result"
    }
   ],
   "source": [
    "dataset_ukbb_fALFF_zero_nan= ConcatDataset([control_fALFF_4d_zero_nan, mdd_fALFF_4d_zero_nan])\n",
    "\n",
    "print(dataset_ukbb_fALFF_zero_nan[0][0].shape)\n",
    "print(dataset_ukbb_fALFF_zero_nan[1500][1])\n",
    "print(dataset_ukbb_fALFF_zero_nan[810][1])\n",
    "\n",
    "\n",
    "dataset_ukbb_fALFF_zero_nan[1500][0][0,:,54,45]\n",
    "\n",
    "#subject number=1500, mdd label,fALFF value for voxels along axial with y ,z dimention = 54,45"
   ]
  },
  {
   "cell_type": "code",
   "execution_count": 23,
   "metadata": {},
   "outputs": [
    {
     "data": {
      "text/plain": [
       "1592"
      ]
     },
     "execution_count": 23,
     "metadata": {},
     "output_type": "execute_result"
    }
   ],
   "source": [
    "len(dataset_ukbb_fALFF_zero_nan)"
   ]
  },
  {
   "cell_type": "code",
   "execution_count": 24,
   "metadata": {},
   "outputs": [
    {
     "data": {
      "text/plain": [
       "2"
      ]
     },
     "execution_count": 24,
     "metadata": {},
     "output_type": "execute_result"
    }
   ],
   "source": [
    "len(dataset_ukbb_fALFF_zero_nan[0])"
   ]
  },
  {
   "cell_type": "code",
   "execution_count": 25,
   "metadata": {},
   "outputs": [
    {
     "name": "stdout",
     "output_type": "stream",
     "text": [
      "0\n",
      "1\n",
      "0\n"
     ]
    },
    {
     "data": {
      "text/plain": [
       "()"
      ]
     },
     "execution_count": 25,
     "metadata": {},
     "output_type": "execute_result"
    }
   ],
   "source": [
    "print(dataset_ukbb_fALFF_zero_nan[800][1]) # subject 800 label MDD =0\n",
    "print(dataset_ukbb_fALFF_zero_nan[1500][1]) # subject 1500 label MDD =1 \n",
    "\n",
    "#problem solved : mdd_zero_nan label have problem : instead of 1 integer we have an array (91,109,91)\n",
    "\n",
    "print(dataset_ukbb_fALFF_zero_nan[0][1])\n",
    "\n",
    "dataset_ukbb_fALFF_zero_nan[1500][1].shape"
   ]
  },
  {
   "cell_type": "code",
   "execution_count": 26,
   "metadata": {},
   "outputs": [
    {
     "data": {
      "text/plain": [
       "1"
      ]
     },
     "execution_count": 26,
     "metadata": {},
     "output_type": "execute_result"
    }
   ],
   "source": [
    "dataset_ukbb_fALFF_zero_nan[1500][1]"
   ]
  },
  {
   "cell_type": "markdown",
   "metadata": {},
   "source": [
    "### define Network architecture"
   ]
  },
  {
   "cell_type": "code",
   "execution_count": 27,
   "metadata": {},
   "outputs": [],
   "source": [
    "#Define a Convolutional Neural Network : BASED ON https://www.biorxiv.org/content/10.1101/2019.12.17.879346v1\n",
    "\n",
    "class ConvNet(nn.Module):\n",
    "    def __init__(self):\n",
    "        super(ConvNet, self).__init__()\n",
    "        \n",
    "        self.downsample = nn.AvgPool3d(2, stride=2, padding=0)\n",
    "        \n",
    "        self.CNNlayer = nn.Sequential(\n",
    "            nn.Conv3d(1, 64, kernel_size=3, stride=1),\n",
    "            nn.ELU(),\n",
    "            nn.Conv3d(64, 16, kernel_size=3, stride=1),\n",
    "            nn.ELU(),\n",
    "            nn.MaxPool3d(2)\n",
    "        )\n",
    "        \n",
    "        self.flat1 = nn.Linear(160000, 16)   \n",
    "        self.flat2 = nn.Linear(16, 1)\n",
    "            \n",
    "    def forward(self, x):\n",
    "        x=self.downsample(x)\n",
    "        #print(f'avg-pool: {x.size()}\\n----------')\n",
    "        #print(f'number of nan in this layer = {torch.isnan(x).sum()}')\n",
    "        \n",
    "        x=self.CNNlayer(x)\n",
    "        #print(f'convolution1+2+maxpool: {x.size()} \\n----------')\n",
    "        \n",
    "        x=x.reshape(x.size(0), -1)\n",
    "        #print(f'reshape after cnn: {x.size()}\\n----------')\n",
    "        \n",
    "        x=F.elu(self.flat1(x))\n",
    "        #print(f'fully-connected1: {x.size()}\\n----------')\n",
    "                    \n",
    "        x=self.flat2(x)\n",
    "        #print(f'fully-connected2: {x.size()}\\n----------')\n",
    "        \n",
    "        return x"
   ]
  },
  {
   "cell_type": "markdown",
   "metadata": {},
   "source": [
    "### lunch wandb"
   ]
  },
  {
   "cell_type": "code",
   "execution_count": 28,
   "metadata": {},
   "outputs": [
    {
     "name": "stdout",
     "output_type": "stream",
     "text": [
      "\u001b[34m\u001b[1mwandb\u001b[0m: Appending key for api.wandb.ai to your netrc file: /data/zmohaghegh/.netrc\r\n"
     ]
    }
   ],
   "source": [
    "import wandb\n",
    "!wandb login 390734ff44d817dbba59927d4eb542e564627b3b"
   ]
  },
  {
   "cell_type": "code",
   "execution_count": 29,
   "metadata": {},
   "outputs": [],
   "source": [
    "sweep_config = {\n",
    "    'method': 'random', #grid, random\n",
    "    'metric': {\n",
    "      'name': 'loss',\n",
    "      'goal': 'minimize'   \n",
    "    },\n",
    "    'parameters': {\n",
    "        'epochs': {\n",
    "            'values': [8, 10, 20]\n",
    "        },\n",
    "        'batch_size': {\n",
    "            'values': [10, 32, 64]\n",
    "        },\n",
    "        'learning_rate': {\n",
    "            'values': [1e-2, 1e-3, 1e-4]\n",
    "        },\n",
    "    }\n",
    "}"
   ]
  },
  {
   "cell_type": "code",
   "execution_count": 30,
   "metadata": {},
   "outputs": [
    {
     "name": "stdout",
     "output_type": "stream",
     "text": [
      "Create sweep with ID: hfinfn2b\n",
      "Sweep URL: https://wandb.ai/zahramhn/classifier-falff-sweep-hyper-parameter/sweeps/hfinfn2b\n"
     ]
    }
   ],
   "source": [
    "sweep_id = wandb.sweep(sweep_config, project=\"classifier-falff-sweep-hyper-parameter\")"
   ]
  },
  {
   "cell_type": "markdown",
   "metadata": {},
   "source": [
    "### Train and Test (without CV)"
   ]
  },
  {
   "cell_type": "code",
   "execution_count": 31,
   "metadata": {},
   "outputs": [
    {
     "name": "stdout",
     "output_type": "stream",
     "text": [
      "1592\n",
      "1273\n",
      "319\n"
     ]
    }
   ],
   "source": [
    "### spilit data to train-test and validation\n",
    "\n",
    "dataset_size= len(dataset_ukbb_fALFF_zero_nan)\n",
    "train_count = int(0.8 * dataset_size) \n",
    "test_count = dataset_size - train_count\n",
    "\n",
    "print(dataset_size)\n",
    "print(train_count)\n",
    "print(test_count)"
   ]
  },
  {
   "cell_type": "code",
   "execution_count": 32,
   "metadata": {},
   "outputs": [],
   "source": [
    "def train():\n",
    "    \n",
    "    # Default values for hyper-parameters we're going to sweep over\n",
    "    config_defaults = {\n",
    "            'epochs': 10,\n",
    "            'batch_size': 10,\n",
    "            'learning_rate': 1e-3,\n",
    "        }\n",
    "\n",
    "    # Initialize a new wandb run\n",
    "    wandb.init(project='classifier-falff-sweep-hyper-parameter',config=config_defaults)\n",
    "\n",
    "    # Config is a variable that holds and saves hyperparameters and inputs\n",
    "    config = wandb.config\n",
    "\n",
    "    #Define a Loss function \n",
    "    loss_function = nn.BCEWithLogitsLoss()  \n",
    "\n",
    "    #load dataset \n",
    "    train_dataset, test_dataset = torch.utils.data.random_split(dataset_ukbb_fALFF_zero_nan, (train_count, test_count))\n",
    "    train_dataset_loader = torch.utils.data.DataLoader(train_dataset, batch_size=config.batch_size, shuffle=True)  \n",
    "    test_dataset_loader  = torch.utils.data.DataLoader(test_dataset , batch_size=config.batch_size, shuffle=True)\n",
    "\n",
    "    #### load data splits\n",
    "    dataloaders = {'train': train_dataset_loader, 'test': test_dataset_loader}\n",
    "\n",
    "    #define the newtwork \n",
    "    network = ConvNet()\n",
    "    network = network.double()\n",
    "\n",
    "    #create the optimizer\n",
    "    optimizer = optim.SGD(network.parameters(), momentum=0.9, lr = config.learning_rate, weight_decay= 1e-3)\n",
    "\n",
    "    for epoch in range(0, config.epochs):\n",
    "        print(f'Starting epoch {epoch+1}')\n",
    "\n",
    "        train_loss = 0\n",
    "        total =0\n",
    "        correct=0\n",
    "\n",
    "        # train model/network \n",
    "        for i, data in enumerate(train_dataset_loader, 0):\n",
    "            #print(f'train {i}')\n",
    "\n",
    "            # get the inputs; data is a list of [inputs, labels]\n",
    "            inputs, labels = data\n",
    "\n",
    "            # zero the gradient buffers\n",
    "            optimizer.zero_grad()\n",
    "\n",
    "            # forward pass\n",
    "            outputs = network(inputs)\n",
    "            outputss = outputs.squeeze(1) #### [10,1] ---> [10]\n",
    "\n",
    "            # prediction\n",
    "            predicted = outputss.data > 0.0\n",
    "            \n",
    "            labels = labels.double()\n",
    "\n",
    "            #calcuate loss/error\n",
    "            loss = loss_function(outputss, labels)\n",
    "\n",
    "            # backward pass\n",
    "            loss.backward()\n",
    "\n",
    "            # Does the update , gradient descent\n",
    "            optimizer.step() \n",
    "\n",
    "            #loss_list.append(loss.item())\n",
    "\n",
    "            train_loss += loss.item()\n",
    "            total += labels.size(0)\n",
    "            correct += (predicted == labels).sum().item()\n",
    "\n",
    "        print(f'acc={ 100 * correct /total}')\n",
    "        print(f'loss={train_loss /total}')\n",
    "\n",
    "        wandb.log({ \"epoch\": epoch , \"train_Loss_falff\": train_loss /total, \"train_acc_falff \": 100 * correct / total })\n",
    "\n",
    "    print('Training process has finished')    "
   ]
  },
  {
   "cell_type": "markdown",
   "metadata": {},
   "source": [
    "### sweep over hyper parameter : hyper parameter tuning "
   ]
  },
  {
   "cell_type": "code",
   "execution_count": 34,
   "metadata": {
    "scrolled": true
   },
   "outputs": [
    {
     "name": "stderr",
     "output_type": "stream",
     "text": [
      "\u001b[34m\u001b[1mwandb\u001b[0m: Agent Starting Run: zhovzbdh with config:\n",
      "\u001b[34m\u001b[1mwandb\u001b[0m: \tbatch_size: 10\n",
      "\u001b[34m\u001b[1mwandb\u001b[0m: \tepochs: 8\n",
      "\u001b[34m\u001b[1mwandb\u001b[0m: \tlearning_rate: 0.0001\n",
      "\u001b[34m\u001b[1mwandb\u001b[0m: Currently logged in as: \u001b[33mzahramhn\u001b[0m (use `wandb login --relogin` to force relogin)\n",
      "\u001b[34m\u001b[1mwandb\u001b[0m: \u001b[33mWARNING\u001b[0m Ignored wandb.init() arg project when running a sweep\n"
     ]
    },
    {
     "data": {
      "text/html": [
       "\n",
       "                Tracking run with wandb version 0.10.20<br/>\n",
       "                Syncing run <strong style=\"color:#cdcd00\">astral-sweep-1</strong> to <a href=\"https://wandb.ai\" target=\"_blank\">Weights & Biases</a> <a href=\"https://docs.wandb.com/integrations/jupyter.html\" target=\"_blank\">(Documentation)</a>.<br/>\n",
       "                Project page: <a href=\"https://wandb.ai/zahramhn/classifier-falff-sweep-hyper-parameter\" target=\"_blank\">https://wandb.ai/zahramhn/classifier-falff-sweep-hyper-parameter</a><br/>\n",
       "                Sweep page: <a href=\"https://wandb.ai/zahramhn/classifier-falff-sweep-hyper-parameter/sweeps/hfinfn2b\" target=\"_blank\">https://wandb.ai/zahramhn/classifier-falff-sweep-hyper-parameter/sweeps/hfinfn2b</a><br/>\n",
       "Run page: <a href=\"https://wandb.ai/zahramhn/classifier-falff-sweep-hyper-parameter/runs/zhovzbdh\" target=\"_blank\">https://wandb.ai/zahramhn/classifier-falff-sweep-hyper-parameter/runs/zhovzbdh</a><br/>\n",
       "                Run data is saved locally in <code>/data/zmohaghegh/TempStats_3D-CNN/wandb/run-20210312_001132-zhovzbdh</code><br/><br/>\n",
       "            "
      ],
      "text/plain": [
       "<IPython.core.display.HTML object>"
      ]
     },
     "metadata": {},
     "output_type": "display_data"
    },
    {
     "name": "stdout",
     "output_type": "stream",
     "text": [
      "Starting epoch 1\n"
     ]
    },
    {
     "name": "stderr",
     "output_type": "stream",
     "text": [
      "/data/zmohaghegh/venv/lib64/python3.6/site-packages/torch/autograd/__init__.py:132: UserWarning: CUDA initialization: Found no NVIDIA driver on your system. Please check that you have an NVIDIA GPU and installed a driver from http://www.nvidia.com/Download/index.aspx (Triggered internally at  /pytorch/c10/cuda/CUDAFunctions.cpp:100.)\n",
      "  allow_unreachable=True)  # allow_unreachable flag\n"
     ]
    },
    {
     "name": "stdout",
     "output_type": "stream",
     "text": [
      "acc=48.07541241162608\n",
      "loss=0.07063503991501946\n",
      "Starting epoch 2\n",
      "acc=52.94579732914376\n",
      "loss=0.06935929620966498\n",
      "Starting epoch 3\n",
      "acc=55.223880597014926\n",
      "loss=0.06874459467076718\n",
      "Starting epoch 4\n",
      "acc=57.42340926944226\n",
      "loss=0.06782706298544165\n",
      "Starting epoch 5\n",
      "acc=56.08798114689709\n",
      "loss=0.06687469144300773\n",
      "Starting epoch 6\n",
      "acc=67.16417910447761\n",
      "loss=0.06505575174636807\n",
      "Starting epoch 7\n",
      "acc=68.34249803613511\n",
      "loss=0.0636888785239809\n",
      "Starting epoch 8\n",
      "acc=71.72034564021995\n",
      "loss=0.06188122702377794\n",
      "Training process has finished\n"
     ]
    },
    {
     "data": {
      "text/html": [
       "<br/>Waiting for W&B process to finish, PID 9112<br/>Program ended successfully."
      ],
      "text/plain": [
       "<IPython.core.display.HTML object>"
      ]
     },
     "metadata": {},
     "output_type": "display_data"
    },
    {
     "data": {
      "application/vnd.jupyter.widget-view+json": {
       "model_id": "",
       "version_major": 2,
       "version_minor": 0
      },
      "text/plain": [
       "VBox(children=(Label(value=' 0.00MB of 0.00MB uploaded (0.00MB deduped)\\r'), FloatProgress(value=1.0, max=1.0)…"
      ]
     },
     "metadata": {},
     "output_type": "display_data"
    },
    {
     "data": {
      "text/html": [
       "Find user logs for this run at: <code>/data/zmohaghegh/TempStats_3D-CNN/wandb/run-20210312_001132-zhovzbdh/logs/debug.log</code>"
      ],
      "text/plain": [
       "<IPython.core.display.HTML object>"
      ]
     },
     "metadata": {},
     "output_type": "display_data"
    },
    {
     "data": {
      "text/html": [
       "Find internal logs for this run at: <code>/data/zmohaghegh/TempStats_3D-CNN/wandb/run-20210312_001132-zhovzbdh/logs/debug-internal.log</code>"
      ],
      "text/plain": [
       "<IPython.core.display.HTML object>"
      ]
     },
     "metadata": {},
     "output_type": "display_data"
    },
    {
     "data": {
      "text/html": [
       "<h3>Run summary:</h3><br/><style>\n",
       "    table.wandb td:nth-child(1) { padding: 0 10px; text-align: right }\n",
       "    </style><table class=\"wandb\">\n",
       "<tr><td>epoch</td><td>7</td></tr><tr><td>train_Loss_falff</td><td>0.06188</td></tr><tr><td>train_acc_falff </td><td>71.72035</td></tr><tr><td>_runtime</td><td>4136</td></tr><tr><td>_timestamp</td><td>1615508428</td></tr><tr><td>_step</td><td>7</td></tr></table>"
      ],
      "text/plain": [
       "<IPython.core.display.HTML object>"
      ]
     },
     "metadata": {},
     "output_type": "display_data"
    },
    {
     "data": {
      "text/html": [
       "<h3>Run history:</h3><br/><style>\n",
       "    table.wandb td:nth-child(1) { padding: 0 10px; text-align: right }\n",
       "    </style><table class=\"wandb\">\n",
       "<tr><td>epoch</td><td>▁▂▃▄▅▆▇█</td></tr><tr><td>train_Loss_falff</td><td>█▇▆▆▅▄▂▁</td></tr><tr><td>train_acc_falff </td><td>▁▂▃▄▃▇▇█</td></tr><tr><td>_runtime</td><td>▁▂▃▄▅▆▇█</td></tr><tr><td>_timestamp</td><td>▁▂▃▄▅▆▇█</td></tr><tr><td>_step</td><td>▁▂▃▄▅▆▇█</td></tr></table><br/>"
      ],
      "text/plain": [
       "<IPython.core.display.HTML object>"
      ]
     },
     "metadata": {},
     "output_type": "display_data"
    },
    {
     "data": {
      "text/html": [
       "Synced 5 W&B file(s), 0 media file(s), 0 artifact file(s) and 0 other file(s)"
      ],
      "text/plain": [
       "<IPython.core.display.HTML object>"
      ]
     },
     "metadata": {},
     "output_type": "display_data"
    },
    {
     "data": {
      "text/html": [
       "\n",
       "                    <br/>Synced <strong style=\"color:#cdcd00\">astral-sweep-1</strong>: <a href=\"https://wandb.ai/zahramhn/classifier-falff-sweep-hyper-parameter/runs/zhovzbdh\" target=\"_blank\">https://wandb.ai/zahramhn/classifier-falff-sweep-hyper-parameter/runs/zhovzbdh</a><br/>\n",
       "                "
      ],
      "text/plain": [
       "<IPython.core.display.HTML object>"
      ]
     },
     "metadata": {},
     "output_type": "display_data"
    },
    {
     "name": "stderr",
     "output_type": "stream",
     "text": [
      "\u001b[34m\u001b[1mwandb\u001b[0m: Agent Starting Run: o6b4n4mp with config:\n",
      "\u001b[34m\u001b[1mwandb\u001b[0m: \tbatch_size: 32\n",
      "\u001b[34m\u001b[1mwandb\u001b[0m: \tepochs: 8\n",
      "\u001b[34m\u001b[1mwandb\u001b[0m: \tlearning_rate: 0.0001\n",
      "\u001b[34m\u001b[1mwandb\u001b[0m: \u001b[33mWARNING\u001b[0m Ignored wandb.init() arg project when running a sweep\n"
     ]
    },
    {
     "data": {
      "text/html": [
       "\n",
       "                Tracking run with wandb version 0.10.20<br/>\n",
       "                Syncing run <strong style=\"color:#cdcd00\">lilac-sweep-2</strong> to <a href=\"https://wandb.ai\" target=\"_blank\">Weights & Biases</a> <a href=\"https://docs.wandb.com/integrations/jupyter.html\" target=\"_blank\">(Documentation)</a>.<br/>\n",
       "                Project page: <a href=\"https://wandb.ai/zahramhn/classifier-falff-sweep-hyper-parameter\" target=\"_blank\">https://wandb.ai/zahramhn/classifier-falff-sweep-hyper-parameter</a><br/>\n",
       "                Sweep page: <a href=\"https://wandb.ai/zahramhn/classifier-falff-sweep-hyper-parameter/sweeps/hfinfn2b\" target=\"_blank\">https://wandb.ai/zahramhn/classifier-falff-sweep-hyper-parameter/sweeps/hfinfn2b</a><br/>\n",
       "Run page: <a href=\"https://wandb.ai/zahramhn/classifier-falff-sweep-hyper-parameter/runs/o6b4n4mp\" target=\"_blank\">https://wandb.ai/zahramhn/classifier-falff-sweep-hyper-parameter/runs/o6b4n4mp</a><br/>\n",
       "                Run data is saved locally in <code>/data/zmohaghegh/TempStats_3D-CNN/wandb/run-20210312_012032-o6b4n4mp</code><br/><br/>\n",
       "            "
      ],
      "text/plain": [
       "<IPython.core.display.HTML object>"
      ]
     },
     "metadata": {},
     "output_type": "display_data"
    },
    {
     "name": "stdout",
     "output_type": "stream",
     "text": [
      "Starting epoch 1\n",
      "acc=47.918303220738416\n",
      "loss=0.02185674123315657\n",
      "Starting epoch 2\n",
      "acc=51.139041633935584\n",
      "loss=0.021764362320991434\n",
      "Starting epoch 3\n",
      "acc=53.65278868813826\n",
      "loss=0.021636022702690088\n",
      "Starting epoch 4\n",
      "acc=57.34485467399843\n",
      "loss=0.02152146197425483\n",
      "Starting epoch 5\n",
      "acc=60.72270227808327\n",
      "loss=0.02148262167882288\n",
      "Starting epoch 6\n",
      "acc=61.351139041633935\n",
      "loss=0.0213473653056787\n",
      "Starting epoch 7\n",
      "acc=65.04320502749411\n",
      "loss=0.021227056953646347\n",
      "Starting epoch 8\n",
      "acc=58.6802827965436\n",
      "loss=0.021198546530574285\n",
      "Training process has finished\n"
     ]
    },
    {
     "data": {
      "text/html": [
       "<br/>Waiting for W&B process to finish, PID 10310<br/>Program ended successfully."
      ],
      "text/plain": [
       "<IPython.core.display.HTML object>"
      ]
     },
     "metadata": {},
     "output_type": "display_data"
    },
    {
     "data": {
      "application/vnd.jupyter.widget-view+json": {
       "model_id": "",
       "version_major": 2,
       "version_minor": 0
      },
      "text/plain": [
       "VBox(children=(Label(value=' 0.00MB of 0.00MB uploaded (0.00MB deduped)\\r'), FloatProgress(value=1.0, max=1.0)…"
      ]
     },
     "metadata": {},
     "output_type": "display_data"
    },
    {
     "data": {
      "text/html": [
       "Find user logs for this run at: <code>/data/zmohaghegh/TempStats_3D-CNN/wandb/run-20210312_012032-o6b4n4mp/logs/debug.log</code>"
      ],
      "text/plain": [
       "<IPython.core.display.HTML object>"
      ]
     },
     "metadata": {},
     "output_type": "display_data"
    },
    {
     "data": {
      "text/html": [
       "Find internal logs for this run at: <code>/data/zmohaghegh/TempStats_3D-CNN/wandb/run-20210312_012032-o6b4n4mp/logs/debug-internal.log</code>"
      ],
      "text/plain": [
       "<IPython.core.display.HTML object>"
      ]
     },
     "metadata": {},
     "output_type": "display_data"
    },
    {
     "data": {
      "text/html": [
       "<h3>Run summary:</h3><br/><style>\n",
       "    table.wandb td:nth-child(1) { padding: 0 10px; text-align: right }\n",
       "    </style><table class=\"wandb\">\n",
       "<tr><td>epoch</td><td>7</td></tr><tr><td>train_Loss_falff</td><td>0.0212</td></tr><tr><td>train_acc_falff </td><td>58.68028</td></tr><tr><td>_runtime</td><td>9339</td></tr><tr><td>_timestamp</td><td>1615517771</td></tr><tr><td>_step</td><td>7</td></tr></table>"
      ],
      "text/plain": [
       "<IPython.core.display.HTML object>"
      ]
     },
     "metadata": {},
     "output_type": "display_data"
    },
    {
     "data": {
      "text/html": [
       "<h3>Run history:</h3><br/><style>\n",
       "    table.wandb td:nth-child(1) { padding: 0 10px; text-align: right }\n",
       "    </style><table class=\"wandb\">\n",
       "<tr><td>epoch</td><td>▁▂▃▄▅▆▇█</td></tr><tr><td>train_Loss_falff</td><td>█▇▆▄▄▃▁▁</td></tr><tr><td>train_acc_falff </td><td>▁▂▃▅▆▆█▅</td></tr><tr><td>_runtime</td><td>▁▂▃▄▅▆▇█</td></tr><tr><td>_timestamp</td><td>▁▂▃▄▅▆▇█</td></tr><tr><td>_step</td><td>▁▂▃▄▅▆▇█</td></tr></table><br/>"
      ],
      "text/plain": [
       "<IPython.core.display.HTML object>"
      ]
     },
     "metadata": {},
     "output_type": "display_data"
    },
    {
     "data": {
      "text/html": [
       "Synced 5 W&B file(s), 0 media file(s), 0 artifact file(s) and 0 other file(s)"
      ],
      "text/plain": [
       "<IPython.core.display.HTML object>"
      ]
     },
     "metadata": {},
     "output_type": "display_data"
    },
    {
     "data": {
      "text/html": [
       "\n",
       "                    <br/>Synced <strong style=\"color:#cdcd00\">lilac-sweep-2</strong>: <a href=\"https://wandb.ai/zahramhn/classifier-falff-sweep-hyper-parameter/runs/o6b4n4mp\" target=\"_blank\">https://wandb.ai/zahramhn/classifier-falff-sweep-hyper-parameter/runs/o6b4n4mp</a><br/>\n",
       "                "
      ],
      "text/plain": [
       "<IPython.core.display.HTML object>"
      ]
     },
     "metadata": {},
     "output_type": "display_data"
    },
    {
     "name": "stderr",
     "output_type": "stream",
     "text": [
      "\u001b[34m\u001b[1mwandb\u001b[0m: Agent Starting Run: lhsy2o4c with config:\n",
      "\u001b[34m\u001b[1mwandb\u001b[0m: \tbatch_size: 32\n",
      "\u001b[34m\u001b[1mwandb\u001b[0m: \tepochs: 10\n",
      "\u001b[34m\u001b[1mwandb\u001b[0m: \tlearning_rate: 0.0001\n",
      "\u001b[34m\u001b[1mwandb\u001b[0m: \u001b[33mWARNING\u001b[0m Ignored wandb.init() arg project when running a sweep\n"
     ]
    },
    {
     "data": {
      "text/html": [
       "\n",
       "                Tracking run with wandb version 0.10.20<br/>\n",
       "                Syncing run <strong style=\"color:#cdcd00\">azure-sweep-3</strong> to <a href=\"https://wandb.ai\" target=\"_blank\">Weights & Biases</a> <a href=\"https://docs.wandb.com/integrations/jupyter.html\" target=\"_blank\">(Documentation)</a>.<br/>\n",
       "                Project page: <a href=\"https://wandb.ai/zahramhn/classifier-falff-sweep-hyper-parameter\" target=\"_blank\">https://wandb.ai/zahramhn/classifier-falff-sweep-hyper-parameter</a><br/>\n",
       "                Sweep page: <a href=\"https://wandb.ai/zahramhn/classifier-falff-sweep-hyper-parameter/sweeps/hfinfn2b\" target=\"_blank\">https://wandb.ai/zahramhn/classifier-falff-sweep-hyper-parameter/sweeps/hfinfn2b</a><br/>\n",
       "Run page: <a href=\"https://wandb.ai/zahramhn/classifier-falff-sweep-hyper-parameter/runs/lhsy2o4c\" target=\"_blank\">https://wandb.ai/zahramhn/classifier-falff-sweep-hyper-parameter/runs/lhsy2o4c</a><br/>\n",
       "                Run data is saved locally in <code>/data/zmohaghegh/TempStats_3D-CNN/wandb/run-20210312_035617-lhsy2o4c</code><br/><br/>\n",
       "            "
      ],
      "text/plain": [
       "<IPython.core.display.HTML object>"
      ]
     },
     "metadata": {},
     "output_type": "display_data"
    },
    {
     "name": "stdout",
     "output_type": "stream",
     "text": [
      "Starting epoch 1\n",
      "acc=50.27494108405342\n",
      "loss=0.021806096214793135\n",
      "Starting epoch 2\n",
      "acc=51.45326001571092\n",
      "loss=0.021757954723777916\n",
      "Starting epoch 3\n",
      "acc=52.71013354281225\n",
      "loss=0.02175866772059559\n",
      "Starting epoch 4\n",
      "acc=53.338570306362925\n",
      "loss=0.021624748379643476\n",
      "Starting epoch 5\n",
      "acc=55.459544383346426\n",
      "loss=0.02157702262605034\n",
      "Starting epoch 6\n",
      "acc=55.85231736056559\n",
      "loss=0.02154974694736433\n",
      "Starting epoch 7\n",
      "acc=59.78004713275727\n",
      "loss=0.02141300588416799\n",
      "Starting epoch 8\n",
      "acc=60.25137470542027\n",
      "loss=0.021374662267865507\n",
      "Starting epoch 9\n",
      "acc=63.78633150039277\n",
      "loss=0.02129633704474233\n",
      "Starting epoch 10\n",
      "acc=62.2152395915161\n",
      "loss=0.021242096610568216\n",
      "Training process has finished\n"
     ]
    },
    {
     "data": {
      "text/html": [
       "<br/>Waiting for W&B process to finish, PID 32446<br/>Program ended successfully."
      ],
      "text/plain": [
       "<IPython.core.display.HTML object>"
      ]
     },
     "metadata": {},
     "output_type": "display_data"
    },
    {
     "data": {
      "application/vnd.jupyter.widget-view+json": {
       "model_id": "",
       "version_major": 2,
       "version_minor": 0
      },
      "text/plain": [
       "VBox(children=(Label(value=' 0.00MB of 0.00MB uploaded (0.00MB deduped)\\r'), FloatProgress(value=1.0, max=1.0)…"
      ]
     },
     "metadata": {},
     "output_type": "display_data"
    },
    {
     "data": {
      "text/html": [
       "Find user logs for this run at: <code>/data/zmohaghegh/TempStats_3D-CNN/wandb/run-20210312_035617-lhsy2o4c/logs/debug.log</code>"
      ],
      "text/plain": [
       "<IPython.core.display.HTML object>"
      ]
     },
     "metadata": {},
     "output_type": "display_data"
    },
    {
     "data": {
      "text/html": [
       "Find internal logs for this run at: <code>/data/zmohaghegh/TempStats_3D-CNN/wandb/run-20210312_035617-lhsy2o4c/logs/debug-internal.log</code>"
      ],
      "text/plain": [
       "<IPython.core.display.HTML object>"
      ]
     },
     "metadata": {},
     "output_type": "display_data"
    },
    {
     "data": {
      "text/html": [
       "<h3>Run summary:</h3><br/><style>\n",
       "    table.wandb td:nth-child(1) { padding: 0 10px; text-align: right }\n",
       "    </style><table class=\"wandb\">\n",
       "<tr><td>epoch</td><td>9</td></tr><tr><td>train_Loss_falff</td><td>0.02124</td></tr><tr><td>train_acc_falff </td><td>62.21524</td></tr><tr><td>_runtime</td><td>11556</td></tr><tr><td>_timestamp</td><td>1615529333</td></tr><tr><td>_step</td><td>9</td></tr></table>"
      ],
      "text/plain": [
       "<IPython.core.display.HTML object>"
      ]
     },
     "metadata": {},
     "output_type": "display_data"
    },
    {
     "data": {
      "text/html": [
       "<h3>Run history:</h3><br/><style>\n",
       "    table.wandb td:nth-child(1) { padding: 0 10px; text-align: right }\n",
       "    </style><table class=\"wandb\">\n",
       "<tr><td>epoch</td><td>▁▂▃▃▄▅▆▆▇█</td></tr><tr><td>train_Loss_falff</td><td>█▇▇▆▅▅▃▃▂▁</td></tr><tr><td>train_acc_falff </td><td>▁▂▂▃▄▄▆▆█▇</td></tr><tr><td>_runtime</td><td>▁▂▃▃▄▅▆▆▇█</td></tr><tr><td>_timestamp</td><td>▁▂▃▃▄▅▆▆▇█</td></tr><tr><td>_step</td><td>▁▂▃▃▄▅▆▆▇█</td></tr></table><br/>"
      ],
      "text/plain": [
       "<IPython.core.display.HTML object>"
      ]
     },
     "metadata": {},
     "output_type": "display_data"
    },
    {
     "data": {
      "text/html": [
       "Synced 5 W&B file(s), 0 media file(s), 0 artifact file(s) and 0 other file(s)"
      ],
      "text/plain": [
       "<IPython.core.display.HTML object>"
      ]
     },
     "metadata": {},
     "output_type": "display_data"
    },
    {
     "data": {
      "text/html": [
       "\n",
       "                    <br/>Synced <strong style=\"color:#cdcd00\">azure-sweep-3</strong>: <a href=\"https://wandb.ai/zahramhn/classifier-falff-sweep-hyper-parameter/runs/lhsy2o4c\" target=\"_blank\">https://wandb.ai/zahramhn/classifier-falff-sweep-hyper-parameter/runs/lhsy2o4c</a><br/>\n",
       "                "
      ],
      "text/plain": [
       "<IPython.core.display.HTML object>"
      ]
     },
     "metadata": {},
     "output_type": "display_data"
    },
    {
     "name": "stderr",
     "output_type": "stream",
     "text": [
      "\u001b[34m\u001b[1mwandb\u001b[0m: Agent Starting Run: xlylp4f8 with config:\n",
      "\u001b[34m\u001b[1mwandb\u001b[0m: \tbatch_size: 10\n",
      "\u001b[34m\u001b[1mwandb\u001b[0m: \tepochs: 8\n",
      "\u001b[34m\u001b[1mwandb\u001b[0m: \tlearning_rate: 0.01\n",
      "\u001b[34m\u001b[1mwandb\u001b[0m: \u001b[33mWARNING\u001b[0m Ignored wandb.init() arg project when running a sweep\n"
     ]
    },
    {
     "data": {
      "text/html": [
       "\n",
       "                Tracking run with wandb version 0.10.20<br/>\n",
       "                Syncing run <strong style=\"color:#cdcd00\">super-sweep-4</strong> to <a href=\"https://wandb.ai\" target=\"_blank\">Weights & Biases</a> <a href=\"https://docs.wandb.com/integrations/jupyter.html\" target=\"_blank\">(Documentation)</a>.<br/>\n",
       "                Project page: <a href=\"https://wandb.ai/zahramhn/classifier-falff-sweep-hyper-parameter\" target=\"_blank\">https://wandb.ai/zahramhn/classifier-falff-sweep-hyper-parameter</a><br/>\n",
       "                Sweep page: <a href=\"https://wandb.ai/zahramhn/classifier-falff-sweep-hyper-parameter/sweeps/hfinfn2b\" target=\"_blank\">https://wandb.ai/zahramhn/classifier-falff-sweep-hyper-parameter/sweeps/hfinfn2b</a><br/>\n",
       "Run page: <a href=\"https://wandb.ai/zahramhn/classifier-falff-sweep-hyper-parameter/runs/xlylp4f8\" target=\"_blank\">https://wandb.ai/zahramhn/classifier-falff-sweep-hyper-parameter/runs/xlylp4f8</a><br/>\n",
       "                Run data is saved locally in <code>/data/zmohaghegh/TempStats_3D-CNN/wandb/run-20210312_070857-xlylp4f8</code><br/><br/>\n",
       "            "
      ],
      "text/plain": [
       "<IPython.core.display.HTML object>"
      ]
     },
     "metadata": {},
     "output_type": "display_data"
    },
    {
     "name": "stdout",
     "output_type": "stream",
     "text": [
      "Starting epoch 1\n",
      "acc=49.096622152395916\n",
      "loss=0.07392184860099914\n",
      "Starting epoch 2\n",
      "acc=49.72505891594658\n",
      "loss=0.07165049809964488\n",
      "Starting epoch 3\n",
      "acc=52.081696779261584\n",
      "loss=0.07060268664050968\n",
      "Starting epoch 4\n",
      "acc=50.903377847604084\n",
      "loss=0.07131794291312288\n",
      "Starting epoch 5\n",
      "acc=51.92458758837392\n",
      "loss=0.07022500738899563\n",
      "Starting epoch 6\n",
      "acc=48.46818538884525\n",
      "loss=0.0705726066356286\n",
      "Starting epoch 7\n",
      "acc=48.625294579732916\n",
      "loss=0.0703012191752674\n",
      "Starting epoch 8\n",
      "acc=49.64650432050275\n",
      "loss=0.07136048333309268\n",
      "Training process has finished\n"
     ]
    },
    {
     "data": {
      "text/html": [
       "<br/>Waiting for W&B process to finish, PID 49700<br/>Program ended successfully."
      ],
      "text/plain": [
       "<IPython.core.display.HTML object>"
      ]
     },
     "metadata": {},
     "output_type": "display_data"
    },
    {
     "data": {
      "application/vnd.jupyter.widget-view+json": {
       "model_id": "",
       "version_major": 2,
       "version_minor": 0
      },
      "text/plain": [
       "VBox(children=(Label(value=' 0.00MB of 0.00MB uploaded (0.00MB deduped)\\r'), FloatProgress(value=1.0, max=1.0)…"
      ]
     },
     "metadata": {},
     "output_type": "display_data"
    },
    {
     "data": {
      "text/html": [
       "Find user logs for this run at: <code>/data/zmohaghegh/TempStats_3D-CNN/wandb/run-20210312_070857-xlylp4f8/logs/debug.log</code>"
      ],
      "text/plain": [
       "<IPython.core.display.HTML object>"
      ]
     },
     "metadata": {},
     "output_type": "display_data"
    },
    {
     "data": {
      "text/html": [
       "Find internal logs for this run at: <code>/data/zmohaghegh/TempStats_3D-CNN/wandb/run-20210312_070857-xlylp4f8/logs/debug-internal.log</code>"
      ],
      "text/plain": [
       "<IPython.core.display.HTML object>"
      ]
     },
     "metadata": {},
     "output_type": "display_data"
    },
    {
     "data": {
      "text/html": [
       "<h3>Run summary:</h3><br/><style>\n",
       "    table.wandb td:nth-child(1) { padding: 0 10px; text-align: right }\n",
       "    </style><table class=\"wandb\">\n",
       "<tr><td>epoch</td><td>7</td></tr><tr><td>train_Loss_falff</td><td>0.07136</td></tr><tr><td>train_acc_falff </td><td>49.6465</td></tr><tr><td>_runtime</td><td>3993</td></tr><tr><td>_timestamp</td><td>1615533331</td></tr><tr><td>_step</td><td>7</td></tr></table>"
      ],
      "text/plain": [
       "<IPython.core.display.HTML object>"
      ]
     },
     "metadata": {},
     "output_type": "display_data"
    },
    {
     "data": {
      "text/html": [
       "<h3>Run history:</h3><br/><style>\n",
       "    table.wandb td:nth-child(1) { padding: 0 10px; text-align: right }\n",
       "    </style><table class=\"wandb\">\n",
       "<tr><td>epoch</td><td>▁▂▃▄▅▆▇█</td></tr><tr><td>train_Loss_falff</td><td>█▄▂▃▁▂▁▃</td></tr><tr><td>train_acc_falff </td><td>▂▃█▆█▁▁▃</td></tr><tr><td>_runtime</td><td>▁▂▃▄▅▆▇█</td></tr><tr><td>_timestamp</td><td>▁▂▃▄▅▆▇█</td></tr><tr><td>_step</td><td>▁▂▃▄▅▆▇█</td></tr></table><br/>"
      ],
      "text/plain": [
       "<IPython.core.display.HTML object>"
      ]
     },
     "metadata": {},
     "output_type": "display_data"
    },
    {
     "data": {
      "text/html": [
       "Synced 5 W&B file(s), 0 media file(s), 0 artifact file(s) and 0 other file(s)"
      ],
      "text/plain": [
       "<IPython.core.display.HTML object>"
      ]
     },
     "metadata": {},
     "output_type": "display_data"
    },
    {
     "data": {
      "text/html": [
       "\n",
       "                    <br/>Synced <strong style=\"color:#cdcd00\">super-sweep-4</strong>: <a href=\"https://wandb.ai/zahramhn/classifier-falff-sweep-hyper-parameter/runs/xlylp4f8\" target=\"_blank\">https://wandb.ai/zahramhn/classifier-falff-sweep-hyper-parameter/runs/xlylp4f8</a><br/>\n",
       "                "
      ],
      "text/plain": [
       "<IPython.core.display.HTML object>"
      ]
     },
     "metadata": {},
     "output_type": "display_data"
    },
    {
     "name": "stderr",
     "output_type": "stream",
     "text": [
      "\u001b[34m\u001b[1mwandb\u001b[0m: Agent Starting Run: 88qy4xae with config:\n",
      "\u001b[34m\u001b[1mwandb\u001b[0m: \tbatch_size: 64\n",
      "\u001b[34m\u001b[1mwandb\u001b[0m: \tepochs: 10\n",
      "\u001b[34m\u001b[1mwandb\u001b[0m: \tlearning_rate: 0.01\n",
      "\u001b[34m\u001b[1mwandb\u001b[0m: \u001b[33mWARNING\u001b[0m Ignored wandb.init() arg project when running a sweep\n"
     ]
    },
    {
     "data": {
      "text/html": [
       "\n",
       "                Tracking run with wandb version 0.10.20<br/>\n",
       "                Syncing run <strong style=\"color:#cdcd00\">rural-sweep-5</strong> to <a href=\"https://wandb.ai\" target=\"_blank\">Weights & Biases</a> <a href=\"https://docs.wandb.com/integrations/jupyter.html\" target=\"_blank\">(Documentation)</a>.<br/>\n",
       "                Project page: <a href=\"https://wandb.ai/zahramhn/classifier-falff-sweep-hyper-parameter\" target=\"_blank\">https://wandb.ai/zahramhn/classifier-falff-sweep-hyper-parameter</a><br/>\n",
       "                Sweep page: <a href=\"https://wandb.ai/zahramhn/classifier-falff-sweep-hyper-parameter/sweeps/hfinfn2b\" target=\"_blank\">https://wandb.ai/zahramhn/classifier-falff-sweep-hyper-parameter/sweeps/hfinfn2b</a><br/>\n",
       "Run page: <a href=\"https://wandb.ai/zahramhn/classifier-falff-sweep-hyper-parameter/runs/88qy4xae\" target=\"_blank\">https://wandb.ai/zahramhn/classifier-falff-sweep-hyper-parameter/runs/88qy4xae</a><br/>\n",
       "                Run data is saved locally in <code>/data/zmohaghegh/TempStats_3D-CNN/wandb/run-20210312_081535-88qy4xae</code><br/><br/>\n",
       "            "
      ],
      "text/plain": [
       "<IPython.core.display.HTML object>"
      ]
     },
     "metadata": {},
     "output_type": "display_data"
    },
    {
     "name": "stdout",
     "output_type": "stream",
     "text": [
      "Starting epoch 1\n",
      "acc=48.93951296150825\n",
      "loss=0.01104514400125212\n",
      "Starting epoch 2\n",
      "acc=48.54673998428908\n",
      "loss=0.010902467910112578\n",
      "Starting epoch 3\n",
      "acc=54.516889238020426\n",
      "loss=0.010953041142720322\n",
      "Starting epoch 4\n",
      "acc=49.80361351139042\n",
      "loss=0.010962342780797548\n",
      "Starting epoch 5\n",
      "acc=48.625294579732916\n",
      "loss=0.010904514803863839\n",
      "Starting epoch 6\n",
      "acc=49.25373134328358\n",
      "loss=0.010971993613657728\n",
      "Starting epoch 7\n",
      "acc=51.139041633935584\n",
      "loss=0.010892959713984386\n",
      "Starting epoch 8\n",
      "acc=49.096622152395916\n",
      "loss=0.010904580650910165\n",
      "Starting epoch 9\n",
      "acc=49.56794972505892\n",
      "loss=0.010905692674384607\n",
      "Starting epoch 10\n",
      "acc=50.43205027494108\n",
      "loss=0.010905741244119109\n",
      "Training process has finished\n"
     ]
    },
    {
     "data": {
      "text/html": [
       "<br/>Waiting for W&B process to finish, PID 52444<br/>Program ended successfully."
      ],
      "text/plain": [
       "<IPython.core.display.HTML object>"
      ]
     },
     "metadata": {},
     "output_type": "display_data"
    },
    {
     "data": {
      "application/vnd.jupyter.widget-view+json": {
       "model_id": "",
       "version_major": 2,
       "version_minor": 0
      },
      "text/plain": [
       "VBox(children=(Label(value=' 0.00MB of 0.00MB uploaded (0.00MB deduped)\\r'), FloatProgress(value=1.0, max=1.0)…"
      ]
     },
     "metadata": {},
     "output_type": "display_data"
    },
    {
     "data": {
      "text/html": [
       "Find user logs for this run at: <code>/data/zmohaghegh/TempStats_3D-CNN/wandb/run-20210312_081535-88qy4xae/logs/debug.log</code>"
      ],
      "text/plain": [
       "<IPython.core.display.HTML object>"
      ]
     },
     "metadata": {},
     "output_type": "display_data"
    },
    {
     "data": {
      "text/html": [
       "Find internal logs for this run at: <code>/data/zmohaghegh/TempStats_3D-CNN/wandb/run-20210312_081535-88qy4xae/logs/debug-internal.log</code>"
      ],
      "text/plain": [
       "<IPython.core.display.HTML object>"
      ]
     },
     "metadata": {},
     "output_type": "display_data"
    },
    {
     "data": {
      "text/html": [
       "<h3>Run summary:</h3><br/><style>\n",
       "    table.wandb td:nth-child(1) { padding: 0 10px; text-align: right }\n",
       "    </style><table class=\"wandb\">\n",
       "<tr><td>epoch</td><td>9</td></tr><tr><td>train_Loss_falff</td><td>0.01091</td></tr><tr><td>train_acc_falff </td><td>50.43205</td></tr><tr><td>_runtime</td><td>8940</td></tr><tr><td>_timestamp</td><td>1615542275</td></tr><tr><td>_step</td><td>9</td></tr></table>"
      ],
      "text/plain": [
       "<IPython.core.display.HTML object>"
      ]
     },
     "metadata": {},
     "output_type": "display_data"
    },
    {
     "data": {
      "text/html": [
       "<h3>Run history:</h3><br/><style>\n",
       "    table.wandb td:nth-child(1) { padding: 0 10px; text-align: right }\n",
       "    </style><table class=\"wandb\">\n",
       "<tr><td>epoch</td><td>▁▂▃▃▄▅▆▆▇█</td></tr><tr><td>train_Loss_falff</td><td>█▁▄▄▂▅▁▂▂▂</td></tr><tr><td>train_acc_falff </td><td>▁▁█▂▁▂▄▂▂▃</td></tr><tr><td>_runtime</td><td>▁▂▃▃▄▅▆▆▇█</td></tr><tr><td>_timestamp</td><td>▁▂▃▃▄▅▆▆▇█</td></tr><tr><td>_step</td><td>▁▂▃▃▄▅▆▆▇█</td></tr></table><br/>"
      ],
      "text/plain": [
       "<IPython.core.display.HTML object>"
      ]
     },
     "metadata": {},
     "output_type": "display_data"
    },
    {
     "data": {
      "text/html": [
       "Synced 5 W&B file(s), 0 media file(s), 0 artifact file(s) and 0 other file(s)"
      ],
      "text/plain": [
       "<IPython.core.display.HTML object>"
      ]
     },
     "metadata": {},
     "output_type": "display_data"
    },
    {
     "data": {
      "text/html": [
       "\n",
       "                    <br/>Synced <strong style=\"color:#cdcd00\">rural-sweep-5</strong>: <a href=\"https://wandb.ai/zahramhn/classifier-falff-sweep-hyper-parameter/runs/88qy4xae\" target=\"_blank\">https://wandb.ai/zahramhn/classifier-falff-sweep-hyper-parameter/runs/88qy4xae</a><br/>\n",
       "                "
      ],
      "text/plain": [
       "<IPython.core.display.HTML object>"
      ]
     },
     "metadata": {},
     "output_type": "display_data"
    },
    {
     "name": "stderr",
     "output_type": "stream",
     "text": [
      "\u001b[34m\u001b[1mwandb\u001b[0m: Sweep Agent: Waiting for job.\n",
      "\u001b[34m\u001b[1mwandb\u001b[0m: Job received.\n",
      "\u001b[34m\u001b[1mwandb\u001b[0m: Agent Starting Run: cpoirzfw with config:\n",
      "\u001b[34m\u001b[1mwandb\u001b[0m: \tbatch_size: 32\n",
      "\u001b[34m\u001b[1mwandb\u001b[0m: \tepochs: 20\n",
      "\u001b[34m\u001b[1mwandb\u001b[0m: \tlearning_rate: 0.01\n",
      "\u001b[34m\u001b[1mwandb\u001b[0m: \u001b[33mWARNING\u001b[0m Ignored wandb.init() arg project when running a sweep\n"
     ]
    },
    {
     "data": {
      "text/html": [
       "\n",
       "                Tracking run with wandb version 0.10.20<br/>\n",
       "                Syncing run <strong style=\"color:#cdcd00\">distinctive-sweep-6</strong> to <a href=\"https://wandb.ai\" target=\"_blank\">Weights & Biases</a> <a href=\"https://docs.wandb.com/integrations/jupyter.html\" target=\"_blank\">(Documentation)</a>.<br/>\n",
       "                Project page: <a href=\"https://wandb.ai/zahramhn/classifier-falff-sweep-hyper-parameter\" target=\"_blank\">https://wandb.ai/zahramhn/classifier-falff-sweep-hyper-parameter</a><br/>\n",
       "                Sweep page: <a href=\"https://wandb.ai/zahramhn/classifier-falff-sweep-hyper-parameter/sweeps/hfinfn2b\" target=\"_blank\">https://wandb.ai/zahramhn/classifier-falff-sweep-hyper-parameter/sweeps/hfinfn2b</a><br/>\n",
       "Run page: <a href=\"https://wandb.ai/zahramhn/classifier-falff-sweep-hyper-parameter/runs/cpoirzfw\" target=\"_blank\">https://wandb.ai/zahramhn/classifier-falff-sweep-hyper-parameter/runs/cpoirzfw</a><br/>\n",
       "                Run data is saved locally in <code>/data/zmohaghegh/TempStats_3D-CNN/wandb/run-20210312_104500-cpoirzfw</code><br/><br/>\n",
       "            "
      ],
      "text/plain": [
       "<IPython.core.display.HTML object>"
      ]
     },
     "metadata": {},
     "output_type": "display_data"
    },
    {
     "name": "stdout",
     "output_type": "stream",
     "text": [
      "Starting epoch 1\n",
      "acc=48.78240377062058\n",
      "loss=0.022673351268269352\n",
      "Starting epoch 2\n",
      "acc=56.24509033778476\n",
      "loss=0.02161213823336105\n",
      "Starting epoch 3\n",
      "acc=56.637863315003926\n",
      "loss=0.021337367832178294\n",
      "Starting epoch 4\n",
      "acc=58.523173605655934\n",
      "loss=0.020585809267473665\n",
      "Starting epoch 5\n",
      "acc=68.18538884524745\n",
      "loss=0.018118354439694187\n",
      "Starting epoch 6\n",
      "acc=90.25923016496465\n",
      "loss=0.008938656713295953\n",
      "Starting epoch 7\n",
      "acc=77.84760408483896\n",
      "loss=0.03660285784299033\n",
      "Starting epoch 8\n",
      "acc=49.25373134328358\n",
      "loss=0.025421950440190067\n",
      "Starting epoch 9\n",
      "acc=48.54673998428908\n",
      "loss=0.022175161259285755\n",
      "Starting epoch 10\n",
      "acc=47.21131186174391\n",
      "loss=0.022060444398412777\n",
      "Starting epoch 11\n",
      "acc=47.52553024351925\n",
      "loss=0.021912082460673003\n",
      "Starting epoch 12\n",
      "acc=48.625294579732916\n",
      "loss=0.022082403018027812\n",
      "Starting epoch 13\n",
      "acc=45.954438334642575\n",
      "loss=0.021956190677052106\n",
      "Starting epoch 14\n",
      "acc=47.132757266300075\n",
      "loss=0.02193279536657903\n",
      "Starting epoch 15\n",
      "acc=50.19638648860958\n",
      "loss=0.021868159886490608\n",
      "Starting epoch 16\n",
      "acc=51.45326001571092\n",
      "loss=0.021888769910392614\n",
      "Starting epoch 17\n",
      "acc=50.19638648860958\n",
      "loss=0.021923628772841798\n",
      "Starting epoch 18\n",
      "acc=47.05420267085624\n",
      "loss=0.02184599321408547\n",
      "Starting epoch 19\n",
      "acc=50.98193244304792\n",
      "loss=0.021795416974958935\n",
      "Starting epoch 20\n",
      "acc=48.860958366064416\n",
      "loss=0.02208155793385068\n",
      "Training process has finished\n"
     ]
    },
    {
     "data": {
      "text/html": [
       "<br/>Waiting for W&B process to finish, PID 9546<br/>Program ended successfully."
      ],
      "text/plain": [
       "<IPython.core.display.HTML object>"
      ]
     },
     "metadata": {},
     "output_type": "display_data"
    },
    {
     "data": {
      "application/vnd.jupyter.widget-view+json": {
       "model_id": "",
       "version_major": 2,
       "version_minor": 0
      },
      "text/plain": [
       "VBox(children=(Label(value=' 0.00MB of 0.00MB uploaded (0.00MB deduped)\\r'), FloatProgress(value=1.0, max=1.0)…"
      ]
     },
     "metadata": {},
     "output_type": "display_data"
    },
    {
     "data": {
      "text/html": [
       "Find user logs for this run at: <code>/data/zmohaghegh/TempStats_3D-CNN/wandb/run-20210312_104500-cpoirzfw/logs/debug.log</code>"
      ],
      "text/plain": [
       "<IPython.core.display.HTML object>"
      ]
     },
     "metadata": {},
     "output_type": "display_data"
    },
    {
     "data": {
      "text/html": [
       "Find internal logs for this run at: <code>/data/zmohaghegh/TempStats_3D-CNN/wandb/run-20210312_104500-cpoirzfw/logs/debug-internal.log</code>"
      ],
      "text/plain": [
       "<IPython.core.display.HTML object>"
      ]
     },
     "metadata": {},
     "output_type": "display_data"
    },
    {
     "data": {
      "text/html": [
       "<h3>Run summary:</h3><br/><style>\n",
       "    table.wandb td:nth-child(1) { padding: 0 10px; text-align: right }\n",
       "    </style><table class=\"wandb\">\n",
       "<tr><td>epoch</td><td>19</td></tr><tr><td>train_Loss_falff</td><td>0.02208</td></tr><tr><td>train_acc_falff </td><td>48.86096</td></tr><tr><td>_runtime</td><td>21843</td></tr><tr><td>_timestamp</td><td>1615564144</td></tr><tr><td>_step</td><td>19</td></tr></table>"
      ],
      "text/plain": [
       "<IPython.core.display.HTML object>"
      ]
     },
     "metadata": {},
     "output_type": "display_data"
    },
    {
     "data": {
      "text/html": [
       "<h3>Run history:</h3><br/><style>\n",
       "    table.wandb td:nth-child(1) { padding: 0 10px; text-align: right }\n",
       "    </style><table class=\"wandb\">\n",
       "<tr><td>epoch</td><td>▁▁▂▂▂▃▃▄▄▄▅▅▅▆▆▇▇▇██</td></tr><tr><td>train_Loss_falff</td><td>▄▄▄▄▃▁█▅▄▄▄▄▄▄▄▄▄▄▄▄</td></tr><tr><td>train_acc_falff </td><td>▁▃▃▃▅█▆▂▁▁▁▁▁▁▂▂▂▁▂▁</td></tr><tr><td>_runtime</td><td>▁▁▂▂▂▃▃▄▄▄▅▅▅▆▆▆▇▇██</td></tr><tr><td>_timestamp</td><td>▁▁▂▂▂▃▃▄▄▄▅▅▅▆▆▆▇▇██</td></tr><tr><td>_step</td><td>▁▁▂▂▂▃▃▄▄▄▅▅▅▆▆▇▇▇██</td></tr></table><br/>"
      ],
      "text/plain": [
       "<IPython.core.display.HTML object>"
      ]
     },
     "metadata": {},
     "output_type": "display_data"
    },
    {
     "data": {
      "text/html": [
       "Synced 5 W&B file(s), 0 media file(s), 0 artifact file(s) and 0 other file(s)"
      ],
      "text/plain": [
       "<IPython.core.display.HTML object>"
      ]
     },
     "metadata": {},
     "output_type": "display_data"
    },
    {
     "data": {
      "text/html": [
       "\n",
       "                    <br/>Synced <strong style=\"color:#cdcd00\">distinctive-sweep-6</strong>: <a href=\"https://wandb.ai/zahramhn/classifier-falff-sweep-hyper-parameter/runs/cpoirzfw\" target=\"_blank\">https://wandb.ai/zahramhn/classifier-falff-sweep-hyper-parameter/runs/cpoirzfw</a><br/>\n",
       "                "
      ],
      "text/plain": [
       "<IPython.core.display.HTML object>"
      ]
     },
     "metadata": {},
     "output_type": "display_data"
    },
    {
     "name": "stderr",
     "output_type": "stream",
     "text": [
      "\u001b[34m\u001b[1mwandb\u001b[0m: Agent Starting Run: j7agogc9 with config:\n",
      "\u001b[34m\u001b[1mwandb\u001b[0m: \tbatch_size: 10\n",
      "\u001b[34m\u001b[1mwandb\u001b[0m: \tepochs: 10\n",
      "\u001b[34m\u001b[1mwandb\u001b[0m: \tlearning_rate: 0.001\n",
      "\u001b[34m\u001b[1mwandb\u001b[0m: \u001b[33mWARNING\u001b[0m Ignored wandb.init() arg project when running a sweep\n"
     ]
    },
    {
     "data": {
      "text/html": [
       "\n",
       "                Tracking run with wandb version 0.10.20<br/>\n",
       "                Syncing run <strong style=\"color:#cdcd00\">fallen-sweep-7</strong> to <a href=\"https://wandb.ai\" target=\"_blank\">Weights & Biases</a> <a href=\"https://docs.wandb.com/integrations/jupyter.html\" target=\"_blank\">(Documentation)</a>.<br/>\n",
       "                Project page: <a href=\"https://wandb.ai/zahramhn/classifier-falff-sweep-hyper-parameter\" target=\"_blank\">https://wandb.ai/zahramhn/classifier-falff-sweep-hyper-parameter</a><br/>\n",
       "                Sweep page: <a href=\"https://wandb.ai/zahramhn/classifier-falff-sweep-hyper-parameter/sweeps/hfinfn2b\" target=\"_blank\">https://wandb.ai/zahramhn/classifier-falff-sweep-hyper-parameter/sweeps/hfinfn2b</a><br/>\n",
       "Run page: <a href=\"https://wandb.ai/zahramhn/classifier-falff-sweep-hyper-parameter/runs/j7agogc9\" target=\"_blank\">https://wandb.ai/zahramhn/classifier-falff-sweep-hyper-parameter/runs/j7agogc9</a><br/>\n",
       "                Run data is saved locally in <code>/data/zmohaghegh/TempStats_3D-CNN/wandb/run-20210312_164907-j7agogc9</code><br/><br/>\n",
       "            "
      ],
      "text/plain": [
       "<IPython.core.display.HTML object>"
      ]
     },
     "metadata": {},
     "output_type": "display_data"
    },
    {
     "name": "stdout",
     "output_type": "stream",
     "text": [
      "Starting epoch 1\n",
      "acc=51.45326001571092\n",
      "loss=0.07008360075283805\n",
      "Starting epoch 2\n",
      "acc=55.06677140612726\n",
      "loss=0.0690601959738968\n",
      "Starting epoch 3\n",
      "acc=60.5655930871956\n",
      "loss=0.06668748427781081\n",
      "Starting epoch 4\n",
      "acc=69.20659858601728\n",
      "loss=0.061140595244887054\n",
      "Starting epoch 5\n",
      "acc=82.8750981932443\n",
      "loss=0.0432444404210775\n",
      "Starting epoch 6\n",
      "acc=92.85153181461115\n",
      "loss=0.022561010986581115\n",
      "Starting epoch 7\n",
      "acc=99.37156323644933\n",
      "loss=0.005922677099775894\n",
      "Starting epoch 8\n",
      "acc=99.84289080911233\n",
      "loss=0.002175821664936784\n",
      "Starting epoch 9\n",
      "acc=100.0\n",
      "loss=0.0007435812886449269\n",
      "Starting epoch 10\n",
      "acc=100.0\n",
      "loss=0.00042399314643431\n",
      "Training process has finished\n"
     ]
    },
    {
     "data": {
      "text/html": [
       "<br/>Waiting for W&B process to finish, PID 47705<br/>Program ended successfully."
      ],
      "text/plain": [
       "<IPython.core.display.HTML object>"
      ]
     },
     "metadata": {},
     "output_type": "display_data"
    },
    {
     "data": {
      "application/vnd.jupyter.widget-view+json": {
       "model_id": "",
       "version_major": 2,
       "version_minor": 0
      },
      "text/plain": [
       "VBox(children=(Label(value=' 0.00MB of 0.00MB uploaded (0.00MB deduped)\\r'), FloatProgress(value=1.0, max=1.0)…"
      ]
     },
     "metadata": {},
     "output_type": "display_data"
    },
    {
     "data": {
      "text/html": [
       "Find user logs for this run at: <code>/data/zmohaghegh/TempStats_3D-CNN/wandb/run-20210312_164907-j7agogc9/logs/debug.log</code>"
      ],
      "text/plain": [
       "<IPython.core.display.HTML object>"
      ]
     },
     "metadata": {},
     "output_type": "display_data"
    },
    {
     "data": {
      "text/html": [
       "Find internal logs for this run at: <code>/data/zmohaghegh/TempStats_3D-CNN/wandb/run-20210312_164907-j7agogc9/logs/debug-internal.log</code>"
      ],
      "text/plain": [
       "<IPython.core.display.HTML object>"
      ]
     },
     "metadata": {},
     "output_type": "display_data"
    },
    {
     "data": {
      "text/html": [
       "<h3>Run summary:</h3><br/><style>\n",
       "    table.wandb td:nth-child(1) { padding: 0 10px; text-align: right }\n",
       "    </style><table class=\"wandb\">\n",
       "<tr><td>epoch</td><td>9</td></tr><tr><td>train_Loss_falff</td><td>0.00042</td></tr><tr><td>train_acc_falff </td><td>100.0</td></tr><tr><td>_runtime</td><td>5735</td></tr><tr><td>_timestamp</td><td>1615569883</td></tr><tr><td>_step</td><td>9</td></tr></table>"
      ],
      "text/plain": [
       "<IPython.core.display.HTML object>"
      ]
     },
     "metadata": {},
     "output_type": "display_data"
    },
    {
     "data": {
      "text/html": [
       "<h3>Run history:</h3><br/><style>\n",
       "    table.wandb td:nth-child(1) { padding: 0 10px; text-align: right }\n",
       "    </style><table class=\"wandb\">\n",
       "<tr><td>epoch</td><td>▁▂▃▃▄▅▆▆▇█</td></tr><tr><td>train_Loss_falff</td><td>███▇▅▃▂▁▁▁</td></tr><tr><td>train_acc_falff </td><td>▁▂▂▄▆▇████</td></tr><tr><td>_runtime</td><td>▁▂▃▃▄▅▆▆▇█</td></tr><tr><td>_timestamp</td><td>▁▂▃▃▄▅▆▆▇█</td></tr><tr><td>_step</td><td>▁▂▃▃▄▅▆▆▇█</td></tr></table><br/>"
      ],
      "text/plain": [
       "<IPython.core.display.HTML object>"
      ]
     },
     "metadata": {},
     "output_type": "display_data"
    },
    {
     "data": {
      "text/html": [
       "Synced 5 W&B file(s), 0 media file(s), 0 artifact file(s) and 0 other file(s)"
      ],
      "text/plain": [
       "<IPython.core.display.HTML object>"
      ]
     },
     "metadata": {},
     "output_type": "display_data"
    },
    {
     "data": {
      "text/html": [
       "\n",
       "                    <br/>Synced <strong style=\"color:#cdcd00\">fallen-sweep-7</strong>: <a href=\"https://wandb.ai/zahramhn/classifier-falff-sweep-hyper-parameter/runs/j7agogc9\" target=\"_blank\">https://wandb.ai/zahramhn/classifier-falff-sweep-hyper-parameter/runs/j7agogc9</a><br/>\n",
       "                "
      ],
      "text/plain": [
       "<IPython.core.display.HTML object>"
      ]
     },
     "metadata": {},
     "output_type": "display_data"
    },
    {
     "name": "stderr",
     "output_type": "stream",
     "text": [
      "\u001b[34m\u001b[1mwandb\u001b[0m: Agent Starting Run: lolk5ati with config:\n",
      "\u001b[34m\u001b[1mwandb\u001b[0m: \tbatch_size: 10\n",
      "\u001b[34m\u001b[1mwandb\u001b[0m: \tepochs: 20\n",
      "\u001b[34m\u001b[1mwandb\u001b[0m: \tlearning_rate: 0.01\n",
      "\u001b[34m\u001b[1mwandb\u001b[0m: \u001b[33mWARNING\u001b[0m Ignored wandb.init() arg project when running a sweep\n"
     ]
    },
    {
     "data": {
      "text/html": [
       "\n",
       "                Tracking run with wandb version 0.10.20<br/>\n",
       "                Syncing run <strong style=\"color:#cdcd00\">chocolate-sweep-8</strong> to <a href=\"https://wandb.ai\" target=\"_blank\">Weights & Biases</a> <a href=\"https://docs.wandb.com/integrations/jupyter.html\" target=\"_blank\">(Documentation)</a>.<br/>\n",
       "                Project page: <a href=\"https://wandb.ai/zahramhn/classifier-falff-sweep-hyper-parameter\" target=\"_blank\">https://wandb.ai/zahramhn/classifier-falff-sweep-hyper-parameter</a><br/>\n",
       "                Sweep page: <a href=\"https://wandb.ai/zahramhn/classifier-falff-sweep-hyper-parameter/sweeps/hfinfn2b\" target=\"_blank\">https://wandb.ai/zahramhn/classifier-falff-sweep-hyper-parameter/sweeps/hfinfn2b</a><br/>\n",
       "Run page: <a href=\"https://wandb.ai/zahramhn/classifier-falff-sweep-hyper-parameter/runs/lolk5ati\" target=\"_blank\">https://wandb.ai/zahramhn/classifier-falff-sweep-hyper-parameter/runs/lolk5ati</a><br/>\n",
       "                Run data is saved locally in <code>/data/zmohaghegh/TempStats_3D-CNN/wandb/run-20210312_182447-lolk5ati</code><br/><br/>\n",
       "            "
      ],
      "text/plain": [
       "<IPython.core.display.HTML object>"
      ]
     },
     "metadata": {},
     "output_type": "display_data"
    },
    {
     "name": "stdout",
     "output_type": "stream",
     "text": [
      "Starting epoch 1\n",
      "acc=52.78868813825609\n",
      "loss=0.07201142385264218\n",
      "Starting epoch 2\n",
      "acc=49.64650432050275\n",
      "loss=0.07107655905210743\n",
      "Starting epoch 3\n",
      "acc=49.56794972505892\n",
      "loss=0.0703596620794046\n",
      "Starting epoch 4\n",
      "acc=47.52553024351925\n",
      "loss=0.07078484912678916\n",
      "Starting epoch 5\n",
      "acc=47.682639434406916\n",
      "loss=0.0702732062471854\n",
      "Starting epoch 6\n",
      "acc=49.96072270227808\n",
      "loss=0.07056358709756877\n",
      "Starting epoch 7\n",
      "acc=49.096622152395916\n",
      "loss=0.070970255344127\n",
      "Starting epoch 8\n",
      "acc=49.096622152395916\n",
      "loss=0.07032797208067103\n",
      "Starting epoch 9\n",
      "acc=51.21759622937942\n",
      "loss=0.07057839468999715\n",
      "Starting epoch 10\n",
      "acc=46.425765907305575\n",
      "loss=0.07155663712330225\n",
      "Starting epoch 11\n",
      "acc=50.43205027494108\n",
      "loss=0.07082887002222342\n",
      "Starting epoch 12\n",
      "acc=51.53181461115475\n",
      "loss=0.0704152287637348\n",
      "Starting epoch 13\n",
      "acc=49.17517674783975\n",
      "loss=0.07200994975092198\n",
      "Starting epoch 14\n",
      "acc=47.918303220738416\n",
      "loss=0.07066266397029529\n",
      "Starting epoch 15\n",
      "acc=49.48939512961508\n",
      "loss=0.07116568939226704\n",
      "Starting epoch 16\n",
      "acc=49.332285938727416\n",
      "loss=0.07137263173444543\n",
      "Starting epoch 17\n",
      "acc=49.332285938727416\n",
      "loss=0.07101335903140014\n",
      "Starting epoch 18\n",
      "acc=49.17517674783975\n",
      "loss=0.07028548677976033\n",
      "Starting epoch 19\n",
      "acc=49.096622152395916\n",
      "loss=0.07074215139750897\n",
      "Starting epoch 20\n",
      "acc=48.23252160251375\n",
      "loss=0.07087849221482939\n",
      "Training process has finished\n"
     ]
    },
    {
     "data": {
      "text/html": [
       "<br/>Waiting for W&B process to finish, PID 2410<br/>Program ended successfully."
      ],
      "text/plain": [
       "<IPython.core.display.HTML object>"
      ]
     },
     "metadata": {},
     "output_type": "display_data"
    },
    {
     "data": {
      "application/vnd.jupyter.widget-view+json": {
       "model_id": "",
       "version_major": 2,
       "version_minor": 0
      },
      "text/plain": [
       "VBox(children=(Label(value=' 0.00MB of 0.00MB uploaded (0.00MB deduped)\\r'), FloatProgress(value=1.0, max=1.0)…"
      ]
     },
     "metadata": {},
     "output_type": "display_data"
    },
    {
     "data": {
      "text/html": [
       "Find user logs for this run at: <code>/data/zmohaghegh/TempStats_3D-CNN/wandb/run-20210312_182447-lolk5ati/logs/debug.log</code>"
      ],
      "text/plain": [
       "<IPython.core.display.HTML object>"
      ]
     },
     "metadata": {},
     "output_type": "display_data"
    },
    {
     "data": {
      "text/html": [
       "Find internal logs for this run at: <code>/data/zmohaghegh/TempStats_3D-CNN/wandb/run-20210312_182447-lolk5ati/logs/debug-internal.log</code>"
      ],
      "text/plain": [
       "<IPython.core.display.HTML object>"
      ]
     },
     "metadata": {},
     "output_type": "display_data"
    },
    {
     "data": {
      "text/html": [
       "<h3>Run summary:</h3><br/><style>\n",
       "    table.wandb td:nth-child(1) { padding: 0 10px; text-align: right }\n",
       "    </style><table class=\"wandb\">\n",
       "<tr><td>epoch</td><td>19</td></tr><tr><td>train_Loss_falff</td><td>0.07088</td></tr><tr><td>train_acc_falff </td><td>48.23252</td></tr><tr><td>_runtime</td><td>11487</td></tr><tr><td>_timestamp</td><td>1615581374</td></tr><tr><td>_step</td><td>19</td></tr></table>"
      ],
      "text/plain": [
       "<IPython.core.display.HTML object>"
      ]
     },
     "metadata": {},
     "output_type": "display_data"
    },
    {
     "data": {
      "text/html": [
       "<h3>Run history:</h3><br/><style>\n",
       "    table.wandb td:nth-child(1) { padding: 0 10px; text-align: right }\n",
       "    </style><table class=\"wandb\">\n",
       "<tr><td>epoch</td><td>▁▁▂▂▂▃▃▄▄▄▅▅▅▆▆▇▇▇██</td></tr><tr><td>train_Loss_falff</td><td>█▄▁▃▁▂▄▁▂▆▃▂█▃▅▅▄▁▃▃</td></tr><tr><td>train_acc_falff </td><td>█▅▄▂▂▅▄▄▆▁▅▇▄▃▄▄▄▄▄▃</td></tr><tr><td>_runtime</td><td>▁▁▂▂▂▃▃▄▄▄▅▅▅▆▆▇▇▇██</td></tr><tr><td>_timestamp</td><td>▁▁▂▂▂▃▃▄▄▄▅▅▅▆▆▇▇▇██</td></tr><tr><td>_step</td><td>▁▁▂▂▂▃▃▄▄▄▅▅▅▆▆▇▇▇██</td></tr></table><br/>"
      ],
      "text/plain": [
       "<IPython.core.display.HTML object>"
      ]
     },
     "metadata": {},
     "output_type": "display_data"
    },
    {
     "data": {
      "text/html": [
       "Synced 5 W&B file(s), 0 media file(s), 0 artifact file(s) and 0 other file(s)"
      ],
      "text/plain": [
       "<IPython.core.display.HTML object>"
      ]
     },
     "metadata": {},
     "output_type": "display_data"
    },
    {
     "data": {
      "text/html": [
       "\n",
       "                    <br/>Synced <strong style=\"color:#cdcd00\">chocolate-sweep-8</strong>: <a href=\"https://wandb.ai/zahramhn/classifier-falff-sweep-hyper-parameter/runs/lolk5ati\" target=\"_blank\">https://wandb.ai/zahramhn/classifier-falff-sweep-hyper-parameter/runs/lolk5ati</a><br/>\n",
       "                "
      ],
      "text/plain": [
       "<IPython.core.display.HTML object>"
      ]
     },
     "metadata": {},
     "output_type": "display_data"
    },
    {
     "name": "stderr",
     "output_type": "stream",
     "text": [
      "\u001b[34m\u001b[1mwandb\u001b[0m: Agent Starting Run: u3smutj9 with config:\n",
      "\u001b[34m\u001b[1mwandb\u001b[0m: \tbatch_size: 10\n",
      "\u001b[34m\u001b[1mwandb\u001b[0m: \tepochs: 10\n",
      "\u001b[34m\u001b[1mwandb\u001b[0m: \tlearning_rate: 0.0001\n",
      "\u001b[34m\u001b[1mwandb\u001b[0m: \u001b[33mWARNING\u001b[0m Ignored wandb.init() arg project when running a sweep\n"
     ]
    },
    {
     "data": {
      "text/html": [
       "\n",
       "                Tracking run with wandb version 0.10.20<br/>\n",
       "                Syncing run <strong style=\"color:#cdcd00\">eager-sweep-9</strong> to <a href=\"https://wandb.ai\" target=\"_blank\">Weights & Biases</a> <a href=\"https://docs.wandb.com/integrations/jupyter.html\" target=\"_blank\">(Documentation)</a>.<br/>\n",
       "                Project page: <a href=\"https://wandb.ai/zahramhn/classifier-falff-sweep-hyper-parameter\" target=\"_blank\">https://wandb.ai/zahramhn/classifier-falff-sweep-hyper-parameter</a><br/>\n",
       "                Sweep page: <a href=\"https://wandb.ai/zahramhn/classifier-falff-sweep-hyper-parameter/sweeps/hfinfn2b\" target=\"_blank\">https://wandb.ai/zahramhn/classifier-falff-sweep-hyper-parameter/sweeps/hfinfn2b</a><br/>\n",
       "Run page: <a href=\"https://wandb.ai/zahramhn/classifier-falff-sweep-hyper-parameter/runs/u3smutj9\" target=\"_blank\">https://wandb.ai/zahramhn/classifier-falff-sweep-hyper-parameter/runs/u3smutj9</a><br/>\n",
       "                Run data is saved locally in <code>/data/zmohaghegh/TempStats_3D-CNN/wandb/run-20210312_213618-u3smutj9</code><br/><br/>\n",
       "            "
      ],
      "text/plain": [
       "<IPython.core.display.HTML object>"
      ]
     },
     "metadata": {},
     "output_type": "display_data"
    },
    {
     "name": "stdout",
     "output_type": "stream",
     "text": [
      "Starting epoch 1\n",
      "acc=50.19638648860958\n",
      "loss=0.07016205263110836\n",
      "Starting epoch 2\n",
      "acc=50.43205027494108\n",
      "loss=0.0695354184089954\n",
      "Starting epoch 3\n",
      "acc=53.574234092694425\n",
      "loss=0.06929437181626193\n",
      "Starting epoch 4\n",
      "acc=60.72270227808327\n",
      "loss=0.06838228118083714\n",
      "Starting epoch 5\n",
      "acc=60.172820109976435\n",
      "loss=0.06785595614800453\n",
      "Starting epoch 6\n",
      "acc=65.51453260015711\n",
      "loss=0.0670444299003957\n",
      "Starting epoch 7\n",
      "acc=67.08562450903378\n",
      "loss=0.06647751628057466\n",
      "Starting epoch 8\n",
      "acc=68.57816182246661\n",
      "loss=0.06523285212858909\n",
      "Starting epoch 9\n",
      "acc=69.36370777690495\n",
      "loss=0.06431120327637666\n",
      "Starting epoch 10\n",
      "acc=70.46347211311861\n",
      "loss=0.06354209275015218\n",
      "Training process has finished\n"
     ]
    },
    {
     "data": {
      "text/html": [
       "<br/>Waiting for W&B process to finish, PID 23241<br/>Program ended successfully."
      ],
      "text/plain": [
       "<IPython.core.display.HTML object>"
      ]
     },
     "metadata": {},
     "output_type": "display_data"
    },
    {
     "data": {
      "application/vnd.jupyter.widget-view+json": {
       "model_id": "",
       "version_major": 2,
       "version_minor": 0
      },
      "text/plain": [
       "VBox(children=(Label(value=' 0.00MB of 0.00MB uploaded (0.00MB deduped)\\r'), FloatProgress(value=1.0, max=1.0)…"
      ]
     },
     "metadata": {},
     "output_type": "display_data"
    },
    {
     "data": {
      "text/html": [
       "Find user logs for this run at: <code>/data/zmohaghegh/TempStats_3D-CNN/wandb/run-20210312_213618-u3smutj9/logs/debug.log</code>"
      ],
      "text/plain": [
       "<IPython.core.display.HTML object>"
      ]
     },
     "metadata": {},
     "output_type": "display_data"
    },
    {
     "data": {
      "text/html": [
       "Find internal logs for this run at: <code>/data/zmohaghegh/TempStats_3D-CNN/wandb/run-20210312_213618-u3smutj9/logs/debug-internal.log</code>"
      ],
      "text/plain": [
       "<IPython.core.display.HTML object>"
      ]
     },
     "metadata": {},
     "output_type": "display_data"
    },
    {
     "data": {
      "text/html": [
       "<h3>Run summary:</h3><br/><style>\n",
       "    table.wandb td:nth-child(1) { padding: 0 10px; text-align: right }\n",
       "    </style><table class=\"wandb\">\n",
       "<tr><td>epoch</td><td>9</td></tr><tr><td>train_Loss_falff</td><td>0.06354</td></tr><tr><td>train_acc_falff </td><td>70.46347</td></tr><tr><td>_runtime</td><td>5748</td></tr><tr><td>_timestamp</td><td>1615587127</td></tr><tr><td>_step</td><td>9</td></tr></table>"
      ],
      "text/plain": [
       "<IPython.core.display.HTML object>"
      ]
     },
     "metadata": {},
     "output_type": "display_data"
    },
    {
     "data": {
      "text/html": [
       "<h3>Run history:</h3><br/><style>\n",
       "    table.wandb td:nth-child(1) { padding: 0 10px; text-align: right }\n",
       "    </style><table class=\"wandb\">\n",
       "<tr><td>epoch</td><td>▁▂▃▃▄▅▆▆▇█</td></tr><tr><td>train_Loss_falff</td><td>█▇▇▆▆▅▄▃▂▁</td></tr><tr><td>train_acc_falff </td><td>▁▁▂▅▄▆▇▇██</td></tr><tr><td>_runtime</td><td>▁▂▃▃▄▅▆▆▇█</td></tr><tr><td>_timestamp</td><td>▁▂▃▃▄▅▆▆▇█</td></tr><tr><td>_step</td><td>▁▂▃▃▄▅▆▆▇█</td></tr></table><br/>"
      ],
      "text/plain": [
       "<IPython.core.display.HTML object>"
      ]
     },
     "metadata": {},
     "output_type": "display_data"
    },
    {
     "data": {
      "text/html": [
       "Synced 5 W&B file(s), 0 media file(s), 0 artifact file(s) and 0 other file(s)"
      ],
      "text/plain": [
       "<IPython.core.display.HTML object>"
      ]
     },
     "metadata": {},
     "output_type": "display_data"
    },
    {
     "data": {
      "text/html": [
       "\n",
       "                    <br/>Synced <strong style=\"color:#cdcd00\">eager-sweep-9</strong>: <a href=\"https://wandb.ai/zahramhn/classifier-falff-sweep-hyper-parameter/runs/u3smutj9\" target=\"_blank\">https://wandb.ai/zahramhn/classifier-falff-sweep-hyper-parameter/runs/u3smutj9</a><br/>\n",
       "                "
      ],
      "text/plain": [
       "<IPython.core.display.HTML object>"
      ]
     },
     "metadata": {},
     "output_type": "display_data"
    },
    {
     "name": "stderr",
     "output_type": "stream",
     "text": [
      "\u001b[34m\u001b[1mwandb\u001b[0m: Agent Starting Run: t47ahghz with config:\n",
      "\u001b[34m\u001b[1mwandb\u001b[0m: \tbatch_size: 32\n",
      "\u001b[34m\u001b[1mwandb\u001b[0m: \tepochs: 20\n",
      "\u001b[34m\u001b[1mwandb\u001b[0m: \tlearning_rate: 0.01\n",
      "\u001b[34m\u001b[1mwandb\u001b[0m: \u001b[33mWARNING\u001b[0m Ignored wandb.init() arg project when running a sweep\n"
     ]
    },
    {
     "data": {
      "text/html": [
       "\n",
       "                Tracking run with wandb version 0.10.20<br/>\n",
       "                Syncing run <strong style=\"color:#cdcd00\">colorful-sweep-10</strong> to <a href=\"https://wandb.ai\" target=\"_blank\">Weights & Biases</a> <a href=\"https://docs.wandb.com/integrations/jupyter.html\" target=\"_blank\">(Documentation)</a>.<br/>\n",
       "                Project page: <a href=\"https://wandb.ai/zahramhn/classifier-falff-sweep-hyper-parameter\" target=\"_blank\">https://wandb.ai/zahramhn/classifier-falff-sweep-hyper-parameter</a><br/>\n",
       "                Sweep page: <a href=\"https://wandb.ai/zahramhn/classifier-falff-sweep-hyper-parameter/sweeps/hfinfn2b\" target=\"_blank\">https://wandb.ai/zahramhn/classifier-falff-sweep-hyper-parameter/sweeps/hfinfn2b</a><br/>\n",
       "Run page: <a href=\"https://wandb.ai/zahramhn/classifier-falff-sweep-hyper-parameter/runs/t47ahghz\" target=\"_blank\">https://wandb.ai/zahramhn/classifier-falff-sweep-hyper-parameter/runs/t47ahghz</a><br/>\n",
       "                Run data is saved locally in <code>/data/zmohaghegh/TempStats_3D-CNN/wandb/run-20210312_231211-t47ahghz</code><br/><br/>\n",
       "            "
      ],
      "text/plain": [
       "<IPython.core.display.HTML object>"
      ]
     },
     "metadata": {},
     "output_type": "display_data"
    },
    {
     "name": "stdout",
     "output_type": "stream",
     "text": [
      "Starting epoch 1\n",
      "acc=50.03927729772192\n",
      "loss=0.022204193674331043\n",
      "Starting epoch 2\n",
      "acc=49.41084053417125\n",
      "loss=0.021922226445111923\n",
      "Starting epoch 3\n",
      "acc=50.903377847604084\n",
      "loss=0.02178572568117924\n",
      "Starting epoch 4\n",
      "acc=52.16025137470542\n",
      "loss=0.021695217092531294\n",
      "Starting epoch 5\n",
      "acc=53.41712490180676\n",
      "loss=0.021591959848135032\n",
      "Starting epoch 6\n",
      "acc=63.07934014139827\n",
      "loss=0.020432249687105965\n",
      "Starting epoch 7\n",
      "acc=67.79261586802828\n",
      "loss=0.018681640493043012\n",
      "Starting epoch 8\n",
      "acc=81.30400628436763\n",
      "loss=0.012743304968839216\n",
      "Starting epoch 9\n",
      "acc=90.02356637863315\n",
      "loss=0.008570805200980022\n",
      "Starting epoch 10\n",
      "acc=96.30793401413983\n",
      "loss=0.003812070967264315\n",
      "Starting epoch 11\n",
      "acc=97.95758051846033\n",
      "loss=0.0019239316599460102\n",
      "Starting epoch 12\n",
      "acc=60.408483896307935\n",
      "loss=0.07406400991755385\n",
      "Starting epoch 13\n",
      "acc=48.78240377062058\n",
      "loss=0.022175817133473257\n",
      "Starting epoch 14\n",
      "acc=49.88216810683425\n",
      "loss=0.021787797380707945\n",
      "Starting epoch 15\n",
      "acc=50.27494108405342\n",
      "loss=0.021853919170418627\n",
      "Starting epoch 16\n",
      "acc=50.903377847604084\n",
      "loss=0.021948492668050292\n",
      "Starting epoch 17\n",
      "acc=50.03927729772192\n",
      "loss=0.02178974391692978\n",
      "Starting epoch 18\n",
      "acc=50.903377847604084\n",
      "loss=0.02185827003759366\n",
      "Starting epoch 19\n",
      "acc=52.23880597014925\n",
      "loss=0.021779348611809565\n",
      "Starting epoch 20\n",
      "acc=50.74626865671642\n",
      "loss=0.02194046046053954\n",
      "Training process has finished\n"
     ]
    },
    {
     "data": {
      "text/html": [
       "<br/>Waiting for W&B process to finish, PID 48789<br/>Program ended successfully."
      ],
      "text/plain": [
       "<IPython.core.display.HTML object>"
      ]
     },
     "metadata": {},
     "output_type": "display_data"
    },
    {
     "data": {
      "application/vnd.jupyter.widget-view+json": {
       "model_id": "",
       "version_major": 2,
       "version_minor": 0
      },
      "text/plain": [
       "VBox(children=(Label(value=' 0.00MB of 0.00MB uploaded (0.00MB deduped)\\r'), FloatProgress(value=1.0, max=1.0)…"
      ]
     },
     "metadata": {},
     "output_type": "display_data"
    },
    {
     "data": {
      "text/html": [
       "Find user logs for this run at: <code>/data/zmohaghegh/TempStats_3D-CNN/wandb/run-20210312_231211-t47ahghz/logs/debug.log</code>"
      ],
      "text/plain": [
       "<IPython.core.display.HTML object>"
      ]
     },
     "metadata": {},
     "output_type": "display_data"
    },
    {
     "data": {
      "text/html": [
       "Find internal logs for this run at: <code>/data/zmohaghegh/TempStats_3D-CNN/wandb/run-20210312_231211-t47ahghz/logs/debug-internal.log</code>"
      ],
      "text/plain": [
       "<IPython.core.display.HTML object>"
      ]
     },
     "metadata": {},
     "output_type": "display_data"
    },
    {
     "data": {
      "text/html": [
       "<h3>Run summary:</h3><br/><style>\n",
       "    table.wandb td:nth-child(1) { padding: 0 10px; text-align: right }\n",
       "    </style><table class=\"wandb\">\n",
       "<tr><td>epoch</td><td>19</td></tr><tr><td>train_Loss_falff</td><td>0.02194</td></tr><tr><td>train_acc_falff </td><td>50.74627</td></tr><tr><td>_runtime</td><td>23949</td></tr><tr><td>_timestamp</td><td>1615611081</td></tr><tr><td>_step</td><td>19</td></tr></table>"
      ],
      "text/plain": [
       "<IPython.core.display.HTML object>"
      ]
     },
     "metadata": {},
     "output_type": "display_data"
    },
    {
     "data": {
      "text/html": [
       "<h3>Run history:</h3><br/><style>\n",
       "    table.wandb td:nth-child(1) { padding: 0 10px; text-align: right }\n",
       "    </style><table class=\"wandb\">\n",
       "<tr><td>epoch</td><td>▁▁▂▂▂▃▃▄▄▄▅▅▅▆▆▇▇▇██</td></tr><tr><td>train_Loss_falff</td><td>▃▃▃▃▃▃▃▂▂▁▁█▃▃▃▃▃▃▃▃</td></tr><tr><td>train_acc_falff </td><td>▁▁▁▁▂▃▄▆▇██▃▁▁▁▁▁▁▁▁</td></tr><tr><td>_runtime</td><td>▁▁▂▂▂▃▃▄▄▄▅▅▅▆▆▇▇▇██</td></tr><tr><td>_timestamp</td><td>▁▁▂▂▂▃▃▄▄▄▅▅▅▆▆▇▇▇██</td></tr><tr><td>_step</td><td>▁▁▂▂▂▃▃▄▄▄▅▅▅▆▆▇▇▇██</td></tr></table><br/>"
      ],
      "text/plain": [
       "<IPython.core.display.HTML object>"
      ]
     },
     "metadata": {},
     "output_type": "display_data"
    },
    {
     "data": {
      "text/html": [
       "Synced 5 W&B file(s), 0 media file(s), 0 artifact file(s) and 0 other file(s)"
      ],
      "text/plain": [
       "<IPython.core.display.HTML object>"
      ]
     },
     "metadata": {},
     "output_type": "display_data"
    },
    {
     "data": {
      "text/html": [
       "\n",
       "                    <br/>Synced <strong style=\"color:#cdcd00\">colorful-sweep-10</strong>: <a href=\"https://wandb.ai/zahramhn/classifier-falff-sweep-hyper-parameter/runs/t47ahghz\" target=\"_blank\">https://wandb.ai/zahramhn/classifier-falff-sweep-hyper-parameter/runs/t47ahghz</a><br/>\n",
       "                "
      ],
      "text/plain": [
       "<IPython.core.display.HTML object>"
      ]
     },
     "metadata": {},
     "output_type": "display_data"
    },
    {
     "name": "stderr",
     "output_type": "stream",
     "text": [
      "\u001b[34m\u001b[1mwandb\u001b[0m: Agent Starting Run: 5gwk8qix with config:\n",
      "\u001b[34m\u001b[1mwandb\u001b[0m: \tbatch_size: 64\n",
      "\u001b[34m\u001b[1mwandb\u001b[0m: \tepochs: 20\n",
      "\u001b[34m\u001b[1mwandb\u001b[0m: \tlearning_rate: 0.01\n",
      "\u001b[34m\u001b[1mwandb\u001b[0m: \u001b[33mWARNING\u001b[0m Ignored wandb.init() arg project when running a sweep\n"
     ]
    },
    {
     "data": {
      "text/html": [
       "\n",
       "                Tracking run with wandb version 0.10.20<br/>\n",
       "                Syncing run <strong style=\"color:#cdcd00\">crisp-sweep-11</strong> to <a href=\"https://wandb.ai\" target=\"_blank\">Weights & Biases</a> <a href=\"https://docs.wandb.com/integrations/jupyter.html\" target=\"_blank\">(Documentation)</a>.<br/>\n",
       "                Project page: <a href=\"https://wandb.ai/zahramhn/classifier-falff-sweep-hyper-parameter\" target=\"_blank\">https://wandb.ai/zahramhn/classifier-falff-sweep-hyper-parameter</a><br/>\n",
       "                Sweep page: <a href=\"https://wandb.ai/zahramhn/classifier-falff-sweep-hyper-parameter/sweeps/hfinfn2b\" target=\"_blank\">https://wandb.ai/zahramhn/classifier-falff-sweep-hyper-parameter/sweeps/hfinfn2b</a><br/>\n",
       "Run page: <a href=\"https://wandb.ai/zahramhn/classifier-falff-sweep-hyper-parameter/runs/5gwk8qix\" target=\"_blank\">https://wandb.ai/zahramhn/classifier-falff-sweep-hyper-parameter/runs/5gwk8qix</a><br/>\n",
       "                Run data is saved locally in <code>/data/zmohaghegh/TempStats_3D-CNN/wandb/run-20210313_055125-5gwk8qix</code><br/><br/>\n",
       "            "
      ],
      "text/plain": [
       "<IPython.core.display.HTML object>"
      ]
     },
     "metadata": {},
     "output_type": "display_data"
    },
    {
     "name": "stdout",
     "output_type": "stream",
     "text": [
      "Starting epoch 1\n",
      "acc=49.01806755695208\n",
      "loss=0.011014861983386543\n",
      "Starting epoch 2\n",
      "acc=59.937156323644935\n",
      "loss=0.010819622915686455\n",
      "Starting epoch 3\n",
      "acc=58.28750981932443\n",
      "loss=0.010580354385452316\n",
      "Starting epoch 4\n",
      "acc=59.230164964650434\n",
      "loss=0.01034359797431521\n",
      "Starting epoch 5\n",
      "acc=66.30007855459544\n",
      "loss=0.009710724839576877\n",
      "Starting epoch 6\n",
      "acc=74.31264728986646\n",
      "loss=0.007702357575129839\n",
      "Starting epoch 7\n",
      "acc=83.73919874312648\n",
      "loss=0.00547590922224225\n",
      "Starting epoch 8\n",
      "acc=95.28672427337\n",
      "loss=0.0022239688047390816\n",
      "Starting epoch 9\n",
      "acc=99.84289080911233\n",
      "loss=0.00036763905997272054\n",
      "Starting epoch 10\n",
      "acc=100.0\n",
      "loss=7.534753184591081e-05\n",
      "Starting epoch 11\n",
      "acc=100.0\n",
      "loss=2.72531454070013e-05\n",
      "Starting epoch 12\n",
      "acc=100.0\n",
      "loss=1.8216450821347494e-05\n",
      "Starting epoch 13\n",
      "acc=100.0\n",
      "loss=1.4298487636942933e-05\n",
      "Starting epoch 14\n",
      "acc=100.0\n",
      "loss=1.2441175872857244e-05\n",
      "Starting epoch 15\n",
      "acc=100.0\n",
      "loss=1.097025687748892e-05\n",
      "Starting epoch 16\n",
      "acc=100.0\n",
      "loss=1.00975491225534e-05\n",
      "Starting epoch 17\n",
      "acc=100.0\n",
      "loss=9.152319488074366e-06\n",
      "Starting epoch 18\n",
      "acc=100.0\n",
      "loss=8.55878615965247e-06\n",
      "Starting epoch 19\n",
      "acc=100.0\n",
      "loss=8.046101836402066e-06\n",
      "Starting epoch 20\n",
      "acc=100.0\n",
      "loss=7.590127313515271e-06\n",
      "Training process has finished\n"
     ]
    },
    {
     "data": {
      "text/html": [
       "<br/>Waiting for W&B process to finish, PID 43799<br/>Program ended successfully."
      ],
      "text/plain": [
       "<IPython.core.display.HTML object>"
      ]
     },
     "metadata": {},
     "output_type": "display_data"
    },
    {
     "data": {
      "application/vnd.jupyter.widget-view+json": {
       "model_id": "",
       "version_major": 2,
       "version_minor": 0
      },
      "text/plain": [
       "VBox(children=(Label(value=' 0.00MB of 0.00MB uploaded (0.00MB deduped)\\r'), FloatProgress(value=1.0, max=1.0)…"
      ]
     },
     "metadata": {},
     "output_type": "display_data"
    },
    {
     "data": {
      "text/html": [
       "Find user logs for this run at: <code>/data/zmohaghegh/TempStats_3D-CNN/wandb/run-20210313_055125-5gwk8qix/logs/debug.log</code>"
      ],
      "text/plain": [
       "<IPython.core.display.HTML object>"
      ]
     },
     "metadata": {},
     "output_type": "display_data"
    },
    {
     "data": {
      "text/html": [
       "Find internal logs for this run at: <code>/data/zmohaghegh/TempStats_3D-CNN/wandb/run-20210313_055125-5gwk8qix/logs/debug-internal.log</code>"
      ],
      "text/plain": [
       "<IPython.core.display.HTML object>"
      ]
     },
     "metadata": {},
     "output_type": "display_data"
    },
    {
     "data": {
      "text/html": [
       "<h3>Run summary:</h3><br/><style>\n",
       "    table.wandb td:nth-child(1) { padding: 0 10px; text-align: right }\n",
       "    </style><table class=\"wandb\">\n",
       "<tr><td>epoch</td><td>19</td></tr><tr><td>train_Loss_falff</td><td>1e-05</td></tr><tr><td>train_acc_falff </td><td>100.0</td></tr><tr><td>_runtime</td><td>19900</td></tr><tr><td>_timestamp</td><td>1615630985</td></tr><tr><td>_step</td><td>19</td></tr></table>"
      ],
      "text/plain": [
       "<IPython.core.display.HTML object>"
      ]
     },
     "metadata": {},
     "output_type": "display_data"
    },
    {
     "data": {
      "text/html": [
       "<h3>Run history:</h3><br/><style>\n",
       "    table.wandb td:nth-child(1) { padding: 0 10px; text-align: right }\n",
       "    </style><table class=\"wandb\">\n",
       "<tr><td>epoch</td><td>▁▁▂▂▂▃▃▄▄▄▅▅▅▆▆▇▇▇██</td></tr><tr><td>train_Loss_falff</td><td>████▇▆▄▂▁▁▁▁▁▁▁▁▁▁▁▁</td></tr><tr><td>train_acc_falff </td><td>▁▂▂▂▃▄▆▇████████████</td></tr><tr><td>_runtime</td><td>▁▁▂▂▂▃▃▄▄▄▅▅▅▆▆▇▇▇██</td></tr><tr><td>_timestamp</td><td>▁▁▂▂▂▃▃▄▄▄▅▅▅▆▆▇▇▇██</td></tr><tr><td>_step</td><td>▁▁▂▂▂▃▃▄▄▄▅▅▅▆▆▇▇▇██</td></tr></table><br/>"
      ],
      "text/plain": [
       "<IPython.core.display.HTML object>"
      ]
     },
     "metadata": {},
     "output_type": "display_data"
    },
    {
     "data": {
      "text/html": [
       "Synced 5 W&B file(s), 0 media file(s), 0 artifact file(s) and 0 other file(s)"
      ],
      "text/plain": [
       "<IPython.core.display.HTML object>"
      ]
     },
     "metadata": {},
     "output_type": "display_data"
    },
    {
     "data": {
      "text/html": [
       "\n",
       "                    <br/>Synced <strong style=\"color:#cdcd00\">crisp-sweep-11</strong>: <a href=\"https://wandb.ai/zahramhn/classifier-falff-sweep-hyper-parameter/runs/5gwk8qix\" target=\"_blank\">https://wandb.ai/zahramhn/classifier-falff-sweep-hyper-parameter/runs/5gwk8qix</a><br/>\n",
       "                "
      ],
      "text/plain": [
       "<IPython.core.display.HTML object>"
      ]
     },
     "metadata": {},
     "output_type": "display_data"
    },
    {
     "name": "stderr",
     "output_type": "stream",
     "text": [
      "\u001b[34m\u001b[1mwandb\u001b[0m: Agent Starting Run: 7vh35kmz with config:\n",
      "\u001b[34m\u001b[1mwandb\u001b[0m: \tbatch_size: 32\n",
      "\u001b[34m\u001b[1mwandb\u001b[0m: \tepochs: 20\n",
      "\u001b[34m\u001b[1mwandb\u001b[0m: \tlearning_rate: 0.0001\n",
      "\u001b[34m\u001b[1mwandb\u001b[0m: \u001b[33mWARNING\u001b[0m Ignored wandb.init() arg project when running a sweep\n"
     ]
    },
    {
     "data": {
      "text/html": [
       "\n",
       "                Tracking run with wandb version 0.10.20<br/>\n",
       "                Syncing run <strong style=\"color:#cdcd00\">devout-sweep-12</strong> to <a href=\"https://wandb.ai\" target=\"_blank\">Weights & Biases</a> <a href=\"https://docs.wandb.com/integrations/jupyter.html\" target=\"_blank\">(Documentation)</a>.<br/>\n",
       "                Project page: <a href=\"https://wandb.ai/zahramhn/classifier-falff-sweep-hyper-parameter\" target=\"_blank\">https://wandb.ai/zahramhn/classifier-falff-sweep-hyper-parameter</a><br/>\n",
       "                Sweep page: <a href=\"https://wandb.ai/zahramhn/classifier-falff-sweep-hyper-parameter/sweeps/hfinfn2b\" target=\"_blank\">https://wandb.ai/zahramhn/classifier-falff-sweep-hyper-parameter/sweeps/hfinfn2b</a><br/>\n",
       "Run page: <a href=\"https://wandb.ai/zahramhn/classifier-falff-sweep-hyper-parameter/runs/7vh35kmz\" target=\"_blank\">https://wandb.ai/zahramhn/classifier-falff-sweep-hyper-parameter/runs/7vh35kmz</a><br/>\n",
       "                Run data is saved locally in <code>/data/zmohaghegh/TempStats_3D-CNN/wandb/run-20210313_112309-7vh35kmz</code><br/><br/>\n",
       "            "
      ],
      "text/plain": [
       "<IPython.core.display.HTML object>"
      ]
     },
     "metadata": {},
     "output_type": "display_data"
    },
    {
     "name": "stdout",
     "output_type": "stream",
     "text": [
      "Starting epoch 1\n",
      "acc=48.23252160251375\n",
      "loss=0.021969456995033245\n",
      "Starting epoch 2\n",
      "acc=52.00314218381775\n",
      "loss=0.02170353101030576\n",
      "Starting epoch 3\n",
      "acc=53.41712490180676\n",
      "loss=0.021647483750668904\n",
      "Starting epoch 4\n",
      "acc=52.78868813825609\n",
      "loss=0.021621412482970198\n",
      "Starting epoch 5\n",
      "acc=54.752553024351926\n",
      "loss=0.021495955956272638\n",
      "Starting epoch 6\n",
      "acc=55.695208169677926\n",
      "loss=0.02143772590301688\n",
      "Starting epoch 7\n",
      "acc=58.83739198743127\n",
      "loss=0.021346523007699954\n",
      "Starting epoch 8\n",
      "acc=64.80754124116261\n",
      "loss=0.021259992981643286\n",
      "Starting epoch 9\n",
      "acc=64.41476826394344\n",
      "loss=0.021140885457584416\n",
      "Starting epoch 10\n",
      "acc=58.208955223880594\n",
      "loss=0.021229013911996726\n",
      "Starting epoch 11\n",
      "acc=64.02199528672428\n",
      "loss=0.02100442069872799\n",
      "Starting epoch 12\n",
      "acc=65.59308719560094\n",
      "loss=0.020878602521262113\n",
      "Starting epoch 13\n",
      "acc=64.96465043205028\n",
      "loss=0.020750888336779596\n",
      "Starting epoch 14\n",
      "acc=71.01335428122545\n",
      "loss=0.02062462483084032\n",
      "Starting epoch 15\n",
      "acc=67.00706991358994\n",
      "loss=0.020594085045874868\n",
      "Starting epoch 16\n",
      "acc=67.08562450903378\n",
      "loss=0.02048778078365822\n",
      "Starting epoch 17\n",
      "acc=70.93479968578161\n",
      "loss=0.0202897941620411\n",
      "Starting epoch 18\n",
      "acc=70.54202670856245\n",
      "loss=0.020197424433039367\n",
      "Starting epoch 19\n",
      "acc=71.09190887666928\n",
      "loss=0.020085471570624215\n",
      "Starting epoch 20\n",
      "acc=75.25530243519246\n",
      "loss=0.01990645983160463\n",
      "Training process has finished\n"
     ]
    },
    {
     "data": {
      "text/html": [
       "<br/>Waiting for W&B process to finish, PID 18620<br/>Program ended successfully."
      ],
      "text/plain": [
       "<IPython.core.display.HTML object>"
      ]
     },
     "metadata": {},
     "output_type": "display_data"
    },
    {
     "data": {
      "application/vnd.jupyter.widget-view+json": {
       "model_id": "",
       "version_major": 2,
       "version_minor": 0
      },
      "text/plain": [
       "VBox(children=(Label(value=' 0.00MB of 0.00MB uploaded (0.00MB deduped)\\r'), FloatProgress(value=1.0, max=1.0)…"
      ]
     },
     "metadata": {},
     "output_type": "display_data"
    },
    {
     "data": {
      "text/html": [
       "Find user logs for this run at: <code>/data/zmohaghegh/TempStats_3D-CNN/wandb/run-20210313_112309-7vh35kmz/logs/debug.log</code>"
      ],
      "text/plain": [
       "<IPython.core.display.HTML object>"
      ]
     },
     "metadata": {},
     "output_type": "display_data"
    },
    {
     "data": {
      "text/html": [
       "Find internal logs for this run at: <code>/data/zmohaghegh/TempStats_3D-CNN/wandb/run-20210313_112309-7vh35kmz/logs/debug-internal.log</code>"
      ],
      "text/plain": [
       "<IPython.core.display.HTML object>"
      ]
     },
     "metadata": {},
     "output_type": "display_data"
    },
    {
     "data": {
      "text/html": [
       "<h3>Run summary:</h3><br/><style>\n",
       "    table.wandb td:nth-child(1) { padding: 0 10px; text-align: right }\n",
       "    </style><table class=\"wandb\">\n",
       "<tr><td>epoch</td><td>19</td></tr><tr><td>train_Loss_falff</td><td>0.01991</td></tr><tr><td>train_acc_falff </td><td>75.2553</td></tr><tr><td>_runtime</td><td>24539</td></tr><tr><td>_timestamp</td><td>1615655528</td></tr><tr><td>_step</td><td>19</td></tr></table>"
      ],
      "text/plain": [
       "<IPython.core.display.HTML object>"
      ]
     },
     "metadata": {},
     "output_type": "display_data"
    },
    {
     "data": {
      "text/html": [
       "<h3>Run history:</h3><br/><style>\n",
       "    table.wandb td:nth-child(1) { padding: 0 10px; text-align: right }\n",
       "    </style><table class=\"wandb\">\n",
       "<tr><td>epoch</td><td>▁▁▂▂▂▃▃▄▄▄▅▅▅▆▆▇▇▇██</td></tr><tr><td>train_Loss_falff</td><td>█▇▇▇▆▆▆▆▅▅▅▄▄▃▃▃▂▂▂▁</td></tr><tr><td>train_acc_falff </td><td>▁▂▂▂▃▃▄▅▅▄▅▅▅▇▆▆▇▇▇█</td></tr><tr><td>_runtime</td><td>▁▁▂▂▃▃▃▄▄▄▅▅▅▆▆▇▇▇██</td></tr><tr><td>_timestamp</td><td>▁▁▂▂▃▃▃▄▄▄▅▅▅▆▆▇▇▇██</td></tr><tr><td>_step</td><td>▁▁▂▂▂▃▃▄▄▄▅▅▅▆▆▇▇▇██</td></tr></table><br/>"
      ],
      "text/plain": [
       "<IPython.core.display.HTML object>"
      ]
     },
     "metadata": {},
     "output_type": "display_data"
    },
    {
     "data": {
      "text/html": [
       "Synced 5 W&B file(s), 0 media file(s), 0 artifact file(s) and 0 other file(s)"
      ],
      "text/plain": [
       "<IPython.core.display.HTML object>"
      ]
     },
     "metadata": {},
     "output_type": "display_data"
    },
    {
     "data": {
      "text/html": [
       "\n",
       "                    <br/>Synced <strong style=\"color:#cdcd00\">devout-sweep-12</strong>: <a href=\"https://wandb.ai/zahramhn/classifier-falff-sweep-hyper-parameter/runs/7vh35kmz\" target=\"_blank\">https://wandb.ai/zahramhn/classifier-falff-sweep-hyper-parameter/runs/7vh35kmz</a><br/>\n",
       "                "
      ],
      "text/plain": [
       "<IPython.core.display.HTML object>"
      ]
     },
     "metadata": {},
     "output_type": "display_data"
    },
    {
     "name": "stderr",
     "output_type": "stream",
     "text": [
      "\u001b[34m\u001b[1mwandb\u001b[0m: Agent Starting Run: d1cu2sbf with config:\n",
      "\u001b[34m\u001b[1mwandb\u001b[0m: \tbatch_size: 64\n",
      "\u001b[34m\u001b[1mwandb\u001b[0m: \tepochs: 8\n",
      "\u001b[34m\u001b[1mwandb\u001b[0m: \tlearning_rate: 0.0001\n",
      "\u001b[34m\u001b[1mwandb\u001b[0m: \u001b[33mWARNING\u001b[0m Ignored wandb.init() arg project when running a sweep\n"
     ]
    },
    {
     "data": {
      "text/html": [
       "\n",
       "                Tracking run with wandb version 0.10.20<br/>\n",
       "                Syncing run <strong style=\"color:#cdcd00\">sunny-sweep-13</strong> to <a href=\"https://wandb.ai\" target=\"_blank\">Weights & Biases</a> <a href=\"https://docs.wandb.com/integrations/jupyter.html\" target=\"_blank\">(Documentation)</a>.<br/>\n",
       "                Project page: <a href=\"https://wandb.ai/zahramhn/classifier-falff-sweep-hyper-parameter\" target=\"_blank\">https://wandb.ai/zahramhn/classifier-falff-sweep-hyper-parameter</a><br/>\n",
       "                Sweep page: <a href=\"https://wandb.ai/zahramhn/classifier-falff-sweep-hyper-parameter/sweeps/hfinfn2b\" target=\"_blank\">https://wandb.ai/zahramhn/classifier-falff-sweep-hyper-parameter/sweeps/hfinfn2b</a><br/>\n",
       "Run page: <a href=\"https://wandb.ai/zahramhn/classifier-falff-sweep-hyper-parameter/runs/d1cu2sbf\" target=\"_blank\">https://wandb.ai/zahramhn/classifier-falff-sweep-hyper-parameter/runs/d1cu2sbf</a><br/>\n",
       "                Run data is saved locally in <code>/data/zmohaghegh/TempStats_3D-CNN/wandb/run-20210313_181212-d1cu2sbf</code><br/><br/>\n",
       "            "
      ],
      "text/plain": [
       "<IPython.core.display.HTML object>"
      ]
     },
     "metadata": {},
     "output_type": "display_data"
    },
    {
     "name": "stdout",
     "output_type": "stream",
     "text": [
      "Starting epoch 1\n",
      "acc=49.17517674783975\n",
      "loss=0.010954479398148077\n",
      "Starting epoch 2\n",
      "acc=51.53181461115475\n",
      "loss=0.010899609610161124\n",
      "Starting epoch 3\n",
      "acc=52.081696779261584\n",
      "loss=0.010872511269654658\n",
      "Starting epoch 4\n",
      "acc=52.71013354281225\n",
      "loss=0.010852956025226556\n",
      "Starting epoch 5\n",
      "acc=54.83110761979576\n",
      "loss=0.010839470346255459\n",
      "Starting epoch 6\n",
      "acc=54.516889238020426\n",
      "loss=0.010822545839444746\n",
      "Starting epoch 7\n",
      "acc=56.166535742340926\n",
      "loss=0.010795198454539091\n",
      "Starting epoch 8\n",
      "acc=60.644147682639435\n",
      "loss=0.010783657476724523\n",
      "Training process has finished\n"
     ]
    },
    {
     "data": {
      "text/html": [
       "<br/>Waiting for W&B process to finish, PID 2445<br/>Program ended successfully."
      ],
      "text/plain": [
       "<IPython.core.display.HTML object>"
      ]
     },
     "metadata": {},
     "output_type": "display_data"
    },
    {
     "data": {
      "application/vnd.jupyter.widget-view+json": {
       "model_id": "",
       "version_major": 2,
       "version_minor": 0
      },
      "text/plain": [
       "VBox(children=(Label(value=' 0.00MB of 0.00MB uploaded (0.00MB deduped)\\r'), FloatProgress(value=1.0, max=1.0)…"
      ]
     },
     "metadata": {},
     "output_type": "display_data"
    },
    {
     "data": {
      "text/html": [
       "Find user logs for this run at: <code>/data/zmohaghegh/TempStats_3D-CNN/wandb/run-20210313_181212-d1cu2sbf/logs/debug.log</code>"
      ],
      "text/plain": [
       "<IPython.core.display.HTML object>"
      ]
     },
     "metadata": {},
     "output_type": "display_data"
    },
    {
     "data": {
      "text/html": [
       "Find internal logs for this run at: <code>/data/zmohaghegh/TempStats_3D-CNN/wandb/run-20210313_181212-d1cu2sbf/logs/debug-internal.log</code>"
      ],
      "text/plain": [
       "<IPython.core.display.HTML object>"
      ]
     },
     "metadata": {},
     "output_type": "display_data"
    },
    {
     "data": {
      "text/html": [
       "<h3>Run summary:</h3><br/><style>\n",
       "    table.wandb td:nth-child(1) { padding: 0 10px; text-align: right }\n",
       "    </style><table class=\"wandb\">\n",
       "<tr><td>epoch</td><td>7</td></tr><tr><td>train_Loss_falff</td><td>0.01078</td></tr><tr><td>train_acc_falff </td><td>60.64415</td></tr><tr><td>_runtime</td><td>7938</td></tr><tr><td>_timestamp</td><td>1615663471</td></tr><tr><td>_step</td><td>7</td></tr></table>"
      ],
      "text/plain": [
       "<IPython.core.display.HTML object>"
      ]
     },
     "metadata": {},
     "output_type": "display_data"
    },
    {
     "data": {
      "text/html": [
       "<h3>Run history:</h3><br/><style>\n",
       "    table.wandb td:nth-child(1) { padding: 0 10px; text-align: right }\n",
       "    </style><table class=\"wandb\">\n",
       "<tr><td>epoch</td><td>▁▂▃▄▅▆▇█</td></tr><tr><td>train_Loss_falff</td><td>█▆▅▄▃▃▁▁</td></tr><tr><td>train_acc_falff </td><td>▁▂▃▃▄▄▅█</td></tr><tr><td>_runtime</td><td>▁▂▃▄▅▆▇█</td></tr><tr><td>_timestamp</td><td>▁▂▃▄▅▆▇█</td></tr><tr><td>_step</td><td>▁▂▃▄▅▆▇█</td></tr></table><br/>"
      ],
      "text/plain": [
       "<IPython.core.display.HTML object>"
      ]
     },
     "metadata": {},
     "output_type": "display_data"
    },
    {
     "data": {
      "text/html": [
       "Synced 5 W&B file(s), 0 media file(s), 0 artifact file(s) and 0 other file(s)"
      ],
      "text/plain": [
       "<IPython.core.display.HTML object>"
      ]
     },
     "metadata": {},
     "output_type": "display_data"
    },
    {
     "data": {
      "text/html": [
       "\n",
       "                    <br/>Synced <strong style=\"color:#cdcd00\">sunny-sweep-13</strong>: <a href=\"https://wandb.ai/zahramhn/classifier-falff-sweep-hyper-parameter/runs/d1cu2sbf\" target=\"_blank\">https://wandb.ai/zahramhn/classifier-falff-sweep-hyper-parameter/runs/d1cu2sbf</a><br/>\n",
       "                "
      ],
      "text/plain": [
       "<IPython.core.display.HTML object>"
      ]
     },
     "metadata": {},
     "output_type": "display_data"
    },
    {
     "name": "stderr",
     "output_type": "stream",
     "text": [
      "\u001b[34m\u001b[1mwandb\u001b[0m: Agent Starting Run: 68ad0c9a with config:\n",
      "\u001b[34m\u001b[1mwandb\u001b[0m: \tbatch_size: 64\n",
      "\u001b[34m\u001b[1mwandb\u001b[0m: \tepochs: 20\n",
      "\u001b[34m\u001b[1mwandb\u001b[0m: \tlearning_rate: 0.0001\n",
      "\u001b[34m\u001b[1mwandb\u001b[0m: \u001b[33mWARNING\u001b[0m Ignored wandb.init() arg project when running a sweep\n"
     ]
    },
    {
     "data": {
      "text/html": [
       "\n",
       "                Tracking run with wandb version 0.10.20<br/>\n",
       "                Syncing run <strong style=\"color:#cdcd00\">sandy-sweep-14</strong> to <a href=\"https://wandb.ai\" target=\"_blank\">Weights & Biases</a> <a href=\"https://docs.wandb.com/integrations/jupyter.html\" target=\"_blank\">(Documentation)</a>.<br/>\n",
       "                Project page: <a href=\"https://wandb.ai/zahramhn/classifier-falff-sweep-hyper-parameter\" target=\"_blank\">https://wandb.ai/zahramhn/classifier-falff-sweep-hyper-parameter</a><br/>\n",
       "                Sweep page: <a href=\"https://wandb.ai/zahramhn/classifier-falff-sweep-hyper-parameter/sweeps/hfinfn2b\" target=\"_blank\">https://wandb.ai/zahramhn/classifier-falff-sweep-hyper-parameter/sweeps/hfinfn2b</a><br/>\n",
       "Run page: <a href=\"https://wandb.ai/zahramhn/classifier-falff-sweep-hyper-parameter/runs/68ad0c9a\" target=\"_blank\">https://wandb.ai/zahramhn/classifier-falff-sweep-hyper-parameter/runs/68ad0c9a</a><br/>\n",
       "                Run data is saved locally in <code>/data/zmohaghegh/TempStats_3D-CNN/wandb/run-20210313_202435-68ad0c9a</code><br/><br/>\n",
       "            "
      ],
      "text/plain": [
       "<IPython.core.display.HTML object>"
      ]
     },
     "metadata": {},
     "output_type": "display_data"
    },
    {
     "name": "stdout",
     "output_type": "stream",
     "text": [
      "Starting epoch 1\n",
      "acc=50.19638648860958\n",
      "loss=0.010919377572252711\n",
      "Starting epoch 2\n",
      "acc=51.29615082482325\n",
      "loss=0.010897641687366063\n",
      "Starting epoch 3\n",
      "acc=51.53181461115475\n",
      "loss=0.01087034001550706\n",
      "Starting epoch 4\n",
      "acc=53.26001571091909\n",
      "loss=0.010855153213265323\n",
      "Starting epoch 5\n",
      "acc=54.67399842890809\n",
      "loss=0.010847228910689958\n",
      "Starting epoch 6\n",
      "acc=54.43833464257659\n",
      "loss=0.010828922580407897\n",
      "Starting epoch 7\n",
      "acc=56.637863315003926\n",
      "loss=0.010826244376055286\n",
      "Starting epoch 8\n",
      "acc=53.809897879025925\n",
      "loss=0.010809800158415319\n",
      "Starting epoch 9\n",
      "acc=58.05184603299293\n",
      "loss=0.010792899743604931\n",
      "Starting epoch 10\n",
      "acc=65.27886881382561\n",
      "loss=0.010778534255285936\n",
      "Starting epoch 11\n",
      "acc=55.77376276512176\n",
      "loss=0.010776841083624783\n",
      "Starting epoch 12\n",
      "acc=61.19402985074627\n",
      "loss=0.010752715461708374\n",
      "Starting epoch 13\n",
      "acc=58.05184603299293\n",
      "loss=0.010748063167848751\n",
      "Starting epoch 14\n",
      "acc=60.95836606441477\n",
      "loss=0.010733553208476973\n",
      "Starting epoch 15\n",
      "acc=64.25765907305578\n",
      "loss=0.01071402610518948\n",
      "Starting epoch 16\n",
      "acc=66.61429693637078\n",
      "loss=0.010682863339581938\n",
      "Starting epoch 17\n",
      "acc=68.49960722702278\n",
      "loss=0.010670364840306876\n",
      "Starting epoch 18\n",
      "acc=61.115475255302435\n",
      "loss=0.010674804563870658\n",
      "Starting epoch 19\n",
      "acc=70.77769049489395\n",
      "loss=0.010636219155938318\n",
      "Starting epoch 20\n",
      "acc=69.59937156323645\n",
      "loss=0.010615516573925033\n",
      "Training process has finished\n"
     ]
    },
    {
     "data": {
      "text/html": [
       "<br/>Waiting for W&B process to finish, PID 16578<br/>Program ended successfully."
      ],
      "text/plain": [
       "<IPython.core.display.HTML object>"
      ]
     },
     "metadata": {},
     "output_type": "display_data"
    },
    {
     "data": {
      "application/vnd.jupyter.widget-view+json": {
       "model_id": "",
       "version_major": 2,
       "version_minor": 0
      },
      "text/plain": [
       "VBox(children=(Label(value=' 0.00MB of 0.00MB uploaded (0.00MB deduped)\\r'), FloatProgress(value=1.0, max=1.0)…"
      ]
     },
     "metadata": {},
     "output_type": "display_data"
    },
    {
     "data": {
      "text/html": [
       "Find user logs for this run at: <code>/data/zmohaghegh/TempStats_3D-CNN/wandb/run-20210313_202435-68ad0c9a/logs/debug.log</code>"
      ],
      "text/plain": [
       "<IPython.core.display.HTML object>"
      ]
     },
     "metadata": {},
     "output_type": "display_data"
    },
    {
     "data": {
      "text/html": [
       "Find internal logs for this run at: <code>/data/zmohaghegh/TempStats_3D-CNN/wandb/run-20210313_202435-68ad0c9a/logs/debug-internal.log</code>"
      ],
      "text/plain": [
       "<IPython.core.display.HTML object>"
      ]
     },
     "metadata": {},
     "output_type": "display_data"
    },
    {
     "data": {
      "text/html": [
       "<h3>Run summary:</h3><br/><style>\n",
       "    table.wandb td:nth-child(1) { padding: 0 10px; text-align: right }\n",
       "    </style><table class=\"wandb\">\n",
       "<tr><td>epoch</td><td>19</td></tr><tr><td>train_Loss_falff</td><td>0.01062</td></tr><tr><td>train_acc_falff </td><td>69.59937</td></tr><tr><td>_runtime</td><td>19677</td></tr><tr><td>_timestamp</td><td>1615683152</td></tr><tr><td>_step</td><td>19</td></tr></table>"
      ],
      "text/plain": [
       "<IPython.core.display.HTML object>"
      ]
     },
     "metadata": {},
     "output_type": "display_data"
    },
    {
     "data": {
      "text/html": [
       "<h3>Run history:</h3><br/><style>\n",
       "    table.wandb td:nth-child(1) { padding: 0 10px; text-align: right }\n",
       "    </style><table class=\"wandb\">\n",
       "<tr><td>epoch</td><td>▁▁▂▂▂▃▃▄▄▄▅▅▅▆▆▇▇▇██</td></tr><tr><td>train_Loss_falff</td><td>█▇▇▇▆▆▆▅▅▅▅▄▄▄▃▃▂▂▁▁</td></tr><tr><td>train_acc_falff </td><td>▁▁▁▂▃▂▃▂▄▆▃▅▄▅▆▇▇▅██</td></tr><tr><td>_runtime</td><td>▁▁▂▂▂▃▃▄▄▄▅▅▅▆▆▇▇▇██</td></tr><tr><td>_timestamp</td><td>▁▁▂▂▂▃▃▄▄▄▅▅▅▆▆▇▇▇██</td></tr><tr><td>_step</td><td>▁▁▂▂▂▃▃▄▄▄▅▅▅▆▆▇▇▇██</td></tr></table><br/>"
      ],
      "text/plain": [
       "<IPython.core.display.HTML object>"
      ]
     },
     "metadata": {},
     "output_type": "display_data"
    },
    {
     "data": {
      "text/html": [
       "Synced 5 W&B file(s), 0 media file(s), 0 artifact file(s) and 0 other file(s)"
      ],
      "text/plain": [
       "<IPython.core.display.HTML object>"
      ]
     },
     "metadata": {},
     "output_type": "display_data"
    },
    {
     "data": {
      "text/html": [
       "\n",
       "                    <br/>Synced <strong style=\"color:#cdcd00\">sandy-sweep-14</strong>: <a href=\"https://wandb.ai/zahramhn/classifier-falff-sweep-hyper-parameter/runs/68ad0c9a\" target=\"_blank\">https://wandb.ai/zahramhn/classifier-falff-sweep-hyper-parameter/runs/68ad0c9a</a><br/>\n",
       "                "
      ],
      "text/plain": [
       "<IPython.core.display.HTML object>"
      ]
     },
     "metadata": {},
     "output_type": "display_data"
    },
    {
     "name": "stderr",
     "output_type": "stream",
     "text": [
      "\u001b[34m\u001b[1mwandb\u001b[0m: Agent Starting Run: mubpm0k0 with config:\n",
      "\u001b[34m\u001b[1mwandb\u001b[0m: \tbatch_size: 32\n",
      "\u001b[34m\u001b[1mwandb\u001b[0m: \tepochs: 10\n",
      "\u001b[34m\u001b[1mwandb\u001b[0m: \tlearning_rate: 0.001\n",
      "\u001b[34m\u001b[1mwandb\u001b[0m: \u001b[33mWARNING\u001b[0m Ignored wandb.init() arg project when running a sweep\n"
     ]
    },
    {
     "data": {
      "text/html": [
       "\n",
       "                Tracking run with wandb version 0.10.20<br/>\n",
       "                Syncing run <strong style=\"color:#cdcd00\">serene-sweep-15</strong> to <a href=\"https://wandb.ai\" target=\"_blank\">Weights & Biases</a> <a href=\"https://docs.wandb.com/integrations/jupyter.html\" target=\"_blank\">(Documentation)</a>.<br/>\n",
       "                Project page: <a href=\"https://wandb.ai/zahramhn/classifier-falff-sweep-hyper-parameter\" target=\"_blank\">https://wandb.ai/zahramhn/classifier-falff-sweep-hyper-parameter</a><br/>\n",
       "                Sweep page: <a href=\"https://wandb.ai/zahramhn/classifier-falff-sweep-hyper-parameter/sweeps/hfinfn2b\" target=\"_blank\">https://wandb.ai/zahramhn/classifier-falff-sweep-hyper-parameter/sweeps/hfinfn2b</a><br/>\n",
       "Run page: <a href=\"https://wandb.ai/zahramhn/classifier-falff-sweep-hyper-parameter/runs/mubpm0k0\" target=\"_blank\">https://wandb.ai/zahramhn/classifier-falff-sweep-hyper-parameter/runs/mubpm0k0</a><br/>\n",
       "                Run data is saved locally in <code>/data/zmohaghegh/TempStats_3D-CNN/wandb/run-20210314_015235-mubpm0k0</code><br/><br/>\n",
       "            "
      ],
      "text/plain": [
       "<IPython.core.display.HTML object>"
      ]
     },
     "metadata": {},
     "output_type": "display_data"
    },
    {
     "name": "stdout",
     "output_type": "stream",
     "text": [
      "Starting epoch 1\n",
      "acc=47.132757266300075\n",
      "loss=0.02216928357177099\n",
      "Starting epoch 2\n",
      "acc=52.00314218381775\n",
      "loss=0.02175669877629748\n",
      "Starting epoch 3\n",
      "acc=56.48075412411626\n",
      "loss=0.021369629194099737\n",
      "Starting epoch 4\n",
      "acc=57.89473684210526\n",
      "loss=0.020909486905108958\n",
      "Starting epoch 5\n",
      "acc=70.69913589945011\n",
      "loss=0.019738324732824556\n",
      "Starting epoch 6\n",
      "acc=72.11311861743911\n",
      "loss=0.018886010520756464\n",
      "Starting epoch 7\n",
      "acc=79.1044776119403\n",
      "loss=0.017005291140786423\n",
      "Starting epoch 8\n",
      "acc=84.52474469756481\n",
      "loss=0.014319584367516193\n",
      "Starting epoch 9\n",
      "acc=84.83896307934015\n",
      "loss=0.01231247362117648\n",
      "Starting epoch 10\n",
      "acc=94.815396700707\n",
      "loss=0.008502409732147633\n",
      "Training process has finished\n"
     ]
    },
    {
     "data": {
      "text/html": [
       "<br/>Waiting for W&B process to finish, PID 49573<br/>Program ended successfully."
      ],
      "text/plain": [
       "<IPython.core.display.HTML object>"
      ]
     },
     "metadata": {},
     "output_type": "display_data"
    },
    {
     "data": {
      "application/vnd.jupyter.widget-view+json": {
       "model_id": "",
       "version_major": 2,
       "version_minor": 0
      },
      "text/plain": [
       "VBox(children=(Label(value=' 0.00MB of 0.00MB uploaded (0.00MB deduped)\\r'), FloatProgress(value=1.0, max=1.0)…"
      ]
     },
     "metadata": {},
     "output_type": "display_data"
    },
    {
     "data": {
      "text/html": [
       "Find user logs for this run at: <code>/data/zmohaghegh/TempStats_3D-CNN/wandb/run-20210314_015235-mubpm0k0/logs/debug.log</code>"
      ],
      "text/plain": [
       "<IPython.core.display.HTML object>"
      ]
     },
     "metadata": {},
     "output_type": "display_data"
    },
    {
     "data": {
      "text/html": [
       "Find internal logs for this run at: <code>/data/zmohaghegh/TempStats_3D-CNN/wandb/run-20210314_015235-mubpm0k0/logs/debug-internal.log</code>"
      ],
      "text/plain": [
       "<IPython.core.display.HTML object>"
      ]
     },
     "metadata": {},
     "output_type": "display_data"
    },
    {
     "data": {
      "text/html": [
       "<h3>Run summary:</h3><br/><style>\n",
       "    table.wandb td:nth-child(1) { padding: 0 10px; text-align: right }\n",
       "    </style><table class=\"wandb\">\n",
       "<tr><td>epoch</td><td>9</td></tr><tr><td>train_Loss_falff</td><td>0.0085</td></tr><tr><td>train_acc_falff </td><td>94.8154</td></tr><tr><td>_runtime</td><td>11757</td></tr><tr><td>_timestamp</td><td>1615694913</td></tr><tr><td>_step</td><td>9</td></tr></table>"
      ],
      "text/plain": [
       "<IPython.core.display.HTML object>"
      ]
     },
     "metadata": {},
     "output_type": "display_data"
    },
    {
     "data": {
      "text/html": [
       "<h3>Run history:</h3><br/><style>\n",
       "    table.wandb td:nth-child(1) { padding: 0 10px; text-align: right }\n",
       "    </style><table class=\"wandb\">\n",
       "<tr><td>epoch</td><td>▁▂▃▃▄▅▆▆▇█</td></tr><tr><td>train_Loss_falff</td><td>███▇▇▆▅▄▃▁</td></tr><tr><td>train_acc_falff </td><td>▁▂▂▃▄▅▆▆▇█</td></tr><tr><td>_runtime</td><td>▁▂▃▃▄▅▆▆▇█</td></tr><tr><td>_timestamp</td><td>▁▂▃▃▄▅▆▆▇█</td></tr><tr><td>_step</td><td>▁▂▃▃▄▅▆▆▇█</td></tr></table><br/>"
      ],
      "text/plain": [
       "<IPython.core.display.HTML object>"
      ]
     },
     "metadata": {},
     "output_type": "display_data"
    },
    {
     "data": {
      "text/html": [
       "Synced 5 W&B file(s), 0 media file(s), 0 artifact file(s) and 0 other file(s)"
      ],
      "text/plain": [
       "<IPython.core.display.HTML object>"
      ]
     },
     "metadata": {},
     "output_type": "display_data"
    },
    {
     "data": {
      "text/html": [
       "\n",
       "                    <br/>Synced <strong style=\"color:#cdcd00\">serene-sweep-15</strong>: <a href=\"https://wandb.ai/zahramhn/classifier-falff-sweep-hyper-parameter/runs/mubpm0k0\" target=\"_blank\">https://wandb.ai/zahramhn/classifier-falff-sweep-hyper-parameter/runs/mubpm0k0</a><br/>\n",
       "                "
      ],
      "text/plain": [
       "<IPython.core.display.HTML object>"
      ]
     },
     "metadata": {},
     "output_type": "display_data"
    },
    {
     "name": "stderr",
     "output_type": "stream",
     "text": [
      "\u001b[34m\u001b[1mwandb\u001b[0m: Agent Starting Run: szvmzflx with config:\n",
      "\u001b[34m\u001b[1mwandb\u001b[0m: \tbatch_size: 10\n",
      "\u001b[34m\u001b[1mwandb\u001b[0m: \tepochs: 8\n",
      "\u001b[34m\u001b[1mwandb\u001b[0m: \tlearning_rate: 0.0001\n",
      "\u001b[34m\u001b[1mwandb\u001b[0m: \u001b[33mWARNING\u001b[0m Ignored wandb.init() arg project when running a sweep\n"
     ]
    },
    {
     "data": {
      "text/html": [
       "\n",
       "                Tracking run with wandb version 0.10.20<br/>\n",
       "                Syncing run <strong style=\"color:#cdcd00\">serene-sweep-16</strong> to <a href=\"https://wandb.ai\" target=\"_blank\">Weights & Biases</a> <a href=\"https://docs.wandb.com/integrations/jupyter.html\" target=\"_blank\">(Documentation)</a>.<br/>\n",
       "                Project page: <a href=\"https://wandb.ai/zahramhn/classifier-falff-sweep-hyper-parameter\" target=\"_blank\">https://wandb.ai/zahramhn/classifier-falff-sweep-hyper-parameter</a><br/>\n",
       "                Sweep page: <a href=\"https://wandb.ai/zahramhn/classifier-falff-sweep-hyper-parameter/sweeps/hfinfn2b\" target=\"_blank\">https://wandb.ai/zahramhn/classifier-falff-sweep-hyper-parameter/sweeps/hfinfn2b</a><br/>\n",
       "Run page: <a href=\"https://wandb.ai/zahramhn/classifier-falff-sweep-hyper-parameter/runs/szvmzflx\" target=\"_blank\">https://wandb.ai/zahramhn/classifier-falff-sweep-hyper-parameter/runs/szvmzflx</a><br/>\n",
       "                Run data is saved locally in <code>/data/zmohaghegh/TempStats_3D-CNN/wandb/run-20210314_050838-szvmzflx</code><br/><br/>\n",
       "            "
      ],
      "text/plain": [
       "<IPython.core.display.HTML object>"
      ]
     },
     "metadata": {},
     "output_type": "display_data"
    },
    {
     "name": "stdout",
     "output_type": "stream",
     "text": [
      "Starting epoch 1\n",
      "acc=50.03927729772192\n",
      "loss=0.07051772135985589\n",
      "Starting epoch 2\n",
      "acc=52.00314218381775\n",
      "loss=0.06958703361330908\n",
      "Starting epoch 3\n",
      "acc=53.574234092694425\n",
      "loss=0.06921385306816956\n",
      "Starting epoch 4\n",
      "acc=57.18774548311076\n",
      "loss=0.06860423157846642\n",
      "Starting epoch 5\n",
      "acc=58.60172820109977\n",
      "loss=0.0681917440100276\n",
      "Starting epoch 6\n",
      "acc=60.0942655145326\n",
      "loss=0.0670679811063672\n",
      "Starting epoch 7\n",
      "acc=61.66535742340927\n",
      "loss=0.06646392472758472\n",
      "Starting epoch 8\n",
      "acc=71.01335428122545\n",
      "loss=0.06460721473958574\n",
      "Training process has finished\n"
     ]
    },
    {
     "data": {
      "text/html": [
       "<br/>Waiting for W&B process to finish, PID 13408<br/>Program ended successfully."
      ],
      "text/plain": [
       "<IPython.core.display.HTML object>"
      ]
     },
     "metadata": {},
     "output_type": "display_data"
    },
    {
     "data": {
      "application/vnd.jupyter.widget-view+json": {
       "model_id": "",
       "version_major": 2,
       "version_minor": 0
      },
      "text/plain": [
       "VBox(children=(Label(value=' 0.00MB of 0.00MB uploaded (0.00MB deduped)\\r'), FloatProgress(value=1.0, max=1.0)…"
      ]
     },
     "metadata": {},
     "output_type": "display_data"
    },
    {
     "data": {
      "text/html": [
       "Find user logs for this run at: <code>/data/zmohaghegh/TempStats_3D-CNN/wandb/run-20210314_050838-szvmzflx/logs/debug.log</code>"
      ],
      "text/plain": [
       "<IPython.core.display.HTML object>"
      ]
     },
     "metadata": {},
     "output_type": "display_data"
    },
    {
     "data": {
      "text/html": [
       "Find internal logs for this run at: <code>/data/zmohaghegh/TempStats_3D-CNN/wandb/run-20210314_050838-szvmzflx/logs/debug-internal.log</code>"
      ],
      "text/plain": [
       "<IPython.core.display.HTML object>"
      ]
     },
     "metadata": {},
     "output_type": "display_data"
    },
    {
     "data": {
      "text/html": [
       "<h3>Run summary:</h3><br/><style>\n",
       "    table.wandb td:nth-child(1) { padding: 0 10px; text-align: right }\n",
       "    </style><table class=\"wandb\">\n",
       "<tr><td>epoch</td><td>7</td></tr><tr><td>train_Loss_falff</td><td>0.06461</td></tr><tr><td>train_acc_falff </td><td>71.01335</td></tr><tr><td>_runtime</td><td>4247</td></tr><tr><td>_timestamp</td><td>1615699166</td></tr><tr><td>_step</td><td>7</td></tr></table>"
      ],
      "text/plain": [
       "<IPython.core.display.HTML object>"
      ]
     },
     "metadata": {},
     "output_type": "display_data"
    },
    {
     "data": {
      "text/html": [
       "<h3>Run history:</h3><br/><style>\n",
       "    table.wandb td:nth-child(1) { padding: 0 10px; text-align: right }\n",
       "    </style><table class=\"wandb\">\n",
       "<tr><td>epoch</td><td>▁▂▃▄▅▆▇█</td></tr><tr><td>train_Loss_falff</td><td>█▇▆▆▅▄▃▁</td></tr><tr><td>train_acc_falff </td><td>▁▂▂▃▄▄▅█</td></tr><tr><td>_runtime</td><td>▁▂▃▄▅▆▇█</td></tr><tr><td>_timestamp</td><td>▁▂▃▄▅▆▇█</td></tr><tr><td>_step</td><td>▁▂▃▄▅▆▇█</td></tr></table><br/>"
      ],
      "text/plain": [
       "<IPython.core.display.HTML object>"
      ]
     },
     "metadata": {},
     "output_type": "display_data"
    },
    {
     "data": {
      "text/html": [
       "Synced 5 W&B file(s), 0 media file(s), 0 artifact file(s) and 0 other file(s)"
      ],
      "text/plain": [
       "<IPython.core.display.HTML object>"
      ]
     },
     "metadata": {},
     "output_type": "display_data"
    },
    {
     "data": {
      "text/html": [
       "\n",
       "                    <br/>Synced <strong style=\"color:#cdcd00\">serene-sweep-16</strong>: <a href=\"https://wandb.ai/zahramhn/classifier-falff-sweep-hyper-parameter/runs/szvmzflx\" target=\"_blank\">https://wandb.ai/zahramhn/classifier-falff-sweep-hyper-parameter/runs/szvmzflx</a><br/>\n",
       "                "
      ],
      "text/plain": [
       "<IPython.core.display.HTML object>"
      ]
     },
     "metadata": {},
     "output_type": "display_data"
    },
    {
     "name": "stderr",
     "output_type": "stream",
     "text": [
      "\u001b[34m\u001b[1mwandb\u001b[0m: Agent Starting Run: 143jymus with config:\n",
      "\u001b[34m\u001b[1mwandb\u001b[0m: \tbatch_size: 64\n",
      "\u001b[34m\u001b[1mwandb\u001b[0m: \tepochs: 8\n",
      "\u001b[34m\u001b[1mwandb\u001b[0m: \tlearning_rate: 0.0001\n",
      "\u001b[34m\u001b[1mwandb\u001b[0m: \u001b[33mWARNING\u001b[0m Ignored wandb.init() arg project when running a sweep\n"
     ]
    },
    {
     "data": {
      "text/html": [
       "\n",
       "                Tracking run with wandb version 0.10.20<br/>\n",
       "                Syncing run <strong style=\"color:#cdcd00\">classic-sweep-17</strong> to <a href=\"https://wandb.ai\" target=\"_blank\">Weights & Biases</a> <a href=\"https://docs.wandb.com/integrations/jupyter.html\" target=\"_blank\">(Documentation)</a>.<br/>\n",
       "                Project page: <a href=\"https://wandb.ai/zahramhn/classifier-falff-sweep-hyper-parameter\" target=\"_blank\">https://wandb.ai/zahramhn/classifier-falff-sweep-hyper-parameter</a><br/>\n",
       "                Sweep page: <a href=\"https://wandb.ai/zahramhn/classifier-falff-sweep-hyper-parameter/sweeps/hfinfn2b\" target=\"_blank\">https://wandb.ai/zahramhn/classifier-falff-sweep-hyper-parameter/sweeps/hfinfn2b</a><br/>\n",
       "Run page: <a href=\"https://wandb.ai/zahramhn/classifier-falff-sweep-hyper-parameter/runs/143jymus\" target=\"_blank\">https://wandb.ai/zahramhn/classifier-falff-sweep-hyper-parameter/runs/143jymus</a><br/>\n",
       "                Run data is saved locally in <code>/data/zmohaghegh/TempStats_3D-CNN/wandb/run-20210314_061929-143jymus</code><br/><br/>\n",
       "            "
      ],
      "text/plain": [
       "<IPython.core.display.HTML object>"
      ]
     },
     "metadata": {},
     "output_type": "display_data"
    },
    {
     "name": "stdout",
     "output_type": "stream",
     "text": [
      "Starting epoch 1\n",
      "acc=49.88216810683425\n",
      "loss=0.010913078423972794\n",
      "Starting epoch 2\n",
      "acc=51.374705420267084\n",
      "loss=0.010888057505467761\n",
      "Starting epoch 3\n",
      "acc=49.41084053417125\n",
      "loss=0.010877117366151776\n",
      "Starting epoch 4\n",
      "acc=52.16025137470542\n",
      "loss=0.010851775603921391\n",
      "Starting epoch 5\n",
      "acc=57.50196386488609\n",
      "loss=0.010809946320068707\n",
      "Starting epoch 6\n",
      "acc=55.223880597014926\n",
      "loss=0.010808051654268283\n",
      "Starting epoch 7\n",
      "acc=57.81618224666143\n",
      "loss=0.01078841107871683\n",
      "Starting epoch 8\n",
      "acc=60.8012568735271\n",
      "loss=0.010751373481953536\n",
      "Training process has finished\n"
     ]
    },
    {
     "data": {
      "text/html": [
       "<br/>Waiting for W&B process to finish, PID 20255<br/>Program ended successfully."
      ],
      "text/plain": [
       "<IPython.core.display.HTML object>"
      ]
     },
     "metadata": {},
     "output_type": "display_data"
    },
    {
     "data": {
      "application/vnd.jupyter.widget-view+json": {
       "model_id": "",
       "version_major": 2,
       "version_minor": 0
      },
      "text/plain": [
       "VBox(children=(Label(value=' 0.00MB of 0.00MB uploaded (0.00MB deduped)\\r'), FloatProgress(value=1.0, max=1.0)…"
      ]
     },
     "metadata": {},
     "output_type": "display_data"
    },
    {
     "data": {
      "text/html": [
       "Find user logs for this run at: <code>/data/zmohaghegh/TempStats_3D-CNN/wandb/run-20210314_061929-143jymus/logs/debug.log</code>"
      ],
      "text/plain": [
       "<IPython.core.display.HTML object>"
      ]
     },
     "metadata": {},
     "output_type": "display_data"
    },
    {
     "data": {
      "text/html": [
       "Find internal logs for this run at: <code>/data/zmohaghegh/TempStats_3D-CNN/wandb/run-20210314_061929-143jymus/logs/debug-internal.log</code>"
      ],
      "text/plain": [
       "<IPython.core.display.HTML object>"
      ]
     },
     "metadata": {},
     "output_type": "display_data"
    },
    {
     "data": {
      "text/html": [
       "<h3>Run summary:</h3><br/><style>\n",
       "    table.wandb td:nth-child(1) { padding: 0 10px; text-align: right }\n",
       "    </style><table class=\"wandb\">\n",
       "<tr><td>epoch</td><td>7</td></tr><tr><td>train_Loss_falff</td><td>0.01075</td></tr><tr><td>train_acc_falff </td><td>60.80126</td></tr><tr><td>_runtime</td><td>7714</td></tr><tr><td>_timestamp</td><td>1615706884</td></tr><tr><td>_step</td><td>7</td></tr></table>"
      ],
      "text/plain": [
       "<IPython.core.display.HTML object>"
      ]
     },
     "metadata": {},
     "output_type": "display_data"
    },
    {
     "data": {
      "text/html": [
       "<h3>Run history:</h3><br/><style>\n",
       "    table.wandb td:nth-child(1) { padding: 0 10px; text-align: right }\n",
       "    </style><table class=\"wandb\">\n",
       "<tr><td>epoch</td><td>▁▂▃▄▅▆▇█</td></tr><tr><td>train_Loss_falff</td><td>█▇▆▅▄▃▃▁</td></tr><tr><td>train_acc_falff </td><td>▁▂▁▃▆▅▆█</td></tr><tr><td>_runtime</td><td>▁▂▃▄▅▆▇█</td></tr><tr><td>_timestamp</td><td>▁▂▃▄▅▆▇█</td></tr><tr><td>_step</td><td>▁▂▃▄▅▆▇█</td></tr></table><br/>"
      ],
      "text/plain": [
       "<IPython.core.display.HTML object>"
      ]
     },
     "metadata": {},
     "output_type": "display_data"
    },
    {
     "data": {
      "text/html": [
       "Synced 5 W&B file(s), 0 media file(s), 0 artifact file(s) and 0 other file(s)"
      ],
      "text/plain": [
       "<IPython.core.display.HTML object>"
      ]
     },
     "metadata": {},
     "output_type": "display_data"
    },
    {
     "data": {
      "text/html": [
       "\n",
       "                    <br/>Synced <strong style=\"color:#cdcd00\">classic-sweep-17</strong>: <a href=\"https://wandb.ai/zahramhn/classifier-falff-sweep-hyper-parameter/runs/143jymus\" target=\"_blank\">https://wandb.ai/zahramhn/classifier-falff-sweep-hyper-parameter/runs/143jymus</a><br/>\n",
       "                "
      ],
      "text/plain": [
       "<IPython.core.display.HTML object>"
      ]
     },
     "metadata": {},
     "output_type": "display_data"
    },
    {
     "name": "stderr",
     "output_type": "stream",
     "text": [
      "\u001b[34m\u001b[1mwandb\u001b[0m: Agent Starting Run: h5ca8gu7 with config:\n",
      "\u001b[34m\u001b[1mwandb\u001b[0m: \tbatch_size: 32\n",
      "\u001b[34m\u001b[1mwandb\u001b[0m: \tepochs: 20\n",
      "\u001b[34m\u001b[1mwandb\u001b[0m: \tlearning_rate: 0.001\n",
      "\u001b[34m\u001b[1mwandb\u001b[0m: \u001b[33mWARNING\u001b[0m Ignored wandb.init() arg project when running a sweep\n"
     ]
    },
    {
     "data": {
      "text/html": [
       "\n",
       "                Tracking run with wandb version 0.10.20<br/>\n",
       "                Syncing run <strong style=\"color:#cdcd00\">hardy-sweep-18</strong> to <a href=\"https://wandb.ai\" target=\"_blank\">Weights & Biases</a> <a href=\"https://docs.wandb.com/integrations/jupyter.html\" target=\"_blank\">(Documentation)</a>.<br/>\n",
       "                Project page: <a href=\"https://wandb.ai/zahramhn/classifier-falff-sweep-hyper-parameter\" target=\"_blank\">https://wandb.ai/zahramhn/classifier-falff-sweep-hyper-parameter</a><br/>\n",
       "                Sweep page: <a href=\"https://wandb.ai/zahramhn/classifier-falff-sweep-hyper-parameter/sweeps/hfinfn2b\" target=\"_blank\">https://wandb.ai/zahramhn/classifier-falff-sweep-hyper-parameter/sweeps/hfinfn2b</a><br/>\n",
       "Run page: <a href=\"https://wandb.ai/zahramhn/classifier-falff-sweep-hyper-parameter/runs/h5ca8gu7\" target=\"_blank\">https://wandb.ai/zahramhn/classifier-falff-sweep-hyper-parameter/runs/h5ca8gu7</a><br/>\n",
       "                Run data is saved locally in <code>/data/zmohaghegh/TempStats_3D-CNN/wandb/run-20210314_082808-h5ca8gu7</code><br/><br/>\n",
       "            "
      ],
      "text/plain": [
       "<IPython.core.display.HTML object>"
      ]
     },
     "metadata": {},
     "output_type": "display_data"
    },
    {
     "name": "stdout",
     "output_type": "stream",
     "text": [
      "Starting epoch 1\n",
      "acc=50.51060487038492\n",
      "loss=0.02213257088896954\n",
      "Starting epoch 2\n",
      "acc=53.574234092694425\n",
      "loss=0.021700730522146557\n",
      "Starting epoch 3\n",
      "acc=52.16025137470542\n",
      "loss=0.02167429623140564\n",
      "Starting epoch 4\n",
      "acc=52.78868813825609\n",
      "loss=0.021418524187903704\n",
      "Starting epoch 5\n",
      "acc=58.208955223880594\n",
      "loss=0.021250023505229147\n",
      "Starting epoch 6\n",
      "acc=63.6292223095051\n",
      "loss=0.020416066931777676\n",
      "Starting epoch 7\n",
      "acc=71.64179104477611\n",
      "loss=0.0192183870178461\n",
      "Starting epoch 8\n",
      "acc=73.60565593087196\n",
      "loss=0.017937418666639556\n",
      "Starting epoch 9\n",
      "acc=82.79654359780046\n",
      "loss=0.015403701681072983\n",
      "Starting epoch 10\n",
      "acc=88.21681068342498\n",
      "loss=0.01230842713908798\n",
      "Starting epoch 11\n",
      "acc=91.20188531029065\n",
      "loss=0.009655430673519752\n",
      "Starting epoch 12\n",
      "acc=95.12961508248233\n",
      "loss=0.006605686209281238\n",
      "Starting epoch 13\n",
      "acc=99.057344854674\n",
      "loss=0.003817414467194592\n",
      "Starting epoch 14\n",
      "acc=99.92144540455617\n",
      "loss=0.002145792411184113\n",
      "Starting epoch 15\n",
      "acc=100.0\n",
      "loss=0.001433851917611679\n",
      "Starting epoch 16\n",
      "acc=100.0\n",
      "loss=0.0007655244917916148\n",
      "Starting epoch 17\n",
      "acc=100.0\n",
      "loss=0.0005436670376149313\n",
      "Starting epoch 18\n",
      "acc=100.0\n",
      "loss=0.00040400700636579126\n",
      "Starting epoch 19\n",
      "acc=100.0\n",
      "loss=0.00033512376397905737\n",
      "Starting epoch 20\n",
      "acc=100.0\n",
      "loss=0.0002727431987347636\n",
      "Training process has finished\n"
     ]
    },
    {
     "data": {
      "text/html": [
       "<br/>Waiting for W&B process to finish, PID 33853<br/>Program ended successfully."
      ],
      "text/plain": [
       "<IPython.core.display.HTML object>"
      ]
     },
     "metadata": {},
     "output_type": "display_data"
    },
    {
     "data": {
      "application/vnd.jupyter.widget-view+json": {
       "model_id": "",
       "version_major": 2,
       "version_minor": 0
      },
      "text/plain": [
       "VBox(children=(Label(value=' 0.00MB of 0.00MB uploaded (0.00MB deduped)\\r'), FloatProgress(value=1.0, max=1.0)…"
      ]
     },
     "metadata": {},
     "output_type": "display_data"
    },
    {
     "data": {
      "text/html": [
       "Find user logs for this run at: <code>/data/zmohaghegh/TempStats_3D-CNN/wandb/run-20210314_082808-h5ca8gu7/logs/debug.log</code>"
      ],
      "text/plain": [
       "<IPython.core.display.HTML object>"
      ]
     },
     "metadata": {},
     "output_type": "display_data"
    },
    {
     "data": {
      "text/html": [
       "Find internal logs for this run at: <code>/data/zmohaghegh/TempStats_3D-CNN/wandb/run-20210314_082808-h5ca8gu7/logs/debug-internal.log</code>"
      ],
      "text/plain": [
       "<IPython.core.display.HTML object>"
      ]
     },
     "metadata": {},
     "output_type": "display_data"
    },
    {
     "data": {
      "text/html": [
       "<h3>Run summary:</h3><br/><style>\n",
       "    table.wandb td:nth-child(1) { padding: 0 10px; text-align: right }\n",
       "    </style><table class=\"wandb\">\n",
       "<tr><td>epoch</td><td>19</td></tr><tr><td>train_Loss_falff</td><td>0.00027</td></tr><tr><td>train_acc_falff </td><td>100.0</td></tr><tr><td>_runtime</td><td>23464</td></tr><tr><td>_timestamp</td><td>1615730353</td></tr><tr><td>_step</td><td>19</td></tr></table>"
      ],
      "text/plain": [
       "<IPython.core.display.HTML object>"
      ]
     },
     "metadata": {},
     "output_type": "display_data"
    },
    {
     "data": {
      "text/html": [
       "<h3>Run history:</h3><br/><style>\n",
       "    table.wandb td:nth-child(1) { padding: 0 10px; text-align: right }\n",
       "    </style><table class=\"wandb\">\n",
       "<tr><td>epoch</td><td>▁▁▂▂▂▃▃▄▄▄▅▅▅▆▆▇▇▇██</td></tr><tr><td>train_Loss_falff</td><td>█████▇▇▇▆▅▄▃▂▂▁▁▁▁▁▁</td></tr><tr><td>train_acc_falff </td><td>▁▁▁▁▂▃▄▄▆▆▇▇████████</td></tr><tr><td>_runtime</td><td>▁▁▂▂▂▃▃▄▄▄▅▅▅▆▆▇▇▇██</td></tr><tr><td>_timestamp</td><td>▁▁▂▂▂▃▃▄▄▄▅▅▅▆▆▇▇▇██</td></tr><tr><td>_step</td><td>▁▁▂▂▂▃▃▄▄▄▅▅▅▆▆▇▇▇██</td></tr></table><br/>"
      ],
      "text/plain": [
       "<IPython.core.display.HTML object>"
      ]
     },
     "metadata": {},
     "output_type": "display_data"
    },
    {
     "data": {
      "text/html": [
       "Synced 5 W&B file(s), 0 media file(s), 0 artifact file(s) and 0 other file(s)"
      ],
      "text/plain": [
       "<IPython.core.display.HTML object>"
      ]
     },
     "metadata": {},
     "output_type": "display_data"
    },
    {
     "data": {
      "text/html": [
       "\n",
       "                    <br/>Synced <strong style=\"color:#cdcd00\">hardy-sweep-18</strong>: <a href=\"https://wandb.ai/zahramhn/classifier-falff-sweep-hyper-parameter/runs/h5ca8gu7\" target=\"_blank\">https://wandb.ai/zahramhn/classifier-falff-sweep-hyper-parameter/runs/h5ca8gu7</a><br/>\n",
       "                "
      ],
      "text/plain": [
       "<IPython.core.display.HTML object>"
      ]
     },
     "metadata": {},
     "output_type": "display_data"
    },
    {
     "name": "stderr",
     "output_type": "stream",
     "text": [
      "\u001b[34m\u001b[1mwandb\u001b[0m: Agent Starting Run: vijauryy with config:\n",
      "\u001b[34m\u001b[1mwandb\u001b[0m: \tbatch_size: 64\n",
      "\u001b[34m\u001b[1mwandb\u001b[0m: \tepochs: 10\n",
      "\u001b[34m\u001b[1mwandb\u001b[0m: \tlearning_rate: 0.01\n",
      "\u001b[34m\u001b[1mwandb\u001b[0m: \u001b[33mWARNING\u001b[0m Ignored wandb.init() arg project when running a sweep\n"
     ]
    },
    {
     "data": {
      "text/html": [
       "\n",
       "                Tracking run with wandb version 0.10.20<br/>\n",
       "                Syncing run <strong style=\"color:#cdcd00\">twilight-sweep-19</strong> to <a href=\"https://wandb.ai\" target=\"_blank\">Weights & Biases</a> <a href=\"https://docs.wandb.com/integrations/jupyter.html\" target=\"_blank\">(Documentation)</a>.<br/>\n",
       "                Project page: <a href=\"https://wandb.ai/zahramhn/classifier-falff-sweep-hyper-parameter\" target=\"_blank\">https://wandb.ai/zahramhn/classifier-falff-sweep-hyper-parameter</a><br/>\n",
       "                Sweep page: <a href=\"https://wandb.ai/zahramhn/classifier-falff-sweep-hyper-parameter/sweeps/hfinfn2b\" target=\"_blank\">https://wandb.ai/zahramhn/classifier-falff-sweep-hyper-parameter/sweeps/hfinfn2b</a><br/>\n",
       "Run page: <a href=\"https://wandb.ai/zahramhn/classifier-falff-sweep-hyper-parameter/runs/vijauryy\" target=\"_blank\">https://wandb.ai/zahramhn/classifier-falff-sweep-hyper-parameter/runs/vijauryy</a><br/>\n",
       "                Run data is saved locally in <code>/data/zmohaghegh/TempStats_3D-CNN/wandb/run-20210314_145919-vijauryy</code><br/><br/>\n",
       "            "
      ],
      "text/plain": [
       "<IPython.core.display.HTML object>"
      ]
     },
     "metadata": {},
     "output_type": "display_data"
    },
    {
     "name": "stdout",
     "output_type": "stream",
     "text": [
      "Starting epoch 1\n",
      "acc=49.56794972505892\n",
      "loss=0.01112436040833291\n",
      "Starting epoch 2\n",
      "acc=59.07305577376277\n",
      "loss=0.010628964848597424\n",
      "Starting epoch 3\n",
      "acc=53.574234092694425\n",
      "loss=0.010885986761562655\n",
      "Starting epoch 4\n",
      "acc=57.03063629222309\n",
      "loss=0.010631407183599702\n",
      "Starting epoch 5\n",
      "acc=65.27886881382561\n",
      "loss=0.009915680536989123\n",
      "Starting epoch 6\n",
      "acc=69.44226237234878\n",
      "loss=0.008828142168882298\n",
      "Starting epoch 7\n",
      "acc=67.47839748625294\n",
      "loss=0.008740859939268956\n",
      "Starting epoch 8\n",
      "acc=93.71563236449332\n",
      "loss=0.0039020470691393506\n",
      "Starting epoch 9\n",
      "acc=99.13589945011783\n",
      "loss=0.0007496748296338073\n",
      "Starting epoch 10\n",
      "acc=100.0\n",
      "loss=0.00019901089159395468\n",
      "Training process has finished\n"
     ]
    },
    {
     "data": {
      "text/html": [
       "<br/>Waiting for W&B process to finish, PID 15469<br/>Program ended successfully."
      ],
      "text/plain": [
       "<IPython.core.display.HTML object>"
      ]
     },
     "metadata": {},
     "output_type": "display_data"
    },
    {
     "data": {
      "application/vnd.jupyter.widget-view+json": {
       "model_id": "",
       "version_major": 2,
       "version_minor": 0
      },
      "text/plain": [
       "VBox(children=(Label(value=' 0.00MB of 0.00MB uploaded (0.00MB deduped)\\r'), FloatProgress(value=1.0, max=1.0)…"
      ]
     },
     "metadata": {},
     "output_type": "display_data"
    },
    {
     "data": {
      "text/html": [
       "Find user logs for this run at: <code>/data/zmohaghegh/TempStats_3D-CNN/wandb/run-20210314_145919-vijauryy/logs/debug.log</code>"
      ],
      "text/plain": [
       "<IPython.core.display.HTML object>"
      ]
     },
     "metadata": {},
     "output_type": "display_data"
    },
    {
     "data": {
      "text/html": [
       "Find internal logs for this run at: <code>/data/zmohaghegh/TempStats_3D-CNN/wandb/run-20210314_145919-vijauryy/logs/debug-internal.log</code>"
      ],
      "text/plain": [
       "<IPython.core.display.HTML object>"
      ]
     },
     "metadata": {},
     "output_type": "display_data"
    },
    {
     "data": {
      "text/html": [
       "<h3>Run summary:</h3><br/><style>\n",
       "    table.wandb td:nth-child(1) { padding: 0 10px; text-align: right }\n",
       "    </style><table class=\"wandb\">\n",
       "<tr><td>epoch</td><td>9</td></tr><tr><td>train_Loss_falff</td><td>0.0002</td></tr><tr><td>train_acc_falff </td><td>100.0</td></tr><tr><td>_runtime</td><td>9673</td></tr><tr><td>_timestamp</td><td>1615740032</td></tr><tr><td>_step</td><td>9</td></tr></table>"
      ],
      "text/plain": [
       "<IPython.core.display.HTML object>"
      ]
     },
     "metadata": {},
     "output_type": "display_data"
    },
    {
     "data": {
      "text/html": [
       "<h3>Run history:</h3><br/><style>\n",
       "    table.wandb td:nth-child(1) { padding: 0 10px; text-align: right }\n",
       "    </style><table class=\"wandb\">\n",
       "<tr><td>epoch</td><td>▁▂▃▃▄▅▆▆▇█</td></tr><tr><td>train_Loss_falff</td><td>████▇▇▆▃▁▁</td></tr><tr><td>train_acc_falff </td><td>▁▂▂▂▃▄▃▇██</td></tr><tr><td>_runtime</td><td>▁▂▃▃▄▅▆▆▇█</td></tr><tr><td>_timestamp</td><td>▁▂▃▃▄▅▆▆▇█</td></tr><tr><td>_step</td><td>▁▂▃▃▄▅▆▆▇█</td></tr></table><br/>"
      ],
      "text/plain": [
       "<IPython.core.display.HTML object>"
      ]
     },
     "metadata": {},
     "output_type": "display_data"
    },
    {
     "data": {
      "text/html": [
       "Synced 5 W&B file(s), 0 media file(s), 0 artifact file(s) and 0 other file(s)"
      ],
      "text/plain": [
       "<IPython.core.display.HTML object>"
      ]
     },
     "metadata": {},
     "output_type": "display_data"
    },
    {
     "data": {
      "text/html": [
       "\n",
       "                    <br/>Synced <strong style=\"color:#cdcd00\">twilight-sweep-19</strong>: <a href=\"https://wandb.ai/zahramhn/classifier-falff-sweep-hyper-parameter/runs/vijauryy\" target=\"_blank\">https://wandb.ai/zahramhn/classifier-falff-sweep-hyper-parameter/runs/vijauryy</a><br/>\n",
       "                "
      ],
      "text/plain": [
       "<IPython.core.display.HTML object>"
      ]
     },
     "metadata": {},
     "output_type": "display_data"
    },
    {
     "name": "stderr",
     "output_type": "stream",
     "text": [
      "\u001b[34m\u001b[1mwandb\u001b[0m: Agent Starting Run: buq0hjua with config:\n",
      "\u001b[34m\u001b[1mwandb\u001b[0m: \tbatch_size: 32\n",
      "\u001b[34m\u001b[1mwandb\u001b[0m: \tepochs: 10\n",
      "\u001b[34m\u001b[1mwandb\u001b[0m: \tlearning_rate: 0.01\n",
      "\u001b[34m\u001b[1mwandb\u001b[0m: \u001b[33mWARNING\u001b[0m Ignored wandb.init() arg project when running a sweep\n"
     ]
    },
    {
     "data": {
      "text/html": [
       "\n",
       "                Tracking run with wandb version 0.10.20<br/>\n",
       "                Syncing run <strong style=\"color:#cdcd00\">devout-sweep-20</strong> to <a href=\"https://wandb.ai\" target=\"_blank\">Weights & Biases</a> <a href=\"https://docs.wandb.com/integrations/jupyter.html\" target=\"_blank\">(Documentation)</a>.<br/>\n",
       "                Project page: <a href=\"https://wandb.ai/zahramhn/classifier-falff-sweep-hyper-parameter\" target=\"_blank\">https://wandb.ai/zahramhn/classifier-falff-sweep-hyper-parameter</a><br/>\n",
       "                Sweep page: <a href=\"https://wandb.ai/zahramhn/classifier-falff-sweep-hyper-parameter/sweeps/hfinfn2b\" target=\"_blank\">https://wandb.ai/zahramhn/classifier-falff-sweep-hyper-parameter/sweeps/hfinfn2b</a><br/>\n",
       "Run page: <a href=\"https://wandb.ai/zahramhn/classifier-falff-sweep-hyper-parameter/runs/buq0hjua\" target=\"_blank\">https://wandb.ai/zahramhn/classifier-falff-sweep-hyper-parameter/runs/buq0hjua</a><br/>\n",
       "                Run data is saved locally in <code>/data/zmohaghegh/TempStats_3D-CNN/wandb/run-20210314_174036-buq0hjua</code><br/><br/>\n",
       "            "
      ],
      "text/plain": [
       "<IPython.core.display.HTML object>"
      ]
     },
     "metadata": {},
     "output_type": "display_data"
    },
    {
     "name": "stdout",
     "output_type": "stream",
     "text": [
      "Starting epoch 1\n",
      "acc=49.25373134328358\n",
      "loss=0.02219675659666866\n",
      "Starting epoch 2\n",
      "acc=50.58915946582875\n",
      "loss=0.021886863690654134\n",
      "Starting epoch 3\n",
      "acc=50.11783189316575\n",
      "loss=0.021835597150699774\n",
      "Starting epoch 4\n",
      "acc=53.574234092694425\n",
      "loss=0.021801928736655728\n",
      "Starting epoch 5\n",
      "acc=54.90966221523959\n",
      "loss=0.021812500567077266\n",
      "Starting epoch 6\n",
      "acc=50.51060487038492\n",
      "loss=0.02186070585795071\n",
      "Starting epoch 7\n",
      "acc=48.31107619795758\n",
      "loss=0.02200352008481752\n",
      "Starting epoch 8\n",
      "acc=49.48939512961508\n",
      "loss=0.02191234346012399\n",
      "Starting epoch 9\n",
      "acc=50.03927729772192\n",
      "loss=0.021905767885788924\n",
      "Starting epoch 10\n",
      "acc=47.83974862529458\n",
      "loss=0.021900231749616406\n",
      "Training process has finished\n"
     ]
    },
    {
     "data": {
      "text/html": [
       "<br/>Waiting for W&B process to finish, PID 34911<br/>Program ended successfully."
      ],
      "text/plain": [
       "<IPython.core.display.HTML object>"
      ]
     },
     "metadata": {},
     "output_type": "display_data"
    },
    {
     "data": {
      "application/vnd.jupyter.widget-view+json": {
       "model_id": "",
       "version_major": 2,
       "version_minor": 0
      },
      "text/plain": [
       "VBox(children=(Label(value=' 0.00MB of 0.00MB uploaded (0.00MB deduped)\\r'), FloatProgress(value=1.0, max=1.0)…"
      ]
     },
     "metadata": {},
     "output_type": "display_data"
    },
    {
     "data": {
      "text/html": [
       "Find user logs for this run at: <code>/data/zmohaghegh/TempStats_3D-CNN/wandb/run-20210314_174036-buq0hjua/logs/debug.log</code>"
      ],
      "text/plain": [
       "<IPython.core.display.HTML object>"
      ]
     },
     "metadata": {},
     "output_type": "display_data"
    },
    {
     "data": {
      "text/html": [
       "Find internal logs for this run at: <code>/data/zmohaghegh/TempStats_3D-CNN/wandb/run-20210314_174036-buq0hjua/logs/debug-internal.log</code>"
      ],
      "text/plain": [
       "<IPython.core.display.HTML object>"
      ]
     },
     "metadata": {},
     "output_type": "display_data"
    },
    {
     "data": {
      "text/html": [
       "<h3>Run summary:</h3><br/><style>\n",
       "    table.wandb td:nth-child(1) { padding: 0 10px; text-align: right }\n",
       "    </style><table class=\"wandb\">\n",
       "<tr><td>epoch</td><td>9</td></tr><tr><td>train_Loss_falff</td><td>0.0219</td></tr><tr><td>train_acc_falff </td><td>47.83975</td></tr><tr><td>_runtime</td><td>11738</td></tr><tr><td>_timestamp</td><td>1615751774</td></tr><tr><td>_step</td><td>9</td></tr></table>"
      ],
      "text/plain": [
       "<IPython.core.display.HTML object>"
      ]
     },
     "metadata": {},
     "output_type": "display_data"
    },
    {
     "data": {
      "text/html": [
       "<h3>Run history:</h3><br/><style>\n",
       "    table.wandb td:nth-child(1) { padding: 0 10px; text-align: right }\n",
       "    </style><table class=\"wandb\">\n",
       "<tr><td>epoch</td><td>▁▂▃▃▄▅▆▆▇█</td></tr><tr><td>train_Loss_falff</td><td>█▃▂▁▁▂▅▃▃▃</td></tr><tr><td>train_acc_falff </td><td>▂▄▃▇█▄▁▃▃▁</td></tr><tr><td>_runtime</td><td>▁▂▃▃▄▅▆▆▇█</td></tr><tr><td>_timestamp</td><td>▁▂▃▃▄▅▆▆▇█</td></tr><tr><td>_step</td><td>▁▂▃▃▄▅▆▆▇█</td></tr></table><br/>"
      ],
      "text/plain": [
       "<IPython.core.display.HTML object>"
      ]
     },
     "metadata": {},
     "output_type": "display_data"
    },
    {
     "data": {
      "text/html": [
       "Synced 5 W&B file(s), 0 media file(s), 0 artifact file(s) and 0 other file(s)"
      ],
      "text/plain": [
       "<IPython.core.display.HTML object>"
      ]
     },
     "metadata": {},
     "output_type": "display_data"
    },
    {
     "data": {
      "text/html": [
       "\n",
       "                    <br/>Synced <strong style=\"color:#cdcd00\">devout-sweep-20</strong>: <a href=\"https://wandb.ai/zahramhn/classifier-falff-sweep-hyper-parameter/runs/buq0hjua\" target=\"_blank\">https://wandb.ai/zahramhn/classifier-falff-sweep-hyper-parameter/runs/buq0hjua</a><br/>\n",
       "                "
      ],
      "text/plain": [
       "<IPython.core.display.HTML object>"
      ]
     },
     "metadata": {},
     "output_type": "display_data"
    },
    {
     "name": "stderr",
     "output_type": "stream",
     "text": [
      "\u001b[34m\u001b[1mwandb\u001b[0m: Agent Starting Run: 341t4pi2 with config:\n",
      "\u001b[34m\u001b[1mwandb\u001b[0m: \tbatch_size: 64\n",
      "\u001b[34m\u001b[1mwandb\u001b[0m: \tepochs: 10\n",
      "\u001b[34m\u001b[1mwandb\u001b[0m: \tlearning_rate: 0.001\n",
      "\u001b[34m\u001b[1mwandb\u001b[0m: \u001b[33mWARNING\u001b[0m Ignored wandb.init() arg project when running a sweep\n"
     ]
    },
    {
     "data": {
      "text/html": [
       "\n",
       "                Tracking run with wandb version 0.10.20<br/>\n",
       "                Syncing run <strong style=\"color:#cdcd00\">robust-sweep-21</strong> to <a href=\"https://wandb.ai\" target=\"_blank\">Weights & Biases</a> <a href=\"https://docs.wandb.com/integrations/jupyter.html\" target=\"_blank\">(Documentation)</a>.<br/>\n",
       "                Project page: <a href=\"https://wandb.ai/zahramhn/classifier-falff-sweep-hyper-parameter\" target=\"_blank\">https://wandb.ai/zahramhn/classifier-falff-sweep-hyper-parameter</a><br/>\n",
       "                Sweep page: <a href=\"https://wandb.ai/zahramhn/classifier-falff-sweep-hyper-parameter/sweeps/hfinfn2b\" target=\"_blank\">https://wandb.ai/zahramhn/classifier-falff-sweep-hyper-parameter/sweeps/hfinfn2b</a><br/>\n",
       "Run page: <a href=\"https://wandb.ai/zahramhn/classifier-falff-sweep-hyper-parameter/runs/341t4pi2\" target=\"_blank\">https://wandb.ai/zahramhn/classifier-falff-sweep-hyper-parameter/runs/341t4pi2</a><br/>\n",
       "                Run data is saved locally in <code>/data/zmohaghegh/TempStats_3D-CNN/wandb/run-20210314_205618-341t4pi2</code><br/><br/>\n",
       "            "
      ],
      "text/plain": [
       "<IPython.core.display.HTML object>"
      ]
     },
     "metadata": {},
     "output_type": "display_data"
    },
    {
     "name": "stdout",
     "output_type": "stream",
     "text": [
      "Starting epoch 1\n",
      "acc=49.88216810683425\n",
      "loss=0.011087683306314277\n",
      "Starting epoch 2\n",
      "acc=54.67399842890809\n",
      "loss=0.010830828243019272\n",
      "Starting epoch 3\n",
      "acc=53.41712490180676\n",
      "loss=0.010714077857504488\n",
      "Starting epoch 4\n",
      "acc=62.765121759622936\n",
      "loss=0.010465212274926656\n",
      "Starting epoch 5\n",
      "acc=61.351139041633935\n",
      "loss=0.010235330562273815\n",
      "Starting epoch 6\n",
      "acc=67.39984289080911\n",
      "loss=0.0098942945912094\n",
      "Starting epoch 7\n",
      "acc=76.82639434406913\n",
      "loss=0.009499950950966438\n",
      "Starting epoch 8\n",
      "acc=72.03456402199528\n",
      "loss=0.009331411602088502\n",
      "Starting epoch 9\n",
      "acc=70.54202670856245\n",
      "loss=0.008960811346264154\n",
      "Starting epoch 10\n",
      "acc=85.46739984289081\n",
      "loss=0.00784303981895172\n",
      "Training process has finished\n"
     ]
    },
    {
     "data": {
      "text/html": [
       "<br/>Waiting for W&B process to finish, PID 56836<br/>Program ended successfully."
      ],
      "text/plain": [
       "<IPython.core.display.HTML object>"
      ]
     },
     "metadata": {},
     "output_type": "display_data"
    },
    {
     "data": {
      "application/vnd.jupyter.widget-view+json": {
       "model_id": "",
       "version_major": 2,
       "version_minor": 0
      },
      "text/plain": [
       "VBox(children=(Label(value=' 0.00MB of 0.00MB uploaded (0.00MB deduped)\\r'), FloatProgress(value=1.0, max=1.0)…"
      ]
     },
     "metadata": {},
     "output_type": "display_data"
    },
    {
     "data": {
      "text/html": [
       "Find user logs for this run at: <code>/data/zmohaghegh/TempStats_3D-CNN/wandb/run-20210314_205618-341t4pi2/logs/debug.log</code>"
      ],
      "text/plain": [
       "<IPython.core.display.HTML object>"
      ]
     },
     "metadata": {},
     "output_type": "display_data"
    },
    {
     "data": {
      "text/html": [
       "Find internal logs for this run at: <code>/data/zmohaghegh/TempStats_3D-CNN/wandb/run-20210314_205618-341t4pi2/logs/debug-internal.log</code>"
      ],
      "text/plain": [
       "<IPython.core.display.HTML object>"
      ]
     },
     "metadata": {},
     "output_type": "display_data"
    },
    {
     "data": {
      "text/html": [
       "<h3>Run summary:</h3><br/><style>\n",
       "    table.wandb td:nth-child(1) { padding: 0 10px; text-align: right }\n",
       "    </style><table class=\"wandb\">\n",
       "<tr><td>epoch</td><td>9</td></tr><tr><td>train_Loss_falff</td><td>0.00784</td></tr><tr><td>train_acc_falff </td><td>85.4674</td></tr><tr><td>_runtime</td><td>9724</td></tr><tr><td>_timestamp</td><td>1615761503</td></tr><tr><td>_step</td><td>9</td></tr></table>"
      ],
      "text/plain": [
       "<IPython.core.display.HTML object>"
      ]
     },
     "metadata": {},
     "output_type": "display_data"
    },
    {
     "data": {
      "text/html": [
       "<h3>Run history:</h3><br/><style>\n",
       "    table.wandb td:nth-child(1) { padding: 0 10px; text-align: right }\n",
       "    </style><table class=\"wandb\">\n",
       "<tr><td>epoch</td><td>▁▂▃▃▄▅▆▆▇█</td></tr><tr><td>train_Loss_falff</td><td>█▇▇▇▆▅▅▄▃▁</td></tr><tr><td>train_acc_falff </td><td>▁▂▂▄▃▄▆▅▅█</td></tr><tr><td>_runtime</td><td>▁▂▃▃▄▅▆▆▇█</td></tr><tr><td>_timestamp</td><td>▁▂▃▃▄▅▆▆▇█</td></tr><tr><td>_step</td><td>▁▂▃▃▄▅▆▆▇█</td></tr></table><br/>"
      ],
      "text/plain": [
       "<IPython.core.display.HTML object>"
      ]
     },
     "metadata": {},
     "output_type": "display_data"
    },
    {
     "data": {
      "text/html": [
       "Synced 5 W&B file(s), 0 media file(s), 0 artifact file(s) and 0 other file(s)"
      ],
      "text/plain": [
       "<IPython.core.display.HTML object>"
      ]
     },
     "metadata": {},
     "output_type": "display_data"
    },
    {
     "data": {
      "text/html": [
       "\n",
       "                    <br/>Synced <strong style=\"color:#cdcd00\">robust-sweep-21</strong>: <a href=\"https://wandb.ai/zahramhn/classifier-falff-sweep-hyper-parameter/runs/341t4pi2\" target=\"_blank\">https://wandb.ai/zahramhn/classifier-falff-sweep-hyper-parameter/runs/341t4pi2</a><br/>\n",
       "                "
      ],
      "text/plain": [
       "<IPython.core.display.HTML object>"
      ]
     },
     "metadata": {},
     "output_type": "display_data"
    },
    {
     "name": "stderr",
     "output_type": "stream",
     "text": [
      "\u001b[34m\u001b[1mwandb\u001b[0m: Agent Starting Run: ws75xwaf with config:\n",
      "\u001b[34m\u001b[1mwandb\u001b[0m: \tbatch_size: 10\n",
      "\u001b[34m\u001b[1mwandb\u001b[0m: \tepochs: 8\n",
      "\u001b[34m\u001b[1mwandb\u001b[0m: \tlearning_rate: 0.001\n",
      "\u001b[34m\u001b[1mwandb\u001b[0m: \u001b[33mWARNING\u001b[0m Ignored wandb.init() arg project when running a sweep\n"
     ]
    },
    {
     "data": {
      "text/html": [
       "\n",
       "                Tracking run with wandb version 0.10.20<br/>\n",
       "                Syncing run <strong style=\"color:#cdcd00\">dark-sweep-22</strong> to <a href=\"https://wandb.ai\" target=\"_blank\">Weights & Biases</a> <a href=\"https://docs.wandb.com/integrations/jupyter.html\" target=\"_blank\">(Documentation)</a>.<br/>\n",
       "                Project page: <a href=\"https://wandb.ai/zahramhn/classifier-falff-sweep-hyper-parameter\" target=\"_blank\">https://wandb.ai/zahramhn/classifier-falff-sweep-hyper-parameter</a><br/>\n",
       "                Sweep page: <a href=\"https://wandb.ai/zahramhn/classifier-falff-sweep-hyper-parameter/sweeps/hfinfn2b\" target=\"_blank\">https://wandb.ai/zahramhn/classifier-falff-sweep-hyper-parameter/sweeps/hfinfn2b</a><br/>\n",
       "Run page: <a href=\"https://wandb.ai/zahramhn/classifier-falff-sweep-hyper-parameter/runs/ws75xwaf\" target=\"_blank\">https://wandb.ai/zahramhn/classifier-falff-sweep-hyper-parameter/runs/ws75xwaf</a><br/>\n",
       "                Run data is saved locally in <code>/data/zmohaghegh/TempStats_3D-CNN/wandb/run-20210314_233827-ws75xwaf</code><br/><br/>\n",
       "            "
      ],
      "text/plain": [
       "<IPython.core.display.HTML object>"
      ]
     },
     "metadata": {},
     "output_type": "display_data"
    },
    {
     "name": "stdout",
     "output_type": "stream",
     "text": [
      "Starting epoch 1\n",
      "acc=48.78240377062058\n",
      "loss=0.07026221781114762\n",
      "Starting epoch 2\n",
      "acc=52.553024351924584\n",
      "loss=0.06947065786707\n",
      "Starting epoch 3\n",
      "acc=57.03063629222309\n",
      "loss=0.06794594799873008\n",
      "Starting epoch 4\n",
      "acc=59.937156323644935\n",
      "loss=0.06619683888386466\n",
      "Starting epoch 5\n",
      "acc=74.07698350353496\n",
      "loss=0.05632745086843872\n",
      "Starting epoch 6\n",
      "acc=82.79654359780046\n",
      "loss=0.03956267539067869\n",
      "Starting epoch 7\n",
      "acc=96.30793401413983\n",
      "loss=0.015998837386010874\n",
      "Starting epoch 8\n",
      "acc=98.90023566378633\n",
      "loss=0.006315710080493188\n",
      "Training process has finished\n"
     ]
    },
    {
     "data": {
      "text/html": [
       "<br/>Waiting for W&B process to finish, PID 28684<br/>Program ended successfully."
      ],
      "text/plain": [
       "<IPython.core.display.HTML object>"
      ]
     },
     "metadata": {},
     "output_type": "display_data"
    },
    {
     "data": {
      "application/vnd.jupyter.widget-view+json": {
       "model_id": "",
       "version_major": 2,
       "version_minor": 0
      },
      "text/plain": [
       "VBox(children=(Label(value=' 0.00MB of 0.00MB uploaded (0.00MB deduped)\\r'), FloatProgress(value=1.0, max=1.0)…"
      ]
     },
     "metadata": {},
     "output_type": "display_data"
    },
    {
     "data": {
      "text/html": [
       "Find user logs for this run at: <code>/data/zmohaghegh/TempStats_3D-CNN/wandb/run-20210314_233827-ws75xwaf/logs/debug.log</code>"
      ],
      "text/plain": [
       "<IPython.core.display.HTML object>"
      ]
     },
     "metadata": {},
     "output_type": "display_data"
    },
    {
     "data": {
      "text/html": [
       "Find internal logs for this run at: <code>/data/zmohaghegh/TempStats_3D-CNN/wandb/run-20210314_233827-ws75xwaf/logs/debug-internal.log</code>"
      ],
      "text/plain": [
       "<IPython.core.display.HTML object>"
      ]
     },
     "metadata": {},
     "output_type": "display_data"
    },
    {
     "data": {
      "text/html": [
       "<h3>Run summary:</h3><br/><style>\n",
       "    table.wandb td:nth-child(1) { padding: 0 10px; text-align: right }\n",
       "    </style><table class=\"wandb\">\n",
       "<tr><td>epoch</td><td>7</td></tr><tr><td>train_Loss_falff</td><td>0.00632</td></tr><tr><td>train_acc_falff </td><td>98.90024</td></tr><tr><td>_runtime</td><td>4295</td></tr><tr><td>_timestamp</td><td>1615765802</td></tr><tr><td>_step</td><td>7</td></tr></table>"
      ],
      "text/plain": [
       "<IPython.core.display.HTML object>"
      ]
     },
     "metadata": {},
     "output_type": "display_data"
    },
    {
     "data": {
      "text/html": [
       "<h3>Run history:</h3><br/><style>\n",
       "    table.wandb td:nth-child(1) { padding: 0 10px; text-align: right }\n",
       "    </style><table class=\"wandb\">\n",
       "<tr><td>epoch</td><td>▁▂▃▄▅▆▇█</td></tr><tr><td>train_Loss_falff</td><td>████▆▅▂▁</td></tr><tr><td>train_acc_falff </td><td>▁▂▂▃▅▆██</td></tr><tr><td>_runtime</td><td>▁▂▃▄▅▆▇█</td></tr><tr><td>_timestamp</td><td>▁▂▃▄▅▆▇█</td></tr><tr><td>_step</td><td>▁▂▃▄▅▆▇█</td></tr></table><br/>"
      ],
      "text/plain": [
       "<IPython.core.display.HTML object>"
      ]
     },
     "metadata": {},
     "output_type": "display_data"
    },
    {
     "data": {
      "text/html": [
       "Synced 5 W&B file(s), 0 media file(s), 0 artifact file(s) and 0 other file(s)"
      ],
      "text/plain": [
       "<IPython.core.display.HTML object>"
      ]
     },
     "metadata": {},
     "output_type": "display_data"
    },
    {
     "data": {
      "text/html": [
       "\n",
       "                    <br/>Synced <strong style=\"color:#cdcd00\">dark-sweep-22</strong>: <a href=\"https://wandb.ai/zahramhn/classifier-falff-sweep-hyper-parameter/runs/ws75xwaf\" target=\"_blank\">https://wandb.ai/zahramhn/classifier-falff-sweep-hyper-parameter/runs/ws75xwaf</a><br/>\n",
       "                "
      ],
      "text/plain": [
       "<IPython.core.display.HTML object>"
      ]
     },
     "metadata": {},
     "output_type": "display_data"
    },
    {
     "name": "stderr",
     "output_type": "stream",
     "text": [
      "\u001b[34m\u001b[1mwandb\u001b[0m: Agent Starting Run: lvivv6c2 with config:\n",
      "\u001b[34m\u001b[1mwandb\u001b[0m: \tbatch_size: 64\n",
      "\u001b[34m\u001b[1mwandb\u001b[0m: \tepochs: 20\n",
      "\u001b[34m\u001b[1mwandb\u001b[0m: \tlearning_rate: 0.001\n",
      "\u001b[34m\u001b[1mwandb\u001b[0m: \u001b[33mWARNING\u001b[0m Ignored wandb.init() arg project when running a sweep\n"
     ]
    },
    {
     "data": {
      "text/html": [
       "\n",
       "                Tracking run with wandb version 0.10.20<br/>\n",
       "                Syncing run <strong style=\"color:#cdcd00\">apricot-sweep-23</strong> to <a href=\"https://wandb.ai\" target=\"_blank\">Weights & Biases</a> <a href=\"https://docs.wandb.com/integrations/jupyter.html\" target=\"_blank\">(Documentation)</a>.<br/>\n",
       "                Project page: <a href=\"https://wandb.ai/zahramhn/classifier-falff-sweep-hyper-parameter\" target=\"_blank\">https://wandb.ai/zahramhn/classifier-falff-sweep-hyper-parameter</a><br/>\n",
       "                Sweep page: <a href=\"https://wandb.ai/zahramhn/classifier-falff-sweep-hyper-parameter/sweeps/hfinfn2b\" target=\"_blank\">https://wandb.ai/zahramhn/classifier-falff-sweep-hyper-parameter/sweeps/hfinfn2b</a><br/>\n",
       "Run page: <a href=\"https://wandb.ai/zahramhn/classifier-falff-sweep-hyper-parameter/runs/lvivv6c2\" target=\"_blank\">https://wandb.ai/zahramhn/classifier-falff-sweep-hyper-parameter/runs/lvivv6c2</a><br/>\n",
       "                Run data is saved locally in <code>/data/zmohaghegh/TempStats_3D-CNN/wandb/run-20210315_005006-lvivv6c2</code><br/><br/>\n",
       "            "
      ],
      "text/plain": [
       "<IPython.core.display.HTML object>"
      ]
     },
     "metadata": {},
     "output_type": "display_data"
    },
    {
     "name": "stdout",
     "output_type": "stream",
     "text": [
      "Starting epoch 1\n",
      "acc=49.96072270227808\n",
      "loss=0.010990131433300658\n",
      "Starting epoch 2\n",
      "acc=52.00314218381775\n",
      "loss=0.010888382662776485\n",
      "Starting epoch 3\n",
      "acc=52.317360565593084\n",
      "loss=0.010895550036074576\n",
      "Starting epoch 4\n",
      "acc=52.317360565593084\n",
      "loss=0.010761494710331757\n",
      "Starting epoch 5\n",
      "acc=55.53809897879026\n",
      "loss=0.010690205583926464\n",
      "Starting epoch 6\n",
      "acc=54.90966221523959\n",
      "loss=0.010575039562330954\n",
      "Starting epoch 7\n",
      "acc=65.35742340926944\n",
      "loss=0.010360700059056335\n",
      "Starting epoch 8\n",
      "acc=68.10683424980361\n",
      "loss=0.010210561443209379\n",
      "Starting epoch 9\n",
      "acc=68.42105263157895\n",
      "loss=0.009927781609725747\n",
      "Starting epoch 10\n",
      "acc=67.47839748625294\n",
      "loss=0.00973803931571199\n",
      "Starting epoch 11\n",
      "acc=71.95600942655145\n",
      "loss=0.009408741229429795\n",
      "Starting epoch 12\n",
      "acc=79.1044776119403\n",
      "loss=0.008859072405307818\n",
      "Starting epoch 13\n",
      "acc=80.2827965435978\n",
      "loss=0.00842354958859596\n",
      "Starting epoch 14\n",
      "acc=81.6967792615868\n",
      "loss=0.00780991371886942\n",
      "Starting epoch 15\n",
      "acc=88.76669285153181\n",
      "loss=0.006941406796312734\n",
      "Starting epoch 16\n",
      "acc=87.74548311076198\n",
      "loss=0.0062696396330867675\n",
      "Starting epoch 17\n",
      "acc=87.11704634721131\n",
      "loss=0.005745845374891148\n",
      "Starting epoch 18\n",
      "acc=92.77297721916732\n",
      "loss=0.004680326645010599\n",
      "Starting epoch 19\n",
      "acc=97.32914375490967\n",
      "loss=0.003563939345967527\n",
      "Starting epoch 20\n",
      "acc=98.90023566378633\n",
      "loss=0.002725084475658005\n",
      "Training process has finished\n"
     ]
    },
    {
     "data": {
      "text/html": [
       "<br/>Waiting for W&B process to finish, PID 41597<br/>Program ended successfully."
      ],
      "text/plain": [
       "<IPython.core.display.HTML object>"
      ]
     },
     "metadata": {},
     "output_type": "display_data"
    },
    {
     "data": {
      "application/vnd.jupyter.widget-view+json": {
       "model_id": "",
       "version_major": 2,
       "version_minor": 0
      },
      "text/plain": [
       "VBox(children=(Label(value=' 0.00MB of 0.00MB uploaded (0.00MB deduped)\\r'), FloatProgress(value=1.0, max=1.0)…"
      ]
     },
     "metadata": {},
     "output_type": "display_data"
    },
    {
     "data": {
      "text/html": [
       "Find user logs for this run at: <code>/data/zmohaghegh/TempStats_3D-CNN/wandb/run-20210315_005006-lvivv6c2/logs/debug.log</code>"
      ],
      "text/plain": [
       "<IPython.core.display.HTML object>"
      ]
     },
     "metadata": {},
     "output_type": "display_data"
    },
    {
     "data": {
      "text/html": [
       "Find internal logs for this run at: <code>/data/zmohaghegh/TempStats_3D-CNN/wandb/run-20210315_005006-lvivv6c2/logs/debug-internal.log</code>"
      ],
      "text/plain": [
       "<IPython.core.display.HTML object>"
      ]
     },
     "metadata": {},
     "output_type": "display_data"
    },
    {
     "data": {
      "text/html": [
       "<h3>Run summary:</h3><br/><style>\n",
       "    table.wandb td:nth-child(1) { padding: 0 10px; text-align: right }\n",
       "    </style><table class=\"wandb\">\n",
       "<tr><td>epoch</td><td>19</td></tr><tr><td>train_Loss_falff</td><td>0.00273</td></tr><tr><td>train_acc_falff </td><td>98.90024</td></tr><tr><td>_runtime</td><td>20664</td></tr><tr><td>_timestamp</td><td>1615786470</td></tr><tr><td>_step</td><td>19</td></tr></table>"
      ],
      "text/plain": [
       "<IPython.core.display.HTML object>"
      ]
     },
     "metadata": {},
     "output_type": "display_data"
    },
    {
     "data": {
      "text/html": [
       "<h3>Run history:</h3><br/><style>\n",
       "    table.wandb td:nth-child(1) { padding: 0 10px; text-align: right }\n",
       "    </style><table class=\"wandb\">\n",
       "<tr><td>epoch</td><td>▁▁▂▂▂▃▃▄▄▄▅▅▅▆▆▇▇▇██</td></tr><tr><td>train_Loss_falff</td><td>██████▇▇▇▇▇▆▆▅▅▄▄▃▂▁</td></tr><tr><td>train_acc_falff </td><td>▁▁▁▁▂▂▃▄▄▄▄▅▅▆▇▆▆▇██</td></tr><tr><td>_runtime</td><td>▁▁▂▂▂▃▃▄▄▄▅▅▅▆▆▇▇▇██</td></tr><tr><td>_timestamp</td><td>▁▁▂▂▂▃▃▄▄▄▅▅▅▆▆▇▇▇██</td></tr><tr><td>_step</td><td>▁▁▂▂▂▃▃▄▄▄▅▅▅▆▆▇▇▇██</td></tr></table><br/>"
      ],
      "text/plain": [
       "<IPython.core.display.HTML object>"
      ]
     },
     "metadata": {},
     "output_type": "display_data"
    },
    {
     "data": {
      "text/html": [
       "Synced 5 W&B file(s), 0 media file(s), 0 artifact file(s) and 0 other file(s)"
      ],
      "text/plain": [
       "<IPython.core.display.HTML object>"
      ]
     },
     "metadata": {},
     "output_type": "display_data"
    },
    {
     "data": {
      "text/html": [
       "\n",
       "                    <br/>Synced <strong style=\"color:#cdcd00\">apricot-sweep-23</strong>: <a href=\"https://wandb.ai/zahramhn/classifier-falff-sweep-hyper-parameter/runs/lvivv6c2\" target=\"_blank\">https://wandb.ai/zahramhn/classifier-falff-sweep-hyper-parameter/runs/lvivv6c2</a><br/>\n",
       "                "
      ],
      "text/plain": [
       "<IPython.core.display.HTML object>"
      ]
     },
     "metadata": {},
     "output_type": "display_data"
    },
    {
     "name": "stderr",
     "output_type": "stream",
     "text": [
      "\u001b[34m\u001b[1mwandb\u001b[0m: Agent Starting Run: 6ysmh819 with config:\n",
      "\u001b[34m\u001b[1mwandb\u001b[0m: \tbatch_size: 32\n",
      "\u001b[34m\u001b[1mwandb\u001b[0m: \tepochs: 8\n",
      "\u001b[34m\u001b[1mwandb\u001b[0m: \tlearning_rate: 0.01\n",
      "\u001b[34m\u001b[1mwandb\u001b[0m: \u001b[33mWARNING\u001b[0m Ignored wandb.init() arg project when running a sweep\n"
     ]
    },
    {
     "data": {
      "text/html": [
       "\n",
       "                Tracking run with wandb version 0.10.20<br/>\n",
       "                Syncing run <strong style=\"color:#cdcd00\">winter-sweep-24</strong> to <a href=\"https://wandb.ai\" target=\"_blank\">Weights & Biases</a> <a href=\"https://docs.wandb.com/integrations/jupyter.html\" target=\"_blank\">(Documentation)</a>.<br/>\n",
       "                Project page: <a href=\"https://wandb.ai/zahramhn/classifier-falff-sweep-hyper-parameter\" target=\"_blank\">https://wandb.ai/zahramhn/classifier-falff-sweep-hyper-parameter</a><br/>\n",
       "                Sweep page: <a href=\"https://wandb.ai/zahramhn/classifier-falff-sweep-hyper-parameter/sweeps/hfinfn2b\" target=\"_blank\">https://wandb.ai/zahramhn/classifier-falff-sweep-hyper-parameter/sweeps/hfinfn2b</a><br/>\n",
       "Run page: <a href=\"https://wandb.ai/zahramhn/classifier-falff-sweep-hyper-parameter/runs/6ysmh819\" target=\"_blank\">https://wandb.ai/zahramhn/classifier-falff-sweep-hyper-parameter/runs/6ysmh819</a><br/>\n",
       "                Run data is saved locally in <code>/data/zmohaghegh/TempStats_3D-CNN/wandb/run-20210315_063434-6ysmh819</code><br/><br/>\n",
       "            "
      ],
      "text/plain": [
       "<IPython.core.display.HTML object>"
      ]
     },
     "metadata": {},
     "output_type": "display_data"
    },
    {
     "name": "stdout",
     "output_type": "stream",
     "text": [
      "Starting epoch 1\n",
      "acc=50.903377847604084\n",
      "loss=0.02193665174450658\n",
      "Starting epoch 2\n",
      "acc=54.988216810683426\n",
      "loss=0.021697184283946486\n",
      "Starting epoch 3\n",
      "acc=50.03927729772192\n",
      "loss=0.02189648539310292\n",
      "Starting epoch 4\n",
      "acc=49.56794972505892\n",
      "loss=0.02192007228117056\n",
      "Starting epoch 5\n",
      "acc=52.16025137470542\n",
      "loss=0.021749788883356172\n",
      "Starting epoch 6\n",
      "acc=56.95208169677926\n",
      "loss=0.02141597812319152\n",
      "Starting epoch 7\n",
      "acc=63.1578947368421\n",
      "loss=0.020238094250542175\n",
      "Starting epoch 8\n",
      "acc=71.01335428122545\n",
      "loss=0.018044730374824777\n",
      "Training process has finished\n"
     ]
    },
    {
     "data": {
      "text/html": [
       "<br/>Waiting for W&B process to finish, PID 19500<br/>Program ended successfully."
      ],
      "text/plain": [
       "<IPython.core.display.HTML object>"
      ]
     },
     "metadata": {},
     "output_type": "display_data"
    },
    {
     "data": {
      "application/vnd.jupyter.widget-view+json": {
       "model_id": "",
       "version_major": 2,
       "version_minor": 0
      },
      "text/plain": [
       "VBox(children=(Label(value=' 0.00MB of 0.00MB uploaded (0.00MB deduped)\\r'), FloatProgress(value=1.0, max=1.0)…"
      ]
     },
     "metadata": {},
     "output_type": "display_data"
    },
    {
     "data": {
      "text/html": [
       "Find user logs for this run at: <code>/data/zmohaghegh/TempStats_3D-CNN/wandb/run-20210315_063434-6ysmh819/logs/debug.log</code>"
      ],
      "text/plain": [
       "<IPython.core.display.HTML object>"
      ]
     },
     "metadata": {},
     "output_type": "display_data"
    },
    {
     "data": {
      "text/html": [
       "Find internal logs for this run at: <code>/data/zmohaghegh/TempStats_3D-CNN/wandb/run-20210315_063434-6ysmh819/logs/debug-internal.log</code>"
      ],
      "text/plain": [
       "<IPython.core.display.HTML object>"
      ]
     },
     "metadata": {},
     "output_type": "display_data"
    },
    {
     "data": {
      "text/html": [
       "<h3>Run summary:</h3><br/><style>\n",
       "    table.wandb td:nth-child(1) { padding: 0 10px; text-align: right }\n",
       "    </style><table class=\"wandb\">\n",
       "<tr><td>epoch</td><td>7</td></tr><tr><td>train_Loss_falff</td><td>0.01804</td></tr><tr><td>train_acc_falff </td><td>71.01335</td></tr><tr><td>_runtime</td><td>9682</td></tr><tr><td>_timestamp</td><td>1615796157</td></tr><tr><td>_step</td><td>7</td></tr></table>"
      ],
      "text/plain": [
       "<IPython.core.display.HTML object>"
      ]
     },
     "metadata": {},
     "output_type": "display_data"
    },
    {
     "data": {
      "text/html": [
       "<h3>Run history:</h3><br/><style>\n",
       "    table.wandb td:nth-child(1) { padding: 0 10px; text-align: right }\n",
       "    </style><table class=\"wandb\">\n",
       "<tr><td>epoch</td><td>▁▂▃▄▅▆▇█</td></tr><tr><td>train_Loss_falff</td><td>█████▇▅▁</td></tr><tr><td>train_acc_falff </td><td>▁▃▁▁▂▃▅█</td></tr><tr><td>_runtime</td><td>▁▂▃▄▅▆▇█</td></tr><tr><td>_timestamp</td><td>▁▂▃▄▅▆▇█</td></tr><tr><td>_step</td><td>▁▂▃▄▅▆▇█</td></tr></table><br/>"
      ],
      "text/plain": [
       "<IPython.core.display.HTML object>"
      ]
     },
     "metadata": {},
     "output_type": "display_data"
    },
    {
     "data": {
      "text/html": [
       "Synced 5 W&B file(s), 0 media file(s), 0 artifact file(s) and 0 other file(s)"
      ],
      "text/plain": [
       "<IPython.core.display.HTML object>"
      ]
     },
     "metadata": {},
     "output_type": "display_data"
    },
    {
     "data": {
      "text/html": [
       "\n",
       "                    <br/>Synced <strong style=\"color:#cdcd00\">winter-sweep-24</strong>: <a href=\"https://wandb.ai/zahramhn/classifier-falff-sweep-hyper-parameter/runs/6ysmh819\" target=\"_blank\">https://wandb.ai/zahramhn/classifier-falff-sweep-hyper-parameter/runs/6ysmh819</a><br/>\n",
       "                "
      ],
      "text/plain": [
       "<IPython.core.display.HTML object>"
      ]
     },
     "metadata": {},
     "output_type": "display_data"
    },
    {
     "name": "stderr",
     "output_type": "stream",
     "text": [
      "\u001b[34m\u001b[1mwandb\u001b[0m: Agent Starting Run: cfdow5ff with config:\n",
      "\u001b[34m\u001b[1mwandb\u001b[0m: \tbatch_size: 10\n",
      "\u001b[34m\u001b[1mwandb\u001b[0m: \tepochs: 8\n",
      "\u001b[34m\u001b[1mwandb\u001b[0m: \tlearning_rate: 0.001\n",
      "\u001b[34m\u001b[1mwandb\u001b[0m: \u001b[33mWARNING\u001b[0m Ignored wandb.init() arg project when running a sweep\n"
     ]
    },
    {
     "data": {
      "text/html": [
       "\n",
       "                Tracking run with wandb version 0.10.20<br/>\n",
       "                Syncing run <strong style=\"color:#cdcd00\">neat-sweep-25</strong> to <a href=\"https://wandb.ai\" target=\"_blank\">Weights & Biases</a> <a href=\"https://docs.wandb.com/integrations/jupyter.html\" target=\"_blank\">(Documentation)</a>.<br/>\n",
       "                Project page: <a href=\"https://wandb.ai/zahramhn/classifier-falff-sweep-hyper-parameter\" target=\"_blank\">https://wandb.ai/zahramhn/classifier-falff-sweep-hyper-parameter</a><br/>\n",
       "                Sweep page: <a href=\"https://wandb.ai/zahramhn/classifier-falff-sweep-hyper-parameter/sweeps/hfinfn2b\" target=\"_blank\">https://wandb.ai/zahramhn/classifier-falff-sweep-hyper-parameter/sweeps/hfinfn2b</a><br/>\n",
       "Run page: <a href=\"https://wandb.ai/zahramhn/classifier-falff-sweep-hyper-parameter/runs/cfdow5ff\" target=\"_blank\">https://wandb.ai/zahramhn/classifier-falff-sweep-hyper-parameter/runs/cfdow5ff</a><br/>\n",
       "                Run data is saved locally in <code>/data/zmohaghegh/TempStats_3D-CNN/wandb/run-20210315_091600-cfdow5ff</code><br/><br/>\n",
       "            "
      ],
      "text/plain": [
       "<IPython.core.display.HTML object>"
      ]
     },
     "metadata": {},
     "output_type": "display_data"
    },
    {
     "name": "stdout",
     "output_type": "stream",
     "text": [
      "Starting epoch 1\n",
      "acc=50.43205027494108\n",
      "loss=0.07081379918738469\n",
      "Starting epoch 2\n",
      "acc=55.459544383346426\n",
      "loss=0.06867837910424539\n",
      "Starting epoch 3\n",
      "acc=58.4446190102121\n",
      "loss=0.06711268406061277\n",
      "Starting epoch 4\n",
      "acc=70.07069913589945\n",
      "loss=0.05981977369072713\n",
      "Starting epoch 5\n",
      "acc=82.95365278868813\n",
      "loss=0.043967018945406715\n",
      "Starting epoch 6\n",
      "acc=96.4650432050275\n",
      "loss=0.017416457582338372\n",
      "Starting epoch 7\n",
      "acc=99.528672427337\n",
      "loss=0.005503974083933586\n",
      "Starting epoch 8\n",
      "acc=99.84289080911233\n",
      "loss=0.0020533791430110675\n",
      "Training process has finished\n"
     ]
    },
    {
     "data": {
      "text/html": [
       "<br/>Waiting for W&B process to finish, PID 38649<br/>Program ended successfully."
      ],
      "text/plain": [
       "<IPython.core.display.HTML object>"
      ]
     },
     "metadata": {},
     "output_type": "display_data"
    },
    {
     "data": {
      "application/vnd.jupyter.widget-view+json": {
       "model_id": "",
       "version_major": 2,
       "version_minor": 0
      },
      "text/plain": [
       "VBox(children=(Label(value=' 0.00MB of 0.00MB uploaded (0.00MB deduped)\\r'), FloatProgress(value=1.0, max=1.0)…"
      ]
     },
     "metadata": {},
     "output_type": "display_data"
    },
    {
     "data": {
      "text/html": [
       "Find user logs for this run at: <code>/data/zmohaghegh/TempStats_3D-CNN/wandb/run-20210315_091600-cfdow5ff/logs/debug.log</code>"
      ],
      "text/plain": [
       "<IPython.core.display.HTML object>"
      ]
     },
     "metadata": {},
     "output_type": "display_data"
    },
    {
     "data": {
      "text/html": [
       "Find internal logs for this run at: <code>/data/zmohaghegh/TempStats_3D-CNN/wandb/run-20210315_091600-cfdow5ff/logs/debug-internal.log</code>"
      ],
      "text/plain": [
       "<IPython.core.display.HTML object>"
      ]
     },
     "metadata": {},
     "output_type": "display_data"
    },
    {
     "data": {
      "text/html": [
       "<h3>Run summary:</h3><br/><style>\n",
       "    table.wandb td:nth-child(1) { padding: 0 10px; text-align: right }\n",
       "    </style><table class=\"wandb\">\n",
       "<tr><td>epoch</td><td>7</td></tr><tr><td>train_Loss_falff</td><td>0.00205</td></tr><tr><td>train_acc_falff </td><td>99.84289</td></tr><tr><td>_runtime</td><td>4217</td></tr><tr><td>_timestamp</td><td>1615800378</td></tr><tr><td>_step</td><td>7</td></tr></table>"
      ],
      "text/plain": [
       "<IPython.core.display.HTML object>"
      ]
     },
     "metadata": {},
     "output_type": "display_data"
    },
    {
     "data": {
      "text/html": [
       "<h3>Run history:</h3><br/><style>\n",
       "    table.wandb td:nth-child(1) { padding: 0 10px; text-align: right }\n",
       "    </style><table class=\"wandb\">\n",
       "<tr><td>epoch</td><td>▁▂▃▄▅▆▇█</td></tr><tr><td>train_Loss_falff</td><td>███▇▅▃▁▁</td></tr><tr><td>train_acc_falff </td><td>▁▂▂▄▆███</td></tr><tr><td>_runtime</td><td>▁▂▃▄▅▆▇█</td></tr><tr><td>_timestamp</td><td>▁▂▃▄▅▆▇█</td></tr><tr><td>_step</td><td>▁▂▃▄▅▆▇█</td></tr></table><br/>"
      ],
      "text/plain": [
       "<IPython.core.display.HTML object>"
      ]
     },
     "metadata": {},
     "output_type": "display_data"
    },
    {
     "data": {
      "text/html": [
       "Synced 5 W&B file(s), 0 media file(s), 0 artifact file(s) and 0 other file(s)"
      ],
      "text/plain": [
       "<IPython.core.display.HTML object>"
      ]
     },
     "metadata": {},
     "output_type": "display_data"
    },
    {
     "data": {
      "text/html": [
       "\n",
       "                    <br/>Synced <strong style=\"color:#cdcd00\">neat-sweep-25</strong>: <a href=\"https://wandb.ai/zahramhn/classifier-falff-sweep-hyper-parameter/runs/cfdow5ff\" target=\"_blank\">https://wandb.ai/zahramhn/classifier-falff-sweep-hyper-parameter/runs/cfdow5ff</a><br/>\n",
       "                "
      ],
      "text/plain": [
       "<IPython.core.display.HTML object>"
      ]
     },
     "metadata": {},
     "output_type": "display_data"
    },
    {
     "name": "stderr",
     "output_type": "stream",
     "text": [
      "\u001b[34m\u001b[1mwandb\u001b[0m: Agent Starting Run: owcpdc6w with config:\n",
      "\u001b[34m\u001b[1mwandb\u001b[0m: \tbatch_size: 10\n",
      "\u001b[34m\u001b[1mwandb\u001b[0m: \tepochs: 10\n",
      "\u001b[34m\u001b[1mwandb\u001b[0m: \tlearning_rate: 0.0001\n",
      "\u001b[34m\u001b[1mwandb\u001b[0m: \u001b[33mWARNING\u001b[0m Ignored wandb.init() arg project when running a sweep\n"
     ]
    },
    {
     "data": {
      "text/html": [
       "\n",
       "                Tracking run with wandb version 0.10.20<br/>\n",
       "                Syncing run <strong style=\"color:#cdcd00\">treasured-sweep-26</strong> to <a href=\"https://wandb.ai\" target=\"_blank\">Weights & Biases</a> <a href=\"https://docs.wandb.com/integrations/jupyter.html\" target=\"_blank\">(Documentation)</a>.<br/>\n",
       "                Project page: <a href=\"https://wandb.ai/zahramhn/classifier-falff-sweep-hyper-parameter\" target=\"_blank\">https://wandb.ai/zahramhn/classifier-falff-sweep-hyper-parameter</a><br/>\n",
       "                Sweep page: <a href=\"https://wandb.ai/zahramhn/classifier-falff-sweep-hyper-parameter/sweeps/hfinfn2b\" target=\"_blank\">https://wandb.ai/zahramhn/classifier-falff-sweep-hyper-parameter/sweeps/hfinfn2b</a><br/>\n",
       "Run page: <a href=\"https://wandb.ai/zahramhn/classifier-falff-sweep-hyper-parameter/runs/owcpdc6w\" target=\"_blank\">https://wandb.ai/zahramhn/classifier-falff-sweep-hyper-parameter/runs/owcpdc6w</a><br/>\n",
       "                Run data is saved locally in <code>/data/zmohaghegh/TempStats_3D-CNN/wandb/run-20210315_102622-owcpdc6w</code><br/><br/>\n",
       "            "
      ],
      "text/plain": [
       "<IPython.core.display.HTML object>"
      ]
     },
     "metadata": {},
     "output_type": "display_data"
    },
    {
     "name": "stdout",
     "output_type": "stream",
     "text": [
      "Starting epoch 1\n",
      "acc=53.26001571091909\n",
      "loss=0.06958996586524493\n",
      "Starting epoch 2\n",
      "acc=53.102906520031425\n",
      "loss=0.06932467128127522\n",
      "Starting epoch 3\n",
      "acc=55.38098978790259\n",
      "loss=0.06889707099368753\n",
      "Starting epoch 4\n",
      "acc=60.879811468970935\n",
      "loss=0.06776348006676286\n",
      "Starting epoch 5\n",
      "acc=59.3872741555381\n",
      "loss=0.06713966777171342\n",
      "Starting epoch 6\n",
      "acc=62.37234878240377\n",
      "loss=0.0660910012980906\n",
      "Starting epoch 7\n",
      "acc=67.24273369992144\n",
      "loss=0.06460503605790528\n",
      "Starting epoch 8\n",
      "acc=71.48468185388845\n",
      "loss=0.06330232354079528\n",
      "Starting epoch 9\n",
      "acc=72.58444619010213\n",
      "loss=0.06153259400075689\n",
      "Starting epoch 10\n",
      "acc=75.8051846032993\n",
      "loss=0.06013691039631197\n",
      "Training process has finished\n"
     ]
    },
    {
     "data": {
      "text/html": [
       "<br/>Waiting for W&B process to finish, PID 51841<br/>Program ended successfully."
      ],
      "text/plain": [
       "<IPython.core.display.HTML object>"
      ]
     },
     "metadata": {},
     "output_type": "display_data"
    },
    {
     "data": {
      "application/vnd.jupyter.widget-view+json": {
       "model_id": "",
       "version_major": 2,
       "version_minor": 0
      },
      "text/plain": [
       "VBox(children=(Label(value=' 0.00MB of 0.00MB uploaded (0.00MB deduped)\\r'), FloatProgress(value=1.0, max=1.0)…"
      ]
     },
     "metadata": {},
     "output_type": "display_data"
    },
    {
     "data": {
      "text/html": [
       "Find user logs for this run at: <code>/data/zmohaghegh/TempStats_3D-CNN/wandb/run-20210315_102622-owcpdc6w/logs/debug.log</code>"
      ],
      "text/plain": [
       "<IPython.core.display.HTML object>"
      ]
     },
     "metadata": {},
     "output_type": "display_data"
    },
    {
     "data": {
      "text/html": [
       "Find internal logs for this run at: <code>/data/zmohaghegh/TempStats_3D-CNN/wandb/run-20210315_102622-owcpdc6w/logs/debug-internal.log</code>"
      ],
      "text/plain": [
       "<IPython.core.display.HTML object>"
      ]
     },
     "metadata": {},
     "output_type": "display_data"
    },
    {
     "data": {
      "text/html": [
       "<h3>Run summary:</h3><br/><style>\n",
       "    table.wandb td:nth-child(1) { padding: 0 10px; text-align: right }\n",
       "    </style><table class=\"wandb\">\n",
       "<tr><td>epoch</td><td>9</td></tr><tr><td>train_Loss_falff</td><td>0.06014</td></tr><tr><td>train_acc_falff </td><td>75.80518</td></tr><tr><td>_runtime</td><td>5058</td></tr><tr><td>_timestamp</td><td>1615805440</td></tr><tr><td>_step</td><td>9</td></tr></table>"
      ],
      "text/plain": [
       "<IPython.core.display.HTML object>"
      ]
     },
     "metadata": {},
     "output_type": "display_data"
    },
    {
     "data": {
      "text/html": [
       "<h3>Run history:</h3><br/><style>\n",
       "    table.wandb td:nth-child(1) { padding: 0 10px; text-align: right }\n",
       "    </style><table class=\"wandb\">\n",
       "<tr><td>epoch</td><td>▁▂▃▃▄▅▆▆▇█</td></tr><tr><td>train_Loss_falff</td><td>██▇▇▆▅▄▃▂▁</td></tr><tr><td>train_acc_falff </td><td>▁▁▂▃▃▄▅▇▇█</td></tr><tr><td>_runtime</td><td>▁▂▃▃▄▅▆▆▇█</td></tr><tr><td>_timestamp</td><td>▁▂▃▃▄▅▆▆▇█</td></tr><tr><td>_step</td><td>▁▂▃▃▄▅▆▆▇█</td></tr></table><br/>"
      ],
      "text/plain": [
       "<IPython.core.display.HTML object>"
      ]
     },
     "metadata": {},
     "output_type": "display_data"
    },
    {
     "data": {
      "text/html": [
       "Synced 5 W&B file(s), 0 media file(s), 0 artifact file(s) and 0 other file(s)"
      ],
      "text/plain": [
       "<IPython.core.display.HTML object>"
      ]
     },
     "metadata": {},
     "output_type": "display_data"
    },
    {
     "data": {
      "text/html": [
       "\n",
       "                    <br/>Synced <strong style=\"color:#cdcd00\">treasured-sweep-26</strong>: <a href=\"https://wandb.ai/zahramhn/classifier-falff-sweep-hyper-parameter/runs/owcpdc6w\" target=\"_blank\">https://wandb.ai/zahramhn/classifier-falff-sweep-hyper-parameter/runs/owcpdc6w</a><br/>\n",
       "                "
      ],
      "text/plain": [
       "<IPython.core.display.HTML object>"
      ]
     },
     "metadata": {},
     "output_type": "display_data"
    },
    {
     "name": "stderr",
     "output_type": "stream",
     "text": [
      "\u001b[34m\u001b[1mwandb\u001b[0m: Agent Starting Run: w7jea02p with config:\n",
      "\u001b[34m\u001b[1mwandb\u001b[0m: \tbatch_size: 10\n",
      "\u001b[34m\u001b[1mwandb\u001b[0m: \tepochs: 8\n",
      "\u001b[34m\u001b[1mwandb\u001b[0m: \tlearning_rate: 0.0001\n",
      "\u001b[34m\u001b[1mwandb\u001b[0m: \u001b[33mWARNING\u001b[0m Ignored wandb.init() arg project when running a sweep\n"
     ]
    },
    {
     "data": {
      "text/html": [
       "\n",
       "                Tracking run with wandb version 0.10.20<br/>\n",
       "                Syncing run <strong style=\"color:#cdcd00\">pretty-sweep-27</strong> to <a href=\"https://wandb.ai\" target=\"_blank\">Weights & Biases</a> <a href=\"https://docs.wandb.com/integrations/jupyter.html\" target=\"_blank\">(Documentation)</a>.<br/>\n",
       "                Project page: <a href=\"https://wandb.ai/zahramhn/classifier-falff-sweep-hyper-parameter\" target=\"_blank\">https://wandb.ai/zahramhn/classifier-falff-sweep-hyper-parameter</a><br/>\n",
       "                Sweep page: <a href=\"https://wandb.ai/zahramhn/classifier-falff-sweep-hyper-parameter/sweeps/hfinfn2b\" target=\"_blank\">https://wandb.ai/zahramhn/classifier-falff-sweep-hyper-parameter/sweeps/hfinfn2b</a><br/>\n",
       "Run page: <a href=\"https://wandb.ai/zahramhn/classifier-falff-sweep-hyper-parameter/runs/w7jea02p\" target=\"_blank\">https://wandb.ai/zahramhn/classifier-falff-sweep-hyper-parameter/runs/w7jea02p</a><br/>\n",
       "                Run data is saved locally in <code>/data/zmohaghegh/TempStats_3D-CNN/wandb/run-20210315_115044-w7jea02p</code><br/><br/>\n",
       "            "
      ],
      "text/plain": [
       "<IPython.core.display.HTML object>"
      ]
     },
     "metadata": {},
     "output_type": "display_data"
    },
    {
     "name": "stdout",
     "output_type": "stream",
     "text": [
      "Starting epoch 1\n",
      "acc=49.96072270227808\n",
      "loss=0.07029966060866605\n",
      "Starting epoch 2\n",
      "acc=51.610369206598584\n",
      "loss=0.06962506102764277\n",
      "Starting epoch 3\n",
      "acc=57.18774548311076\n",
      "loss=0.0690870731683544\n",
      "Starting epoch 4\n",
      "acc=53.18146111547526\n",
      "loss=0.06896396108475951\n",
      "Starting epoch 5\n",
      "acc=58.60172820109977\n",
      "loss=0.06836851537738643\n",
      "Starting epoch 6\n",
      "acc=56.00942655145326\n",
      "loss=0.06845797493115668\n",
      "Starting epoch 7\n",
      "acc=62.37234878240377\n",
      "loss=0.06699076320836807\n",
      "Starting epoch 8\n",
      "acc=65.04320502749411\n",
      "loss=0.06637810413614113\n",
      "Training process has finished\n"
     ]
    },
    {
     "data": {
      "text/html": [
       "<br/>Waiting for W&B process to finish, PID 13275<br/>Program ended successfully."
      ],
      "text/plain": [
       "<IPython.core.display.HTML object>"
      ]
     },
     "metadata": {},
     "output_type": "display_data"
    },
    {
     "data": {
      "application/vnd.jupyter.widget-view+json": {
       "model_id": "",
       "version_major": 2,
       "version_minor": 0
      },
      "text/plain": [
       "VBox(children=(Label(value=' 0.00MB of 0.00MB uploaded (0.00MB deduped)\\r'), FloatProgress(value=1.0, max=1.0)…"
      ]
     },
     "metadata": {},
     "output_type": "display_data"
    },
    {
     "data": {
      "text/html": [
       "Find user logs for this run at: <code>/data/zmohaghegh/TempStats_3D-CNN/wandb/run-20210315_115044-w7jea02p/logs/debug.log</code>"
      ],
      "text/plain": [
       "<IPython.core.display.HTML object>"
      ]
     },
     "metadata": {},
     "output_type": "display_data"
    },
    {
     "data": {
      "text/html": [
       "Find internal logs for this run at: <code>/data/zmohaghegh/TempStats_3D-CNN/wandb/run-20210315_115044-w7jea02p/logs/debug-internal.log</code>"
      ],
      "text/plain": [
       "<IPython.core.display.HTML object>"
      ]
     },
     "metadata": {},
     "output_type": "display_data"
    },
    {
     "data": {
      "text/html": [
       "<h3>Run summary:</h3><br/><style>\n",
       "    table.wandb td:nth-child(1) { padding: 0 10px; text-align: right }\n",
       "    </style><table class=\"wandb\">\n",
       "<tr><td>epoch</td><td>7</td></tr><tr><td>train_Loss_falff</td><td>0.06638</td></tr><tr><td>train_acc_falff </td><td>65.04321</td></tr><tr><td>_runtime</td><td>4019</td></tr><tr><td>_timestamp</td><td>1615809463</td></tr><tr><td>_step</td><td>7</td></tr></table>"
      ],
      "text/plain": [
       "<IPython.core.display.HTML object>"
      ]
     },
     "metadata": {},
     "output_type": "display_data"
    },
    {
     "data": {
      "text/html": [
       "<h3>Run history:</h3><br/><style>\n",
       "    table.wandb td:nth-child(1) { padding: 0 10px; text-align: right }\n",
       "    </style><table class=\"wandb\">\n",
       "<tr><td>epoch</td><td>▁▂▃▄▅▆▇█</td></tr><tr><td>train_Loss_falff</td><td>█▇▆▆▅▅▂▁</td></tr><tr><td>train_acc_falff </td><td>▁▂▄▂▅▄▇█</td></tr><tr><td>_runtime</td><td>▁▂▃▄▅▆▇█</td></tr><tr><td>_timestamp</td><td>▁▂▃▄▅▆▇█</td></tr><tr><td>_step</td><td>▁▂▃▄▅▆▇█</td></tr></table><br/>"
      ],
      "text/plain": [
       "<IPython.core.display.HTML object>"
      ]
     },
     "metadata": {},
     "output_type": "display_data"
    },
    {
     "data": {
      "text/html": [
       "Synced 5 W&B file(s), 0 media file(s), 0 artifact file(s) and 0 other file(s)"
      ],
      "text/plain": [
       "<IPython.core.display.HTML object>"
      ]
     },
     "metadata": {},
     "output_type": "display_data"
    },
    {
     "data": {
      "text/html": [
       "\n",
       "                    <br/>Synced <strong style=\"color:#cdcd00\">pretty-sweep-27</strong>: <a href=\"https://wandb.ai/zahramhn/classifier-falff-sweep-hyper-parameter/runs/w7jea02p\" target=\"_blank\">https://wandb.ai/zahramhn/classifier-falff-sweep-hyper-parameter/runs/w7jea02p</a><br/>\n",
       "                "
      ],
      "text/plain": [
       "<IPython.core.display.HTML object>"
      ]
     },
     "metadata": {},
     "output_type": "display_data"
    },
    {
     "name": "stderr",
     "output_type": "stream",
     "text": [
      "\u001b[34m\u001b[1mwandb\u001b[0m: Sweep Agent: Waiting for job.\n",
      "\u001b[34m\u001b[1mwandb\u001b[0m: Job received.\n",
      "\u001b[34m\u001b[1mwandb\u001b[0m: Agent Starting Run: ogyw9ddh with config:\n",
      "\u001b[34m\u001b[1mwandb\u001b[0m: \tbatch_size: 32\n",
      "\u001b[34m\u001b[1mwandb\u001b[0m: \tepochs: 10\n",
      "\u001b[34m\u001b[1mwandb\u001b[0m: \tlearning_rate: 0.0001\n",
      "\u001b[34m\u001b[1mwandb\u001b[0m: \u001b[33mWARNING\u001b[0m Ignored wandb.init() arg project when running a sweep\n"
     ]
    },
    {
     "data": {
      "text/html": [
       "\n",
       "                Tracking run with wandb version 0.10.20<br/>\n",
       "                Syncing run <strong style=\"color:#cdcd00\">amber-sweep-28</strong> to <a href=\"https://wandb.ai\" target=\"_blank\">Weights & Biases</a> <a href=\"https://docs.wandb.com/integrations/jupyter.html\" target=\"_blank\">(Documentation)</a>.<br/>\n",
       "                Project page: <a href=\"https://wandb.ai/zahramhn/classifier-falff-sweep-hyper-parameter\" target=\"_blank\">https://wandb.ai/zahramhn/classifier-falff-sweep-hyper-parameter</a><br/>\n",
       "                Sweep page: <a href=\"https://wandb.ai/zahramhn/classifier-falff-sweep-hyper-parameter/sweeps/hfinfn2b\" target=\"_blank\">https://wandb.ai/zahramhn/classifier-falff-sweep-hyper-parameter/sweeps/hfinfn2b</a><br/>\n",
       "Run page: <a href=\"https://wandb.ai/zahramhn/classifier-falff-sweep-hyper-parameter/runs/ogyw9ddh\" target=\"_blank\">https://wandb.ai/zahramhn/classifier-falff-sweep-hyper-parameter/runs/ogyw9ddh</a><br/>\n",
       "                Run data is saved locally in <code>/data/zmohaghegh/TempStats_3D-CNN/wandb/run-20210315_125757-ogyw9ddh</code><br/><br/>\n",
       "            "
      ],
      "text/plain": [
       "<IPython.core.display.HTML object>"
      ]
     },
     "metadata": {},
     "output_type": "display_data"
    },
    {
     "name": "stdout",
     "output_type": "stream",
     "text": [
      "Starting epoch 1\n",
      "acc=49.48939512961508\n",
      "loss=0.0218129150862532\n",
      "Starting epoch 2\n",
      "acc=53.02435192458759\n",
      "loss=0.02175263609318038\n",
      "Starting epoch 3\n",
      "acc=50.51060487038492\n",
      "loss=0.02173615260475991\n",
      "Starting epoch 4\n",
      "acc=51.53181461115475\n",
      "loss=0.021714631756967705\n",
      "Starting epoch 5\n",
      "acc=54.43833464257659\n",
      "loss=0.021592820270631866\n",
      "Starting epoch 6\n",
      "acc=52.23880597014925\n",
      "loss=0.021552774982145834\n",
      "Starting epoch 7\n",
      "acc=65.90730557737628\n",
      "loss=0.021407048985396932\n",
      "Starting epoch 8\n",
      "acc=57.58051846032993\n",
      "loss=0.021458445166018622\n",
      "Starting epoch 9\n",
      "acc=64.02199528672428\n",
      "loss=0.021347474939290883\n",
      "Starting epoch 10\n",
      "acc=57.89473684210526\n",
      "loss=0.02126537400281521\n",
      "Training process has finished\n"
     ]
    },
    {
     "data": {
      "text/html": [
       "<br/>Waiting for W&B process to finish, PID 34323<br/>Program ended successfully."
      ],
      "text/plain": [
       "<IPython.core.display.HTML object>"
      ]
     },
     "metadata": {},
     "output_type": "display_data"
    },
    {
     "data": {
      "application/vnd.jupyter.widget-view+json": {
       "model_id": "",
       "version_major": 2,
       "version_minor": 0
      },
      "text/plain": [
       "VBox(children=(Label(value=' 0.00MB of 0.00MB uploaded (0.00MB deduped)\\r'), FloatProgress(value=1.0, max=1.0)…"
      ]
     },
     "metadata": {},
     "output_type": "display_data"
    },
    {
     "data": {
      "text/html": [
       "Find user logs for this run at: <code>/data/zmohaghegh/TempStats_3D-CNN/wandb/run-20210315_125757-ogyw9ddh/logs/debug.log</code>"
      ],
      "text/plain": [
       "<IPython.core.display.HTML object>"
      ]
     },
     "metadata": {},
     "output_type": "display_data"
    },
    {
     "data": {
      "text/html": [
       "Find internal logs for this run at: <code>/data/zmohaghegh/TempStats_3D-CNN/wandb/run-20210315_125757-ogyw9ddh/logs/debug-internal.log</code>"
      ],
      "text/plain": [
       "<IPython.core.display.HTML object>"
      ]
     },
     "metadata": {},
     "output_type": "display_data"
    },
    {
     "data": {
      "text/html": [
       "<h3>Run summary:</h3><br/><style>\n",
       "    table.wandb td:nth-child(1) { padding: 0 10px; text-align: right }\n",
       "    </style><table class=\"wandb\">\n",
       "<tr><td>epoch</td><td>9</td></tr><tr><td>train_Loss_falff</td><td>0.02127</td></tr><tr><td>train_acc_falff </td><td>57.89474</td></tr><tr><td>_runtime</td><td>11577</td></tr><tr><td>_timestamp</td><td>1615821054</td></tr><tr><td>_step</td><td>9</td></tr></table>"
      ],
      "text/plain": [
       "<IPython.core.display.HTML object>"
      ]
     },
     "metadata": {},
     "output_type": "display_data"
    },
    {
     "data": {
      "text/html": [
       "<h3>Run history:</h3><br/><style>\n",
       "    table.wandb td:nth-child(1) { padding: 0 10px; text-align: right }\n",
       "    </style><table class=\"wandb\">\n",
       "<tr><td>epoch</td><td>▁▂▃▃▄▅▆▆▇█</td></tr><tr><td>train_Loss_falff</td><td>█▇▇▇▅▅▃▃▂▁</td></tr><tr><td>train_acc_falff </td><td>▁▃▁▂▃▂█▄▇▅</td></tr><tr><td>_runtime</td><td>▁▂▃▃▄▅▆▆▇█</td></tr><tr><td>_timestamp</td><td>▁▂▃▃▄▅▆▆▇█</td></tr><tr><td>_step</td><td>▁▂▃▃▄▅▆▆▇█</td></tr></table><br/>"
      ],
      "text/plain": [
       "<IPython.core.display.HTML object>"
      ]
     },
     "metadata": {},
     "output_type": "display_data"
    },
    {
     "data": {
      "text/html": [
       "Synced 5 W&B file(s), 0 media file(s), 0 artifact file(s) and 0 other file(s)"
      ],
      "text/plain": [
       "<IPython.core.display.HTML object>"
      ]
     },
     "metadata": {},
     "output_type": "display_data"
    },
    {
     "data": {
      "text/html": [
       "\n",
       "                    <br/>Synced <strong style=\"color:#cdcd00\">amber-sweep-28</strong>: <a href=\"https://wandb.ai/zahramhn/classifier-falff-sweep-hyper-parameter/runs/ogyw9ddh\" target=\"_blank\">https://wandb.ai/zahramhn/classifier-falff-sweep-hyper-parameter/runs/ogyw9ddh</a><br/>\n",
       "                "
      ],
      "text/plain": [
       "<IPython.core.display.HTML object>"
      ]
     },
     "metadata": {},
     "output_type": "display_data"
    },
    {
     "name": "stderr",
     "output_type": "stream",
     "text": [
      "\u001b[34m\u001b[1mwandb\u001b[0m: Agent Starting Run: rog9rlb8 with config:\n",
      "\u001b[34m\u001b[1mwandb\u001b[0m: \tbatch_size: 32\n",
      "\u001b[34m\u001b[1mwandb\u001b[0m: \tepochs: 20\n",
      "\u001b[34m\u001b[1mwandb\u001b[0m: \tlearning_rate: 0.001\n",
      "\u001b[34m\u001b[1mwandb\u001b[0m: \u001b[33mWARNING\u001b[0m Ignored wandb.init() arg project when running a sweep\n"
     ]
    },
    {
     "data": {
      "text/html": [
       "\n",
       "                Tracking run with wandb version 0.10.20<br/>\n",
       "                Syncing run <strong style=\"color:#cdcd00\">dashing-sweep-29</strong> to <a href=\"https://wandb.ai\" target=\"_blank\">Weights & Biases</a> <a href=\"https://docs.wandb.com/integrations/jupyter.html\" target=\"_blank\">(Documentation)</a>.<br/>\n",
       "                Project page: <a href=\"https://wandb.ai/zahramhn/classifier-falff-sweep-hyper-parameter\" target=\"_blank\">https://wandb.ai/zahramhn/classifier-falff-sweep-hyper-parameter</a><br/>\n",
       "                Sweep page: <a href=\"https://wandb.ai/zahramhn/classifier-falff-sweep-hyper-parameter/sweeps/hfinfn2b\" target=\"_blank\">https://wandb.ai/zahramhn/classifier-falff-sweep-hyper-parameter/sweeps/hfinfn2b</a><br/>\n",
       "Run page: <a href=\"https://wandb.ai/zahramhn/classifier-falff-sweep-hyper-parameter/runs/rog9rlb8\" target=\"_blank\">https://wandb.ai/zahramhn/classifier-falff-sweep-hyper-parameter/runs/rog9rlb8</a><br/>\n",
       "                Run data is saved locally in <code>/data/zmohaghegh/TempStats_3D-CNN/wandb/run-20210315_161058-rog9rlb8</code><br/><br/>\n",
       "            "
      ],
      "text/plain": [
       "<IPython.core.display.HTML object>"
      ]
     },
     "metadata": {},
     "output_type": "display_data"
    },
    {
     "name": "stdout",
     "output_type": "stream",
     "text": [
      "Starting epoch 1\n",
      "acc=50.74626865671642\n",
      "loss=0.022223731049046676\n",
      "Starting epoch 2\n",
      "acc=53.18146111547526\n",
      "loss=0.021653370696260024\n",
      "Starting epoch 3\n",
      "acc=59.701492537313435\n",
      "loss=0.021522947391220452\n",
      "Starting epoch 4\n",
      "acc=54.90966221523959\n",
      "loss=0.021489108503366397\n",
      "Starting epoch 5\n",
      "acc=66.22152395915161\n",
      "loss=0.02090695408703118\n",
      "Starting epoch 6\n",
      "acc=65.98586017282011\n",
      "loss=0.020250246001163895\n",
      "Starting epoch 7\n",
      "acc=67.55695208169678\n",
      "loss=0.01918795706700058\n",
      "Starting epoch 8\n",
      "acc=62.058130400628436\n",
      "loss=0.019426143612554375\n",
      "Starting epoch 9\n",
      "acc=84.36763550667715\n",
      "loss=0.015968092253656523\n",
      "Starting epoch 10\n",
      "acc=81.85388845247446\n",
      "loss=0.014433711144860329\n",
      "Starting epoch 11\n",
      "acc=94.18695993715632\n",
      "loss=0.010117997857865787\n",
      "Starting epoch 12\n",
      "acc=95.44383346425766\n",
      "loss=0.007217103314517942\n",
      "Starting epoch 13\n",
      "acc=98.586017282011\n",
      "loss=0.004710793566510122\n",
      "Starting epoch 14\n",
      "acc=99.60722702278083\n",
      "loss=0.0027927978452105097\n",
      "Starting epoch 15\n",
      "acc=99.92144540455617\n",
      "loss=0.0015249056260647036\n",
      "Starting epoch 16\n",
      "acc=100.0\n",
      "loss=0.0008731941692000893\n",
      "Starting epoch 17\n",
      "acc=100.0\n",
      "loss=0.00060632506527015\n",
      "Starting epoch 18\n",
      "acc=100.0\n",
      "loss=0.00047615320390092457\n",
      "Starting epoch 19\n",
      "acc=100.0\n",
      "loss=0.0003739387985983689\n",
      "Starting epoch 20\n",
      "acc=100.0\n",
      "loss=0.00030281358323511914\n",
      "Training process has finished\n"
     ]
    },
    {
     "data": {
      "text/html": [
       "<br/>Waiting for W&B process to finish, PID 5593<br/>Program ended successfully."
      ],
      "text/plain": [
       "<IPython.core.display.HTML object>"
      ]
     },
     "metadata": {},
     "output_type": "display_data"
    },
    {
     "data": {
      "application/vnd.jupyter.widget-view+json": {
       "model_id": "",
       "version_major": 2,
       "version_minor": 0
      },
      "text/plain": [
       "VBox(children=(Label(value=' 0.00MB of 0.00MB uploaded (0.00MB deduped)\\r'), FloatProgress(value=1.0, max=1.0)…"
      ]
     },
     "metadata": {},
     "output_type": "display_data"
    },
    {
     "data": {
      "text/html": [
       "Find user logs for this run at: <code>/data/zmohaghegh/TempStats_3D-CNN/wandb/run-20210315_161058-rog9rlb8/logs/debug.log</code>"
      ],
      "text/plain": [
       "<IPython.core.display.HTML object>"
      ]
     },
     "metadata": {},
     "output_type": "display_data"
    },
    {
     "data": {
      "text/html": [
       "Find internal logs for this run at: <code>/data/zmohaghegh/TempStats_3D-CNN/wandb/run-20210315_161058-rog9rlb8/logs/debug-internal.log</code>"
      ],
      "text/plain": [
       "<IPython.core.display.HTML object>"
      ]
     },
     "metadata": {},
     "output_type": "display_data"
    },
    {
     "data": {
      "text/html": [
       "<h3>Run summary:</h3><br/><style>\n",
       "    table.wandb td:nth-child(1) { padding: 0 10px; text-align: right }\n",
       "    </style><table class=\"wandb\">\n",
       "<tr><td>epoch</td><td>19</td></tr><tr><td>train_Loss_falff</td><td>0.0003</td></tr><tr><td>train_acc_falff </td><td>100.0</td></tr><tr><td>_runtime</td><td>23601</td></tr><tr><td>_timestamp</td><td>1615844659</td></tr><tr><td>_step</td><td>19</td></tr></table>"
      ],
      "text/plain": [
       "<IPython.core.display.HTML object>"
      ]
     },
     "metadata": {},
     "output_type": "display_data"
    },
    {
     "data": {
      "text/html": [
       "<h3>Run history:</h3><br/><style>\n",
       "    table.wandb td:nth-child(1) { padding: 0 10px; text-align: right }\n",
       "    </style><table class=\"wandb\">\n",
       "<tr><td>epoch</td><td>▁▁▂▂▂▃▃▄▄▄▅▅▅▆▆▇▇▇██</td></tr><tr><td>train_Loss_falff</td><td>█████▇▇▇▆▆▄▃▂▂▁▁▁▁▁▁</td></tr><tr><td>train_acc_falff </td><td>▁▁▂▂▃▃▃▃▆▅▇▇████████</td></tr><tr><td>_runtime</td><td>▁▁▂▂▂▃▃▄▄▄▅▅▅▆▆▇▇▇██</td></tr><tr><td>_timestamp</td><td>▁▁▂▂▂▃▃▄▄▄▅▅▅▆▆▇▇▇██</td></tr><tr><td>_step</td><td>▁▁▂▂▂▃▃▄▄▄▅▅▅▆▆▇▇▇██</td></tr></table><br/>"
      ],
      "text/plain": [
       "<IPython.core.display.HTML object>"
      ]
     },
     "metadata": {},
     "output_type": "display_data"
    },
    {
     "data": {
      "text/html": [
       "Synced 5 W&B file(s), 0 media file(s), 0 artifact file(s) and 0 other file(s)"
      ],
      "text/plain": [
       "<IPython.core.display.HTML object>"
      ]
     },
     "metadata": {},
     "output_type": "display_data"
    },
    {
     "data": {
      "text/html": [
       "\n",
       "                    <br/>Synced <strong style=\"color:#cdcd00\">dashing-sweep-29</strong>: <a href=\"https://wandb.ai/zahramhn/classifier-falff-sweep-hyper-parameter/runs/rog9rlb8\" target=\"_blank\">https://wandb.ai/zahramhn/classifier-falff-sweep-hyper-parameter/runs/rog9rlb8</a><br/>\n",
       "                "
      ],
      "text/plain": [
       "<IPython.core.display.HTML object>"
      ]
     },
     "metadata": {},
     "output_type": "display_data"
    },
    {
     "name": "stderr",
     "output_type": "stream",
     "text": [
      "\u001b[34m\u001b[1mwandb\u001b[0m: Agent Starting Run: vnyv0wz7 with config:\n",
      "\u001b[34m\u001b[1mwandb\u001b[0m: \tbatch_size: 64\n",
      "\u001b[34m\u001b[1mwandb\u001b[0m: \tepochs: 8\n",
      "\u001b[34m\u001b[1mwandb\u001b[0m: \tlearning_rate: 0.001\n",
      "\u001b[34m\u001b[1mwandb\u001b[0m: \u001b[33mWARNING\u001b[0m Ignored wandb.init() arg project when running a sweep\n"
     ]
    },
    {
     "data": {
      "text/html": [
       "\n",
       "                Tracking run with wandb version 0.10.20<br/>\n",
       "                Syncing run <strong style=\"color:#cdcd00\">wandering-sweep-30</strong> to <a href=\"https://wandb.ai\" target=\"_blank\">Weights & Biases</a> <a href=\"https://docs.wandb.com/integrations/jupyter.html\" target=\"_blank\">(Documentation)</a>.<br/>\n",
       "                Project page: <a href=\"https://wandb.ai/zahramhn/classifier-falff-sweep-hyper-parameter\" target=\"_blank\">https://wandb.ai/zahramhn/classifier-falff-sweep-hyper-parameter</a><br/>\n",
       "                Sweep page: <a href=\"https://wandb.ai/zahramhn/classifier-falff-sweep-hyper-parameter/sweeps/hfinfn2b\" target=\"_blank\">https://wandb.ai/zahramhn/classifier-falff-sweep-hyper-parameter/sweeps/hfinfn2b</a><br/>\n",
       "Run page: <a href=\"https://wandb.ai/zahramhn/classifier-falff-sweep-hyper-parameter/runs/vnyv0wz7\" target=\"_blank\">https://wandb.ai/zahramhn/classifier-falff-sweep-hyper-parameter/runs/vnyv0wz7</a><br/>\n",
       "                Run data is saved locally in <code>/data/zmohaghegh/TempStats_3D-CNN/wandb/run-20210315_224423-vnyv0wz7</code><br/><br/>\n",
       "            "
      ],
      "text/plain": [
       "<IPython.core.display.HTML object>"
      ]
     },
     "metadata": {},
     "output_type": "display_data"
    },
    {
     "name": "stdout",
     "output_type": "stream",
     "text": [
      "Starting epoch 1\n",
      "acc=51.68892380204242\n",
      "loss=0.010911075097706563\n",
      "Starting epoch 2\n",
      "acc=56.95208169677926\n",
      "loss=0.010764328520875784\n",
      "Starting epoch 3\n",
      "acc=60.95836606441477\n",
      "loss=0.010555646852820635\n",
      "Starting epoch 4\n",
      "acc=60.25137470542027\n",
      "loss=0.01031881370240122\n",
      "Starting epoch 5\n",
      "acc=72.11311861743911\n",
      "loss=0.010072837890057154\n",
      "Starting epoch 6\n",
      "acc=65.51453260015711\n",
      "loss=0.00987448717683414\n",
      "Starting epoch 7\n",
      "acc=79.65435978004713\n",
      "loss=0.009322849940477095\n",
      "Starting epoch 8\n",
      "acc=74.23409269442263\n",
      "loss=0.009096348965503155\n",
      "Training process has finished\n"
     ]
    },
    {
     "data": {
      "text/html": [
       "<br/>Waiting for W&B process to finish, PID 57085<br/>Program ended successfully."
      ],
      "text/plain": [
       "<IPython.core.display.HTML object>"
      ]
     },
     "metadata": {},
     "output_type": "display_data"
    },
    {
     "data": {
      "application/vnd.jupyter.widget-view+json": {
       "model_id": "",
       "version_major": 2,
       "version_minor": 0
      },
      "text/plain": [
       "VBox(children=(Label(value=' 0.00MB of 0.00MB uploaded (0.00MB deduped)\\r'), FloatProgress(value=1.0, max=1.0)…"
      ]
     },
     "metadata": {},
     "output_type": "display_data"
    },
    {
     "data": {
      "text/html": [
       "Find user logs for this run at: <code>/data/zmohaghegh/TempStats_3D-CNN/wandb/run-20210315_224423-vnyv0wz7/logs/debug.log</code>"
      ],
      "text/plain": [
       "<IPython.core.display.HTML object>"
      ]
     },
     "metadata": {},
     "output_type": "display_data"
    },
    {
     "data": {
      "text/html": [
       "Find internal logs for this run at: <code>/data/zmohaghegh/TempStats_3D-CNN/wandb/run-20210315_224423-vnyv0wz7/logs/debug-internal.log</code>"
      ],
      "text/plain": [
       "<IPython.core.display.HTML object>"
      ]
     },
     "metadata": {},
     "output_type": "display_data"
    },
    {
     "data": {
      "text/html": [
       "<h3>Run summary:</h3><br/><style>\n",
       "    table.wandb td:nth-child(1) { padding: 0 10px; text-align: right }\n",
       "    </style><table class=\"wandb\">\n",
       "<tr><td>epoch</td><td>7</td></tr><tr><td>train_Loss_falff</td><td>0.0091</td></tr><tr><td>train_acc_falff </td><td>74.23409</td></tr><tr><td>_runtime</td><td>7680</td></tr><tr><td>_timestamp</td><td>1615852344</td></tr><tr><td>_step</td><td>7</td></tr></table>"
      ],
      "text/plain": [
       "<IPython.core.display.HTML object>"
      ]
     },
     "metadata": {},
     "output_type": "display_data"
    },
    {
     "data": {
      "text/html": [
       "<h3>Run history:</h3><br/><style>\n",
       "    table.wandb td:nth-child(1) { padding: 0 10px; text-align: right }\n",
       "    </style><table class=\"wandb\">\n",
       "<tr><td>epoch</td><td>▁▂▃▄▅▆▇█</td></tr><tr><td>train_Loss_falff</td><td>█▇▇▆▅▄▂▁</td></tr><tr><td>train_acc_falff </td><td>▁▂▃▃▆▄█▇</td></tr><tr><td>_runtime</td><td>▁▂▃▄▅▆▇█</td></tr><tr><td>_timestamp</td><td>▁▂▃▄▅▆▇█</td></tr><tr><td>_step</td><td>▁▂▃▄▅▆▇█</td></tr></table><br/>"
      ],
      "text/plain": [
       "<IPython.core.display.HTML object>"
      ]
     },
     "metadata": {},
     "output_type": "display_data"
    },
    {
     "data": {
      "text/html": [
       "Synced 5 W&B file(s), 0 media file(s), 0 artifact file(s) and 0 other file(s)"
      ],
      "text/plain": [
       "<IPython.core.display.HTML object>"
      ]
     },
     "metadata": {},
     "output_type": "display_data"
    },
    {
     "data": {
      "text/html": [
       "\n",
       "                    <br/>Synced <strong style=\"color:#cdcd00\">wandering-sweep-30</strong>: <a href=\"https://wandb.ai/zahramhn/classifier-falff-sweep-hyper-parameter/runs/vnyv0wz7\" target=\"_blank\">https://wandb.ai/zahramhn/classifier-falff-sweep-hyper-parameter/runs/vnyv0wz7</a><br/>\n",
       "                "
      ],
      "text/plain": [
       "<IPython.core.display.HTML object>"
      ]
     },
     "metadata": {},
     "output_type": "display_data"
    },
    {
     "name": "stderr",
     "output_type": "stream",
     "text": [
      "\u001b[34m\u001b[1mwandb\u001b[0m: Agent Starting Run: 1xvl23xz with config:\n",
      "\u001b[34m\u001b[1mwandb\u001b[0m: \tbatch_size: 64\n",
      "\u001b[34m\u001b[1mwandb\u001b[0m: \tepochs: 20\n",
      "\u001b[34m\u001b[1mwandb\u001b[0m: \tlearning_rate: 0.0001\n",
      "\u001b[34m\u001b[1mwandb\u001b[0m: \u001b[33mWARNING\u001b[0m Ignored wandb.init() arg project when running a sweep\n"
     ]
    },
    {
     "data": {
      "text/html": [
       "\n",
       "                Tracking run with wandb version 0.10.20<br/>\n",
       "                Syncing run <strong style=\"color:#cdcd00\">frosty-sweep-31</strong> to <a href=\"https://wandb.ai\" target=\"_blank\">Weights & Biases</a> <a href=\"https://docs.wandb.com/integrations/jupyter.html\" target=\"_blank\">(Documentation)</a>.<br/>\n",
       "                Project page: <a href=\"https://wandb.ai/zahramhn/classifier-falff-sweep-hyper-parameter\" target=\"_blank\">https://wandb.ai/zahramhn/classifier-falff-sweep-hyper-parameter</a><br/>\n",
       "                Sweep page: <a href=\"https://wandb.ai/zahramhn/classifier-falff-sweep-hyper-parameter/sweeps/hfinfn2b\" target=\"_blank\">https://wandb.ai/zahramhn/classifier-falff-sweep-hyper-parameter/sweeps/hfinfn2b</a><br/>\n",
       "Run page: <a href=\"https://wandb.ai/zahramhn/classifier-falff-sweep-hyper-parameter/runs/1xvl23xz\" target=\"_blank\">https://wandb.ai/zahramhn/classifier-falff-sweep-hyper-parameter/runs/1xvl23xz</a><br/>\n",
       "                Run data is saved locally in <code>/data/zmohaghegh/TempStats_3D-CNN/wandb/run-20210316_005228-1xvl23xz</code><br/><br/>\n",
       "            "
      ],
      "text/plain": [
       "<IPython.core.display.HTML object>"
      ]
     },
     "metadata": {},
     "output_type": "display_data"
    },
    {
     "name": "stdout",
     "output_type": "stream",
     "text": [
      "Starting epoch 1\n",
      "acc=46.11154752553024\n",
      "loss=0.010901812917788165\n",
      "Starting epoch 2\n",
      "acc=50.98193244304792\n",
      "loss=0.010875094890191015\n",
      "Starting epoch 3\n",
      "acc=51.374705420267084\n",
      "loss=0.010875912739475541\n",
      "Starting epoch 4\n",
      "acc=52.47446975648075\n",
      "loss=0.010870042394832682\n",
      "Starting epoch 5\n",
      "acc=51.06048703849175\n",
      "loss=0.010873646350129046\n",
      "Starting epoch 6\n",
      "acc=61.351139041633935\n",
      "loss=0.010841980686509371\n",
      "Starting epoch 7\n",
      "acc=61.2725844461901\n",
      "loss=0.01082559445347709\n",
      "Starting epoch 8\n",
      "acc=52.71013354281225\n",
      "loss=0.010821527456803016\n",
      "Starting epoch 9\n",
      "acc=55.930871956009426\n",
      "loss=0.010804821597553655\n",
      "Starting epoch 10\n",
      "acc=56.08798114689709\n",
      "loss=0.01079475255928174\n",
      "Starting epoch 11\n",
      "acc=65.27886881382561\n",
      "loss=0.010781699366827343\n",
      "Starting epoch 12\n",
      "acc=58.523173605655934\n",
      "loss=0.010764698743386454\n",
      "Starting epoch 13\n",
      "acc=55.14532600157109\n",
      "loss=0.010755214355457123\n",
      "Starting epoch 14\n",
      "acc=57.34485467399843\n",
      "loss=0.010744071284876987\n",
      "Starting epoch 15\n",
      "acc=66.06441476826394\n",
      "loss=0.010736130683410226\n",
      "Starting epoch 16\n",
      "acc=54.35978004713276\n",
      "loss=0.010736460221899528\n",
      "Starting epoch 17\n",
      "acc=67.16417910447761\n",
      "loss=0.010711015168444738\n",
      "Starting epoch 18\n",
      "acc=69.75648075412411\n",
      "loss=0.010694358370988807\n",
      "Starting epoch 19\n",
      "acc=54.43833464257659\n",
      "loss=0.010688300383120108\n",
      "Starting epoch 20\n",
      "acc=70.07069913589945\n",
      "loss=0.010668895556033902\n",
      "Training process has finished\n"
     ]
    },
    {
     "data": {
      "text/html": [
       "<br/>Waiting for W&B process to finish, PID 29366<br/>Program ended successfully."
      ],
      "text/plain": [
       "<IPython.core.display.HTML object>"
      ]
     },
     "metadata": {},
     "output_type": "display_data"
    },
    {
     "data": {
      "application/vnd.jupyter.widget-view+json": {
       "model_id": "",
       "version_major": 2,
       "version_minor": 0
      },
      "text/plain": [
       "VBox(children=(Label(value=' 0.00MB of 0.00MB uploaded (0.00MB deduped)\\r'), FloatProgress(value=1.0, max=1.0)…"
      ]
     },
     "metadata": {},
     "output_type": "display_data"
    },
    {
     "data": {
      "text/html": [
       "Find user logs for this run at: <code>/data/zmohaghegh/TempStats_3D-CNN/wandb/run-20210316_005228-1xvl23xz/logs/debug.log</code>"
      ],
      "text/plain": [
       "<IPython.core.display.HTML object>"
      ]
     },
     "metadata": {},
     "output_type": "display_data"
    },
    {
     "data": {
      "text/html": [
       "Find internal logs for this run at: <code>/data/zmohaghegh/TempStats_3D-CNN/wandb/run-20210316_005228-1xvl23xz/logs/debug-internal.log</code>"
      ],
      "text/plain": [
       "<IPython.core.display.HTML object>"
      ]
     },
     "metadata": {},
     "output_type": "display_data"
    },
    {
     "data": {
      "text/html": [
       "<h3>Run summary:</h3><br/><style>\n",
       "    table.wandb td:nth-child(1) { padding: 0 10px; text-align: right }\n",
       "    </style><table class=\"wandb\">\n",
       "<tr><td>epoch</td><td>19</td></tr><tr><td>train_Loss_falff</td><td>0.01067</td></tr><tr><td>train_acc_falff </td><td>70.0707</td></tr><tr><td>_runtime</td><td>19187</td></tr><tr><td>_timestamp</td><td>1615871536</td></tr><tr><td>_step</td><td>19</td></tr></table>"
      ],
      "text/plain": [
       "<IPython.core.display.HTML object>"
      ]
     },
     "metadata": {},
     "output_type": "display_data"
    },
    {
     "data": {
      "text/html": [
       "<h3>Run history:</h3><br/><style>\n",
       "    table.wandb td:nth-child(1) { padding: 0 10px; text-align: right }\n",
       "    </style><table class=\"wandb\">\n",
       "<tr><td>epoch</td><td>▁▁▂▂▂▃▃▄▄▄▅▅▅▆▆▇▇▇██</td></tr><tr><td>train_Loss_falff</td><td>█▇▇▇▇▆▆▆▅▅▄▄▄▃▃▃▂▂▂▁</td></tr><tr><td>train_acc_falff </td><td>▁▂▃▃▂▅▅▃▄▄▇▅▄▄▇▃▇█▃█</td></tr><tr><td>_runtime</td><td>▁▁▂▂▂▃▃▄▄▄▅▅▅▆▆▇▇▇██</td></tr><tr><td>_timestamp</td><td>▁▁▂▂▂▃▃▄▄▄▅▅▅▆▆▇▇▇██</td></tr><tr><td>_step</td><td>▁▁▂▂▂▃▃▄▄▄▅▅▅▆▆▇▇▇██</td></tr></table><br/>"
      ],
      "text/plain": [
       "<IPython.core.display.HTML object>"
      ]
     },
     "metadata": {},
     "output_type": "display_data"
    },
    {
     "data": {
      "text/html": [
       "Synced 5 W&B file(s), 0 media file(s), 0 artifact file(s) and 0 other file(s)"
      ],
      "text/plain": [
       "<IPython.core.display.HTML object>"
      ]
     },
     "metadata": {},
     "output_type": "display_data"
    },
    {
     "data": {
      "text/html": [
       "\n",
       "                    <br/>Synced <strong style=\"color:#cdcd00\">frosty-sweep-31</strong>: <a href=\"https://wandb.ai/zahramhn/classifier-falff-sweep-hyper-parameter/runs/1xvl23xz\" target=\"_blank\">https://wandb.ai/zahramhn/classifier-falff-sweep-hyper-parameter/runs/1xvl23xz</a><br/>\n",
       "                "
      ],
      "text/plain": [
       "<IPython.core.display.HTML object>"
      ]
     },
     "metadata": {},
     "output_type": "display_data"
    },
    {
     "name": "stderr",
     "output_type": "stream",
     "text": [
      "\u001b[34m\u001b[1mwandb\u001b[0m: Agent Starting Run: mwvbnyms with config:\n",
      "\u001b[34m\u001b[1mwandb\u001b[0m: \tbatch_size: 10\n",
      "\u001b[34m\u001b[1mwandb\u001b[0m: \tepochs: 20\n",
      "\u001b[34m\u001b[1mwandb\u001b[0m: \tlearning_rate: 0.001\n",
      "\u001b[34m\u001b[1mwandb\u001b[0m: \u001b[33mWARNING\u001b[0m Ignored wandb.init() arg project when running a sweep\n"
     ]
    },
    {
     "data": {
      "text/html": [
       "\n",
       "                Tracking run with wandb version 0.10.20<br/>\n",
       "                Syncing run <strong style=\"color:#cdcd00\">sunny-sweep-32</strong> to <a href=\"https://wandb.ai\" target=\"_blank\">Weights & Biases</a> <a href=\"https://docs.wandb.com/integrations/jupyter.html\" target=\"_blank\">(Documentation)</a>.<br/>\n",
       "                Project page: <a href=\"https://wandb.ai/zahramhn/classifier-falff-sweep-hyper-parameter\" target=\"_blank\">https://wandb.ai/zahramhn/classifier-falff-sweep-hyper-parameter</a><br/>\n",
       "                Sweep page: <a href=\"https://wandb.ai/zahramhn/classifier-falff-sweep-hyper-parameter/sweeps/hfinfn2b\" target=\"_blank\">https://wandb.ai/zahramhn/classifier-falff-sweep-hyper-parameter/sweeps/hfinfn2b</a><br/>\n",
       "Run page: <a href=\"https://wandb.ai/zahramhn/classifier-falff-sweep-hyper-parameter/runs/mwvbnyms\" target=\"_blank\">https://wandb.ai/zahramhn/classifier-falff-sweep-hyper-parameter/runs/mwvbnyms</a><br/>\n",
       "                Run data is saved locally in <code>/data/zmohaghegh/TempStats_3D-CNN/wandb/run-20210316_061220-mwvbnyms</code><br/><br/>\n",
       "            "
      ],
      "text/plain": [
       "<IPython.core.display.HTML object>"
      ]
     },
     "metadata": {},
     "output_type": "display_data"
    },
    {
     "name": "stdout",
     "output_type": "stream",
     "text": [
      "Starting epoch 1\n",
      "acc=49.17517674783975\n",
      "loss=0.07049973663025942\n",
      "Starting epoch 2\n",
      "acc=56.00942655145326\n",
      "loss=0.06900414452527781\n",
      "Starting epoch 3\n",
      "acc=60.8012568735271\n",
      "loss=0.06694799511386035\n",
      "Starting epoch 4\n",
      "acc=72.2702278083268\n",
      "loss=0.058793352200499235\n",
      "Starting epoch 5\n",
      "acc=80.12568735271013\n",
      "loss=0.0446649194150135\n",
      "Starting epoch 6\n",
      "acc=94.42262372348782\n",
      "loss=0.020005805152483368\n",
      "Starting epoch 7\n",
      "acc=98.114689709348\n",
      "loss=0.008272744577812817\n",
      "Starting epoch 8\n",
      "acc=99.92144540455617\n",
      "loss=0.0017025929865695025\n",
      "Starting epoch 9\n",
      "acc=100.0\n",
      "loss=0.0006730020603737664\n",
      "Starting epoch 10\n",
      "acc=100.0\n",
      "loss=0.0004326806618184626\n",
      "Starting epoch 11\n",
      "acc=100.0\n",
      "loss=0.0003192891014503996\n",
      "Starting epoch 12\n",
      "acc=100.0\n",
      "loss=0.0002588348231801121\n",
      "Starting epoch 13\n",
      "acc=100.0\n",
      "loss=0.00020833914644476475\n",
      "Starting epoch 14\n",
      "acc=100.0\n",
      "loss=0.0001753996261282337\n",
      "Starting epoch 15\n",
      "acc=100.0\n",
      "loss=0.00015285497735620553\n",
      "Starting epoch 16\n",
      "acc=100.0\n",
      "loss=0.00013625932398440954\n",
      "Starting epoch 17\n",
      "acc=100.0\n",
      "loss=0.00012315730507205568\n",
      "Starting epoch 18\n",
      "acc=100.0\n",
      "loss=0.0001119422374808601\n",
      "Starting epoch 19\n",
      "acc=100.0\n",
      "loss=0.0001022094816612384\n",
      "Starting epoch 20\n",
      "acc=100.0\n",
      "loss=9.688242612939105e-05\n",
      "Training process has finished\n"
     ]
    },
    {
     "data": {
      "text/html": [
       "<br/>Waiting for W&B process to finish, PID 12915<br/>Program ended successfully."
      ],
      "text/plain": [
       "<IPython.core.display.HTML object>"
      ]
     },
     "metadata": {},
     "output_type": "display_data"
    },
    {
     "data": {
      "application/vnd.jupyter.widget-view+json": {
       "model_id": "",
       "version_major": 2,
       "version_minor": 0
      },
      "text/plain": [
       "VBox(children=(Label(value=' 0.00MB of 0.00MB uploaded (0.00MB deduped)\\r'), FloatProgress(value=1.0, max=1.0)…"
      ]
     },
     "metadata": {},
     "output_type": "display_data"
    },
    {
     "data": {
      "text/html": [
       "Find user logs for this run at: <code>/data/zmohaghegh/TempStats_3D-CNN/wandb/run-20210316_061220-mwvbnyms/logs/debug.log</code>"
      ],
      "text/plain": [
       "<IPython.core.display.HTML object>"
      ]
     },
     "metadata": {},
     "output_type": "display_data"
    },
    {
     "data": {
      "text/html": [
       "Find internal logs for this run at: <code>/data/zmohaghegh/TempStats_3D-CNN/wandb/run-20210316_061220-mwvbnyms/logs/debug-internal.log</code>"
      ],
      "text/plain": [
       "<IPython.core.display.HTML object>"
      ]
     },
     "metadata": {},
     "output_type": "display_data"
    },
    {
     "data": {
      "text/html": [
       "<h3>Run summary:</h3><br/><style>\n",
       "    table.wandb td:nth-child(1) { padding: 0 10px; text-align: right }\n",
       "    </style><table class=\"wandb\">\n",
       "<tr><td>epoch</td><td>19</td></tr><tr><td>train_Loss_falff</td><td>0.0001</td></tr><tr><td>train_acc_falff </td><td>100.0</td></tr><tr><td>_runtime</td><td>10707</td></tr><tr><td>_timestamp</td><td>1615882247</td></tr><tr><td>_step</td><td>19</td></tr></table>"
      ],
      "text/plain": [
       "<IPython.core.display.HTML object>"
      ]
     },
     "metadata": {},
     "output_type": "display_data"
    },
    {
     "data": {
      "text/html": [
       "<h3>Run history:</h3><br/><style>\n",
       "    table.wandb td:nth-child(1) { padding: 0 10px; text-align: right }\n",
       "    </style><table class=\"wandb\">\n",
       "<tr><td>epoch</td><td>▁▁▂▂▂▃▃▄▄▄▅▅▅▆▆▇▇▇██</td></tr><tr><td>train_Loss_falff</td><td>███▇▅▃▂▁▁▁▁▁▁▁▁▁▁▁▁▁</td></tr><tr><td>train_acc_falff </td><td>▁▂▃▄▅▇██████████████</td></tr><tr><td>_runtime</td><td>▁▁▂▂▂▃▃▄▄▄▅▅▅▆▆▇▇▇██</td></tr><tr><td>_timestamp</td><td>▁▁▂▂▂▃▃▄▄▄▅▅▅▆▆▇▇▇██</td></tr><tr><td>_step</td><td>▁▁▂▂▂▃▃▄▄▄▅▅▅▆▆▇▇▇██</td></tr></table><br/>"
      ],
      "text/plain": [
       "<IPython.core.display.HTML object>"
      ]
     },
     "metadata": {},
     "output_type": "display_data"
    },
    {
     "data": {
      "text/html": [
       "Synced 5 W&B file(s), 0 media file(s), 0 artifact file(s) and 0 other file(s)"
      ],
      "text/plain": [
       "<IPython.core.display.HTML object>"
      ]
     },
     "metadata": {},
     "output_type": "display_data"
    },
    {
     "data": {
      "text/html": [
       "\n",
       "                    <br/>Synced <strong style=\"color:#cdcd00\">sunny-sweep-32</strong>: <a href=\"https://wandb.ai/zahramhn/classifier-falff-sweep-hyper-parameter/runs/mwvbnyms\" target=\"_blank\">https://wandb.ai/zahramhn/classifier-falff-sweep-hyper-parameter/runs/mwvbnyms</a><br/>\n",
       "                "
      ],
      "text/plain": [
       "<IPython.core.display.HTML object>"
      ]
     },
     "metadata": {},
     "output_type": "display_data"
    },
    {
     "name": "stderr",
     "output_type": "stream",
     "text": [
      "\u001b[34m\u001b[1mwandb\u001b[0m: Agent Starting Run: hbmghvww with config:\n",
      "\u001b[34m\u001b[1mwandb\u001b[0m: \tbatch_size: 64\n",
      "\u001b[34m\u001b[1mwandb\u001b[0m: \tepochs: 10\n",
      "\u001b[34m\u001b[1mwandb\u001b[0m: \tlearning_rate: 0.0001\n",
      "\u001b[34m\u001b[1mwandb\u001b[0m: \u001b[33mWARNING\u001b[0m Ignored wandb.init() arg project when running a sweep\n"
     ]
    },
    {
     "data": {
      "text/html": [
       "\n",
       "                Tracking run with wandb version 0.10.20<br/>\n",
       "                Syncing run <strong style=\"color:#cdcd00\">hardy-sweep-33</strong> to <a href=\"https://wandb.ai\" target=\"_blank\">Weights & Biases</a> <a href=\"https://docs.wandb.com/integrations/jupyter.html\" target=\"_blank\">(Documentation)</a>.<br/>\n",
       "                Project page: <a href=\"https://wandb.ai/zahramhn/classifier-falff-sweep-hyper-parameter\" target=\"_blank\">https://wandb.ai/zahramhn/classifier-falff-sweep-hyper-parameter</a><br/>\n",
       "                Sweep page: <a href=\"https://wandb.ai/zahramhn/classifier-falff-sweep-hyper-parameter/sweeps/hfinfn2b\" target=\"_blank\">https://wandb.ai/zahramhn/classifier-falff-sweep-hyper-parameter/sweeps/hfinfn2b</a><br/>\n",
       "Run page: <a href=\"https://wandb.ai/zahramhn/classifier-falff-sweep-hyper-parameter/runs/hbmghvww\" target=\"_blank\">https://wandb.ai/zahramhn/classifier-falff-sweep-hyper-parameter/runs/hbmghvww</a><br/>\n",
       "                Run data is saved locally in <code>/data/zmohaghegh/TempStats_3D-CNN/wandb/run-20210316_091050-hbmghvww</code><br/><br/>\n",
       "            "
      ],
      "text/plain": [
       "<IPython.core.display.HTML object>"
      ]
     },
     "metadata": {},
     "output_type": "display_data"
    },
    {
     "name": "stdout",
     "output_type": "stream",
     "text": [
      "Starting epoch 1\n",
      "acc=48.625294579732916\n",
      "loss=0.010918501722335914\n",
      "Starting epoch 2\n",
      "acc=47.52553024351925\n",
      "loss=0.01089814803457888\n",
      "Starting epoch 3\n",
      "acc=51.68892380204242\n",
      "loss=0.010856995226430516\n",
      "Starting epoch 4\n",
      "acc=51.139041633935584\n",
      "loss=0.01086506110446173\n",
      "Starting epoch 5\n",
      "acc=51.139041633935584\n",
      "loss=0.010844120680202133\n",
      "Starting epoch 6\n",
      "acc=54.43833464257659\n",
      "loss=0.010812592270074186\n",
      "Starting epoch 7\n",
      "acc=54.516889238020426\n",
      "loss=0.010792014365310387\n",
      "Starting epoch 8\n",
      "acc=62.293794186959936\n",
      "loss=0.010759238768389353\n",
      "Starting epoch 9\n",
      "acc=64.49332285938728\n",
      "loss=0.010747005268777839\n",
      "Starting epoch 10\n",
      "acc=65.04320502749411\n",
      "loss=0.01072739802638299\n",
      "Training process has finished\n"
     ]
    },
    {
     "data": {
      "text/html": [
       "<br/>Waiting for W&B process to finish, PID 12302<br/>Program ended successfully."
      ],
      "text/plain": [
       "<IPython.core.display.HTML object>"
      ]
     },
     "metadata": {},
     "output_type": "display_data"
    },
    {
     "data": {
      "application/vnd.jupyter.widget-view+json": {
       "model_id": "",
       "version_major": 2,
       "version_minor": 0
      },
      "text/plain": [
       "VBox(children=(Label(value=' 0.00MB of 0.00MB uploaded (0.00MB deduped)\\r'), FloatProgress(value=1.0, max=1.0)…"
      ]
     },
     "metadata": {},
     "output_type": "display_data"
    },
    {
     "data": {
      "text/html": [
       "Find user logs for this run at: <code>/data/zmohaghegh/TempStats_3D-CNN/wandb/run-20210316_091050-hbmghvww/logs/debug.log</code>"
      ],
      "text/plain": [
       "<IPython.core.display.HTML object>"
      ]
     },
     "metadata": {},
     "output_type": "display_data"
    },
    {
     "data": {
      "text/html": [
       "Find internal logs for this run at: <code>/data/zmohaghegh/TempStats_3D-CNN/wandb/run-20210316_091050-hbmghvww/logs/debug-internal.log</code>"
      ],
      "text/plain": [
       "<IPython.core.display.HTML object>"
      ]
     },
     "metadata": {},
     "output_type": "display_data"
    },
    {
     "data": {
      "text/html": [
       "<h3>Run summary:</h3><br/><style>\n",
       "    table.wandb td:nth-child(1) { padding: 0 10px; text-align: right }\n",
       "    </style><table class=\"wandb\">\n",
       "<tr><td>epoch</td><td>9</td></tr><tr><td>train_Loss_falff</td><td>0.01073</td></tr><tr><td>train_acc_falff </td><td>65.04321</td></tr><tr><td>_runtime</td><td>9465</td></tr><tr><td>_timestamp</td><td>1615891716</td></tr><tr><td>_step</td><td>9</td></tr></table>"
      ],
      "text/plain": [
       "<IPython.core.display.HTML object>"
      ]
     },
     "metadata": {},
     "output_type": "display_data"
    },
    {
     "data": {
      "text/html": [
       "<h3>Run history:</h3><br/><style>\n",
       "    table.wandb td:nth-child(1) { padding: 0 10px; text-align: right }\n",
       "    </style><table class=\"wandb\">\n",
       "<tr><td>epoch</td><td>▁▂▃▃▄▅▆▆▇█</td></tr><tr><td>train_Loss_falff</td><td>█▇▆▆▅▄▃▂▂▁</td></tr><tr><td>train_acc_falff </td><td>▁▁▃▂▂▄▄▇██</td></tr><tr><td>_runtime</td><td>▁▂▃▃▄▅▆▆▇█</td></tr><tr><td>_timestamp</td><td>▁▂▃▃▄▅▆▆▇█</td></tr><tr><td>_step</td><td>▁▂▃▃▄▅▆▆▇█</td></tr></table><br/>"
      ],
      "text/plain": [
       "<IPython.core.display.HTML object>"
      ]
     },
     "metadata": {},
     "output_type": "display_data"
    },
    {
     "data": {
      "text/html": [
       "Synced 5 W&B file(s), 0 media file(s), 0 artifact file(s) and 0 other file(s)"
      ],
      "text/plain": [
       "<IPython.core.display.HTML object>"
      ]
     },
     "metadata": {},
     "output_type": "display_data"
    },
    {
     "data": {
      "text/html": [
       "\n",
       "                    <br/>Synced <strong style=\"color:#cdcd00\">hardy-sweep-33</strong>: <a href=\"https://wandb.ai/zahramhn/classifier-falff-sweep-hyper-parameter/runs/hbmghvww\" target=\"_blank\">https://wandb.ai/zahramhn/classifier-falff-sweep-hyper-parameter/runs/hbmghvww</a><br/>\n",
       "                "
      ],
      "text/plain": [
       "<IPython.core.display.HTML object>"
      ]
     },
     "metadata": {},
     "output_type": "display_data"
    },
    {
     "name": "stderr",
     "output_type": "stream",
     "text": [
      "\u001b[34m\u001b[1mwandb\u001b[0m: Agent Starting Run: q778c821 with config:\n",
      "\u001b[34m\u001b[1mwandb\u001b[0m: \tbatch_size: 64\n",
      "\u001b[34m\u001b[1mwandb\u001b[0m: \tepochs: 10\n",
      "\u001b[34m\u001b[1mwandb\u001b[0m: \tlearning_rate: 0.001\n",
      "\u001b[34m\u001b[1mwandb\u001b[0m: \u001b[33mWARNING\u001b[0m Ignored wandb.init() arg project when running a sweep\n"
     ]
    },
    {
     "data": {
      "text/html": [
       "\n",
       "                Tracking run with wandb version 0.10.20<br/>\n",
       "                Syncing run <strong style=\"color:#cdcd00\">smooth-sweep-34</strong> to <a href=\"https://wandb.ai\" target=\"_blank\">Weights & Biases</a> <a href=\"https://docs.wandb.com/integrations/jupyter.html\" target=\"_blank\">(Documentation)</a>.<br/>\n",
       "                Project page: <a href=\"https://wandb.ai/zahramhn/classifier-falff-sweep-hyper-parameter\" target=\"_blank\">https://wandb.ai/zahramhn/classifier-falff-sweep-hyper-parameter</a><br/>\n",
       "                Sweep page: <a href=\"https://wandb.ai/zahramhn/classifier-falff-sweep-hyper-parameter/sweeps/hfinfn2b\" target=\"_blank\">https://wandb.ai/zahramhn/classifier-falff-sweep-hyper-parameter/sweeps/hfinfn2b</a><br/>\n",
       "Run page: <a href=\"https://wandb.ai/zahramhn/classifier-falff-sweep-hyper-parameter/runs/q778c821\" target=\"_blank\">https://wandb.ai/zahramhn/classifier-falff-sweep-hyper-parameter/runs/q778c821</a><br/>\n",
       "                Run data is saved locally in <code>/data/zmohaghegh/TempStats_3D-CNN/wandb/run-20210316_114842-q778c821</code><br/><br/>\n",
       "            "
      ],
      "text/plain": [
       "<IPython.core.display.HTML object>"
      ]
     },
     "metadata": {},
     "output_type": "display_data"
    },
    {
     "name": "stdout",
     "output_type": "stream",
     "text": [
      "Starting epoch 1\n",
      "acc=50.58915946582875\n",
      "loss=0.010970675019426435\n",
      "Starting epoch 2\n",
      "acc=51.846032992930084\n",
      "loss=0.010846758673534126\n",
      "Starting epoch 3\n",
      "acc=55.14532600157109\n",
      "loss=0.010704158797071586\n",
      "Starting epoch 4\n",
      "acc=60.172820109976435\n",
      "loss=0.010525265576135822\n",
      "Starting epoch 5\n",
      "acc=54.59544383346426\n",
      "loss=0.010708777491673977\n",
      "Starting epoch 6\n"
     ]
    },
    {
     "name": "stderr",
     "output_type": "stream",
     "text": [
      "\u001b[34m\u001b[1mwandb\u001b[0m: Ctrl + C detected. Stopping sweep.\n"
     ]
    }
   ],
   "source": [
    "wandb.agent(sweep_id, train)"
   ]
  },
  {
   "cell_type": "code",
   "execution_count": 35,
   "metadata": {},
   "outputs": [
    {
     "ename": "NameError",
     "evalue": "name 'network' is not defined",
     "output_type": "error",
     "traceback": [
      "\u001b[0;31m---------------------------------------------------------------------------\u001b[0m",
      "\u001b[0;31mNameError\u001b[0m                                 Traceback (most recent call last)",
      "\u001b[0;32m<ipython-input-35-a2f7f6d0bd5b>\u001b[0m in \u001b[0;36m<module>\u001b[0;34m\u001b[0m\n\u001b[0;32m----> 1\u001b[0;31m \u001b[0mlist\u001b[0m\u001b[0;34m(\u001b[0m\u001b[0mnetwork\u001b[0m\u001b[0;34m.\u001b[0m\u001b[0mparameters\u001b[0m\u001b[0;34m(\u001b[0m\u001b[0;34m)\u001b[0m\u001b[0;34m)\u001b[0m\u001b[0;34m\u001b[0m\u001b[0;34m\u001b[0m\u001b[0m\n\u001b[0m\u001b[1;32m      2\u001b[0m \u001b[0;31m#wandb.watch(network)\u001b[0m\u001b[0;34m\u001b[0m\u001b[0;34m\u001b[0m\u001b[0;34m\u001b[0m\u001b[0m\n",
      "\u001b[0;31mNameError\u001b[0m: name 'network' is not defined"
     ]
    }
   ],
   "source": [
    "list(network.parameters())\n",
    "#wandb.watch(network)"
   ]
  },
  {
   "cell_type": "code",
   "execution_count": null,
   "metadata": {},
   "outputs": [],
   "source": [
    "    loss_v = criterion(outputs_v, labels) \n",
    "        # Although the loss is one value, it represents the *average* of losses over all examples in the batc\n",
    "    loss_v_list.append(loss_v.item()) # one item at the time\n",
    "\n",
    "    total_v = labels.size(0) # get it in case the last batch has different number of sample\n",
    "    correct_v = (predicted == labels).sum().item() # sum the correct answers for this batch\n",
    "    acc_list_v.append(correct_v / total_v) # n of correct / n of sample in this batch\n",
    "\n",
    "    total_ep += total_v # sum all the samples. it must end up being the tot training set\n",
    "    correct_ep += correct_v # sum together the right answers in entire training set\n",
    "    loss_ep += (loss_v.item()*len(labels))\n",
    "            \n",
    "# calculate metrices of this epoch\n",
    "current_ep_loss=loss_ep/total_ep\n",
    "            \n",
    "current_ep_acc=(correct_ep/total_ep)\n",
    "acc = accuracy_score(F1_labels, F1_pred)\n",
    "balacc= balanced_accuracy_score(F1_labels, F1_pred)\n",
    "F1_Score = f1_score(F1_labels, F1_pred, average='weighted')\n",
    "tn, fp, fn, tp = confusion_matrix(F1_labels, F1_pred).ravel() "
   ]
  },
  {
   "cell_type": "code",
   "execution_count": null,
   "metadata": {},
   "outputs": [],
   "source": [
    "if not best_acc or best_acc < current_ep_acc:\n",
    "    \n",
    "    best_acc = current_ep_acc\n",
    "    torch.save(model.state_dict(), MODEL_STORE_PATH + '/' + summaryMeasure + '_BEST_model'\n",
    "                               + '_CV' + str(k+1)\n",
    "                               + '.pt')"
   ]
  },
  {
   "cell_type": "code",
   "execution_count": null,
   "metadata": {},
   "outputs": [],
   "source": []
  }
 ],
 "metadata": {
  "kernelspec": {
   "display_name": "Python 3",
   "language": "python",
   "name": "python3"
  },
  "language_info": {
   "codemirror_mode": {
    "name": "ipython",
    "version": 3
   },
   "file_extension": ".py",
   "mimetype": "text/x-python",
   "name": "python",
   "nbconvert_exporter": "python",
   "pygments_lexer": "ipython3",
   "version": "3.8.3"
  }
 },
 "nbformat": 4,
 "nbformat_minor": 2
}

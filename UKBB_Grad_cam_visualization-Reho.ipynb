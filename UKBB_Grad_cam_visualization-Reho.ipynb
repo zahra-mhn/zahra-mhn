{
 "cells": [
  {
   "cell_type": "markdown",
   "metadata": {},
   "source": [
    "# Grad cam Visualization UKBB Reho"
   ]
  },
  {
   "cell_type": "code",
   "execution_count": 1,
   "metadata": {},
   "outputs": [
    {
     "name": "stderr",
     "output_type": "stream",
     "text": [
      "/data/zmohaghegh/venv/lib64/python3.6/site-packages/nilearn/datasets/__init__.py:90: FutureWarning: Fetchers from the nilearn.datasets module will be updated in version 0.9 to return python strings instead of bytes and Pandas dataframes instead of Numpy arrays.\n",
      "  \"Numpy arrays.\", FutureWarning)\n"
     ]
    }
   ],
   "source": [
    "import torch\n",
    "import torch.nn as nn\n",
    "import numpy as np\n",
    "from tqdm import tqdm\n",
    "import torch.nn.functional as F\n",
    "import random\n",
    "import matplotlib.pyplot as plt\n",
    "import torch.utils.data as torch_data\n",
    "from nilearn import plotting\n",
    "import nibabel as nib\n",
    "import nilearn\n",
    "import os\n",
    "from sklearn.model_selection import train_test_split, StratifiedKFold\n",
    "import time\n",
    "import pandas as pd\n",
    "import torch.utils.data as torch_data"
   ]
  },
  {
   "cell_type": "code",
   "execution_count": 2,
   "metadata": {},
   "outputs": [],
   "source": [
    "#! pip install pytorch-gradcam"
   ]
  },
  {
   "cell_type": "code",
   "execution_count": 3,
   "metadata": {},
   "outputs": [],
   "source": [
    "class GuidedBackprop():\n",
    "    def __init__(self, model):\n",
    "        self.model = model\n",
    "    \n",
    "    def guided_backprop(self, input, label):\n",
    "        \n",
    "        def hookfunc(module, gradInput, gradOutput):\n",
    "            return tuple([(None if g is None else g.clamp(min=0)) for g in gradInput])\n",
    "    \n",
    "        input.requires_grad = True\n",
    "        h = [0] * len(list(self.model.features) + list(self.model.classifier))\n",
    "        for i, module in enumerate(list(self.model.features) + list(self.model.classifier)):\n",
    "            if type(module) == nn.ReLU:\n",
    "                h[i] = module.register_backward_hook(hookfunc)\n",
    "\n",
    "        self.model.eval()\n",
    "        output = self.model(input)\n",
    "        self.model.zero_grad()\n",
    "        output[0][label].backward()\n",
    "        grad = input.grad.data\n",
    "        grad /= grad.max()\n",
    "        return np.clip(grad.cpu().numpy(),0,1)\n",
    "        "
   ]
  },
  {
   "cell_type": "code",
   "execution_count": 4,
   "metadata": {},
   "outputs": [],
   "source": [
    "class MriNetGrad(nn.Module):\n",
    "    def __init__(self):\n",
    "        super(MriNetGrad, self).__init__()\n",
    "        \n",
    "        self.downsample = nn.AvgPool3d(2, stride=2, padding=0)\n",
    "        \n",
    "        self.CNNlayer = nn.Sequential(\n",
    "            nn.Conv3d(1, 64, kernel_size=3, stride=1),\n",
    "            nn.ELU(),\n",
    "            nn.Conv3d(64, 16, kernel_size=3, stride=1),\n",
    "            nn.ELU(),\n",
    "            nn.MaxPool3d(2)\n",
    "        )  \n",
    "        \n",
    "        self.flat1 = nn.Linear(160000, 16)   \n",
    "        self.flat2 = nn.Linear(16, 1)\n",
    "        \n",
    "        self.gradients = None\n",
    "          \n",
    "    def activations_hook(self, grad):\n",
    "        self.gradients = grad\n",
    "        \n",
    "    def forward(self, x):\n",
    "        x=self.downsample(x)\n",
    "        x = self.CNNlayer(x)\n",
    "        if x.requires_grad:\n",
    "            h = x.register_hook(self.activations_hook)\n",
    "        x=x.reshape(x.size(0), -1)        \n",
    "        x=F.elu(self.flat1(x))                    \n",
    "        x=self.flat2(x)\n",
    "        \n",
    "        return x\n",
    "    def get_activations_gradient(self):\n",
    "        return self.gradients\n",
    "    \n",
    "    def get_activations(self, x):\n",
    "        return self.CNNlayer(x)"
   ]
  },
  {
   "cell_type": "code",
   "execution_count": 5,
   "metadata": {},
   "outputs": [],
   "source": [
    "def train(epochs, net, criterion, optimizer, train_loader, valid_loader):\n",
    "\n",
    "    best_acc = None\n",
    "    best_model = None\n",
    "\n",
    "    for epoch in range(0, epochs):\n",
    "        print(f'*********Starting epoch {epoch+1}')\n",
    "        \n",
    "        print('start training :')\n",
    "        \n",
    "        train_loss = 0\n",
    "        total =0 \n",
    "        correct = 0\n",
    "        \n",
    "        net.train()\n",
    "\n",
    "        for i, data in enumerate(train_loader, 0):\n",
    "\n",
    "            inputs, labels = data\n",
    "\n",
    "            optimizer.zero_grad()\n",
    "            outputs = net(inputs)\n",
    "            outputss = outputs.squeeze(1) #### [10,1] ---> [10]\n",
    "\n",
    "            predicted = outputss.data > 0.0 # the loss function contain also a sigmoid layer <0 = false >0 =true\n",
    "\n",
    "            labels = labels.double()\n",
    "\n",
    "            loss = criterion(outputss, labels)\n",
    "\n",
    "            loss.backward()\n",
    "\n",
    "            optimizer.step() \n",
    "\n",
    "            train_loss += loss.item()\n",
    "            total += labels.size(0)\n",
    "            correct += (predicted == labels).sum().item()\n",
    "\n",
    "        print(f'acc_train :{100 * correct/total}')\n",
    "        print (f'loss_train = {train_loss/total}')\n",
    "        \n",
    "        wandb.log({ \"epoch\": epoch ,\"train_Loss\": train_loss/total, \"trian_acc\" :100 * correct /total })\n",
    "\n",
    "    \n",
    "        print('Training has finished') \n",
    "        print('starting validation :')\n",
    "\n",
    "        net.eval()\n",
    "\n",
    "        valid_loss=0\n",
    "        total=0\n",
    "        correct=0\n",
    "\n",
    "        with torch.no_grad():\n",
    "            for i, data in enumerate(valid_loader, 0):\n",
    "                #print(f'valid {i}')\n",
    "                inputs, labels = data\n",
    "\n",
    "                outputs = net(inputs)\n",
    "\n",
    "                outputss=outputs.squeeze(1) #[10,1] ---> [10]\n",
    "                labels=labels.double()\n",
    "\n",
    "                # prediction \n",
    "                predicted = outputss.data > 0.0 # the loss function contain also a sigmoid layer <0 = false >0 =tru\n",
    "\n",
    "                loss = criterion(outputss, labels)\n",
    "\n",
    "                valid_loss += loss.item()\n",
    "                total += labels.size(0)\n",
    "                correct += (predicted == labels).sum().item()\n",
    "\n",
    "            print(f'acc_valid :{100 * correct/total}')\n",
    "            print (f'loss_valid = {valid_loss/total}')\n",
    "            \n",
    "            wandb.log({ \"validation_acc\" :100 * correct /total, \"validation_Loss\": valid_loss/total })\n",
    "            \n",
    "            current_valid_acc =100 * correct/total\n",
    "            \n",
    "            if not best_acc or best_acc < current_valid_acc:\n",
    "                best_acc = current_valid_acc\n",
    "                best_model= net\n",
    "                \n",
    "                print('Saving trained and validated model with best accuracy.')\n",
    "                torch.save(net.state_dict(), 'best_model_gradcam_japanese')\n",
    "            \n",
    "        print('validation has finished.')\n",
    "        \n",
    "    return best_model      "
   ]
  },
  {
   "cell_type": "code",
   "execution_count": 6,
   "metadata": {
    "scrolled": true
   },
   "outputs": [],
   "source": [
    "def get_masks(validated_model, data_loader): # mask_type='grad_cam'\n",
    "    \n",
    "    masks = []\n",
    "    validated_model.eval()\n",
    "    \n",
    "    for i, data in enumerate(data_loader, 0):\n",
    "\n",
    "        image,labels =data\n",
    "\n",
    "        logit = validated_model(image)\n",
    "        logits= logit.mean()\n",
    "        logits.backward()\n",
    "\n",
    "        activation = validated_model.get_activations(image).detach()\n",
    "        #print(activation.size())\n",
    "        act_grad  = validated_model.get_activations_gradient() \n",
    "        #print(act_grad.size(),act_grad.type())\n",
    "\n",
    "        pool_act_grad= torch.mean(input=act_grad,dim=[2,3,4], keepdim=True)\n",
    "        activation = activation * pool_act_grad\n",
    "\n",
    "        heatmap = torch.sum(activation, dim=1)       \n",
    "        heatmap = F.relu(heatmap)\n",
    "        heatmap /= torch.max(heatmap)\n",
    "        heatmap = F.interpolate(heatmap.unsqueeze(0),(91,109,91), mode='trilinear', align_corners=False)\n",
    "\n",
    "        masks.append(heatmap.numpy())\n",
    "        \n",
    "    masks_grad_cam = np.concatenate(masks,axis=0).squeeze(axis=1)\n",
    "        \n",
    "    return masks_grad_cam"
   ]
  },
  {
   "cell_type": "markdown",
   "metadata": {},
   "source": [
    "### loading data summary measure"
   ]
  },
  {
   "cell_type": "code",
   "execution_count": 7,
   "metadata": {},
   "outputs": [],
   "source": [
    "import pandas as pd\n",
    "import os\n",
    "import torch\n",
    "from torch import nn\n",
    "from torch.utils.data import DataLoader, ConcatDataset, TensorDataset\n",
    "from torchvision import transforms\n",
    "from sklearn.model_selection import KFold\n",
    "import torch.optim as optim\n",
    "import torch.nn.functional as F\n",
    "import numpy as np\n",
    "import nibabel as nib\n",
    "import matplotlib.pyplot as plt\n",
    "from sklearn.model_selection import train_test_split\n",
    "from sklearn.metrics import accuracy_score, balanced_accuracy_score, f1_score,confusion_matrix\n",
    "from sklearn.metrics import confusion_matrix\n",
    "from sklearn.metrics import ConfusionMatrixDisplay\n",
    "from sklearn.metrics import roc_curve\n",
    "from sklearn.metrics import RocCurveDisplay\n",
    "import statistics\n",
    "from sklearn.model_selection import train_test_split, StratifiedKFold"
   ]
  },
  {
   "cell_type": "code",
   "execution_count": 8,
   "metadata": {},
   "outputs": [
    {
     "name": "stdout",
     "output_type": "stream",
     "text": [
      "406 401\n"
     ]
    }
   ],
   "source": [
    "control_base_path = '/dbstore/zmohaghegh/UKBiobank_subset/Summary_measure_new/Control/ReHo/ReHo_Normalised_z/'\n",
    "mdd_base_path = '/dbstore/zmohaghegh/UKBiobank_subset/Summary_measure_new/MDD/ReHo/ReHo_Normalised_z/'\n",
    "\n",
    "#define data path for control and MDD seprately\n",
    "\n",
    "control_files_path = [control_base_path + c for c in os.listdir(control_base_path) if c.startswith('R')]\n",
    "mdd_files_path = [mdd_base_path + m for m in os.listdir(mdd_base_path) if m.startswith('R')]\n",
    "print(len(control_files_path), len(mdd_files_path))"
   ]
  },
  {
   "cell_type": "code",
   "execution_count": 9,
   "metadata": {},
   "outputs": [],
   "source": [
    "#loading data seprately and set a label column for Control=0 and MDD=1 nested list \n",
    "\n",
    "control_dataset_reho_zero = [[nib.load(c).get_fdata(),0] for c in control_files_path]\n",
    "mdd_dataset_reho_zero = [[nib.load(m).get_fdata(),1] for m in mdd_files_path]"
   ]
  },
  {
   "cell_type": "code",
   "execution_count": 10,
   "metadata": {},
   "outputs": [
    {
     "name": "stdout",
     "output_type": "stream",
     "text": [
      "401\n",
      "0\n",
      "(91, 109, 91)\n",
      "406\n",
      "(91, 109, 91)\n"
     ]
    },
    {
     "name": "stderr",
     "output_type": "stream",
     "text": [
      "/data/zmohaghegh/venv/lib64/python3.6/site-packages/ipykernel_launcher.py:9: VisibleDeprecationWarning: Creating an ndarray from ragged nested sequences (which is a list-or-tuple of lists-or-tuples-or ndarrays with different lengths or shapes) is deprecated. If you meant to do this, you must specify 'dtype=object' when creating the ndarray\n",
      "  if __name__ == '__main__':\n",
      "/data/zmohaghegh/venv/lib64/python3.6/site-packages/ipykernel_launcher.py:10: VisibleDeprecationWarning: Creating an ndarray from ragged nested sequences (which is a list-or-tuple of lists-or-tuples-or ndarrays with different lengths or shapes) is deprecated. If you meant to do this, you must specify 'dtype=object' when creating the ndarray\n",
      "  # Remove the CWD from sys.path while we load stuff.\n"
     ]
    },
    {
     "data": {
      "text/plain": [
       "0"
      ]
     },
     "execution_count": 10,
     "metadata": {},
     "output_type": "execute_result"
    }
   ],
   "source": [
    "control_reho_zero_nan2= control_dataset_reho_zero\n",
    "mdd_reho_zero_nan2 = mdd_dataset_reho_zero\n",
    "\n",
    "print(len(mdd_reho_zero_nan2))\n",
    "print(control_reho_zero_nan2[0][1]) ### subject label \n",
    "print(mdd_reho_zero_nan2[0][0].shape) ### subject nifti -summary measure\n",
    "\n",
    "\n",
    "mdd_reho_zero_nan3 = np.array(mdd_reho_zero_nan2)\n",
    "control_reho_zero_nan3 =np.array(control_reho_zero_nan2)\n",
    "\n",
    "\n",
    "#####control\n",
    "print(len(control_reho_zero_nan2))\n",
    "print(control_reho_zero_nan2[0][0].shape)\n",
    "\n",
    "control_reho_zero_nan3[0][1]"
   ]
  },
  {
   "cell_type": "code",
   "execution_count": 11,
   "metadata": {},
   "outputs": [
    {
     "name": "stdout",
     "output_type": "stream",
     "text": [
      "(406, 2)\n",
      "(91, 109, 91)\n",
      "0\n",
      "0\n",
      "(2,)\n",
      "<class 'numpy.ndarray'>\n"
     ]
    }
   ],
   "source": [
    "#zero_nan_control\n",
    "print(control_reho_zero_nan3.shape)\n",
    "print(control_reho_zero_nan3[0][0].shape)\n",
    "print(control_reho_zero_nan3[0][1])\n",
    "print(control_reho_zero_nan3[100][1])\n",
    "print(control_reho_zero_nan3[0].shape)\n",
    "print(type(control_reho_zero_nan3))\n",
    "\n",
    "\n",
    "for i in range(len(control_dataset_reho_zero)):    \n",
    "    control_reho_zero_nan3[i][0] =np.nan_to_num(control_dataset_reho_zero[i][0],copy=True)\n",
    "    control_reho_zero_nan3[i][1] =np.nan_to_num(control_dataset_reho_zero[i][1],copy=True)"
   ]
  },
  {
   "cell_type": "code",
   "execution_count": 12,
   "metadata": {},
   "outputs": [
    {
     "name": "stdout",
     "output_type": "stream",
     "text": [
      "(401, 2)\n",
      "(91, 109, 91)\n",
      "<class 'numpy.ndarray'>\n"
     ]
    },
    {
     "data": {
      "text/plain": [
       "(401, 2)"
      ]
     },
     "execution_count": 12,
     "metadata": {},
     "output_type": "execute_result"
    }
   ],
   "source": [
    "#zero_nan_mdd\n",
    "\n",
    "print(mdd_reho_zero_nan3.shape)\n",
    "print(mdd_reho_zero_nan3[0][0].shape)\n",
    "print(type(mdd_reho_zero_nan3))\n",
    "\n",
    "for i in range(len(mdd_dataset_reho_zero)):    \n",
    "    mdd_reho_zero_nan3[i][0] =np.nan_to_num(mdd_dataset_reho_zero[i][0],copy=True)\n",
    "    mdd_reho_zero_nan3[i][1] =np.nan_to_num(mdd_dataset_reho_zero[i][1],copy=True)\n",
    "\n",
    "mdd_reho_zero_nan3.shape"
   ]
  },
  {
   "cell_type": "code",
   "execution_count": 13,
   "metadata": {},
   "outputs": [],
   "source": [
    "control_reho_4d_zero_nan = [[np.reshape(c[0], (1, 91, 109, 91)), c[1]] for c in control_reho_zero_nan3]\n",
    "mdd_reho_4d_zero_nan = [[np.reshape(m[0], (1, 91, 109, 91)), m[1]] for m in mdd_reho_zero_nan3]"
   ]
  },
  {
   "cell_type": "code",
   "execution_count": 14,
   "metadata": {},
   "outputs": [
    {
     "name": "stdout",
     "output_type": "stream",
     "text": [
      "(1, 91, 109, 91)\n",
      "0\n",
      "0\n"
     ]
    },
    {
     "data": {
      "text/plain": [
       "array([ 0.        ,  0.        ,  0.        ,  0.        ,  0.        ,\n",
       "        0.        ,  0.        ,  0.        ,  0.        ,  0.        ,\n",
       "        0.        ,  1.31026435,  1.34408677,  1.34430075,  1.28162777,\n",
       "        1.18847239,  1.07319665,  0.93523437,  0.82378072,  0.66678351,\n",
       "        0.44541788,  0.08238047, -0.19629201, -0.27754381, -0.33049449,\n",
       "       -0.31276432, -0.33512637, -0.22530442, -0.09944099, -0.19001211,\n",
       "       -0.4801808 , -0.75359291, -0.91668528, -0.8376472 , -0.89847213,\n",
       "       -0.76954871, -0.35365254, -0.42679313, -0.76959944, -0.99272984,\n",
       "       -0.89588839, -0.27528173,  0.11682796,  0.11155611, -0.05154822,\n",
       "       -0.17248252, -0.69322795, -1.68781829, -1.82296419, -1.69314516,\n",
       "       -1.78440464, -1.74946034, -1.58176041, -1.53866327, -2.20654583,\n",
       "       -2.52570367, -2.06375575, -1.66327453, -1.52375674, -1.37778902,\n",
       "       -1.16356814, -0.94626629, -0.67556   , -0.40097237, -0.15428519,\n",
       "       -0.11252058, -0.23324284, -0.23374924, -0.00633637,  0.35116929,\n",
       "        0.52928841,  0.68317628,  0.93497401,  1.15525401,  1.30105853,\n",
       "        1.37911391,  1.40592408,  1.37342322,  1.24561787,  1.23413801,\n",
       "        0.        ,  0.        ,  0.        ,  0.        ,  0.        ,\n",
       "        0.        ,  0.        ,  0.        ,  0.        ,  0.        ,\n",
       "        0.        ])"
      ]
     },
     "execution_count": 14,
     "metadata": {},
     "output_type": "execute_result"
    }
   ],
   "source": [
    "dataset_ukbb_reho_zero_nan= ConcatDataset([control_reho_4d_zero_nan, mdd_reho_4d_zero_nan])\n",
    "\n",
    "print(dataset_ukbb_reho_zero_nan[0][0].shape)\n",
    "print(dataset_ukbb_reho_zero_nan[400][1])\n",
    "print(dataset_ukbb_reho_zero_nan[210][1])\n",
    "\n",
    "dataset_ukbb_reho_zero_nan[400][0][0,:,54,45]"
   ]
  },
  {
   "cell_type": "code",
   "execution_count": 15,
   "metadata": {},
   "outputs": [
    {
     "data": {
      "text/plain": [
       "807"
      ]
     },
     "execution_count": 15,
     "metadata": {},
     "output_type": "execute_result"
    }
   ],
   "source": [
    "len(dataset_ukbb_reho_zero_nan)"
   ]
  },
  {
   "cell_type": "code",
   "execution_count": 16,
   "metadata": {},
   "outputs": [
    {
     "data": {
      "text/plain": [
       "2"
      ]
     },
     "execution_count": 16,
     "metadata": {},
     "output_type": "execute_result"
    }
   ],
   "source": [
    "len(dataset_ukbb_reho_zero_nan[0])"
   ]
  },
  {
   "cell_type": "code",
   "execution_count": 17,
   "metadata": {},
   "outputs": [
    {
     "data": {
      "text/plain": [
       "(1, 91, 109, 91)"
      ]
     },
     "execution_count": 17,
     "metadata": {},
     "output_type": "execute_result"
    }
   ],
   "source": [
    "dataset_ukbb_reho_zero_nan[0][0].shape"
   ]
  },
  {
   "cell_type": "code",
   "execution_count": 18,
   "metadata": {},
   "outputs": [],
   "source": [
    "X= np.zeros((807,1,91, 109, 91))"
   ]
  },
  {
   "cell_type": "code",
   "execution_count": 19,
   "metadata": {},
   "outputs": [],
   "source": [
    "for i in range(len(dataset_ukbb_reho_zero_nan)):\n",
    "    X[i,:,:,:,:]= dataset_ukbb_reho_zero_nan[i][0]"
   ]
  },
  {
   "cell_type": "code",
   "execution_count": 20,
   "metadata": {},
   "outputs": [
    {
     "data": {
      "text/plain": [
       "array([ 0.        ,  0.        ,  0.        ,  0.        ,  0.        ,\n",
       "        0.        ,  0.        ,  0.        ,  0.        ,  0.        ,\n",
       "        0.        ,  0.76217383,  0.69174898,  0.63581926,  0.6073904 ,\n",
       "        0.66648644,  0.76704597,  0.81617212,  0.76744598,  0.69569099,\n",
       "        0.5513109 ,  0.37866759,  0.33465496,  0.43882072,  0.58456254,\n",
       "        0.73302746,  0.83611375,  0.86925983,  0.82830834,  0.70931172,\n",
       "        0.57172877,  0.3654896 ,  0.19388156,  0.06707721,  0.19200125,\n",
       "        0.35886922,  0.38891232,  0.43781942,  0.11973609, -0.85917461,\n",
       "       -1.77019382, -2.4736836 , -2.64725947, -2.47713351, -2.38749409,\n",
       "       -2.39288902, -2.40874815, -2.40602469, -2.40947914, -2.47671771,\n",
       "       -2.31595826, -1.80851853, -1.09307146, -0.29517499, -0.03300609,\n",
       "       -0.07631877, -0.11759488, -0.05544051,  0.19912903,  0.31634346,\n",
       "        0.42705613,  0.50524592,  0.60037661,  0.6239202 ,  0.64384604,\n",
       "        0.68204331,  0.7527588 ,  0.76092184,  0.67594612,  0.70144403,\n",
       "        0.84210348,  0.9170289 ,  0.91020942,  0.87301624,  0.85415691,\n",
       "        0.86771715,  0.86331475,  0.75825882,  0.64090395,  0.6131416 ,\n",
       "        0.        ,  0.        ,  0.        ,  0.        ,  0.        ,\n",
       "        0.        ,  0.        ,  0.        ,  0.        ,  0.        ,\n",
       "        0.        ])"
      ]
     },
     "execution_count": 20,
     "metadata": {},
     "output_type": "execute_result"
    }
   ],
   "source": [
    "dataset_ukbb_reho_zero_nan[1][0][0,:,54,45]"
   ]
  },
  {
   "cell_type": "code",
   "execution_count": 21,
   "metadata": {},
   "outputs": [
    {
     "data": {
      "text/plain": [
       "(807, 1, 91, 109, 91)"
      ]
     },
     "execution_count": 21,
     "metadata": {},
     "output_type": "execute_result"
    }
   ],
   "source": [
    "X.shape"
   ]
  },
  {
   "cell_type": "code",
   "execution_count": 22,
   "metadata": {},
   "outputs": [
    {
     "data": {
      "text/plain": [
       "array([ 0.00000000e+00,  0.00000000e+00,  0.00000000e+00,  0.00000000e+00,\n",
       "        0.00000000e+00,  0.00000000e+00,  0.00000000e+00,  0.00000000e+00,\n",
       "        0.00000000e+00,  0.00000000e+00,  0.00000000e+00,  1.01864648e+00,\n",
       "        8.37042928e-01,  6.76359534e-01,  5.98962367e-01,  4.38008547e-01,\n",
       "       -3.03462557e-02, -6.60969913e-01, -8.09574664e-01, -5.86546838e-01,\n",
       "       -3.76819074e-01, -2.05229502e-03,  3.36695015e-01,  5.03626764e-01,\n",
       "        5.35209835e-01,  2.32292295e-01, -1.80770174e-01, -6.04689240e-01,\n",
       "       -8.74008238e-01, -8.95970464e-01, -7.73294985e-01, -5.88675320e-01,\n",
       "       -2.98190713e-01, -3.78859073e-01, -1.00868154e+00, -1.40709424e+00,\n",
       "       -1.45681405e+00, -2.19172287e+00, -2.43466282e+00, -2.20212746e+00,\n",
       "       -1.60374796e+00, -1.76433563e+00, -2.63044882e+00, -2.65422010e+00,\n",
       "       -2.72807527e+00, -2.26484060e+00, -1.58695221e+00, -1.21248817e+00,\n",
       "       -1.22374821e+00, -2.06073427e+00, -2.74004579e+00, -2.48910975e+00,\n",
       "       -1.80755651e+00, -1.47350383e+00, -1.47766268e+00, -1.18650210e+00,\n",
       "       -7.29392529e-01, -4.25895184e-01, -4.24882352e-01, -4.85774249e-01,\n",
       "       -6.47394300e-01, -8.08055639e-01, -7.20207274e-01, -4.72849995e-01,\n",
       "       -2.74679810e-01, -3.72161269e-01, -7.54641235e-01, -1.09387016e+00,\n",
       "       -1.41473579e+00, -1.65819001e+00, -1.20977676e+00, -3.67404789e-01,\n",
       "        1.83894634e-01,  4.97366607e-01,  5.21680713e-01,  4.67649221e-01,\n",
       "        4.34289455e-01,  2.35839069e-01,  3.51840258e-02,  9.67717990e-02,\n",
       "        0.00000000e+00,  0.00000000e+00,  0.00000000e+00,  0.00000000e+00,\n",
       "        0.00000000e+00,  0.00000000e+00,  0.00000000e+00,  0.00000000e+00,\n",
       "        0.00000000e+00,  0.00000000e+00,  0.00000000e+00])"
      ]
     },
     "execution_count": 22,
     "metadata": {},
     "output_type": "execute_result"
    }
   ],
   "source": [
    "X[0][0,:,54,45]"
   ]
  },
  {
   "cell_type": "code",
   "execution_count": 23,
   "metadata": {},
   "outputs": [
    {
     "name": "stdout",
     "output_type": "stream",
     "text": [
      "\u001b[34m\u001b[1mwandb\u001b[0m: Appending key for api.wandb.ai to your netrc file: /data/zmohaghegh/.netrc\r\n"
     ]
    }
   ],
   "source": [
    "import wandb\n",
    "!wandb login 390734ff44d817dbba59927d4eb542e564627b3b"
   ]
  },
  {
   "cell_type": "markdown",
   "metadata": {},
   "source": [
    "## Train model with grad hook"
   ]
  },
  {
   "cell_type": "code",
   "execution_count": 25,
   "metadata": {},
   "outputs": [
    {
     "name": "stdout",
     "output_type": "stream",
     "text": [
      "807\n",
      "564\n",
      "161\n",
      "82\n"
     ]
    }
   ],
   "source": [
    "#splitting\n",
    "\n",
    "dataset_size= len(dataset_ukbb_reho_zero_nan)\n",
    "train_count = int(0.7 * dataset_size) \n",
    "valid_count= int(0.2 * dataset_size)\n",
    "test_count = dataset_size - train_count -valid_count\n",
    "\n",
    "print(dataset_size)\n",
    "print(train_count)\n",
    "print(valid_count)\n",
    "print(test_count)"
   ]
  },
  {
   "cell_type": "code",
   "execution_count": 26,
   "metadata": {},
   "outputs": [],
   "source": [
    "# load data splits\n",
    "\n",
    "BATCH_SIZE = 1\n",
    "EPOCHS=20\n",
    "learning_rate= 0.00001\n",
    "\n",
    "train_dataset, valid_dataset, test_dataset = torch.utils.data.random_split(dataset_ukbb_reho_zero_nan, (train_count, valid_count,test_count))\n",
    "\n",
    "train_loader = torch.utils.data.DataLoader(train_dataset, batch_size=BATCH_SIZE, shuffle=True)  \n",
    "valid_loader  = torch.utils.data.DataLoader(valid_dataset , batch_size=BATCH_SIZE, shuffle=True)"
   ]
  },
  {
   "cell_type": "code",
   "execution_count": 27,
   "metadata": {},
   "outputs": [],
   "source": [
    "test_loader = torch.utils.data.DataLoader(test_dataset, batch_size=BATCH_SIZE, shuffle=False)"
   ]
  },
  {
   "cell_type": "code",
   "execution_count": 28,
   "metadata": {
    "scrolled": true
   },
   "outputs": [
    {
     "name": "stderr",
     "output_type": "stream",
     "text": [
      "\u001b[34m\u001b[1mwandb\u001b[0m: Currently logged in as: \u001b[33mzahramhn\u001b[0m (use `wandb login --relogin` to force relogin)\n"
     ]
    },
    {
     "data": {
      "text/html": [
       "\n",
       "                Tracking run with wandb version 0.10.20<br/>\n",
       "                Syncing run <strong style=\"color:#cdcd00\">dashing-pine-9</strong> to <a href=\"https://wandb.ai\" target=\"_blank\">Weights & Biases</a> <a href=\"https://docs.wandb.com/integrations/jupyter.html\" target=\"_blank\">(Documentation)</a>.<br/>\n",
       "                Project page: <a href=\"https://wandb.ai/zahramhn/Grad-Cam-japanese-reho\" target=\"_blank\">https://wandb.ai/zahramhn/Grad-Cam-japanese-reho</a><br/>\n",
       "                Run page: <a href=\"https://wandb.ai/zahramhn/Grad-Cam-japanese-reho/runs/3ircgmt2\" target=\"_blank\">https://wandb.ai/zahramhn/Grad-Cam-japanese-reho/runs/3ircgmt2</a><br/>\n",
       "                Run data is saved locally in <code>/data/zmohaghegh/TempStats_3D-CNN/wandb/run-20210710_134623-3ircgmt2</code><br/><br/>\n",
       "            "
      ],
      "text/plain": [
       "<IPython.core.display.HTML object>"
      ]
     },
     "metadata": {},
     "output_type": "display_data"
    },
    {
     "name": "stdout",
     "output_type": "stream",
     "text": [
      "*********Starting epoch 1\n",
      "start training :\n",
      "acc_train :52.304964539007095\n",
      "loss_train = 0.695609208893679\n",
      "Training has finished\n",
      "starting validation :\n",
      "acc_valid :52.17391304347826\n",
      "loss_valid = 0.6911419738957836\n",
      "Saving trained and validated model with best accuracy.\n",
      "validation has finished.\n",
      "*********Starting epoch 2\n",
      "start training :\n",
      "acc_train :52.4822695035461\n",
      "loss_train = 0.6904750432029377\n",
      "Training has finished\n",
      "starting validation :\n",
      "acc_valid :49.68944099378882\n",
      "loss_valid = 0.6907374187185912\n",
      "validation has finished.\n",
      "*********Starting epoch 3\n",
      "start training :\n",
      "acc_train :57.6241134751773\n",
      "loss_train = 0.6828105341975694\n",
      "Training has finished\n",
      "starting validation :\n",
      "acc_valid :55.27950310559006\n",
      "loss_valid = 0.6914678964488291\n",
      "Saving trained and validated model with best accuracy.\n",
      "validation has finished.\n",
      "*********Starting epoch 4\n",
      "start training :\n",
      "acc_train :57.4468085106383\n",
      "loss_train = 0.6777955169318465\n",
      "Training has finished\n",
      "starting validation :\n",
      "acc_valid :57.142857142857146\n",
      "loss_valid = 0.6967099765983295\n",
      "Saving trained and validated model with best accuracy.\n",
      "validation has finished.\n",
      "*********Starting epoch 5\n",
      "start training :\n",
      "acc_train :60.99290780141844\n",
      "loss_train = 0.6677565416635016\n",
      "Training has finished\n",
      "starting validation :\n",
      "acc_valid :49.06832298136646\n",
      "loss_valid = 0.6913073356781216\n",
      "validation has finished.\n",
      "*********Starting epoch 6\n",
      "start training :\n",
      "acc_train :61.347517730496456\n",
      "loss_train = 0.6538620225631172\n",
      "Training has finished\n",
      "starting validation :\n",
      "acc_valid :50.93167701863354\n",
      "loss_valid = 0.6965993341599476\n",
      "validation has finished.\n",
      "*********Starting epoch 7\n",
      "start training :\n",
      "acc_train :65.95744680851064\n",
      "loss_train = 0.6458192931475676\n",
      "Training has finished\n",
      "starting validation :\n",
      "acc_valid :51.5527950310559\n",
      "loss_valid = 0.7036455987381885\n",
      "validation has finished.\n",
      "*********Starting epoch 8\n",
      "start training :\n",
      "acc_train :65.95744680851064\n",
      "loss_train = 0.6384497521028722\n",
      "Training has finished\n",
      "starting validation :\n",
      "acc_valid :49.68944099378882\n",
      "loss_valid = 0.6943657060812861\n",
      "validation has finished.\n",
      "*********Starting epoch 9\n",
      "start training :\n",
      "acc_train :67.19858156028369\n",
      "loss_train = 0.6288946499636289\n",
      "Training has finished\n",
      "starting validation :\n",
      "acc_valid :54.6583850931677\n",
      "loss_valid = 0.6983049259845467\n",
      "validation has finished.\n",
      "*********Starting epoch 10\n",
      "start training :\n",
      "acc_train :67.90780141843972\n",
      "loss_train = 0.610886266637111\n",
      "Training has finished\n",
      "starting validation :\n",
      "acc_valid :54.037267080745345\n",
      "loss_valid = 0.6965102710051747\n",
      "validation has finished.\n",
      "*********Starting epoch 11\n",
      "start training :\n",
      "acc_train :68.08510638297872\n",
      "loss_train = 0.6041038367091652\n",
      "Training has finished\n",
      "starting validation :\n",
      "acc_valid :53.41614906832298\n",
      "loss_valid = 0.6951767154831832\n",
      "validation has finished.\n",
      "*********Starting epoch 12\n",
      "start training :\n",
      "acc_train :71.45390070921985\n",
      "loss_train = 0.589267637151157\n",
      "Training has finished\n",
      "starting validation :\n",
      "acc_valid :50.31055900621118\n",
      "loss_valid = 0.7210167779584351\n",
      "validation has finished.\n",
      "*********Starting epoch 13\n",
      "start training :\n",
      "acc_train :72.34042553191489\n",
      "loss_train = 0.5744461570214288\n",
      "Training has finished\n",
      "starting validation :\n",
      "acc_valid :49.68944099378882\n",
      "loss_valid = 0.7086276581106632\n",
      "validation has finished.\n",
      "*********Starting epoch 14\n",
      "start training :\n",
      "acc_train :73.93617021276596\n",
      "loss_train = 0.5609863069826787\n",
      "Training has finished\n",
      "starting validation :\n",
      "acc_valid :57.142857142857146\n",
      "loss_valid = 0.716180430517471\n",
      "validation has finished.\n",
      "*********Starting epoch 15\n",
      "start training :\n",
      "acc_train :76.24113475177305\n",
      "loss_train = 0.5322450206524857\n",
      "Training has finished\n",
      "starting validation :\n",
      "acc_valid :51.5527950310559\n",
      "loss_valid = 0.7511777204316007\n",
      "validation has finished.\n",
      "*********Starting epoch 16\n",
      "start training :\n",
      "acc_train :75.53191489361703\n",
      "loss_train = 0.5243118096052993\n",
      "Training has finished\n",
      "starting validation :\n",
      "acc_valid :52.17391304347826\n",
      "loss_valid = 0.7070646461257355\n",
      "validation has finished.\n",
      "*********Starting epoch 17\n",
      "start training :\n",
      "acc_train :78.01418439716312\n",
      "loss_train = 0.5108963947439839\n",
      "Training has finished\n",
      "starting validation :\n",
      "acc_valid :52.17391304347826\n",
      "loss_valid = 0.72493894340465\n",
      "validation has finished.\n",
      "*********Starting epoch 18\n",
      "start training :\n",
      "acc_train :80.1418439716312\n",
      "loss_train = 0.47528543664247597\n",
      "Training has finished\n",
      "starting validation :\n",
      "acc_valid :51.5527950310559\n",
      "loss_valid = 0.7629997802375506\n",
      "validation has finished.\n",
      "*********Starting epoch 19\n",
      "start training :\n",
      "acc_train :81.91489361702128\n",
      "loss_train = 0.460874747472816\n",
      "Training has finished\n",
      "starting validation :\n",
      "acc_valid :56.52173913043478\n",
      "loss_valid = 0.7278029491601301\n",
      "validation has finished.\n",
      "*********Starting epoch 20\n",
      "start training :\n",
      "acc_train :81.73758865248227\n",
      "loss_train = 0.4545555611478047\n",
      "Training has finished\n",
      "starting validation :\n",
      "acc_valid :55.900621118012424\n",
      "loss_valid = 0.7394138290171425\n",
      "validation has finished.\n"
     ]
    }
   ],
   "source": [
    "# training \n",
    "\n",
    "model = MriNetGrad()\n",
    "model = model.double()\n",
    "\n",
    "optimizer = optim.SGD(model.parameters(), momentum=0.9, lr = learning_rate, weight_decay=1e-3)\n",
    "criterion = nn.BCEWithLogitsLoss() #loss_function \n",
    "\n",
    "wandb.init(project='Grad-Cam-japanese-reho')  \n",
    "validated_network = train(EPOCHS, model, criterion, optimizer, train_loader, valid_loader)"
   ]
  },
  {
   "cell_type": "markdown",
   "metadata": {},
   "source": [
    "# Masking"
   ]
  },
  {
   "cell_type": "markdown",
   "metadata": {},
   "source": [
    "## Mask_type = gradcam  "
   ]
  },
  {
   "cell_type": "code",
   "execution_count": 29,
   "metadata": {
    "scrolled": true
   },
   "outputs": [],
   "source": [
    "masks_grad_cam = get_masks(validated_network,test_loader)\n",
    "np.save('masks_grad_cam', masks_grad_cam)"
   ]
  },
  {
   "cell_type": "code",
   "execution_count": 30,
   "metadata": {},
   "outputs": [
    {
     "data": {
      "text/plain": [
       "(807, 1, 91, 109, 91)"
      ]
     },
     "execution_count": 30,
     "metadata": {},
     "output_type": "execute_result"
    }
   ],
   "source": [
    "X.shape"
   ]
  },
  {
   "cell_type": "code",
   "execution_count": 31,
   "metadata": {},
   "outputs": [
    {
     "data": {
      "text/plain": [
       "(1, 91, 109, 91)"
      ]
     },
     "execution_count": 31,
     "metadata": {},
     "output_type": "execute_result"
    }
   ],
   "source": [
    "X[0].shape"
   ]
  },
  {
   "cell_type": "code",
   "execution_count": 32,
   "metadata": {},
   "outputs": [
    {
     "data": {
      "text/plain": [
       "(82, 91, 109, 91)"
      ]
     },
     "execution_count": 32,
     "metadata": {},
     "output_type": "execute_result"
    }
   ],
   "source": [
    "masks_grad_cam.shape"
   ]
  },
  {
   "cell_type": "code",
   "execution_count": 33,
   "metadata": {},
   "outputs": [
    {
     "name": "stdout",
     "output_type": "stream",
     "text": [
      "(91, 109, 91, 143)\n"
     ]
    },
    {
     "data": {
      "text/plain": [
       "array([ -2.26833916,  -1.8595928 ,  -1.42427039,  -1.14686942,\n",
       "        -1.45473552,  -1.76952899,  -1.90885258,  -2.31048894,\n",
       "        -2.85172582,  -3.35620451,  -3.98504066,  -7.26474142,\n",
       "       -12.09087276, -16.89986229, -23.30436325, -28.93794632,\n",
       "       -32.17663956, -33.31615067, -34.74957657, -37.29740143,\n",
       "       -37.6268158 , -38.11040497, -39.02143097, -40.45081329,\n",
       "       -42.21570969, -43.87636185, -45.87941742, -47.15038681,\n",
       "       -47.85300446, -48.25161362, -48.04007339, -47.17084885,\n",
       "       -45.85748672, -42.10831451, -38.32201385, -34.68455887,\n",
       "       -31.27863503, -28.39966393, -27.35427666, -26.98165131,\n",
       "       -27.36435509, -31.04919052, -34.80319977, -36.27709579,\n",
       "       -37.44638824, -35.11296844, -32.83330536, -30.51328087,\n",
       "       -28.53593063, -27.67544174, -27.00707817, -27.92362404,\n",
       "       -29.08426285, -32.25624084, -36.31266785, -40.36865997,\n",
       "       -45.28587723, -47.83198929, -49.04240799, -47.04821777,\n",
       "       -46.38208389, -50.13655853, -56.10609055, -61.59187317,\n",
       "       -62.3537178 , -61.99098206, -62.07277679, -61.95949936,\n",
       "       -62.13441086, -61.05341339, -60.84091187, -63.14291763,\n",
       "       -65.44541931, -67.05036926, -67.86598969, -63.69460678,\n",
       "       -59.43810272, -55.06350327, -50.18478394, -44.82223511,\n",
       "       -39.68119049, -34.91604614, -31.58983612, -29.52741241,\n",
       "       -26.30701447, -23.0652504 , -20.4723835 , -18.1608448 ,\n",
       "       -15.77732468, -13.36320782, -11.31306458,  -9.81994534,\n",
       "        -9.75420475, -12.71816921, -15.19574928, -14.54836845,\n",
       "       -13.28287506,  -9.2226553 ,  -5.22490406,  -3.86313152,\n",
       "        -4.00349903,  -3.73190975,  -2.70522547,  -0.18423247,\n",
       "         3.84989214,   4.36599064,   2.46391296,   0.95584744,\n",
       "        -0.67109418])"
      ]
     },
     "execution_count": 33,
     "metadata": {},
     "output_type": "execute_result"
    }
   ],
   "source": [
    "import nibabel as nib\n",
    "\n",
    "subject_mni_path='/dbstore/zmohaghegh/Japanese_subset/new_preprocessed/MDD/sub-0237/subject_preprocessed.nii.gz'\n",
    "\n",
    "MNI_subject_nifti= nib.load(subject_mni_path)\n",
    "\n",
    "MNI_subject= MNI_subject_nifti.get_fdata()\n",
    "print(MNI_subject.shape)\n",
    "np.count_nonzero(MNI_subject)\n",
    "MNI_subject[22,:,22,22]"
   ]
  },
  {
   "cell_type": "markdown",
   "metadata": {},
   "source": [
    "### visualization : plotting ROI"
   ]
  },
  {
   "cell_type": "code",
   "execution_count": 34,
   "metadata": {},
   "outputs": [
    {
     "data": {
      "image/png": "[encoded data removed]",
      "text/plain": [
       "<Figure size 720x360 with 5 Axes>"
      ]
     },
     "metadata": {
      "needs_background": "light"
     },
     "output_type": "display_data"
    }
   ],
   "source": [
    "fig, axes = plt.subplots(figsize=(10,5))\n",
    "\n",
    "ROI_img = nib.Nifti1Image(masks_grad_cam.mean(axis=0),affine=np.eye(4))\n",
    "\n",
    "template_img  = nib.Nifti1Image(np.squeeze(X[0]),affine=np.eye(4))\n",
    "\n",
    "plotting.plot_roi(ROI_img,template_img,cut_coords=(45,54,35), axes=axes,colorbar=True,cmap='jet',threshold=0.35)\n",
    "plt.show()\n",
    "\n",
    "fig.savefig(\"grad_cam.png\", bbox_inches='tight')"
   ]
  },
  {
   "cell_type": "markdown",
   "metadata": {},
   "source": [
    "## Mask_type= Guided Back-propagation"
   ]
  },
  {
   "cell_type": "code",
   "execution_count": null,
   "metadata": {},
   "outputs": [],
   "source": [
    "# guided backpropagation\n",
    "\n",
    "masks_guided_BP = get_masks(model, loader, device, mask_type='guided_backprop')"
   ]
  },
  {
   "cell_type": "code",
   "execution_count": null,
   "metadata": {},
   "outputs": [],
   "source": [
    "if isTrain:\n",
    "masks_gb = grad_cam.get_masks(model, loader, device, mask_type='guided_backprop')\n",
    "    np.save(os.path.join(CHECKPOINTS_DIR,'masks_gb'), masks_gb)\n",
    "else:\n",
    "    masks_gb =  np.load(os.path.join(CHECKPOINTS_DIR, 'masks_gb.npy'))\n",
    "    \n",
    "fig, axes = plt.subplots(figsize=(10,5))\n",
    "roi_img = nib.Nifti1Image(masks_gb.mean(axis=0),affine=np.eye(4))\n",
    "bim_img  = nib.Nifti1Image(np.squeeze(X[0]),affine=np.eye(4))\n",
    "plotting.plot_roi(roi_img,bim_img,cut_coords=(25,25,35), axes=axes,colorbar=True,cmap='jet',threshold=0.04)\n",
    "plt.show()\n",
    "fig.savefig(\"guided backpropagation.png\", bbox_inches='tight')"
   ]
  },
  {
   "cell_type": "markdown",
   "metadata": {},
   "source": [
    "## kfold training"
   ]
  },
  {
   "cell_type": "code",
   "execution_count": null,
   "metadata": {},
   "outputs": [],
   "source": [
    "train_dataset_cv, test_dataset_cv = train_test_split(dataset_japan_reho_zero_nan, test_size=0.20, train_size=0.8,shuffle=True)\n",
    "print(len(train_dataset_cv))\n",
    "print(len(test_dataset_cv))"
   ]
  },
  {
   "cell_type": "code",
   "execution_count": null,
   "metadata": {},
   "outputs": [],
   "source": [
    "\n",
    "\n",
    "wandb.init(project='Grad-Cam-japanese-reho')  \n",
    "\n",
    "k_folds = 5\n",
    "kfold_results = {}\n",
    "\n",
    "# StratifiedKFold instead of KFOLD for balanced number of class for each fold\n",
    "kfold = KFold(n_splits=k_folds, shuffle=True)  \n",
    "\n",
    "#Hyper parameter\n",
    "num_epochs = 20\n",
    "batch_size = 1\n",
    "learning_rate= 0.00001\n",
    "\n",
    "\n",
    "#Define a Loss function \n",
    "criterion = nn.BCEWithLogitsLoss()\n",
    "\n",
    "for fold, (train_ids, valid_ids) in enumerate(kfold.split(train_dataset_cv)):\n",
    "    best_loss_cv= None\n",
    "    \n",
    "    print(f\"FOLD {fold}\\n--------------------------------\")\n",
    "    \n",
    "    # Sample elements randomly from a given list of ids,\n",
    "    train_subsampler = torch.utils.data.SubsetRandomSampler(train_ids)\n",
    "    valid_subsampler = torch.utils.data.SubsetRandomSampler(valid_ids)\n",
    "    \n",
    "    # Define data loaders for training and testing data in this fold\n",
    "    train_loader = torch.utils.data.DataLoader(train_dataset_cv, batch_size=batch_size, sampler=train_subsampler)\n",
    "    valid_loader = torch.utils.data.DataLoader(train_dataset_cv, batch_size=batch_size, sampler=valid_subsampler)\n",
    "    \n",
    "    #define network\n",
    "    network = MriNetGrad()\n",
    "    network = network.double()\n",
    "    \n",
    "    # create our optimizer\n",
    "    optimizer = optim.SGD(network.parameters(), momentum=0.9, lr = learning_rate, weight_decay=1e-3)\n",
    "    \n",
    "    # in the training loop:\n",
    "    \n",
    "    validated_network = train(num_epochs, network, criterion, optimizer, train_loader, valid_loader)\n",
    "    "
   ]
  },
  {
   "cell_type": "markdown",
   "metadata": {},
   "source": [
    "## debuging"
   ]
  },
  {
   "cell_type": "code",
   "execution_count": null,
   "metadata": {},
   "outputs": [],
   "source": [
    "masks[1].shape"
   ]
  },
  {
   "cell_type": "code",
   "execution_count": null,
   "metadata": {},
   "outputs": [],
   "source": [
    "print(len(masks))\n",
    "masks_grad_cam = np.concatenate(masks,axis=0)\n",
    "print(masks_grad_cam.shape)\n",
    "masks_grad_cam=masks_grad_cam.squeeze(axis=1)\n",
    "masks_grad_cam.shape"
   ]
  },
  {
   "cell_type": "code",
   "execution_count": null,
   "metadata": {},
   "outputs": [],
   "source": [
    "mean_masks_grad_cam=masks_grad_cam.mean(axis=0)\n",
    "mean_masks_grad_cam.shape"
   ]
  },
  {
   "cell_type": "code",
   "execution_count": null,
   "metadata": {},
   "outputs": [],
   "source": [
    "masks_grad_cam = get_masks(validated_network,test_loader, mask_type='grad_cam')"
   ]
  },
  {
   "cell_type": "code",
   "execution_count": null,
   "metadata": {},
   "outputs": [],
   "source": [
    "plot_roi"
   ]
  },
  {
   "cell_type": "markdown",
   "metadata": {},
   "source": [
    "## Training model on whole data and saving "
   ]
  },
  {
   "cell_type": "code",
   "execution_count": null,
   "metadata": {},
   "outputs": [],
   "source": [
    "dataset = MriData(X, y)\n",
    "loader = torch_data.DataLoader(dataset, batch_size=45, shuffle=True)  #45 - recommended value for batchsize\n",
    "\n",
    "model = MriNetGrad()\n",
    "criterion = nn.CrossEntropyLoss()\n",
    "optimizer = torch.optim.Adam(model.parameters(), lr=3e-4)\n",
    "scheduler = torch.optim.lr_scheduler.MultiStepLR(optimizer, milestones=[5, 15], gamma=0.1)\n",
    "_, _, _, _ = train(EPOCHS, model, criterion, optimizer, loader, loader, device, scheduler=scheduler, save=True, verbose=False,CHECKPOINTS_DIR=CHECKPOINTS_DIR, prefix='_all_grad') "
   ]
  },
  {
   "cell_type": "markdown",
   "metadata": {},
   "source": [
    "## Masking : mask_type= meaningfull perturbation"
   ]
  },
  {
   "cell_type": "code",
   "execution_count": null,
   "metadata": {},
   "outputs": [],
   "source": [
    "if isTrain:\n",
    "    loader = torch_data.DataLoader(dataset, batch_size=30, shuffle=False)\n",
    "    net = mri_model.MriNet(C)\n",
    "    net.load_state_dict(torch.load(os.path.join(CHECKPOINTS_DIR, 'best_model_all'), map_location=device))#change path\n",
    "    net = net.float()\n",
    "    net.eval()\n",
    "    for param in net.parameters():\n",
    "        param.requires_grad = False\n",
    "    pred = np.concatenate(get_prediction(net, loader, device), axis=0)\n",
    "    pertrub = MeanPertrub(device)\n",
    "    masks_pertrub = pertrub.get_masks(X[:2], pred[:2], net)\n",
    "    np.save(os.path.join(CHECKPOINTS_DIR,'masks_pertrub'), masks_pertrub)\n",
    "else:\n",
    "    masks_pertrub = np.load(os.path.join(CHECKPOINTS_DIR,'masks_pertrub.npy'))"
   ]
  },
  {
   "cell_type": "code",
   "execution_count": null,
   "metadata": {},
   "outputs": [],
   "source": [
    "man_idx = np.arange(y.shape[0])[y == 1]\n",
    "woman_idx = np.arange(y.shape[0])[y == 0]\n",
    "man_masks = masks_pertrub[man_idx]\n",
    "man_mean_mask = np.mean(man_masks, axis=0)\n",
    "woman_masks = masks_pertrub[woman_idx]\n",
    "woman_mean_mask = np.mean(woman_masks, axis=0)\n",
    "mean_mask = man_mean_mask + woman_mean_mask"
   ]
  },
  {
   "cell_type": "code",
   "execution_count": null,
   "metadata": {},
   "outputs": [],
   "source": [
    "fig, axes = plt.subplots(figsize=(10,5))\n",
    "roi_img = nib.Nifti1Image(np.clip(mean_mask, a_min=0, a_max=1), affine=np.eye(4))\n",
    "bim_img  = nib.Nifti1Image(np.squeeze(X[0]),affine=np.eye(4))\n",
    "plotting.plot_roi(roi_img,bim_img,cut_coords=(25,25,35), axes=axes,colorbar=True,cmap='jet',threshold=0.55)\n",
    "plt.show()\n",
    "fig.savefig('meaningful perturbation.png', bbox_inches='tight')"
   ]
  },
  {
   "cell_type": "markdown",
   "metadata": {},
   "source": [
    "## training"
   ]
  },
  {
   "cell_type": "code",
   "execution_count": null,
   "metadata": {},
   "outputs": [],
   "source": [
    "skf = StratifiedKFold(n_splits=10, shuffle=True, random_state=42)\n",
    "EPOCHS = 20\n",
    "m = 0\n",
    "cross_mask =[]\n",
    "\n",
    "\n",
    "for Mask in [man_mean_mask, woman_mean_mask, mean_mask]:\n",
    "    torch.manual_seed(82)\n",
    "    torch.cuda.manual_seed(82)\n",
    "    np.random.seed(82)\n",
    "    print('Doing {} mask'.format(m))\n",
    "    m += 1\n",
    "    cross_vall_acc_list = []\n",
    "    j = 0\n",
    "    for train_index, test_index in skf.split(X, y,):\n",
    "        print('Doing {} split'.format(j))\n",
    "        j += 1\n",
    "    \n",
    "        X_train, X_test = X[train_index], X[test_index]\n",
    "        y_train, y_test = y[train_index], y[test_index]\n",
    "        train_dataset = mri_model.MriData(X_train, y_train)\n",
    "        val_dataset = mri_model.MriData(X_test * Mask, y_test)\n",
    "        train_loader = torch_data.DataLoader(train_dataset, batch_size=45, shuffle=True)  #45 - recommended value for batchsize\n",
    "        val_loader = torch_data.DataLoader(val_dataset, batch_size=28, shuffle=False) \n",
    "        \n",
    "        model = mri_model.MriNet(C)\n",
    "        criterion = nn.NLLLoss( )\n",
    "        optimizer = torch.optim.Adam(model.parameters(), lr=3e-4)\n",
    "        scheduler = torch.optim.lr_scheduler.MultiStepLR(optimizer, milestones=[5, 15], gamma=0.1)\n",
    "    \n",
    "        train(EPOCHS, model, criterion, optimizer, train_loader, val_loader,device,scheduler=scheduler, save=False, verbose=False) \n",
    "        cross_vall_acc_list.append(get_accuracy(model, val_loader, device))\n",
    "    cross_mask.append(cross_vall_acc_list)\n",
    "    \n",
    "cv_acc = np.array(cross_mask)\n",
    "np.save(os.path.join(CHECKPOINTS_DIR, 'cv_masks'), cv_acc)"
   ]
  },
  {
   "cell_type": "code",
   "execution_count": null,
   "metadata": {},
   "outputs": [],
   "source": [
    "print('Mean cross-validation accuracy for man mask (10-folds):', np.mean(cv_acc[0]))\n",
    "print('Std cross-validation accuracy for man mask (10-folds):', np.std(cv_acc[0], ddof=1))\n",
    "print()\n",
    "print('Mean cross-validation accuracy for woman mask (10-folds):', np.mean(cv_acc[1]))\n",
    "print('Std cross-validation accuracy for woman mask (10-folds):', np.std(cv_acc[1], ddof=1))\n",
    "print()\n",
    "print('Mean cross-validation accuracy for conj mask (10-folds):', np.mean(cv_acc[2]))\n",
    "print('Std cross-validation accuracy for conj mask (10-folds):', np.std(cv_acc[2], ddof=1))"
   ]
  },
  {
   "cell_type": "markdown",
   "metadata": {},
   "source": [
    "## feature analysis"
   ]
  },
  {
   "cell_type": "code",
   "execution_count": null,
   "metadata": {},
   "outputs": [],
   "source": [
    "X, y = np.load('/workspace/InterpretableNeuroDL/data/tensors.npy'), np.load('/workspace/InterpretableNeuroDL/data/labels.npy')#change path \n",
    "X = X[:, None,:,:,:]\n",
    "print(X.shape, y.shape)\n",
    "dataset = mri_model.MriData(X, y)\n",
    "C = 32"
   ]
  },
  {
   "cell_type": "code",
   "execution_count": null,
   "metadata": {},
   "outputs": [],
   "source": [
    "model = MriNet(c)\n",
    "#summary(model, (1, 58, 70, 58))\n",
    "mri_dataset = MriData(X, y)\n",
    "mri_data_loader = torch.utils.data.DataLoader(mri_dataset, batch_size=47, shuffle=False) \n",
    "\n",
    "model.eval()\n",
    "exists = False\n",
    "\n",
    "for data, target in mri_data_loader:\n",
    "    data = data.to(device)\n",
    "    target = target.to(device)\n",
    "    features = model.hidden1(data)\n",
    "    \n",
    "    #male features\n",
    "    if exists:\n",
    "        male_features = np.vstack([male_features, features[torch.where(target == 1)].detach().mean(axis=(2,3,4)).cpu().numpy()])\n",
    "        male_entropy = np.vstack([male_entropy, count_entropy(features[torch.where(target == 1)].detach().cpu().numpy())])\n",
    "    else:\n",
    "        male_features = features[torch.where(target == 1)].detach().mean(axis=(2,3,4)).cpu().numpy()\n",
    "        male_entropy = count_entropy(features[torch.where(target == 1)].detach().cpu().numpy())\n",
    "\n",
    "    #female features\n",
    "    if exists:\n",
    "        female_features = np.vstack([female_features, features[torch.where(target == 0)].detach().mean(axis=(2,3,4)).cpu().numpy()])\n",
    "        female_entropy = np.vstack([female_entropy, count_entropy(features[torch.where(target == 0)].detach().cpu().numpy())])\n",
    "    else:\n",
    "        female_features = features[torch.where(target == 0)].detach().mean(axis=(2,3,4)).cpu().numpy()\n",
    "        female_entropy = count_entropy(features[torch.where(target == 0)].detach().cpu().numpy())\n",
    "        exists = True\n",
    "    \n",
    "    del data, target, features"
   ]
  },
  {
   "cell_type": "markdown",
   "metadata": {},
   "source": [
    "### Between-group differencies of 32 features mean voxel values"
   ]
  },
  {
   "cell_type": "code",
   "execution_count": null,
   "metadata": {},
   "outputs": [],
   "source": [
    "m = male_features.mean(axis=0)\n",
    "f = female_features.mean(axis=0)\n",
    "m_ci = 2*male_features.std(axis=0)/np.sqrt(len(male_features))\n",
    "f_ci = 2*female_features.std(axis=0)/np.sqrt(len(female_features))"
   ]
  }
 ],
 "metadata": {
  "kernelspec": {
   "display_name": "Python 3",
   "language": "python",
   "name": "python3"
  },
  "language_info": {
   "codemirror_mode": {
    "name": "ipython",
    "version": 3
   },
   "file_extension": ".py",
   "mimetype": "text/x-python",
   "name": "python",
   "nbconvert_exporter": "python",
   "pygments_lexer": "ipython3",
   "version": "3.8.3"
  }
 },
 "nbformat": 4,
 "nbformat_minor": 5
}

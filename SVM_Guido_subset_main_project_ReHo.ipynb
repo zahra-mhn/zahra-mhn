{
 "cells": [
  {
   "cell_type": "markdown",
   "metadata": {},
   "source": [
    "# svm_Guido subset_ main thesis project -ReHo"
   ]
  },
  {
   "cell_type": "code",
   "execution_count": 1,
   "metadata": {},
   "outputs": [],
   "source": [
    "import pandas as pd\n",
    "import os\n",
    "import torch\n",
    "from torch import nn\n",
    "from torchvision.datasets import MNIST\n",
    "from torch.utils.data import DataLoader, ConcatDataset, TensorDataset\n",
    "from torchvision import transforms\n",
    "from sklearn.model_selection import KFold\n",
    "import torch.optim as optim\n",
    "import torch.nn.functional as F\n",
    "import numpy as np\n",
    "import nibabel as nib\n",
    "import matplotlib.pyplot as plt\n",
    "from sklearn.model_selection import train_test_split"
   ]
  },
  {
   "cell_type": "markdown",
   "metadata": {},
   "source": [
    "## start of classsification using Reho"
   ]
  },
  {
   "cell_type": "code",
   "execution_count": 2,
   "metadata": {},
   "outputs": [
    {
     "name": "stdout",
     "output_type": "stream",
     "text": [
      "406 288\n"
     ]
    }
   ],
   "source": [
    "control_base_path = '/dbstore/zmohaghegh/UKBiobank_subset/summary_measures_2018/ReHo_Control_guido_subset/ReHo_Normalised_z/'\n",
    "mdd_base_path = '/dbstore/zmohaghegh/UKBiobank_subset/summary_measures_2018/ReHo_MDD_guido_subset/ReHo_Normalised_z/'\n",
    "\n",
    "#define data path for control and MDD seprately\n",
    "\n",
    "control_files_path = [control_base_path + f for f in os.listdir(control_base_path) if f.startswith('ReHo')]\n",
    "mdd_files_path = [mdd_base_path + f for f in os.listdir(mdd_base_path) if f.startswith('ReHo')]\n",
    "print(len(control_files_path), len(mdd_files_path))"
   ]
  },
  {
   "cell_type": "markdown",
   "metadata": {},
   "source": [
    "### load data with nan "
   ]
  },
  {
   "cell_type": "code",
   "execution_count": 3,
   "metadata": {},
   "outputs": [],
   "source": [
    "#loading data seprately and set a label column for Control=0 and MDD=1\n",
    "\n",
    "control_dataset_reho_zero = [nib.load(c).get_fdata() for c in control_files_path]\n",
    "control_labels = np.zeros((406))\n",
    "mdd_dataset_reho_zero = [nib.load(m).get_fdata() for m in mdd_files_path]\n",
    "mdd_labels = np.ones((288))"
   ]
  },
  {
   "cell_type": "markdown",
   "metadata": {},
   "source": [
    "##### define numpy array for doing the zero nan"
   ]
  },
  {
   "cell_type": "code",
   "execution_count": 4,
   "metadata": {},
   "outputs": [
    {
     "name": "stdout",
     "output_type": "stream",
     "text": [
      "(91, 109, 91)\n",
      "288\n",
      "(91, 109, 91)\n",
      "406\n"
     ]
    }
   ],
   "source": [
    "control_reho_zero_nan2= control_dataset_reho_zero\n",
    "mdd_reho_zero_nan2 = mdd_dataset_reho_zero\n",
    "\n",
    "print(mdd_reho_zero_nan2[0].shape)\n",
    "print(len(mdd_reho_zero_nan2))\n",
    "#print(mdd_reho_zero_nan2[0])\n",
    "\n",
    "mdd_reho_zero_nan3 = np.array(mdd_reho_zero_nan2)\n",
    "control_reho_zero_nan3 =np.array(control_reho_zero_nan2)\n",
    "print(control_reho_zero_nan2[0].shape)\n",
    "print(len(control_reho_zero_nan2))\n",
    "\n",
    "#control_reho_zero_nan3[0]"
   ]
  },
  {
   "cell_type": "code",
   "execution_count": 5,
   "metadata": {},
   "outputs": [
    {
     "data": {
      "text/plain": [
       "288"
      ]
     },
     "execution_count": 5,
     "metadata": {},
     "output_type": "execute_result"
    }
   ],
   "source": [
    "len(mdd_dataset_reho_zero)"
   ]
  },
  {
   "cell_type": "code",
   "execution_count": 6,
   "metadata": {},
   "outputs": [
    {
     "data": {
      "text/plain": [
       "406"
      ]
     },
     "execution_count": 6,
     "metadata": {},
     "output_type": "execute_result"
    }
   ],
   "source": [
    "len(control_dataset_reho_zero)"
   ]
  },
  {
   "cell_type": "code",
   "execution_count": 7,
   "metadata": {},
   "outputs": [
    {
     "data": {
      "text/plain": [
       "91"
      ]
     },
     "execution_count": 7,
     "metadata": {},
     "output_type": "execute_result"
    }
   ],
   "source": [
    "len(mdd_dataset_reho_zero[0])\n",
    "len(control_dataset_reho_zero[0])"
   ]
  },
  {
   "cell_type": "code",
   "execution_count": 8,
   "metadata": {},
   "outputs": [
    {
     "data": {
      "text/plain": [
       "(91, 109, 91)"
      ]
     },
     "execution_count": 8,
     "metadata": {},
     "output_type": "execute_result"
    }
   ],
   "source": [
    "mdd_dataset_reho_zero[0].shape\n",
    "control_dataset_reho_zero[0].shape"
   ]
  },
  {
   "cell_type": "code",
   "execution_count": 9,
   "metadata": {},
   "outputs": [
    {
     "data": {
      "text/plain": [
       "array([        nan,         nan,         nan,         nan,         nan,\n",
       "               nan,         nan,         nan,         nan,         nan,\n",
       "               nan,         nan,         nan,         nan,         nan,\n",
       "               nan,  1.68043089,  1.56969142,  1.86985874,  1.86096191,\n",
       "        1.93146718,  2.11725903,  2.55462217,  1.91065693,  0.50844282,\n",
       "        0.05930695,  0.66814291,  1.64210677,  1.08213818,  0.25858074,\n",
       "       -0.56684363, -0.7189495 , -1.00350475, -1.3447212 , -1.21441877,\n",
       "       -1.15065515, -1.24084473, -0.9478718 , -0.31155097, -0.26281989,\n",
       "       -0.07350048,  0.28912649,  0.87050122,  1.24497306,  1.28742945,\n",
       "        1.01400137,  1.10193563,  1.00789368,  0.5122267 , -0.2069111 ,\n",
       "       -0.59625113, -0.91880149, -1.0220412 , -0.95108175, -0.74096751,\n",
       "       -0.69755989, -1.0146656 , -0.39677244, -0.46503615, -0.83524621,\n",
       "       -0.38343135, -0.36499518, -0.55830753, -0.06751805,  1.04009187,\n",
       "        1.75702274,  1.7453953 ,  0.46958524, -0.02432077,  0.23539945,\n",
       "        0.79556984,  1.27290535,  1.64042091,  1.55074537,  1.17592084,\n",
       "        1.17333663,         nan,         nan,         nan,         nan,\n",
       "               nan,         nan,         nan,         nan,         nan,\n",
       "               nan,         nan,         nan,         nan,         nan,\n",
       "               nan])"
      ]
     },
     "execution_count": 9,
     "metadata": {},
     "output_type": "execute_result"
    }
   ],
   "source": [
    "control_dataset_reho_zero[400][:,34,56]"
   ]
  },
  {
   "cell_type": "code",
   "execution_count": 10,
   "metadata": {},
   "outputs": [
    {
     "data": {
      "text/plain": [
       "array([        nan,         nan,         nan,         nan,         nan,\n",
       "               nan,         nan,         nan,         nan,         nan,\n",
       "               nan,         nan,         nan,         nan,         nan,\n",
       "               nan,  1.61047339,  1.77807271,  1.7013253 ,  1.39898086,\n",
       "        1.33440161,  1.58714914,  1.79297769,  1.71759427,  0.82062691,\n",
       "       -0.28643134,  0.02608258,  1.44496298,  1.79902351,  0.89062357,\n",
       "       -0.1175086 , -0.39969423, -0.91698033, -1.10948527, -1.04074872,\n",
       "       -1.08609724, -1.21075296, -1.36051333, -1.39010167, -0.93246561,\n",
       "        0.255503  ,  1.13637698,  1.01420772,  1.13140702,  1.07804942,\n",
       "        0.97265822,  1.00109255,  2.12645841,  1.31568182,  1.10955155,\n",
       "        1.09693825, -0.48187041, -1.00842035, -1.31914806, -0.64701831,\n",
       "       -1.24585545, -1.60447073, -0.34008807,  0.080991  , -0.48761007,\n",
       "       -0.69806671, -0.14730394,  0.27225262,  0.41571775,  0.33710229,\n",
       "       -0.08484425, -0.77901256, -0.30997238,  0.58442497,  1.1817795 ,\n",
       "        1.04631078,  1.06315839,  1.56050813,  2.13081431,  2.35813928,\n",
       "        2.28504539,         nan,         nan,         nan,         nan,\n",
       "               nan,         nan,         nan,         nan,         nan,\n",
       "               nan,         nan,         nan,         nan,         nan,\n",
       "               nan])"
      ]
     },
     "execution_count": 10,
     "metadata": {},
     "output_type": "execute_result"
    }
   ],
   "source": [
    "mdd_dataset_reho_zero[200][:,34,56]"
   ]
  },
  {
   "cell_type": "code",
   "execution_count": 11,
   "metadata": {},
   "outputs": [
    {
     "data": {
      "text/plain": [
       "array([ 0.        ,  0.        ,  0.        ,  0.        ,  0.        ,\n",
       "        0.        ,  0.        ,  0.        ,  0.        ,  0.        ,\n",
       "        0.        ,  0.        ,  0.        ,  0.        ,  0.        ,\n",
       "        0.        ,  1.68043089,  1.56969142,  1.86985874,  1.86096191,\n",
       "        1.93146718,  2.11725903,  2.55462217,  1.91065693,  0.50844282,\n",
       "        0.05930695,  0.66814291,  1.64210677,  1.08213818,  0.25858074,\n",
       "       -0.56684363, -0.7189495 , -1.00350475, -1.3447212 , -1.21441877,\n",
       "       -1.15065515, -1.24084473, -0.9478718 , -0.31155097, -0.26281989,\n",
       "       -0.07350048,  0.28912649,  0.87050122,  1.24497306,  1.28742945,\n",
       "        1.01400137,  1.10193563,  1.00789368,  0.5122267 , -0.2069111 ,\n",
       "       -0.59625113, -0.91880149, -1.0220412 , -0.95108175, -0.74096751,\n",
       "       -0.69755989, -1.0146656 , -0.39677244, -0.46503615, -0.83524621,\n",
       "       -0.38343135, -0.36499518, -0.55830753, -0.06751805,  1.04009187,\n",
       "        1.75702274,  1.7453953 ,  0.46958524, -0.02432077,  0.23539945,\n",
       "        0.79556984,  1.27290535,  1.64042091,  1.55074537,  1.17592084,\n",
       "        1.17333663,  0.        ,  0.        ,  0.        ,  0.        ,\n",
       "        0.        ,  0.        ,  0.        ,  0.        ,  0.        ,\n",
       "        0.        ,  0.        ,  0.        ,  0.        ,  0.        ,\n",
       "        0.        ])"
      ]
     },
     "execution_count": 11,
     "metadata": {},
     "output_type": "execute_result"
    }
   ],
   "source": [
    "#example control\n",
    "zero_nan_control_800= np.nan_to_num(control_dataset_reho_zero[400],copy=True)\n",
    "zero_nan_control_800[:,34,56]"
   ]
  },
  {
   "cell_type": "code",
   "execution_count": 12,
   "metadata": {},
   "outputs": [
    {
     "data": {
      "text/plain": [
       "array([ 0.        ,  0.        ,  0.        ,  0.        ,  0.        ,\n",
       "        0.        ,  0.        ,  0.        ,  0.        ,  0.        ,\n",
       "        0.        ,  0.        ,  0.        ,  0.        ,  0.        ,\n",
       "        0.        ,  1.61047339,  1.77807271,  1.7013253 ,  1.39898086,\n",
       "        1.33440161,  1.58714914,  1.79297769,  1.71759427,  0.82062691,\n",
       "       -0.28643134,  0.02608258,  1.44496298,  1.79902351,  0.89062357,\n",
       "       -0.1175086 , -0.39969423, -0.91698033, -1.10948527, -1.04074872,\n",
       "       -1.08609724, -1.21075296, -1.36051333, -1.39010167, -0.93246561,\n",
       "        0.255503  ,  1.13637698,  1.01420772,  1.13140702,  1.07804942,\n",
       "        0.97265822,  1.00109255,  2.12645841,  1.31568182,  1.10955155,\n",
       "        1.09693825, -0.48187041, -1.00842035, -1.31914806, -0.64701831,\n",
       "       -1.24585545, -1.60447073, -0.34008807,  0.080991  , -0.48761007,\n",
       "       -0.69806671, -0.14730394,  0.27225262,  0.41571775,  0.33710229,\n",
       "       -0.08484425, -0.77901256, -0.30997238,  0.58442497,  1.1817795 ,\n",
       "        1.04631078,  1.06315839,  1.56050813,  2.13081431,  2.35813928,\n",
       "        2.28504539,  0.        ,  0.        ,  0.        ,  0.        ,\n",
       "        0.        ,  0.        ,  0.        ,  0.        ,  0.        ,\n",
       "        0.        ,  0.        ,  0.        ,  0.        ,  0.        ,\n",
       "        0.        ])"
      ]
     },
     "execution_count": 12,
     "metadata": {},
     "output_type": "execute_result"
    }
   ],
   "source": [
    "#example mdd\n",
    "zero_nan_mdd_700= np.nan_to_num(mdd_dataset_reho_zero[200],copy=True)\n",
    "zero_nan_mdd_700[:,34,56]"
   ]
  },
  {
   "cell_type": "code",
   "execution_count": 13,
   "metadata": {},
   "outputs": [
    {
     "name": "stdout",
     "output_type": "stream",
     "text": [
      "(406, 91, 109, 91)\n",
      "(91, 109, 91)\n",
      "<class 'numpy.ndarray'>\n"
     ]
    }
   ],
   "source": [
    "#zero_nan_control\n",
    "print(control_reho_zero_nan3.shape)\n",
    "print(control_reho_zero_nan3[0].shape)\n",
    "#print(control_reho_zero_nan3[0])\n",
    "print(type(control_reho_zero_nan3))\n",
    "\n",
    "\n",
    "for i in range(len(control_dataset_reho_zero)):    \n",
    "    control_reho_zero_nan3[i] =np.nan_to_num(control_dataset_reho_zero[i],copy=True)"
   ]
  },
  {
   "cell_type": "code",
   "execution_count": 14,
   "metadata": {},
   "outputs": [
    {
     "name": "stdout",
     "output_type": "stream",
     "text": [
      "(406, 91, 109, 91)\n",
      "(91, 109, 91)\n"
     ]
    },
    {
     "data": {
      "text/plain": [
       "array([ 0.        ,  0.        ,  0.        ,  0.        ,  0.        ,\n",
       "        0.        ,  0.        ,  0.        ,  0.        ,  0.        ,\n",
       "        0.        ,  0.        ,  0.        ,  0.        ,  0.        ,\n",
       "        0.        ,  1.92880917,  1.65505862,  1.50674844,  2.09607053,\n",
       "        2.05625844,  2.41848874,  2.81477833,  2.72659802,  0.56506944,\n",
       "       -0.57554001, -0.57232052,  0.4258582 ,  1.86898804,  2.42637134,\n",
       "        0.73444235, -1.2418406 , -1.55629468, -0.67085862, -0.38477191,\n",
       "       -0.59492254, -0.74451315, -1.08082223, -1.03288448, -0.70927638,\n",
       "       -0.61947405, -0.0504877 ,  1.20987523,  1.3354032 ,  1.1982826 ,\n",
       "        0.79785603,  1.10096228, -0.05129792, -0.35614774, -0.5955022 ,\n",
       "        0.29684177,  0.87079233,  0.94436699, -0.40263551, -0.84259462,\n",
       "       -0.74756503, -0.91505301, -0.75655597, -1.34471273, -1.12159681,\n",
       "       -0.88892096, -0.87314522, -0.3770186 ,  0.09685825,  0.41978529,\n",
       "        1.64266217,  1.3973223 ,  1.64998627,  1.87235522,  1.9905386 ,\n",
       "        1.86089349,  2.12484097,  2.40207648,  2.95822525,  3.04288554,\n",
       "        2.82631922,  0.        ,  0.        ,  0.        ,  0.        ,\n",
       "        0.        ,  0.        ,  0.        ,  0.        ,  0.        ,\n",
       "        0.        ,  0.        ,  0.        ,  0.        ,  0.        ,\n",
       "        0.        ])"
      ]
     },
     "execution_count": 14,
     "metadata": {},
     "output_type": "execute_result"
    }
   ],
   "source": [
    "print(control_reho_zero_nan3.shape)\n",
    "print(control_reho_zero_nan3[0].shape)\n",
    "#print(control_reho_zero_nan3[0]) ## mdd label for control=0\n",
    "#print(control_reho_zero_nan3[310])\n",
    "control_reho_zero_nan3[310][:,34,56]\n"
   ]
  },
  {
   "cell_type": "code",
   "execution_count": 15,
   "metadata": {},
   "outputs": [
    {
     "name": "stdout",
     "output_type": "stream",
     "text": [
      "(288, 91, 109, 91)\n",
      "(91, 109, 91)\n",
      "<class 'numpy.ndarray'>\n"
     ]
    },
    {
     "data": {
      "text/plain": [
       "(288, 91, 109, 91)"
      ]
     },
     "execution_count": 15,
     "metadata": {},
     "output_type": "execute_result"
    }
   ],
   "source": [
    "#zero_nan_mdd\n",
    "\n",
    "print(mdd_reho_zero_nan3.shape)\n",
    "print(mdd_reho_zero_nan3[0].shape)\n",
    "print(type(mdd_reho_zero_nan3))\n",
    "\n",
    "for i in range(len(mdd_dataset_reho_zero)):    \n",
    "    mdd_reho_zero_nan3[i]=np.nan_to_num(mdd_dataset_reho_zero[i],copy=True)\n",
    "\n",
    "mdd_reho_zero_nan3.shape"
   ]
  },
  {
   "cell_type": "code",
   "execution_count": 16,
   "metadata": {},
   "outputs": [
    {
     "name": "stdout",
     "output_type": "stream",
     "text": [
      "(288, 91, 109, 91)\n",
      "(91, 109, 91)\n"
     ]
    },
    {
     "data": {
      "text/plain": [
       "array([ 0.        ,  0.        ,  0.        ,  0.        ,  0.        ,\n",
       "        0.        ,  0.        ,  0.        ,  0.        ,  0.        ,\n",
       "        0.        ,  0.        ,  0.        ,  0.        ,  0.        ,\n",
       "        0.        ,  2.92767024,  2.50129795,  2.15384102,  1.92867947,\n",
       "        1.90241611,  1.88913727,  2.41310835,  2.88107395,  2.60863209,\n",
       "        1.42518449,  0.89326882,  1.04972172,  1.66911662,  0.99317372,\n",
       "       -0.22121689, -1.22684491, -1.33506155, -1.18181908, -1.06473887,\n",
       "       -1.03707254, -1.29128063, -0.53458744, -0.60374779, -0.9098686 ,\n",
       "       -0.37560141,  0.5662055 ,  2.12424588,  2.19857931,  2.39012671,\n",
       "        2.47695422,  2.28949332,  2.27417636,  1.62085092,  1.04468524,\n",
       "        0.75087368,  1.01845455, -0.08467761, -0.64575356, -0.44880834,\n",
       "       -0.96765566, -0.43611035,  0.08036396, -0.40112367, -0.97603345,\n",
       "       -1.16249979, -1.04867637, -0.2953583 ,  0.54806519,  1.85960984,\n",
       "        0.9078818 ,  0.4021323 ,  0.65362918,  1.12080324,  0.81368494,\n",
       "        1.37963617,  1.79305589,  2.36026263,  2.55338097,  2.59947038,\n",
       "        2.70935559,  0.        ,  0.        ,  0.        ,  0.        ,\n",
       "        0.        ,  0.        ,  0.        ,  0.        ,  0.        ,\n",
       "        0.        ,  0.        ,  0.        ,  0.        ,  0.        ,\n",
       "        0.        ])"
      ]
     },
     "execution_count": 16,
     "metadata": {},
     "output_type": "execute_result"
    }
   ],
   "source": [
    "print(mdd_reho_zero_nan3.shape)\n",
    "\n",
    "mdd_reho_zero_nan3.shape\n",
    "print(mdd_reho_zero_nan3[0].shape)\n",
    "#print(mdd_reho_zero_nan3[0])\n",
    "mdd_reho_zero_nan3[210][:,34,56]"
   ]
  },
  {
   "cell_type": "markdown",
   "metadata": {},
   "source": [
    "### load and add 1 channel to dimension of data 'without nan'"
   ]
  },
  {
   "cell_type": "code",
   "execution_count": 17,
   "metadata": {
    "scrolled": true
   },
   "outputs": [
    {
     "data": {
      "text/plain": [
       "(406, 91, 109, 91)"
      ]
     },
     "execution_count": 17,
     "metadata": {},
     "output_type": "execute_result"
    }
   ],
   "source": [
    "resh=np.reshape(control_reho_zero_nan3[0], (1, 91, 109, 91))\n",
    "resh.shape\n",
    "\n",
    "resh2=control_reho_zero_nan3[0][np.newaxis,:,:,:]\n",
    "resh2.shape\n",
    "control_reho_zero_nan3.shape"
   ]
  },
  {
   "cell_type": "code",
   "execution_count": 18,
   "metadata": {},
   "outputs": [
    {
     "name": "stdout",
     "output_type": "stream",
     "text": [
      "406\n",
      "288\n"
     ]
    },
    {
     "data": {
      "text/plain": [
       "(1, 91, 109, 91)"
      ]
     },
     "execution_count": 18,
     "metadata": {},
     "output_type": "execute_result"
    }
   ],
   "source": [
    "control_reho_4d_zero_nan = [c[np.newaxis,:,:,:] for c in control_reho_zero_nan3]\n",
    "print(len(control_reho_4d_zero_nan))\n",
    "control_reho_4d_zero_nan[0].shape\n",
    "\n",
    "mdd_reho_4d_zero_nan = [m[np.newaxis,:,:,:] for m in mdd_reho_zero_nan3]\n",
    "print(len(mdd_reho_4d_zero_nan))\n",
    "mdd_reho_4d_zero_nan[0].shape"
   ]
  },
  {
   "cell_type": "code",
   "execution_count": 19,
   "metadata": {
    "scrolled": true
   },
   "outputs": [
    {
     "name": "stdout",
     "output_type": "stream",
     "text": [
      "(1, 91, 109, 91)\n"
     ]
    }
   ],
   "source": [
    "print(mdd_reho_4d_zero_nan[200].shape)"
   ]
  },
  {
   "cell_type": "code",
   "execution_count": 20,
   "metadata": {},
   "outputs": [
    {
     "name": "stdout",
     "output_type": "stream",
     "text": [
      "(1, 91, 109, 91)\n"
     ]
    }
   ],
   "source": [
    "print(control_reho_4d_zero_nan[400].shape)"
   ]
  },
  {
   "cell_type": "code",
   "execution_count": 21,
   "metadata": {},
   "outputs": [
    {
     "data": {
      "text/plain": [
       "288"
      ]
     },
     "execution_count": 21,
     "metadata": {},
     "output_type": "execute_result"
    }
   ],
   "source": [
    "len(mdd_reho_4d_zero_nan)"
   ]
  },
  {
   "cell_type": "markdown",
   "metadata": {},
   "source": [
    "### concat data for control and MDD without nan"
   ]
  },
  {
   "cell_type": "code",
   "execution_count": 22,
   "metadata": {},
   "outputs": [],
   "source": [
    "dataset_ukbb_reho=np.concatenate((control_reho_4d_zero_nan,mdd_reho_4d_zero_nan))\n",
    "labels_ukbb_reho=np.concatenate((control_labels,mdd_labels))"
   ]
  },
  {
   "cell_type": "code",
   "execution_count": 23,
   "metadata": {},
   "outputs": [
    {
     "data": {
      "text/plain": [
       "694"
      ]
     },
     "execution_count": 23,
     "metadata": {},
     "output_type": "execute_result"
    }
   ],
   "source": [
    "len(dataset_ukbb_reho)"
   ]
  },
  {
   "cell_type": "code",
   "execution_count": 24,
   "metadata": {},
   "outputs": [
    {
     "data": {
      "text/plain": [
       "(1, 91, 109, 91)"
      ]
     },
     "execution_count": 24,
     "metadata": {},
     "output_type": "execute_result"
    }
   ],
   "source": [
    "dataset_ukbb_reho[0].shape"
   ]
  },
  {
   "cell_type": "code",
   "execution_count": 25,
   "metadata": {},
   "outputs": [
    {
     "name": "stdout",
     "output_type": "stream",
     "text": [
      "[[[[0. 0. 0. ... 0. 0. 0.]\n",
      "   [0. 0. 0. ... 0. 0. 0.]\n",
      "   [0. 0. 0. ... 0. 0. 0.]\n",
      "   ...\n",
      "   [0. 0. 0. ... 0. 0. 0.]\n",
      "   [0. 0. 0. ... 0. 0. 0.]\n",
      "   [0. 0. 0. ... 0. 0. 0.]]\n",
      "\n",
      "  [[0. 0. 0. ... 0. 0. 0.]\n",
      "   [0. 0. 0. ... 0. 0. 0.]\n",
      "   [0. 0. 0. ... 0. 0. 0.]\n",
      "   ...\n",
      "   [0. 0. 0. ... 0. 0. 0.]\n",
      "   [0. 0. 0. ... 0. 0. 0.]\n",
      "   [0. 0. 0. ... 0. 0. 0.]]\n",
      "\n",
      "  [[0. 0. 0. ... 0. 0. 0.]\n",
      "   [0. 0. 0. ... 0. 0. 0.]\n",
      "   [0. 0. 0. ... 0. 0. 0.]\n",
      "   ...\n",
      "   [0. 0. 0. ... 0. 0. 0.]\n",
      "   [0. 0. 0. ... 0. 0. 0.]\n",
      "   [0. 0. 0. ... 0. 0. 0.]]\n",
      "\n",
      "  ...\n",
      "\n",
      "  [[0. 0. 0. ... 0. 0. 0.]\n",
      "   [0. 0. 0. ... 0. 0. 0.]\n",
      "   [0. 0. 0. ... 0. 0. 0.]\n",
      "   ...\n",
      "   [0. 0. 0. ... 0. 0. 0.]\n",
      "   [0. 0. 0. ... 0. 0. 0.]\n",
      "   [0. 0. 0. ... 0. 0. 0.]]\n",
      "\n",
      "  [[0. 0. 0. ... 0. 0. 0.]\n",
      "   [0. 0. 0. ... 0. 0. 0.]\n",
      "   [0. 0. 0. ... 0. 0. 0.]\n",
      "   ...\n",
      "   [0. 0. 0. ... 0. 0. 0.]\n",
      "   [0. 0. 0. ... 0. 0. 0.]\n",
      "   [0. 0. 0. ... 0. 0. 0.]]\n",
      "\n",
      "  [[0. 0. 0. ... 0. 0. 0.]\n",
      "   [0. 0. 0. ... 0. 0. 0.]\n",
      "   [0. 0. 0. ... 0. 0. 0.]\n",
      "   ...\n",
      "   [0. 0. 0. ... 0. 0. 0.]\n",
      "   [0. 0. 0. ... 0. 0. 0.]\n",
      "   [0. 0. 0. ... 0. 0. 0.]]]]\n",
      "[[[[0. 0. 0. ... 0. 0. 0.]\n",
      "   [0. 0. 0. ... 0. 0. 0.]\n",
      "   [0. 0. 0. ... 0. 0. 0.]\n",
      "   ...\n",
      "   [0. 0. 0. ... 0. 0. 0.]\n",
      "   [0. 0. 0. ... 0. 0. 0.]\n",
      "   [0. 0. 0. ... 0. 0. 0.]]\n",
      "\n",
      "  [[0. 0. 0. ... 0. 0. 0.]\n",
      "   [0. 0. 0. ... 0. 0. 0.]\n",
      "   [0. 0. 0. ... 0. 0. 0.]\n",
      "   ...\n",
      "   [0. 0. 0. ... 0. 0. 0.]\n",
      "   [0. 0. 0. ... 0. 0. 0.]\n",
      "   [0. 0. 0. ... 0. 0. 0.]]\n",
      "\n",
      "  [[0. 0. 0. ... 0. 0. 0.]\n",
      "   [0. 0. 0. ... 0. 0. 0.]\n",
      "   [0. 0. 0. ... 0. 0. 0.]\n",
      "   ...\n",
      "   [0. 0. 0. ... 0. 0. 0.]\n",
      "   [0. 0. 0. ... 0. 0. 0.]\n",
      "   [0. 0. 0. ... 0. 0. 0.]]\n",
      "\n",
      "  ...\n",
      "\n",
      "  [[0. 0. 0. ... 0. 0. 0.]\n",
      "   [0. 0. 0. ... 0. 0. 0.]\n",
      "   [0. 0. 0. ... 0. 0. 0.]\n",
      "   ...\n",
      "   [0. 0. 0. ... 0. 0. 0.]\n",
      "   [0. 0. 0. ... 0. 0. 0.]\n",
      "   [0. 0. 0. ... 0. 0. 0.]]\n",
      "\n",
      "  [[0. 0. 0. ... 0. 0. 0.]\n",
      "   [0. 0. 0. ... 0. 0. 0.]\n",
      "   [0. 0. 0. ... 0. 0. 0.]\n",
      "   ...\n",
      "   [0. 0. 0. ... 0. 0. 0.]\n",
      "   [0. 0. 0. ... 0. 0. 0.]\n",
      "   [0. 0. 0. ... 0. 0. 0.]]\n",
      "\n",
      "  [[0. 0. 0. ... 0. 0. 0.]\n",
      "   [0. 0. 0. ... 0. 0. 0.]\n",
      "   [0. 0. 0. ... 0. 0. 0.]\n",
      "   ...\n",
      "   [0. 0. 0. ... 0. 0. 0.]\n",
      "   [0. 0. 0. ... 0. 0. 0.]\n",
      "   [0. 0. 0. ... 0. 0. 0.]]]]\n",
      "[[[[0. 0. 0. ... 0. 0. 0.]\n",
      "   [0. 0. 0. ... 0. 0. 0.]\n",
      "   [0. 0. 0. ... 0. 0. 0.]\n",
      "   ...\n",
      "   [0. 0. 0. ... 0. 0. 0.]\n",
      "   [0. 0. 0. ... 0. 0. 0.]\n",
      "   [0. 0. 0. ... 0. 0. 0.]]\n",
      "\n",
      "  [[0. 0. 0. ... 0. 0. 0.]\n",
      "   [0. 0. 0. ... 0. 0. 0.]\n",
      "   [0. 0. 0. ... 0. 0. 0.]\n",
      "   ...\n",
      "   [0. 0. 0. ... 0. 0. 0.]\n",
      "   [0. 0. 0. ... 0. 0. 0.]\n",
      "   [0. 0. 0. ... 0. 0. 0.]]\n",
      "\n",
      "  [[0. 0. 0. ... 0. 0. 0.]\n",
      "   [0. 0. 0. ... 0. 0. 0.]\n",
      "   [0. 0. 0. ... 0. 0. 0.]\n",
      "   ...\n",
      "   [0. 0. 0. ... 0. 0. 0.]\n",
      "   [0. 0. 0. ... 0. 0. 0.]\n",
      "   [0. 0. 0. ... 0. 0. 0.]]\n",
      "\n",
      "  ...\n",
      "\n",
      "  [[0. 0. 0. ... 0. 0. 0.]\n",
      "   [0. 0. 0. ... 0. 0. 0.]\n",
      "   [0. 0. 0. ... 0. 0. 0.]\n",
      "   ...\n",
      "   [0. 0. 0. ... 0. 0. 0.]\n",
      "   [0. 0. 0. ... 0. 0. 0.]\n",
      "   [0. 0. 0. ... 0. 0. 0.]]\n",
      "\n",
      "  [[0. 0. 0. ... 0. 0. 0.]\n",
      "   [0. 0. 0. ... 0. 0. 0.]\n",
      "   [0. 0. 0. ... 0. 0. 0.]\n",
      "   ...\n",
      "   [0. 0. 0. ... 0. 0. 0.]\n",
      "   [0. 0. 0. ... 0. 0. 0.]\n",
      "   [0. 0. 0. ... 0. 0. 0.]]\n",
      "\n",
      "  [[0. 0. 0. ... 0. 0. 0.]\n",
      "   [0. 0. 0. ... 0. 0. 0.]\n",
      "   [0. 0. 0. ... 0. 0. 0.]\n",
      "   ...\n",
      "   [0. 0. 0. ... 0. 0. 0.]\n",
      "   [0. 0. 0. ... 0. 0. 0.]\n",
      "   [0. 0. 0. ... 0. 0. 0.]]]]\n"
     ]
    },
    {
     "data": {
      "text/plain": [
       "(1, 91, 109, 91)"
      ]
     },
     "execution_count": 25,
     "metadata": {},
     "output_type": "execute_result"
    }
   ],
   "source": [
    "print(dataset_ukbb_reho[400])\n",
    "print(dataset_ukbb_reho[500]) \n",
    "\n",
    "#problem solved : mdd_zero_nan label have problem : instead of 1 integer we have an array (91,109,91)\n",
    "\n",
    "print(dataset_ukbb_reho[0])\n",
    "\n",
    "dataset_ukbb_reho[500].shape"
   ]
  },
  {
   "cell_type": "markdown",
   "metadata": {},
   "source": [
    "## linear SVM model_ CV _ReHo"
   ]
  },
  {
   "cell_type": "code",
   "execution_count": 84,
   "metadata": {},
   "outputs": [],
   "source": [
    "from sklearn.svm import SVC\n",
    "from sklearn.metrics import accuracy_score\n",
    "from sklearn.model_selection import cross_val_score\n",
    "from sklearn.metrics import plot_confusion_matrix\n",
    "import matplotlib.pyplot as plt  \n",
    "from sklearn.model_selection import train_test_split\n"
   ]
  },
  {
   "cell_type": "code",
   "execution_count": 89,
   "metadata": {},
   "outputs": [
    {
     "name": "stdout",
     "output_type": "stream",
     "text": [
      "(694, 1, 91, 109, 91) (694,)\n"
     ]
    }
   ],
   "source": [
    "X_data=dataset_ukbb_reho\n",
    "Y_label=labels_ukbb_reho\n",
    "\n",
    "print(X_data.shape, Y_label.shape)"
   ]
  },
  {
   "cell_type": "code",
   "execution_count": 93,
   "metadata": {},
   "outputs": [],
   "source": [
    "# Split the data into a training set and a test set\n",
    "X_train, X_test,y_train, y_test = train_test_split(X_data, Y_label,  test_size=0.20, train_size=0.8)"
   ]
  },
  {
   "cell_type": "code",
   "execution_count": 94,
   "metadata": {},
   "outputs": [
    {
     "name": "stdout",
     "output_type": "stream",
     "text": [
      "(555, 1, 91, 109, 91) (555,)\n",
      "(139, 1, 91, 109, 91) (139,)\n"
     ]
    }
   ],
   "source": [
    "print(X_train.shape, y_train.shape)\n",
    "print(X_test.shape, y_test.shape)"
   ]
  },
  {
   "cell_type": "code",
   "execution_count": 50,
   "metadata": {},
   "outputs": [
    {
     "name": "stdout",
     "output_type": "stream",
     "text": [
      "Collecting svm\n",
      "  Using cached svm-0.1.0.tar.gz (3.4 kB)\n",
      "Requirement already satisfied: requests in /data/zmohaghegh/venv/lib/python3.6/site-packages (from svm) (2.25.1)\n",
      "Requirement already satisfied: colorama in /data/zmohaghegh/venv/lib/python3.6/site-packages (from svm) (0.4.4)\n",
      "Collecting xmltodict\n",
      "  Using cached xmltodict-0.12.0-py2.py3-none-any.whl (9.2 kB)\n",
      "Requirement already satisfied: urllib3<1.27,>=1.21.1 in /data/zmohaghegh/venv/lib/python3.6/site-packages (from requests->svm) (1.26.2)\n",
      "Requirement already satisfied: idna<3,>=2.5 in /data/zmohaghegh/venv/lib/python3.6/site-packages (from requests->svm) (2.10)\n",
      "Requirement already satisfied: certifi>=2017.4.17 in /data/zmohaghegh/venv/lib/python3.6/site-packages (from requests->svm) (2020.12.5)\n",
      "Requirement already satisfied: chardet<5,>=3.0.2 in /data/zmohaghegh/venv/lib/python3.6/site-packages (from requests->svm) (4.0.0)\n",
      "Building wheels for collected packages: svm\n",
      "  Building wheel for svm (setup.py) ... \u001b[?25ldone\n",
      "\u001b[?25h  Created wheel for svm: filename=svm-0.1.0-py3-none-any.whl size=3481 sha256=6020efce8647f274ada1ebc108d57e835cf235e54863957c84d3672a287ad8a4\n",
      "  Stored in directory: /data/zmohaghegh/.cache/pip/wheels/f1/c9/85/1d14e69f68589a01cd3ed9d3a214f5c5b31f1846e9d7e35daf\n",
      "Successfully built svm\n",
      "Installing collected packages: xmltodict, svm\n",
      "Successfully installed svm-0.1.0 xmltodict-0.12.0\n"
     ]
    }
   ],
   "source": [
    "#! pip install svm"
   ]
  },
  {
   "cell_type": "markdown",
   "metadata": {},
   "source": [
    "### reshape MRI data"
   ]
  },
  {
   "cell_type": "code",
   "execution_count": null,
   "metadata": {},
   "outputs": [],
   "source": [
    "X_ftrain = X_train.reshape(X_train.shape[0], -1).copy()\n",
    "X_ftest= X_test.reshape(X_test.shape[0], -1).copy()"
   ]
  },
  {
   "cell_type": "markdown",
   "metadata": {},
   "source": [
    "### model fitting"
   ]
  },
  {
   "cell_type": "code",
   "execution_count": null,
   "metadata": {},
   "outputs": [],
   "source": [
    "classifier =SVC()\n",
    "classifier.fit(X=X_ftrain, y=y_train)"
   ]
  },
  {
   "cell_type": "code",
   "execution_count": null,
   "metadata": {},
   "outputs": [],
   "source": [
    "print(X_ftrain.shape, X_train.shape)\n",
    "print(X_ftest.shape, X_test.shape)"
   ]
  },
  {
   "cell_type": "markdown",
   "metadata": {},
   "source": [
    "### plotting"
   ]
  },
  {
   "cell_type": "code",
   "execution_count": null,
   "metadata": {},
   "outputs": [],
   "source": [
    "# Plot confusion matrix for test data \n",
    "plot_confusion_matrix(classifier, X_ftest, y_test)\n",
    "plt.show()"
   ]
  },
  {
   "cell_type": "markdown",
   "metadata": {},
   "source": [
    "## Accuracy train and test"
   ]
  },
  {
   "cell_type": "code",
   "execution_count": null,
   "metadata": {},
   "outputs": [],
   "source": [
    "y_predicted_train = classifier.predict(X_ftrain)\n",
    "Accuracy_train= accuracy_score(y_train,y_predicted_train)"
   ]
  },
  {
   "cell_type": "code",
   "execution_count": null,
   "metadata": {},
   "outputs": [],
   "source": [
    "print(f'accuracy train :{100* Accuracy_train}')"
   ]
  },
  {
   "cell_type": "code",
   "execution_count": null,
   "metadata": {},
   "outputs": [],
   "source": [
    "y_predicted_test = classifier.predict(X_ftest)\n",
    "Accuracy_test= accuracy_score(y_test,y_predicted_test)"
   ]
  },
  {
   "cell_type": "code",
   "execution_count": null,
   "metadata": {},
   "outputs": [],
   "source": [
    "print(f'accuracy test: {100 * Accuracy_test}')"
   ]
  },
  {
   "cell_type": "markdown",
   "metadata": {},
   "source": [
    "## SVM with cross validation "
   ]
  },
  {
   "cell_type": "code",
   "execution_count": 99,
   "metadata": {},
   "outputs": [],
   "source": [
    "X_f = X_data.reshape(X_data.shape[0], -1).copy()\n",
    "SVM_classifier = SVC()\n",
    "cv_results = cross_val_score(SVM_classifier, X_f, Y_label, cv=5)"
   ]
  },
  {
   "cell_type": "code",
   "execution_count": 100,
   "metadata": {},
   "outputs": [
    {
     "name": "stdout",
     "output_type": "stream",
     "text": [
      "Average cross-validation accuracy for SVM UKBB ReHo: 58.35783547075384\n",
      "Std cross-validation accuracy : 0.1888452780497169\n"
     ]
    }
   ],
   "source": [
    "acc_avg=100* np.mean(cv_results)\n",
    "std_avg= 100*np.std(cv_results, ddof=1)\n",
    "\n",
    "print('Average cross-validation accuracy for SVM UKBB ReHo:',acc_avg )\n",
    "print('Std cross-validation accuracy :', std_avg )"
   ]
  },
  {
   "cell_type": "markdown",
   "metadata": {},
   "source": [
    "## SVM Tutorial"
   ]
  },
  {
   "cell_type": "markdown",
   "metadata": {},
   "source": [
    ">>> import matplotlib.pyplot as plt  \n",
    ">>> from sklearn.datasets import make_classification\n",
    ">>> from sklearn.metrics import plot_confusion_matrix\n",
    ">>> from sklearn.model_selection import train_test_split\n",
    ">>> from sklearn.svm import SVC\n",
    ">>> X, y = make_classification(random_state=0)\n",
    ">>> X_train, X_test, y_train, y_test = train_test_split(\n",
    "...         X, y, random_state=0)\n",
    ">>> clf = SVC(random_state=0)\n",
    ">>> clf.fit(X_train, y_train)\n",
    "SVC(random_state=0)\n",
    ">>> plot_confusion_matrix(clf, X_test, y_test)  \n",
    ">>> plt.show()  \n",
    "\n",
    ">>> #Plot\n",
    "\n",
    ">>> recall = tpc / (n_gt + 1e-16)  # recall curve\n",
    ">>> precision = tpc / (tpc + fpc)  # precision curve\n",
    ">>> ax.plot(recall, precision)\n",
    ">>> ax.set_xlabel('Recall')\n",
    ">>> ax.set_ylabel('Precision')\n",
    ">>> ax.set_xlim(0, 1.01)\n",
    ">>> ax.set_ylim(0, 1.01)\n",
    ">>> fig.tight_layout()"
   ]
  },
  {
   "cell_type": "markdown",
   "metadata": {},
   "source": []
  }
 ],
 "metadata": {
  "kernelspec": {
   "display_name": "Python 3",
   "language": "python",
   "name": "python3"
  },
  "language_info": {
   "codemirror_mode": {
    "name": "ipython",
    "version": 3
   },
   "file_extension": ".py",
   "mimetype": "text/x-python",
   "name": "python",
   "nbconvert_exporter": "python",
   "pygments_lexer": "ipython3",
   "version": "3.8.3"
  }
 },
 "nbformat": 4,
 "nbformat_minor": 2
}

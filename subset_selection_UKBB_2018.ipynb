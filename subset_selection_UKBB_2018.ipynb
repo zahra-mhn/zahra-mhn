{
 "cells": [
  {
   "cell_type": "markdown",
   "metadata": {},
   "source": [
    "## define MDD definition- select a subeset for MDD and Select a match control subset"
   ]
  },
  {
   "cell_type": "code",
   "execution_count": 1,
   "metadata": {},
   "outputs": [],
   "source": [
    "import pandas as pd\n",
    "import numpy as np\n",
    "import nibabel as nib\n",
    "import os\n",
    "import pandas as pd\n",
    "import os\n",
    "import shutil"
   ]
  },
  {
   "cell_type": "code",
   "execution_count": 2,
   "metadata": {},
   "outputs": [
    {
     "name": "stderr",
     "output_type": "stream",
     "text": [
      "/data/zmohaghegh/venv/lib64/python3.6/site-packages/IPython/core/interactiveshell.py:3072: DtypeWarning: Columns (8,14,230,251,439,445,451,454,457,460,463,466,469,472,475,484,501,502,503,505,506,508,511,514,517,520,523,526,529,532,535,538,541,544,547,550,553,556,559,562,565,568,571,574,577,580,583,586,589,592,595,598,601,604,606,607,608,609,610,611,615,616,617,624,625,626,630,631,632,633,634,635,642,643,644,645,646,647,649,651,652,653,654,655,656,657,658,659,663,664,665,669,670,671,672,673,674,675,676,677,678,679,680,681,682,683,685,686,693,694,696,697,698,703,704,708,709,710,711,712,726,727,728,732,733,734,1071,1072,1073,1074,1075,1076,1077,1078,1079,1080,1081,1082,1083,1084,1103,1104,1105,1106,1107,1108,1109,1110,1111,1112,1113,1114,1115,1116,1117,1167,1168,1169,1170,1171,1172,1173,1174,1175,1176,1177,1178,1179,1180,1199,1200,1201,1202,1203,1204,1205,1206,1207,1208,1209,1210,1211,1212,1213,1263,1265,1275,1276,1278,1279,1284,1285,1293,1294,1296,1297,1299,1300,1302,1303,1323,1324,1326,1327,1329,1330,1332,1333,1335,1336,1338,1339,1341,1342,1350,1351,1353,1354,1356,1357,1359,1360,1362,1363,1364,1365,1367,1368,1369,1371,1372,1373,1374,1375,1377,1378,1379,1380,1381,1383,1384,1385,1395,1396,1397,1398,1399,1400,1401,1402,1403,1404,1405,1406,1407,1408,1409,1410,1411,1412,1413,1414,1415,1416,1417,1418,1420,1421,1422,1423,1424,1425,1426,1427,1428,1429,1430,1432,1433,1434,1435,1436,1438,1439,1440,1441,1443,1444,1445,1446,1447,1451,1452,1453,1456,1457,1458,1459,1460,1461,1462,1464,1465,1466,1467,1468,1469,1470,1474,1475,1476,1477,1481,1482,1483,1484,1485,1489,1490,1491,1493,1494,1495,1496,1499,1500,1501,1503,1504,1505,1506,1507,1508,1509,1510,1511,1512,1513,1514,1516,1517,1518,1521,1522,1523,1524,1528,1529,1530,1531,1534,1535,1536,1537,1538,1539,1540,1541,1542,1543,1544,1545,1546,1548,1549,1550,1551,1552,1553,1554,1555,1556,1557,1558,1559,1560,1561,1562,1563,1564,1565,1566,1567,1568,1569,1570,1571,1572,1574,1575,1576,1577,1578,1579,1580,1581,1582,1583,1584,1585,1586,1587,1588,1589,1592,1593,1594,1595,1596,1597,1598,1599,1600,1601,1602,1603,1605,1606,1607,1608,1609,1610,1612,1613,1614,1615,1616,1617,1618,1619,1620,1622,1623,1624,1625,1628,1629,1630,1631,1634,1636,1637,1638,1639,1640,1641,1642,1643,1644,1645,1646,1648,1649,1650,1651,1652,1659,1660,1661,1662,1663,1664,1665,1667,1668,1670,1671,1672,1673,1674,1676,1838,1840,1841,1842,1843,1845,1846,1847,1848,1849,1850,1851,1852,1853,1854,1855,1856,1857,1858,1859,1860,1861,1862,1863,1864,1865,1867,1872,2656,2657,2658,2662,2663,2664,2669,2670,2671,2672,2675,2676,2677,2678,2679,2680,2681,2682,2683,2684,2685,2686,2687,2688,2689,2690,2707,2708,2709,2710,2711,2712,2713,2714,2715,2716,2717,2718,2719,2720,2721,2722,2741,2742,2743,2744,2745,2746,2747,2748,2749,2750,2751,2752,2753,2754,2755,2756,2757,2758,2759,2760,2761,2762,2763,2764,2765,2766,2767,2768,2769,2770,2771,2772,2774,2775,2776,2777,2778,2779,2780,2781,2782,2783,2784,2785,2805,2806,2807,2808,2809,2810,2811,2812,2813,2814,2837,2838,2839,2840,2841,2842,2843,2844,2845,2846,2847,2848,2849,2850,2851,2852,2872,2873,2890,2893,2895,2896,2897,2898,2899,2900,2924,3030,3040,3042,3044,3531,3532,3534,3535,3536,3537,3540,3541,3543,3544,3545,3546,3547,3550,3551,3553,3554,3555,3556,3557,3558,3561,3562,3563,3564,3565,3566,3569,3571,3572,3573,3574,3576,3578,3579,3584,3587,3588,3595,3598,3599,3600,3601,3603,3609,3610,3620,3621,3649,3650,3651,3652,3653,3654,3655,3656,3657,3658,3659,3660,3661,3662,3663,3664,3665,3666,3667,3668,3669,3670,3671,3672,3673,3674,3675,3676,3677,3678,3679,3680,3681,3682,3683,3684,3685,3686,3687,3688,3689,3690,3691,3692,3693,3694,3695,3696,3698,3699,3700,3701,3702,3703,3704,3706,3707,3708,3709,3710,3712,3773,3790,3791,3799,4741,4744,4747,4748,4749,4791,4792,4793,4794,4795,4796,4797,4798,4799,4823,4824,4825,4826,4827,4828,4829,4830,4831,4889,4925,4926,4927,4928,4929,4930,4931,4932,4933,4985,4990,4991,4992,4993,4994,4995,4996,4997,4998,5052,5053,5054,5055,5056,5057,5058,5059,5060,5087,5088,5089,5090,5091,5092,5093,5094,5095,5096,5097,5098,5099,5100,5101,5102,5103,5104,5105,5106,5107,5108,5109,5110,5111,5112,5113,5114,5464,5465,5466,5498,5499,5500,5501,5502,5503,5504,5505,5506,5507,5508,5509,5510,5511,5512,5513,5514,5515,5516,5517,5518,5519,5520,5521,5522,5523,5524,5525,5526,5527,5528,5529,5530,5531,5532,5533,5534,5535,5536,5537,5538,5539,5540,5541,5542,5543,5544,5545,5546,5547,5548,5549,5550,5551,5552,5553,5554,5555,5556,5557,5558,5559,5560,5561,5562,5927,5928,5929,5930,5931,5958,5959,5960,5961,5964,5968,5969,5970,5973,5974,5975,6006,6007,6008,6009,6010,6060,6061,6063,6064,6077,6078,6079,6080,6152,6153,6154,6181,6182,6183) have mixed types.Specify dtype option on import or set low_memory=False.\n",
      "  interactivity=interactivity, compiler=compiler, result=result)\n"
     ]
    }
   ],
   "source": [
    "metadata = pd.read_csv(\n",
    "    '/data/zmohaghegh/Desktop/metadata.csv',\n",
    "    index_col='f.eid',\n",
    ")"
   ]
  },
  {
   "cell_type": "code",
   "execution_count": 3,
   "metadata": {},
   "outputs": [
    {
     "data": {
      "text/html": [
       "<div>\n",
       "<style scoped>\n",
       "    .dataframe tbody tr th:only-of-type {\n",
       "        vertical-align: middle;\n",
       "    }\n",
       "\n",
       "    .dataframe tbody tr th {\n",
       "        vertical-align: top;\n",
       "    }\n",
       "\n",
       "    .dataframe thead th {\n",
       "        text-align: right;\n",
       "    }\n",
       "</style>\n",
       "<table border=\"1\" class=\"dataframe\">\n",
       "  <thead>\n",
       "    <tr style=\"text-align: right;\">\n",
       "      <th></th>\n",
       "      <th>f.31.0.0</th>\n",
       "      <th>f.34.0.0</th>\n",
       "      <th>f.50.0.0</th>\n",
       "      <th>f.50.1.0</th>\n",
       "      <th>f.50.2.0</th>\n",
       "      <th>f.52.0.0</th>\n",
       "      <th>f.53.0.0</th>\n",
       "      <th>f.53.1.0</th>\n",
       "      <th>f.53.2.0</th>\n",
       "      <th>f.54.0.0</th>\n",
       "      <th>...</th>\n",
       "      <th>f.41251.0.8</th>\n",
       "      <th>f.41251.0.9</th>\n",
       "      <th>f.41251.0.10</th>\n",
       "      <th>f.41252.0.0</th>\n",
       "      <th>f.41253.0.0</th>\n",
       "      <th>f.41253.0.1</th>\n",
       "      <th>f.41253.0.2</th>\n",
       "      <th>f.41253.0.3</th>\n",
       "      <th>f.41253.0.4</th>\n",
       "      <th>f.41253.0.5</th>\n",
       "    </tr>\n",
       "    <tr>\n",
       "      <th>f.eid</th>\n",
       "      <th></th>\n",
       "      <th></th>\n",
       "      <th></th>\n",
       "      <th></th>\n",
       "      <th></th>\n",
       "      <th></th>\n",
       "      <th></th>\n",
       "      <th></th>\n",
       "      <th></th>\n",
       "      <th></th>\n",
       "      <th></th>\n",
       "      <th></th>\n",
       "      <th></th>\n",
       "      <th></th>\n",
       "      <th></th>\n",
       "      <th></th>\n",
       "      <th></th>\n",
       "      <th></th>\n",
       "      <th></th>\n",
       "      <th></th>\n",
       "      <th></th>\n",
       "    </tr>\n",
       "  </thead>\n",
       "  <tbody>\n",
       "    <tr>\n",
       "      <th>3290642</th>\n",
       "      <td>Female</td>\n",
       "      <td>1945</td>\n",
       "      <td>168.0</td>\n",
       "      <td>NaN</td>\n",
       "      <td>167.5</td>\n",
       "      <td>August</td>\n",
       "      <td>2009-10-19</td>\n",
       "      <td>NaN</td>\n",
       "      <td>2014-10-29</td>\n",
       "      <td>11016</td>\n",
       "      <td>...</td>\n",
       "      <td>NaN</td>\n",
       "      <td>NaN</td>\n",
       "      <td>NaN</td>\n",
       "      <td>8.0</td>\n",
       "      <td>6.0</td>\n",
       "      <td>18.0</td>\n",
       "      <td>NaN</td>\n",
       "      <td>NaN</td>\n",
       "      <td>NaN</td>\n",
       "      <td>NaN</td>\n",
       "    </tr>\n",
       "    <tr>\n",
       "      <th>1004750</th>\n",
       "      <td>Female</td>\n",
       "      <td>1957</td>\n",
       "      <td>173.0</td>\n",
       "      <td>172.0</td>\n",
       "      <td>173.0</td>\n",
       "      <td>March</td>\n",
       "      <td>2007-07-28</td>\n",
       "      <td>2012-08-22</td>\n",
       "      <td>2015-07-17</td>\n",
       "      <td>11001</td>\n",
       "      <td>...</td>\n",
       "      <td>NaN</td>\n",
       "      <td>NaN</td>\n",
       "      <td>NaN</td>\n",
       "      <td>39.0</td>\n",
       "      <td>6.0</td>\n",
       "      <td>18.0</td>\n",
       "      <td>NaN</td>\n",
       "      <td>NaN</td>\n",
       "      <td>NaN</td>\n",
       "      <td>NaN</td>\n",
       "    </tr>\n",
       "    <tr>\n",
       "      <th>2117620</th>\n",
       "      <td>Female</td>\n",
       "      <td>1950</td>\n",
       "      <td>155.4</td>\n",
       "      <td>NaN</td>\n",
       "      <td>156.0</td>\n",
       "      <td>March</td>\n",
       "      <td>2008-03-03</td>\n",
       "      <td>NaN</td>\n",
       "      <td>2018-08-14</td>\n",
       "      <td>11009</td>\n",
       "      <td>...</td>\n",
       "      <td>NaN</td>\n",
       "      <td>NaN</td>\n",
       "      <td>NaN</td>\n",
       "      <td>3.0</td>\n",
       "      <td>6.0</td>\n",
       "      <td>18.0</td>\n",
       "      <td>NaN</td>\n",
       "      <td>NaN</td>\n",
       "      <td>NaN</td>\n",
       "      <td>NaN</td>\n",
       "    </tr>\n",
       "    <tr>\n",
       "      <th>1641691</th>\n",
       "      <td>Male</td>\n",
       "      <td>1962</td>\n",
       "      <td>174.4</td>\n",
       "      <td>NaN</td>\n",
       "      <td>173.0</td>\n",
       "      <td>September</td>\n",
       "      <td>2008-07-16</td>\n",
       "      <td>NaN</td>\n",
       "      <td>2017-07-20</td>\n",
       "      <td>11009</td>\n",
       "      <td>...</td>\n",
       "      <td>NaN</td>\n",
       "      <td>NaN</td>\n",
       "      <td>NaN</td>\n",
       "      <td>1.0</td>\n",
       "      <td>6.0</td>\n",
       "      <td>NaN</td>\n",
       "      <td>NaN</td>\n",
       "      <td>NaN</td>\n",
       "      <td>NaN</td>\n",
       "      <td>NaN</td>\n",
       "    </tr>\n",
       "    <tr>\n",
       "      <th>3462460</th>\n",
       "      <td>Male</td>\n",
       "      <td>1949</td>\n",
       "      <td>168.0</td>\n",
       "      <td>NaN</td>\n",
       "      <td>165.0</td>\n",
       "      <td>June</td>\n",
       "      <td>2009-06-04</td>\n",
       "      <td>NaN</td>\n",
       "      <td>2017-10-06</td>\n",
       "      <td>11017</td>\n",
       "      <td>...</td>\n",
       "      <td>NaN</td>\n",
       "      <td>NaN</td>\n",
       "      <td>NaN</td>\n",
       "      <td>1.0</td>\n",
       "      <td>6.0</td>\n",
       "      <td>NaN</td>\n",
       "      <td>NaN</td>\n",
       "      <td>NaN</td>\n",
       "      <td>NaN</td>\n",
       "      <td>NaN</td>\n",
       "    </tr>\n",
       "  </tbody>\n",
       "</table>\n",
       "<p>5 rows × 6202 columns</p>\n",
       "</div>"
      ],
      "text/plain": [
       "        f.31.0.0  f.34.0.0  f.50.0.0  f.50.1.0  f.50.2.0   f.52.0.0  \\\n",
       "f.eid                                                                 \n",
       "3290642   Female      1945     168.0       NaN     167.5     August   \n",
       "1004750   Female      1957     173.0     172.0     173.0      March   \n",
       "2117620   Female      1950     155.4       NaN     156.0      March   \n",
       "1641691     Male      1962     174.4       NaN     173.0  September   \n",
       "3462460     Male      1949     168.0       NaN     165.0       June   \n",
       "\n",
       "           f.53.0.0    f.53.1.0    f.53.2.0  f.54.0.0  ...  f.41251.0.8  \\\n",
       "f.eid                                                  ...                \n",
       "3290642  2009-10-19         NaN  2014-10-29     11016  ...          NaN   \n",
       "1004750  2007-07-28  2012-08-22  2015-07-17     11001  ...          NaN   \n",
       "2117620  2008-03-03         NaN  2018-08-14     11009  ...          NaN   \n",
       "1641691  2008-07-16         NaN  2017-07-20     11009  ...          NaN   \n",
       "3462460  2009-06-04         NaN  2017-10-06     11017  ...          NaN   \n",
       "\n",
       "         f.41251.0.9 f.41251.0.10 f.41252.0.0 f.41253.0.0  f.41253.0.1  \\\n",
       "f.eid                                                                    \n",
       "3290642          NaN          NaN         8.0         6.0         18.0   \n",
       "1004750          NaN          NaN        39.0         6.0         18.0   \n",
       "2117620          NaN          NaN         3.0         6.0         18.0   \n",
       "1641691          NaN          NaN         1.0         6.0          NaN   \n",
       "3462460          NaN          NaN         1.0         6.0          NaN   \n",
       "\n",
       "         f.41253.0.2  f.41253.0.3  f.41253.0.4  f.41253.0.5  \n",
       "f.eid                                                        \n",
       "3290642          NaN          NaN          NaN          NaN  \n",
       "1004750          NaN          NaN          NaN          NaN  \n",
       "2117620          NaN          NaN          NaN          NaN  \n",
       "1641691          NaN          NaN          NaN          NaN  \n",
       "3462460          NaN          NaN          NaN          NaN  \n",
       "\n",
       "[5 rows x 6202 columns]"
      ]
     },
     "execution_count": 3,
     "metadata": {},
     "output_type": "execute_result"
    }
   ],
   "source": [
    "metadata.head()"
   ]
  },
  {
   "cell_type": "code",
   "execution_count": 5,
   "metadata": {},
   "outputs": [
    {
     "data": {
      "text/html": [
       "<div>\n",
       "<style scoped>\n",
       "    .dataframe tbody tr th:only-of-type {\n",
       "        vertical-align: middle;\n",
       "    }\n",
       "\n",
       "    .dataframe tbody tr th {\n",
       "        vertical-align: top;\n",
       "    }\n",
       "\n",
       "    .dataframe thead th {\n",
       "        text-align: right;\n",
       "    }\n",
       "</style>\n",
       "<table border=\"1\" class=\"dataframe\">\n",
       "  <thead>\n",
       "    <tr style=\"text-align: right;\">\n",
       "      <th></th>\n",
       "      <th>birth year</th>\n",
       "      <th>intelligence</th>\n",
       "    </tr>\n",
       "  </thead>\n",
       "  <tbody>\n",
       "    <tr>\n",
       "      <th>count</th>\n",
       "      <td>29313.000000</td>\n",
       "      <td>26537.000000</td>\n",
       "    </tr>\n",
       "    <tr>\n",
       "      <th>mean</th>\n",
       "      <td>1953.062191</td>\n",
       "      <td>6.682896</td>\n",
       "    </tr>\n",
       "    <tr>\n",
       "      <th>std</th>\n",
       "      <td>7.465074</td>\n",
       "      <td>2.070696</td>\n",
       "    </tr>\n",
       "    <tr>\n",
       "      <th>min</th>\n",
       "      <td>1936.000000</td>\n",
       "      <td>0.000000</td>\n",
       "    </tr>\n",
       "    <tr>\n",
       "      <th>25%</th>\n",
       "      <td>1947.000000</td>\n",
       "      <td>5.000000</td>\n",
       "    </tr>\n",
       "    <tr>\n",
       "      <th>50%</th>\n",
       "      <td>1952.000000</td>\n",
       "      <td>7.000000</td>\n",
       "    </tr>\n",
       "    <tr>\n",
       "      <th>75%</th>\n",
       "      <td>1959.000000</td>\n",
       "      <td>8.000000</td>\n",
       "    </tr>\n",
       "    <tr>\n",
       "      <th>max</th>\n",
       "      <td>1970.000000</td>\n",
       "      <td>13.000000</td>\n",
       "    </tr>\n",
       "  </tbody>\n",
       "</table>\n",
       "</div>"
      ],
      "text/plain": [
       "         birth year  intelligence\n",
       "count  29313.000000  26537.000000\n",
       "mean    1953.062191      6.682896\n",
       "std        7.465074      2.070696\n",
       "min     1936.000000      0.000000\n",
       "25%     1947.000000      5.000000\n",
       "50%     1952.000000      7.000000\n",
       "75%     1959.000000      8.000000\n",
       "max     1970.000000     13.000000"
      ]
     },
     "execution_count": 5,
     "metadata": {},
     "output_type": "execute_result"
    }
   ],
   "source": [
    "sub_metadata = metadata[[\n",
    "    'f.2050.2.0', 'f.2060.2.0', 'f.20123.0.0', 'f.20124.0.0', 'f.20125.0.0', 'f.20435.0.0', 'f.20436.0.0',\n",
    "    'f.20437.0.0', 'f.20439.0.0', 'f.20440.0.0', 'f.20441.0.0', 'f.20446.0.0', 'f.20449.0.0', 'f.20450.0.0',\n",
    "    'f.20507.0.0', 'f.20508.0.0', 'f.20510.0.0', 'f.20511.0.0', 'f.20513.0.0', 'f.20514.0.0', 'f.20517.0.0',\n",
    "    'f.20518.0.0', 'f.20519.0.0', 'f.20532.0.0',  'f.20536.0.0', 'f.34.0.0', 'f.31.0.0', 'f.6138.2.0', 'f.20016.2.0'\n",
    "]].rename(columns={\n",
    "    'f.31.0.0': 'sex',\n",
    "    'f.34.0.0': 'birth year',\n",
    "    'f.6138.2.0': 'education',\n",
    "    'f.20016.2.0': 'intelligence'\n",
    "})\n",
    "sub_metadata.describe()"
   ]
  },
  {
   "cell_type": "markdown",
   "metadata": {},
   "source": [
    "MDD definitions¶\n",
    "sub_sample1 = (20123=='Yes' | 20124=='Yes' | 20125=='Yes') & (2050=='Nearly every day' | 2060=='Nearly every day')\n",
    "\n",
    "sub_sample2 = (20123=='Yes' | 20124=='Yes' | 20125=='Yes') & ( 2050=='Nearly every day|More than half the days' | 2060=='Nearly every day|More than half the days' )\n",
    "\n",
    "depression_ever_Davis = (20441 == 'yes' | 20446 == 'yes') & (20436 == 'most of the day' | 20436 == 'all day long') & ( 20439 == 'almost everyday' | 20439=='everyday') & (20440=='somewhat' | 20440=='alot') & ( 5 out of 20441, 20446, 20449, 20536=='gain|lost|gain_lost', 20532==?, 20435, 20450, 20437)\n",
    "\n",
    "sub_sample3 = (20514, 20510, 20517, 20519, 20511=='poor appitide|overeating', 20510='feeling down|helpless|depressed', 20507, 20508, 20518, 20513 all number > 5 & half da y) & depression_ever_Davis\n",
    "\n",
    "Guido_sub_sample = depression_ever_Davis & sub_sample2"
   ]
  },
  {
   "cell_type": "markdown",
   "metadata": {},
   "source": [
    "https://biobank.ctsu.ox.ac.uk/crystal/label.cgi?id=138\n",
    "\n",
    "Field ID\tDescription\n",
    "\n",
    "20446\tEver had prolonged feelings of sadness or depression\n",
    "20441\tEver had prolonged loss of interest in normal activities\n",
    "20547\tActivities undertaken to treat depression\n",
    "20433\tAge at first episode of depression\n",
    "20434\tAge at last episode of depression\n",
    "20445\tDepression possibly related to childbirth\n",
    "20447\tDepression possibly related to stressful or traumatic event\n",
    "20532\tDid your sleep change?\n",
    "20435\tDifficulty concentrating during worst depression\n",
    "20438\tDuration of worst depression\n",
    "20449\tFeelings of tiredness during worst episode of depression\n",
    "20450\tFeelings of worthlessness during worst period of depression\n",
    "20436\tFraction of day affected during worst episode of depression\n",
    "20439\tFrequency of depressed days during worst episode of depression\n",
    "20440\tImpact on normal roles during worst period of depression\n",
    "20442\tLifetime number of depressed periods\n",
    "20448\tProfessional informed about depression\n",
    "20518\tRecent changes in speed/amount of moving or speaking\n",
    "20510\tRecent feelings of depression\n",
    "20507\tRecent feelings of inadequacy\n",
    "20519\tRecent feelings of tiredness or low energy\n",
    "20514\tRecent lack of interest or pleasure in doing things\n",
    "20511\tRecent poor appetite or overeating\n",
    "20513\tRecent thoughts of suicide or self-harm\n",
    "20508\tRecent trouble concentrating on things\n",
    "20534\tSleeping too much\n",
    "20546\tSubstances taken for depression\n",
    "20437\tThoughts of death during worst depression\n",
    "20533\tTrouble falling asleep\n",
    "20517\tTrouble falling or staying asleep, or sleeping too much\n",
    "20535\tWaking too early\n",
    "20536\tWeight change during worst episode of depression"
   ]
  },
  {
   "cell_type": "code",
   "execution_count": 40,
   "metadata": {},
   "outputs": [
    {
     "data": {
      "text/plain": [
       "Not at all                 23369\n",
       "Several days                4189\n",
       "Do not know                  658\n",
       "More than half the days      502\n",
       "Nearly every day             294\n",
       "Prefer not to answer          67\n",
       "Name: f.2050.2.0, dtype: int64"
      ]
     },
     "execution_count": 40,
     "metadata": {},
     "output_type": "execute_result"
    }
   ],
   "source": [
    "sub_metadata['f.2050.2.0'].value_counts()"
   ]
  },
  {
   "cell_type": "code",
   "execution_count": 41,
   "metadata": {},
   "outputs": [
    {
     "data": {
      "text/plain": [
       "Not at all                 24020\n",
       "Several days                3775\n",
       "More than half the days      514\n",
       "Do not know                  438\n",
       "Nearly every day             289\n",
       "Prefer not to answer          43\n",
       "Name: f.2060.2.0, dtype: int64"
      ]
     },
     "execution_count": 41,
     "metadata": {},
     "output_type": "execute_result"
    }
   ],
   "source": [
    "sub_metadata['f.2060.2.0'].value_counts()"
   ]
  },
  {
   "cell_type": "code",
   "execution_count": 6,
   "metadata": {},
   "outputs": [],
   "source": [
    "sub_sample1_conditions = (\n",
    "    (sub_metadata['f.2050.2.0']=='Nearly every day') | (sub_metadata['f.2060.2.0']=='Nearly every day')\n",
    ")\n",
    "\n",
    "sub_sample2_conditions = (\n",
    "    (sub_metadata['f.2050.2.0']=='Nearly every day') | (sub_metadata['f.2060.2.0']=='Nearly every day') |\n",
    "        (sub_metadata['f.2050.2.0']=='More than half the days') | (sub_metadata['f.2060.2.0']=='More than half the days')\n",
    ")\n",
    "\n",
    "\n",
    "depression_ever_davis_conditions = (\n",
    "    ((sub_metadata['f.20441.0.0']=='Yes') | (sub_metadata['f.20446.0.0']=='Yes'))\n",
    "    &\n",
    "    ((sub_metadata['f.20436.0.0']=='Most of the day') | (sub_metadata['f.20436.0.0']=='All day long'))\n",
    "    &\n",
    "    ((sub_metadata['f.20439.0.0']=='Almost every day') | (sub_metadata['f.20439.0.0']=='Every day'))\n",
    "    &\n",
    "    ((sub_metadata['f.20440.0.0']=='Somewhat') | (sub_metadata['f.20440.0.0']=='A lot'))\n",
    "    &\n",
    "    (((sub_metadata['f.20441.0.0']=='Yes').astype('int') + (sub_metadata['f.20446.0.0']=='Yes').astype('int') +\n",
    "      (sub_metadata['f.20449.0.0']=='Yes').astype('int') + (sub_metadata['f.20532.0.0']=='Yes').astype('int') +\n",
    "      (sub_metadata['f.20435.0.0']=='Yes').astype('int') + (sub_metadata['f.20450.0.0']=='Yes').astype('int') +\n",
    "      (sub_metadata['f.20437.0.0']=='Yes').astype('int') + (\n",
    "       (sub_metadata['f.20536.0.0']=='Lost weight') | (sub_metadata['f.20536.0.0']=='Gained weight') | \n",
    "       (sub_metadata['f.20536.0.0']=='Both gained and lost some weight during the episode')\n",
    "      ).astype('int')) >= 5)\n",
    ")\n",
    "\n",
    "guido_sub_sample_conditions = (depression_ever_davis_conditions & sub_sample2_conditions)"
   ]
  },
  {
   "cell_type": "code",
   "execution_count": 7,
   "metadata": {},
   "outputs": [
    {
     "name": "stdout",
     "output_type": "stream",
     "text": [
      "sub_sample1: 431 sub_sample2: 1159 depression_ever_davis: 5065 guido_sub_sample: 409\n"
     ]
    }
   ],
   "source": [
    "sub_sample1 = sub_metadata.loc[sub_sample1_conditions]\n",
    "sub_sample2 = sub_metadata.loc[sub_sample2_conditions]\n",
    "depression_ever_davis = sub_metadata.loc[depression_ever_davis_conditions]\n",
    "guido_sub_sample = sub_metadata.loc[guido_sub_sample_conditions]\n",
    "print(\n",
    "    'sub_sample1:', len(sub_sample1),\n",
    "    'sub_sample2:', len(sub_sample2),\n",
    "    'depression_ever_davis:', len(depression_ever_davis),\n",
    "    'guido_sub_sample:', len(guido_sub_sample))"
   ]
  },
  {
   "cell_type": "code",
   "execution_count": 8,
   "metadata": {},
   "outputs": [
    {
     "name": "stderr",
     "output_type": "stream",
     "text": [
      "/data/zmohaghegh/venv/lib64/python3.6/site-packages/ipykernel_launcher.py:1: SettingWithCopyWarning: \n",
      "A value is trying to be set on a copy of a slice from a DataFrame.\n",
      "Try using .loc[row_indexer,col_indexer] = value instead\n",
      "\n",
      "See the caveats in the documentation: https://pandas.pydata.org/pandas-docs/stable/user_guide/indexing.html#returning-a-view-versus-a-copy\n",
      "  \"\"\"Entry point for launching an IPython kernel.\n"
     ]
    }
   ],
   "source": [
    "guido_sub_sample['MDD'] = 1"
   ]
  },
  {
   "cell_type": "code",
   "execution_count": 9,
   "metadata": {},
   "outputs": [
    {
     "data": {
      "text/html": [
       "<div>\n",
       "<style scoped>\n",
       "    .dataframe tbody tr th:only-of-type {\n",
       "        vertical-align: middle;\n",
       "    }\n",
       "\n",
       "    .dataframe tbody tr th {\n",
       "        vertical-align: top;\n",
       "    }\n",
       "\n",
       "    .dataframe thead th {\n",
       "        text-align: right;\n",
       "    }\n",
       "</style>\n",
       "<table border=\"1\" class=\"dataframe\">\n",
       "  <thead>\n",
       "    <tr style=\"text-align: right;\">\n",
       "      <th></th>\n",
       "      <th>birth year</th>\n",
       "      <th>intelligence</th>\n",
       "      <th>MDD</th>\n",
       "    </tr>\n",
       "  </thead>\n",
       "  <tbody>\n",
       "    <tr>\n",
       "      <th>count</th>\n",
       "      <td>409.000000</td>\n",
       "      <td>367.000000</td>\n",
       "      <td>409.0</td>\n",
       "    </tr>\n",
       "    <tr>\n",
       "      <th>mean</th>\n",
       "      <td>1956.237164</td>\n",
       "      <td>6.294278</td>\n",
       "      <td>1.0</td>\n",
       "    </tr>\n",
       "    <tr>\n",
       "      <th>std</th>\n",
       "      <td>6.738461</td>\n",
       "      <td>2.028632</td>\n",
       "      <td>0.0</td>\n",
       "    </tr>\n",
       "    <tr>\n",
       "      <th>min</th>\n",
       "      <td>1938.000000</td>\n",
       "      <td>1.000000</td>\n",
       "      <td>1.0</td>\n",
       "    </tr>\n",
       "    <tr>\n",
       "      <th>25%</th>\n",
       "      <td>1951.000000</td>\n",
       "      <td>5.000000</td>\n",
       "      <td>1.0</td>\n",
       "    </tr>\n",
       "    <tr>\n",
       "      <th>50%</th>\n",
       "      <td>1957.000000</td>\n",
       "      <td>6.000000</td>\n",
       "      <td>1.0</td>\n",
       "    </tr>\n",
       "    <tr>\n",
       "      <th>75%</th>\n",
       "      <td>1962.000000</td>\n",
       "      <td>8.000000</td>\n",
       "      <td>1.0</td>\n",
       "    </tr>\n",
       "    <tr>\n",
       "      <th>max</th>\n",
       "      <td>1969.000000</td>\n",
       "      <td>12.000000</td>\n",
       "      <td>1.0</td>\n",
       "    </tr>\n",
       "  </tbody>\n",
       "</table>\n",
       "</div>"
      ],
      "text/plain": [
       "        birth year  intelligence    MDD\n",
       "count   409.000000    367.000000  409.0\n",
       "mean   1956.237164      6.294278    1.0\n",
       "std       6.738461      2.028632    0.0\n",
       "min    1938.000000      1.000000    1.0\n",
       "25%    1951.000000      5.000000    1.0\n",
       "50%    1957.000000      6.000000    1.0\n",
       "75%    1962.000000      8.000000    1.0\n",
       "max    1969.000000     12.000000    1.0"
      ]
     },
     "execution_count": 9,
     "metadata": {},
     "output_type": "execute_result"
    }
   ],
   "source": [
    "guido_sub_sample.describe()"
   ]
  },
  {
   "cell_type": "code",
   "execution_count": 10,
   "metadata": {},
   "outputs": [
    {
     "data": {
      "text/plain": [
       "Female    15205\n",
       "Male      14108\n",
       "Name: sex, dtype: int64"
      ]
     },
     "execution_count": 10,
     "metadata": {},
     "output_type": "execute_result"
    }
   ],
   "source": [
    "sub_metadata['sex'].value_counts()"
   ]
  },
  {
   "cell_type": "code",
   "execution_count": 11,
   "metadata": {},
   "outputs": [
    {
     "data": {
      "text/html": [
       "<div>\n",
       "<style scoped>\n",
       "    .dataframe tbody tr th:only-of-type {\n",
       "        vertical-align: middle;\n",
       "    }\n",
       "\n",
       "    .dataframe tbody tr th {\n",
       "        vertical-align: top;\n",
       "    }\n",
       "\n",
       "    .dataframe thead th {\n",
       "        text-align: right;\n",
       "    }\n",
       "</style>\n",
       "<table border=\"1\" class=\"dataframe\">\n",
       "  <thead>\n",
       "    <tr style=\"text-align: right;\">\n",
       "      <th></th>\n",
       "      <th>f.2050.2.0</th>\n",
       "      <th>f.2060.2.0</th>\n",
       "      <th>f.20123.0.0</th>\n",
       "      <th>f.20124.0.0</th>\n",
       "      <th>f.20125.0.0</th>\n",
       "      <th>f.20435.0.0</th>\n",
       "      <th>f.20436.0.0</th>\n",
       "      <th>f.20437.0.0</th>\n",
       "      <th>f.20439.0.0</th>\n",
       "      <th>f.20440.0.0</th>\n",
       "      <th>...</th>\n",
       "      <th>f.20517.0.0</th>\n",
       "      <th>f.20518.0.0</th>\n",
       "      <th>f.20519.0.0</th>\n",
       "      <th>f.20532.0.0</th>\n",
       "      <th>f.20536.0.0</th>\n",
       "      <th>birth year</th>\n",
       "      <th>sex</th>\n",
       "      <th>education</th>\n",
       "      <th>intelligence</th>\n",
       "      <th>MDD</th>\n",
       "    </tr>\n",
       "    <tr>\n",
       "      <th>f.eid</th>\n",
       "      <th></th>\n",
       "      <th></th>\n",
       "      <th></th>\n",
       "      <th></th>\n",
       "      <th></th>\n",
       "      <th></th>\n",
       "      <th></th>\n",
       "      <th></th>\n",
       "      <th></th>\n",
       "      <th></th>\n",
       "      <th></th>\n",
       "      <th></th>\n",
       "      <th></th>\n",
       "      <th></th>\n",
       "      <th></th>\n",
       "      <th></th>\n",
       "      <th></th>\n",
       "      <th></th>\n",
       "      <th></th>\n",
       "      <th></th>\n",
       "      <th></th>\n",
       "    </tr>\n",
       "  </thead>\n",
       "  <tbody>\n",
       "    <tr>\n",
       "      <th>4235172</th>\n",
       "      <td>Nearly every day</td>\n",
       "      <td>More than half the days</td>\n",
       "      <td>NaN</td>\n",
       "      <td>NaN</td>\n",
       "      <td>NaN</td>\n",
       "      <td>Yes</td>\n",
       "      <td>All day long</td>\n",
       "      <td>Yes</td>\n",
       "      <td>Every day</td>\n",
       "      <td>Somewhat</td>\n",
       "      <td>...</td>\n",
       "      <td>Nearly every day</td>\n",
       "      <td>Several days</td>\n",
       "      <td>Nearly every day</td>\n",
       "      <td>Yes</td>\n",
       "      <td>Gained weight</td>\n",
       "      <td>1958</td>\n",
       "      <td>Male</td>\n",
       "      <td>College or University degree</td>\n",
       "      <td>3.0</td>\n",
       "      <td>1</td>\n",
       "    </tr>\n",
       "    <tr>\n",
       "      <th>3318947</th>\n",
       "      <td>Nearly every day</td>\n",
       "      <td>Not at all</td>\n",
       "      <td>NaN</td>\n",
       "      <td>NaN</td>\n",
       "      <td>NaN</td>\n",
       "      <td>Yes</td>\n",
       "      <td>Most of the day</td>\n",
       "      <td>Yes</td>\n",
       "      <td>Almost every day</td>\n",
       "      <td>Somewhat</td>\n",
       "      <td>...</td>\n",
       "      <td>Nearly every day</td>\n",
       "      <td>Not at all</td>\n",
       "      <td>Not at all</td>\n",
       "      <td>Yes</td>\n",
       "      <td>Lost weight</td>\n",
       "      <td>1963</td>\n",
       "      <td>Female</td>\n",
       "      <td>College or University degree</td>\n",
       "      <td>4.0</td>\n",
       "      <td>1</td>\n",
       "    </tr>\n",
       "    <tr>\n",
       "      <th>4921548</th>\n",
       "      <td>Nearly every day</td>\n",
       "      <td>Nearly every day</td>\n",
       "      <td>NaN</td>\n",
       "      <td>Yes</td>\n",
       "      <td>NaN</td>\n",
       "      <td>Yes</td>\n",
       "      <td>All day long</td>\n",
       "      <td>Yes</td>\n",
       "      <td>Every day</td>\n",
       "      <td>Somewhat</td>\n",
       "      <td>...</td>\n",
       "      <td>Nearly every day</td>\n",
       "      <td>Not at all</td>\n",
       "      <td>Nearly every day</td>\n",
       "      <td>Yes</td>\n",
       "      <td>Gained weight</td>\n",
       "      <td>1962</td>\n",
       "      <td>Female</td>\n",
       "      <td>O levels/GCSEs or equivalent</td>\n",
       "      <td>9.0</td>\n",
       "      <td>1</td>\n",
       "    </tr>\n",
       "    <tr>\n",
       "      <th>3426498</th>\n",
       "      <td>Nearly every day</td>\n",
       "      <td>Nearly every day</td>\n",
       "      <td>NaN</td>\n",
       "      <td>NaN</td>\n",
       "      <td>NaN</td>\n",
       "      <td>Yes</td>\n",
       "      <td>All day long</td>\n",
       "      <td>No</td>\n",
       "      <td>Every day</td>\n",
       "      <td>A lot</td>\n",
       "      <td>...</td>\n",
       "      <td>Several days</td>\n",
       "      <td>Not at all</td>\n",
       "      <td>Nearly every day</td>\n",
       "      <td>Yes</td>\n",
       "      <td>Lost weight</td>\n",
       "      <td>1951</td>\n",
       "      <td>Female</td>\n",
       "      <td>O levels/GCSEs or equivalent</td>\n",
       "      <td>4.0</td>\n",
       "      <td>1</td>\n",
       "    </tr>\n",
       "    <tr>\n",
       "      <th>1863265</th>\n",
       "      <td>Nearly every day</td>\n",
       "      <td>Nearly every day</td>\n",
       "      <td>NaN</td>\n",
       "      <td>NaN</td>\n",
       "      <td>NaN</td>\n",
       "      <td>Do not know</td>\n",
       "      <td>All day long</td>\n",
       "      <td>Prefer not to answer</td>\n",
       "      <td>Almost every day</td>\n",
       "      <td>A lot</td>\n",
       "      <td>...</td>\n",
       "      <td>Nearly every day</td>\n",
       "      <td>Not at all</td>\n",
       "      <td>More than half the days</td>\n",
       "      <td>Yes</td>\n",
       "      <td>Do not know</td>\n",
       "      <td>1968</td>\n",
       "      <td>Male</td>\n",
       "      <td>CSEs or equivalent</td>\n",
       "      <td>8.0</td>\n",
       "      <td>1</td>\n",
       "    </tr>\n",
       "  </tbody>\n",
       "</table>\n",
       "<p>5 rows × 30 columns</p>\n",
       "</div>"
      ],
      "text/plain": [
       "               f.2050.2.0               f.2060.2.0 f.20123.0.0 f.20124.0.0  \\\n",
       "f.eid                                                                        \n",
       "4235172  Nearly every day  More than half the days         NaN         NaN   \n",
       "3318947  Nearly every day               Not at all         NaN         NaN   \n",
       "4921548  Nearly every day         Nearly every day         NaN         Yes   \n",
       "3426498  Nearly every day         Nearly every day         NaN         NaN   \n",
       "1863265  Nearly every day         Nearly every day         NaN         NaN   \n",
       "\n",
       "        f.20125.0.0  f.20435.0.0      f.20436.0.0           f.20437.0.0  \\\n",
       "f.eid                                                                     \n",
       "4235172         NaN          Yes     All day long                   Yes   \n",
       "3318947         NaN          Yes  Most of the day                   Yes   \n",
       "4921548         NaN          Yes     All day long                   Yes   \n",
       "3426498         NaN          Yes     All day long                    No   \n",
       "1863265         NaN  Do not know     All day long  Prefer not to answer   \n",
       "\n",
       "              f.20439.0.0 f.20440.0.0  ...       f.20517.0.0   f.20518.0.0  \\\n",
       "f.eid                                  ...                                   \n",
       "4235172         Every day    Somewhat  ...  Nearly every day  Several days   \n",
       "3318947  Almost every day    Somewhat  ...  Nearly every day    Not at all   \n",
       "4921548         Every day    Somewhat  ...  Nearly every day    Not at all   \n",
       "3426498         Every day       A lot  ...      Several days    Not at all   \n",
       "1863265  Almost every day       A lot  ...  Nearly every day    Not at all   \n",
       "\n",
       "                     f.20519.0.0 f.20532.0.0    f.20536.0.0 birth year  \\\n",
       "f.eid                                                                    \n",
       "4235172         Nearly every day         Yes  Gained weight       1958   \n",
       "3318947               Not at all         Yes    Lost weight       1963   \n",
       "4921548         Nearly every day         Yes  Gained weight       1962   \n",
       "3426498         Nearly every day         Yes    Lost weight       1951   \n",
       "1863265  More than half the days         Yes    Do not know       1968   \n",
       "\n",
       "            sex                     education intelligence MDD  \n",
       "f.eid                                                           \n",
       "4235172    Male  College or University degree          3.0   1  \n",
       "3318947  Female  College or University degree          4.0   1  \n",
       "4921548  Female  O levels/GCSEs or equivalent          9.0   1  \n",
       "3426498  Female  O levels/GCSEs or equivalent          4.0   1  \n",
       "1863265    Male            CSEs or equivalent          8.0   1  \n",
       "\n",
       "[5 rows x 30 columns]"
      ]
     },
     "execution_count": 11,
     "metadata": {},
     "output_type": "execute_result"
    }
   ],
   "source": [
    "guido_sub_sample.head()"
   ]
  },
  {
   "cell_type": "code",
   "execution_count": 12,
   "metadata": {},
   "outputs": [
    {
     "data": {
      "text/plain": [
       "42"
      ]
     },
     "execution_count": 12,
     "metadata": {},
     "output_type": "execute_result"
    }
   ],
   "source": [
    "guido_sub_sample['intelligence'].isna().sum()"
   ]
  },
  {
   "cell_type": "markdown",
   "metadata": {},
   "source": [
    "## selecting Control match  based on MDD distribution of GUIdo depression subset "
   ]
  },
  {
   "cell_type": "code",
   "execution_count": 13,
   "metadata": {},
   "outputs": [
    {
     "data": {
      "text/html": [
       "<div>\n",
       "<style scoped>\n",
       "    .dataframe tbody tr th:only-of-type {\n",
       "        vertical-align: middle;\n",
       "    }\n",
       "\n",
       "    .dataframe tbody tr th {\n",
       "        vertical-align: top;\n",
       "    }\n",
       "\n",
       "    .dataframe thead th {\n",
       "        text-align: right;\n",
       "    }\n",
       "</style>\n",
       "<table border=\"1\" class=\"dataframe\">\n",
       "  <thead>\n",
       "    <tr style=\"text-align: right;\">\n",
       "      <th></th>\n",
       "      <th>sex</th>\n",
       "      <th>birth year</th>\n",
       "      <th>education</th>\n",
       "      <th>intelligence</th>\n",
       "      <th>counts</th>\n",
       "    </tr>\n",
       "  </thead>\n",
       "  <tbody>\n",
       "    <tr>\n",
       "      <th>0</th>\n",
       "      <td>Female</td>\n",
       "      <td>1939</td>\n",
       "      <td>College or University degree</td>\n",
       "      <td>3.0</td>\n",
       "      <td>1</td>\n",
       "    </tr>\n",
       "    <tr>\n",
       "      <th>1</th>\n",
       "      <td>Female</td>\n",
       "      <td>1940</td>\n",
       "      <td>College or University degree</td>\n",
       "      <td>4.0</td>\n",
       "      <td>1</td>\n",
       "    </tr>\n",
       "    <tr>\n",
       "      <th>2</th>\n",
       "      <td>Female</td>\n",
       "      <td>1943</td>\n",
       "      <td>College or University degree</td>\n",
       "      <td>8.0</td>\n",
       "      <td>1</td>\n",
       "    </tr>\n",
       "    <tr>\n",
       "      <th>3</th>\n",
       "      <td>Female</td>\n",
       "      <td>1944</td>\n",
       "      <td>A levels/AS levels or equivalent</td>\n",
       "      <td>4.0</td>\n",
       "      <td>1</td>\n",
       "    </tr>\n",
       "    <tr>\n",
       "      <th>4</th>\n",
       "      <td>Female</td>\n",
       "      <td>1944</td>\n",
       "      <td>College or University degree</td>\n",
       "      <td>5.0</td>\n",
       "      <td>1</td>\n",
       "    </tr>\n",
       "    <tr>\n",
       "      <th>...</th>\n",
       "      <td>...</td>\n",
       "      <td>...</td>\n",
       "      <td>...</td>\n",
       "      <td>...</td>\n",
       "      <td>...</td>\n",
       "    </tr>\n",
       "    <tr>\n",
       "      <th>310</th>\n",
       "      <td>Male</td>\n",
       "      <td>1966</td>\n",
       "      <td>O levels/GCSEs or equivalent</td>\n",
       "      <td>6.0</td>\n",
       "      <td>1</td>\n",
       "    </tr>\n",
       "    <tr>\n",
       "      <th>311</th>\n",
       "      <td>Male</td>\n",
       "      <td>1967</td>\n",
       "      <td>NVQ or HND or HNC or equivalent</td>\n",
       "      <td>8.0</td>\n",
       "      <td>1</td>\n",
       "    </tr>\n",
       "    <tr>\n",
       "      <th>312</th>\n",
       "      <td>Male</td>\n",
       "      <td>1967</td>\n",
       "      <td>O levels/GCSEs or equivalent</td>\n",
       "      <td>11.0</td>\n",
       "      <td>1</td>\n",
       "    </tr>\n",
       "    <tr>\n",
       "      <th>313</th>\n",
       "      <td>Male</td>\n",
       "      <td>1968</td>\n",
       "      <td>CSEs or equivalent</td>\n",
       "      <td>8.0</td>\n",
       "      <td>1</td>\n",
       "    </tr>\n",
       "    <tr>\n",
       "      <th>314</th>\n",
       "      <td>Male</td>\n",
       "      <td>1968</td>\n",
       "      <td>O levels/GCSEs or equivalent</td>\n",
       "      <td>5.0</td>\n",
       "      <td>1</td>\n",
       "    </tr>\n",
       "  </tbody>\n",
       "</table>\n",
       "<p>315 rows × 5 columns</p>\n",
       "</div>"
      ],
      "text/plain": [
       "        sex  birth year                         education  intelligence  \\\n",
       "0    Female        1939      College or University degree           3.0   \n",
       "1    Female        1940      College or University degree           4.0   \n",
       "2    Female        1943      College or University degree           8.0   \n",
       "3    Female        1944  A levels/AS levels or equivalent           4.0   \n",
       "4    Female        1944      College or University degree           5.0   \n",
       "..      ...         ...                               ...           ...   \n",
       "310    Male        1966      O levels/GCSEs or equivalent           6.0   \n",
       "311    Male        1967   NVQ or HND or HNC or equivalent           8.0   \n",
       "312    Male        1967      O levels/GCSEs or equivalent          11.0   \n",
       "313    Male        1968                CSEs or equivalent           8.0   \n",
       "314    Male        1968      O levels/GCSEs or equivalent           5.0   \n",
       "\n",
       "     counts  \n",
       "0         1  \n",
       "1         1  \n",
       "2         1  \n",
       "3         1  \n",
       "4         1  \n",
       "..      ...  \n",
       "310       1  \n",
       "311       1  \n",
       "312       1  \n",
       "313       1  \n",
       "314       1  \n",
       "\n",
       "[315 rows x 5 columns]"
      ]
     },
     "execution_count": 13,
     "metadata": {},
     "output_type": "execute_result"
    }
   ],
   "source": [
    "guido_distribution = guido_sub_sample[['sex', 'birth year', 'education', 'intelligence']].groupby([\n",
    "    'sex', 'birth year', 'education', 'intelligence'\n",
    "]).size().reset_index(name='counts')\n",
    "guido_distribution"
   ]
  },
  {
   "cell_type": "code",
   "execution_count": 14,
   "metadata": {},
   "outputs": [
    {
     "data": {
      "text/plain": [
       "(23498, 29)"
      ]
     },
     "execution_count": 14,
     "metadata": {},
     "output_type": "execute_result"
    }
   ],
   "source": [
    "control_dataset = sub_metadata[~sub_metadata.index.isin(\n",
    "    pd.concat([depression_ever_davis, sub_sample2]).index\n",
    ")]\n",
    "control_dataset.shape"
   ]
  },
  {
   "cell_type": "code",
   "execution_count": 15,
   "metadata": {},
   "outputs": [
    {
     "data": {
      "text/html": [
       "<div>\n",
       "<style scoped>\n",
       "    .dataframe tbody tr th:only-of-type {\n",
       "        vertical-align: middle;\n",
       "    }\n",
       "\n",
       "    .dataframe tbody tr th {\n",
       "        vertical-align: top;\n",
       "    }\n",
       "\n",
       "    .dataframe thead th {\n",
       "        text-align: right;\n",
       "    }\n",
       "</style>\n",
       "<table border=\"1\" class=\"dataframe\">\n",
       "  <thead>\n",
       "    <tr style=\"text-align: right;\">\n",
       "      <th></th>\n",
       "      <th>f.2050.2.0</th>\n",
       "      <th>f.2060.2.0</th>\n",
       "      <th>f.20123.0.0</th>\n",
       "      <th>f.20124.0.0</th>\n",
       "      <th>f.20125.0.0</th>\n",
       "      <th>f.20435.0.0</th>\n",
       "      <th>f.20436.0.0</th>\n",
       "      <th>f.20437.0.0</th>\n",
       "      <th>f.20439.0.0</th>\n",
       "      <th>f.20440.0.0</th>\n",
       "      <th>...</th>\n",
       "      <th>f.20517.0.0</th>\n",
       "      <th>f.20518.0.0</th>\n",
       "      <th>f.20519.0.0</th>\n",
       "      <th>f.20532.0.0</th>\n",
       "      <th>f.20536.0.0</th>\n",
       "      <th>birth year</th>\n",
       "      <th>sex</th>\n",
       "      <th>education</th>\n",
       "      <th>intelligence</th>\n",
       "      <th>MDD</th>\n",
       "    </tr>\n",
       "    <tr>\n",
       "      <th>f.eid</th>\n",
       "      <th></th>\n",
       "      <th></th>\n",
       "      <th></th>\n",
       "      <th></th>\n",
       "      <th></th>\n",
       "      <th></th>\n",
       "      <th></th>\n",
       "      <th></th>\n",
       "      <th></th>\n",
       "      <th></th>\n",
       "      <th></th>\n",
       "      <th></th>\n",
       "      <th></th>\n",
       "      <th></th>\n",
       "      <th></th>\n",
       "      <th></th>\n",
       "      <th></th>\n",
       "      <th></th>\n",
       "      <th></th>\n",
       "      <th></th>\n",
       "      <th></th>\n",
       "    </tr>\n",
       "  </thead>\n",
       "  <tbody>\n",
       "    <tr>\n",
       "      <th>3741470</th>\n",
       "      <td>Not at all</td>\n",
       "      <td>Not at all</td>\n",
       "      <td>NaN</td>\n",
       "      <td>NaN</td>\n",
       "      <td>NaN</td>\n",
       "      <td>NaN</td>\n",
       "      <td>NaN</td>\n",
       "      <td>NaN</td>\n",
       "      <td>NaN</td>\n",
       "      <td>NaN</td>\n",
       "      <td>...</td>\n",
       "      <td>NaN</td>\n",
       "      <td>NaN</td>\n",
       "      <td>NaN</td>\n",
       "      <td>NaN</td>\n",
       "      <td>NaN</td>\n",
       "      <td>1938</td>\n",
       "      <td>Female</td>\n",
       "      <td>College or University degree</td>\n",
       "      <td>3.0</td>\n",
       "      <td>0</td>\n",
       "    </tr>\n",
       "    <tr>\n",
       "      <th>3906884</th>\n",
       "      <td>Not at all</td>\n",
       "      <td>Not at all</td>\n",
       "      <td>NaN</td>\n",
       "      <td>NaN</td>\n",
       "      <td>NaN</td>\n",
       "      <td>NaN</td>\n",
       "      <td>NaN</td>\n",
       "      <td>NaN</td>\n",
       "      <td>NaN</td>\n",
       "      <td>NaN</td>\n",
       "      <td>...</td>\n",
       "      <td>NaN</td>\n",
       "      <td>NaN</td>\n",
       "      <td>NaN</td>\n",
       "      <td>NaN</td>\n",
       "      <td>NaN</td>\n",
       "      <td>1938</td>\n",
       "      <td>Female</td>\n",
       "      <td>College or University degree</td>\n",
       "      <td>4.0</td>\n",
       "      <td>0</td>\n",
       "    </tr>\n",
       "    <tr>\n",
       "      <th>1757054</th>\n",
       "      <td>Several days</td>\n",
       "      <td>Several days</td>\n",
       "      <td>NaN</td>\n",
       "      <td>NaN</td>\n",
       "      <td>NaN</td>\n",
       "      <td>NaN</td>\n",
       "      <td>NaN</td>\n",
       "      <td>NaN</td>\n",
       "      <td>NaN</td>\n",
       "      <td>NaN</td>\n",
       "      <td>...</td>\n",
       "      <td>Not at all</td>\n",
       "      <td>Not at all</td>\n",
       "      <td>Not at all</td>\n",
       "      <td>NaN</td>\n",
       "      <td>NaN</td>\n",
       "      <td>1941</td>\n",
       "      <td>Female</td>\n",
       "      <td>College or University degree</td>\n",
       "      <td>5.0</td>\n",
       "      <td>0</td>\n",
       "    </tr>\n",
       "    <tr>\n",
       "      <th>4801237</th>\n",
       "      <td>Not at all</td>\n",
       "      <td>Not at all</td>\n",
       "      <td>NaN</td>\n",
       "      <td>NaN</td>\n",
       "      <td>NaN</td>\n",
       "      <td>NaN</td>\n",
       "      <td>NaN</td>\n",
       "      <td>NaN</td>\n",
       "      <td>NaN</td>\n",
       "      <td>NaN</td>\n",
       "      <td>...</td>\n",
       "      <td>NaN</td>\n",
       "      <td>NaN</td>\n",
       "      <td>NaN</td>\n",
       "      <td>NaN</td>\n",
       "      <td>NaN</td>\n",
       "      <td>1939</td>\n",
       "      <td>Female</td>\n",
       "      <td>College or University degree</td>\n",
       "      <td>5.0</td>\n",
       "      <td>0</td>\n",
       "    </tr>\n",
       "    <tr>\n",
       "      <th>2090934</th>\n",
       "      <td>Several days</td>\n",
       "      <td>Not at all</td>\n",
       "      <td>NaN</td>\n",
       "      <td>NaN</td>\n",
       "      <td>NaN</td>\n",
       "      <td>No</td>\n",
       "      <td>Most of the day</td>\n",
       "      <td>No</td>\n",
       "      <td>Every day</td>\n",
       "      <td>Not at all</td>\n",
       "      <td>...</td>\n",
       "      <td>Several days</td>\n",
       "      <td>Not at all</td>\n",
       "      <td>Not at all</td>\n",
       "      <td>Do not know</td>\n",
       "      <td>Stayed about the same or was on a diet</td>\n",
       "      <td>1942</td>\n",
       "      <td>Female</td>\n",
       "      <td>College or University degree</td>\n",
       "      <td>7.0</td>\n",
       "      <td>0</td>\n",
       "    </tr>\n",
       "  </tbody>\n",
       "</table>\n",
       "<p>5 rows × 30 columns</p>\n",
       "</div>"
      ],
      "text/plain": [
       "           f.2050.2.0    f.2060.2.0 f.20123.0.0 f.20124.0.0 f.20125.0.0  \\\n",
       "f.eid                                                                     \n",
       "3741470    Not at all    Not at all         NaN         NaN         NaN   \n",
       "3906884    Not at all    Not at all         NaN         NaN         NaN   \n",
       "1757054  Several days  Several days         NaN         NaN         NaN   \n",
       "4801237    Not at all    Not at all         NaN         NaN         NaN   \n",
       "2090934  Several days    Not at all         NaN         NaN         NaN   \n",
       "\n",
       "        f.20435.0.0      f.20436.0.0 f.20437.0.0 f.20439.0.0 f.20440.0.0  ...  \\\n",
       "f.eid                                                                     ...   \n",
       "3741470         NaN              NaN         NaN         NaN         NaN  ...   \n",
       "3906884         NaN              NaN         NaN         NaN         NaN  ...   \n",
       "1757054         NaN              NaN         NaN         NaN         NaN  ...   \n",
       "4801237         NaN              NaN         NaN         NaN         NaN  ...   \n",
       "2090934          No  Most of the day          No   Every day  Not at all  ...   \n",
       "\n",
       "          f.20517.0.0 f.20518.0.0 f.20519.0.0  f.20532.0.0  \\\n",
       "f.eid                                                        \n",
       "3741470           NaN         NaN         NaN          NaN   \n",
       "3906884           NaN         NaN         NaN          NaN   \n",
       "1757054    Not at all  Not at all  Not at all          NaN   \n",
       "4801237           NaN         NaN         NaN          NaN   \n",
       "2090934  Several days  Not at all  Not at all  Do not know   \n",
       "\n",
       "                                    f.20536.0.0 birth year     sex  \\\n",
       "f.eid                                                                \n",
       "3741470                                     NaN       1938  Female   \n",
       "3906884                                     NaN       1938  Female   \n",
       "1757054                                     NaN       1941  Female   \n",
       "4801237                                     NaN       1939  Female   \n",
       "2090934  Stayed about the same or was on a diet       1942  Female   \n",
       "\n",
       "                            education intelligence MDD  \n",
       "f.eid                                                   \n",
       "3741470  College or University degree          3.0   0  \n",
       "3906884  College or University degree          4.0   0  \n",
       "1757054  College or University degree          5.0   0  \n",
       "4801237  College or University degree          5.0   0  \n",
       "2090934  College or University degree          7.0   0  \n",
       "\n",
       "[5 rows x 30 columns]"
      ]
     },
     "execution_count": 15,
     "metadata": {},
     "output_type": "execute_result"
    }
   ],
   "source": [
    "control_subset = pd.DataFrame()\n",
    "for _, group in guido_distribution.iterrows():\n",
    "    c = control_dataset[(\n",
    "        (control_dataset['sex']==group['sex']) &\n",
    "        (control_dataset['education']==group['education']) &\n",
    "        (control_dataset['birth year'] >= group['birth year'] - 1) &\n",
    "        (control_dataset['birth year'] <= group['birth year'] + 1) &\n",
    "        (control_dataset['intelligence'] >= group['intelligence'] - 2) &\n",
    "        (control_dataset['intelligence'] <= group['intelligence'] + 1)\n",
    "    )].sample(2)\n",
    "    control_subset = control_subset.append(c)\n",
    "\n",
    "control_subset['MDD'] = 0\n",
    "control_subset.head()"
   ]
  },
  {
   "cell_type": "code",
   "execution_count": 16,
   "metadata": {},
   "outputs": [
    {
     "data": {
      "text/plain": [
       "f.eid\n",
       "3290642    False\n",
       "1641691     True\n",
       "3462460     True\n",
       "4229171     True\n",
       "1896643     True\n",
       "           ...  \n",
       "2067162    False\n",
       "4228212     True\n",
       "3696280    False\n",
       "1662148    False\n",
       "3098412     True\n",
       "Name: sex, Length: 23498, dtype: bool"
      ]
     },
     "execution_count": 16,
     "metadata": {},
     "output_type": "execute_result"
    }
   ],
   "source": [
    "control_dataset['sex']==group['sex']"
   ]
  },
  {
   "cell_type": "code",
   "execution_count": 17,
   "metadata": {},
   "outputs": [
    {
     "name": "stdout",
     "output_type": "stream",
     "text": [
      "409\n"
     ]
    },
    {
     "data": {
      "text/plain": [
       "630"
      ]
     },
     "execution_count": 17,
     "metadata": {},
     "output_type": "execute_result"
    }
   ],
   "source": [
    "print(len(guido_sub_sample))\n",
    "len(control_subset)"
   ]
  },
  {
   "cell_type": "code",
   "execution_count": 18,
   "metadata": {},
   "outputs": [
    {
     "data": {
      "text/plain": [
       "Female    280\n",
       "Male      149\n",
       "Name: sex, dtype: int64"
      ]
     },
     "execution_count": 18,
     "metadata": {},
     "output_type": "execute_result"
    }
   ],
   "source": [
    "#control_size = int(len(guido_sub_sample) / 0.4 - len(guido_sub_sample))\n",
    "control_size=len(guido_sub_sample)+20\n",
    "# control_subset = metadata[~metadata.index.isin(\n",
    "#     pd.concat([depression_ever_davis, sub_sample2]).index\n",
    "# )].sample(control_size)\n",
    "# control_subset['MDD'] = 0\n",
    "# len(control_subset)\n",
    "\n",
    "control_match_subset=control_subset.sample(control_size)\n",
    "len(control_match_subset)\n",
    "control_match_subset['sex'].value_counts()"
   ]
  },
  {
   "cell_type": "code",
   "execution_count": 19,
   "metadata": {},
   "outputs": [
    {
     "data": {
      "text/plain": [
       "Female    273\n",
       "Male      136\n",
       "Name: sex, dtype: int64"
      ]
     },
     "execution_count": 19,
     "metadata": {},
     "output_type": "execute_result"
    }
   ],
   "source": [
    "guido_sub_sample['sex'].value_counts()"
   ]
  },
  {
   "cell_type": "code",
   "execution_count": 20,
   "metadata": {},
   "outputs": [
    {
     "data": {
      "text/plain": [
       "Female    396\n",
       "Male      234\n",
       "Name: sex, dtype: int64"
      ]
     },
     "execution_count": 20,
     "metadata": {},
     "output_type": "execute_result"
    }
   ],
   "source": [
    "control_subset['sex'].value_counts()"
   ]
  },
  {
   "cell_type": "markdown",
   "metadata": {},
   "source": [
    "## ploting MDD subset and match  control total number of each matching criteria"
   ]
  },
  {
   "cell_type": "code",
   "execution_count": 21,
   "metadata": {},
   "outputs": [
    {
     "data": {
      "image/png": "[encoded data removed]",
      "text/plain": [
       "<Figure size 432x288 with 1 Axes>"
      ]
     },
     "metadata": {
      "needs_background": "light"
     },
     "output_type": "display_data"
    },
    {
     "data": {
      "image/png": "[encoded data removed]",
      "text/plain": [
       "<Figure size 432x288 with 1 Axes>"
      ]
     },
     "metadata": {
      "needs_background": "light"
     },
     "output_type": "display_data"
    },
    {
     "data": {
      "image/png": "[encoded data removed]",
      "text/plain": [
       "<Figure size 432x288 with 1 Axes>"
      ]
     },
     "metadata": {
      "needs_background": "light"
     },
     "output_type": "display_data"
    }
   ],
   "source": [
    "import matplotlib.pyplot as plt\n",
    "\n",
    "control_subset['sex'].hist(label= 'sex Control')\n",
    "guido_sub_sample['sex'].hist(legend=True)\n",
    "plt.title('Sex distribution: num_MDD=409 , num_Control=630', fontsize=12, fontweight=\"bold\")\n",
    "plt.show()\n",
    "\n",
    "control_subset['intelligence'].hist(label= 'intelligence Control')\n",
    "guido_sub_sample['intelligence'].hist(legend=True)\n",
    "plt.title('IQ distribution: num_MDD=409 , num_Control=630', fontsize=12,fontweight=\"bold\")\n",
    "plt.show()\n",
    "\n",
    "control_subset['birth year'].hist(label= 'birth Year Control')\n",
    "guido_sub_sample['birth year'].hist(legend=True)\n",
    "plt.title('Age distribution: num_MDD=409 , num_Control=630', fontsize=12, fontweight=\"bold\")\n",
    "plt.show()"
   ]
  },
  {
   "cell_type": "code",
   "execution_count": 22,
   "metadata": {},
   "outputs": [
    {
     "data": {
      "image/png": "[encoded data removed]",
      "text/plain": [
       "<Figure size 1440x576 with 1 Axes>"
      ]
     },
     "metadata": {
      "needs_background": "light"
     },
     "output_type": "display_data"
    }
   ],
   "source": [
    "fig, ax = plt.subplots(figsize=(20, 8))\n",
    "control_subset['education'].hist(label= 'education Control')\n",
    "guido_sub_sample['education'].hist(legend=True)\n",
    "plt.title('Educational level distribution: num_MDD=409 , num_Control=630', fontsize=12 ,fontweight=\"bold\")\n",
    "plt.show()"
   ]
  },
  {
   "cell_type": "code",
   "execution_count": 23,
   "metadata": {},
   "outputs": [
    {
     "data": {
      "text/plain": [
       "1039"
      ]
     },
     "execution_count": 23,
     "metadata": {},
     "output_type": "execute_result"
    }
   ],
   "source": [
    "depression_dataset = pd.concat([guido_sub_sample, control_subset])\n",
    "len(depression_dataset)"
   ]
  },
  {
   "cell_type": "code",
   "execution_count": 24,
   "metadata": {},
   "outputs": [
    {
     "data": {
      "image/png": "[encoded data removed]",
      "text/plain": [
       "<Figure size 432x288 with 1 Axes>"
      ]
     },
     "metadata": {
      "needs_background": "light"
     },
     "output_type": "display_data"
    }
   ],
   "source": [
    "control_subset['birth year'].hist(label='control')\n",
    "guido_sub_sample['birth year'].hist(label='MDD')\n",
    "plt.title('age distribution: num_MDD=409 , num_Control=630', fontsize=12)\n",
    "plt.show()"
   ]
  },
  {
   "cell_type": "code",
   "execution_count": 25,
   "metadata": {},
   "outputs": [
    {
     "data": {
      "text/html": [
       "<div>\n",
       "<style scoped>\n",
       "    .dataframe tbody tr th:only-of-type {\n",
       "        vertical-align: middle;\n",
       "    }\n",
       "\n",
       "    .dataframe tbody tr th {\n",
       "        vertical-align: top;\n",
       "    }\n",
       "\n",
       "    .dataframe thead th {\n",
       "        text-align: right;\n",
       "    }\n",
       "</style>\n",
       "<table border=\"1\" class=\"dataframe\">\n",
       "  <thead>\n",
       "    <tr style=\"text-align: right;\">\n",
       "      <th></th>\n",
       "      <th>f.2050.2.0</th>\n",
       "      <th>f.2060.2.0</th>\n",
       "      <th>f.20123.0.0</th>\n",
       "      <th>f.20124.0.0</th>\n",
       "      <th>f.20125.0.0</th>\n",
       "      <th>f.20435.0.0</th>\n",
       "      <th>f.20436.0.0</th>\n",
       "      <th>f.20437.0.0</th>\n",
       "      <th>f.20439.0.0</th>\n",
       "      <th>f.20440.0.0</th>\n",
       "      <th>...</th>\n",
       "      <th>f.20517.0.0</th>\n",
       "      <th>f.20518.0.0</th>\n",
       "      <th>f.20519.0.0</th>\n",
       "      <th>f.20532.0.0</th>\n",
       "      <th>f.20536.0.0</th>\n",
       "      <th>birth year</th>\n",
       "      <th>sex</th>\n",
       "      <th>education</th>\n",
       "      <th>intelligence</th>\n",
       "      <th>MDD</th>\n",
       "    </tr>\n",
       "    <tr>\n",
       "      <th>f.eid</th>\n",
       "      <th></th>\n",
       "      <th></th>\n",
       "      <th></th>\n",
       "      <th></th>\n",
       "      <th></th>\n",
       "      <th></th>\n",
       "      <th></th>\n",
       "      <th></th>\n",
       "      <th></th>\n",
       "      <th></th>\n",
       "      <th></th>\n",
       "      <th></th>\n",
       "      <th></th>\n",
       "      <th></th>\n",
       "      <th></th>\n",
       "      <th></th>\n",
       "      <th></th>\n",
       "      <th></th>\n",
       "      <th></th>\n",
       "      <th></th>\n",
       "      <th></th>\n",
       "    </tr>\n",
       "  </thead>\n",
       "  <tbody>\n",
       "    <tr>\n",
       "      <th>4235172</th>\n",
       "      <td>Nearly every day</td>\n",
       "      <td>More than half the days</td>\n",
       "      <td>NaN</td>\n",
       "      <td>NaN</td>\n",
       "      <td>NaN</td>\n",
       "      <td>Yes</td>\n",
       "      <td>All day long</td>\n",
       "      <td>Yes</td>\n",
       "      <td>Every day</td>\n",
       "      <td>Somewhat</td>\n",
       "      <td>...</td>\n",
       "      <td>Nearly every day</td>\n",
       "      <td>Several days</td>\n",
       "      <td>Nearly every day</td>\n",
       "      <td>Yes</td>\n",
       "      <td>Gained weight</td>\n",
       "      <td>1958</td>\n",
       "      <td>Male</td>\n",
       "      <td>College or University degree</td>\n",
       "      <td>3.0</td>\n",
       "      <td>1</td>\n",
       "    </tr>\n",
       "    <tr>\n",
       "      <th>3318947</th>\n",
       "      <td>Nearly every day</td>\n",
       "      <td>Not at all</td>\n",
       "      <td>NaN</td>\n",
       "      <td>NaN</td>\n",
       "      <td>NaN</td>\n",
       "      <td>Yes</td>\n",
       "      <td>Most of the day</td>\n",
       "      <td>Yes</td>\n",
       "      <td>Almost every day</td>\n",
       "      <td>Somewhat</td>\n",
       "      <td>...</td>\n",
       "      <td>Nearly every day</td>\n",
       "      <td>Not at all</td>\n",
       "      <td>Not at all</td>\n",
       "      <td>Yes</td>\n",
       "      <td>Lost weight</td>\n",
       "      <td>1963</td>\n",
       "      <td>Female</td>\n",
       "      <td>College or University degree</td>\n",
       "      <td>4.0</td>\n",
       "      <td>1</td>\n",
       "    </tr>\n",
       "    <tr>\n",
       "      <th>4921548</th>\n",
       "      <td>Nearly every day</td>\n",
       "      <td>Nearly every day</td>\n",
       "      <td>NaN</td>\n",
       "      <td>Yes</td>\n",
       "      <td>NaN</td>\n",
       "      <td>Yes</td>\n",
       "      <td>All day long</td>\n",
       "      <td>Yes</td>\n",
       "      <td>Every day</td>\n",
       "      <td>Somewhat</td>\n",
       "      <td>...</td>\n",
       "      <td>Nearly every day</td>\n",
       "      <td>Not at all</td>\n",
       "      <td>Nearly every day</td>\n",
       "      <td>Yes</td>\n",
       "      <td>Gained weight</td>\n",
       "      <td>1962</td>\n",
       "      <td>Female</td>\n",
       "      <td>O levels/GCSEs or equivalent</td>\n",
       "      <td>9.0</td>\n",
       "      <td>1</td>\n",
       "    </tr>\n",
       "    <tr>\n",
       "      <th>3426498</th>\n",
       "      <td>Nearly every day</td>\n",
       "      <td>Nearly every day</td>\n",
       "      <td>NaN</td>\n",
       "      <td>NaN</td>\n",
       "      <td>NaN</td>\n",
       "      <td>Yes</td>\n",
       "      <td>All day long</td>\n",
       "      <td>No</td>\n",
       "      <td>Every day</td>\n",
       "      <td>A lot</td>\n",
       "      <td>...</td>\n",
       "      <td>Several days</td>\n",
       "      <td>Not at all</td>\n",
       "      <td>Nearly every day</td>\n",
       "      <td>Yes</td>\n",
       "      <td>Lost weight</td>\n",
       "      <td>1951</td>\n",
       "      <td>Female</td>\n",
       "      <td>O levels/GCSEs or equivalent</td>\n",
       "      <td>4.0</td>\n",
       "      <td>1</td>\n",
       "    </tr>\n",
       "    <tr>\n",
       "      <th>1863265</th>\n",
       "      <td>Nearly every day</td>\n",
       "      <td>Nearly every day</td>\n",
       "      <td>NaN</td>\n",
       "      <td>NaN</td>\n",
       "      <td>NaN</td>\n",
       "      <td>Do not know</td>\n",
       "      <td>All day long</td>\n",
       "      <td>Prefer not to answer</td>\n",
       "      <td>Almost every day</td>\n",
       "      <td>A lot</td>\n",
       "      <td>...</td>\n",
       "      <td>Nearly every day</td>\n",
       "      <td>Not at all</td>\n",
       "      <td>More than half the days</td>\n",
       "      <td>Yes</td>\n",
       "      <td>Do not know</td>\n",
       "      <td>1968</td>\n",
       "      <td>Male</td>\n",
       "      <td>CSEs or equivalent</td>\n",
       "      <td>8.0</td>\n",
       "      <td>1</td>\n",
       "    </tr>\n",
       "  </tbody>\n",
       "</table>\n",
       "<p>5 rows × 30 columns</p>\n",
       "</div>"
      ],
      "text/plain": [
       "               f.2050.2.0               f.2060.2.0 f.20123.0.0 f.20124.0.0  \\\n",
       "f.eid                                                                        \n",
       "4235172  Nearly every day  More than half the days         NaN         NaN   \n",
       "3318947  Nearly every day               Not at all         NaN         NaN   \n",
       "4921548  Nearly every day         Nearly every day         NaN         Yes   \n",
       "3426498  Nearly every day         Nearly every day         NaN         NaN   \n",
       "1863265  Nearly every day         Nearly every day         NaN         NaN   \n",
       "\n",
       "        f.20125.0.0  f.20435.0.0      f.20436.0.0           f.20437.0.0  \\\n",
       "f.eid                                                                     \n",
       "4235172         NaN          Yes     All day long                   Yes   \n",
       "3318947         NaN          Yes  Most of the day                   Yes   \n",
       "4921548         NaN          Yes     All day long                   Yes   \n",
       "3426498         NaN          Yes     All day long                    No   \n",
       "1863265         NaN  Do not know     All day long  Prefer not to answer   \n",
       "\n",
       "              f.20439.0.0 f.20440.0.0  ...       f.20517.0.0   f.20518.0.0  \\\n",
       "f.eid                                  ...                                   \n",
       "4235172         Every day    Somewhat  ...  Nearly every day  Several days   \n",
       "3318947  Almost every day    Somewhat  ...  Nearly every day    Not at all   \n",
       "4921548         Every day    Somewhat  ...  Nearly every day    Not at all   \n",
       "3426498         Every day       A lot  ...      Several days    Not at all   \n",
       "1863265  Almost every day       A lot  ...  Nearly every day    Not at all   \n",
       "\n",
       "                     f.20519.0.0 f.20532.0.0    f.20536.0.0 birth year  \\\n",
       "f.eid                                                                    \n",
       "4235172         Nearly every day         Yes  Gained weight       1958   \n",
       "3318947               Not at all         Yes    Lost weight       1963   \n",
       "4921548         Nearly every day         Yes  Gained weight       1962   \n",
       "3426498         Nearly every day         Yes    Lost weight       1951   \n",
       "1863265  More than half the days         Yes    Do not know       1968   \n",
       "\n",
       "            sex                     education intelligence MDD  \n",
       "f.eid                                                           \n",
       "4235172    Male  College or University degree          3.0   1  \n",
       "3318947  Female  College or University degree          4.0   1  \n",
       "4921548  Female  O levels/GCSEs or equivalent          9.0   1  \n",
       "3426498  Female  O levels/GCSEs or equivalent          4.0   1  \n",
       "1863265    Male            CSEs or equivalent          8.0   1  \n",
       "\n",
       "[5 rows x 30 columns]"
      ]
     },
     "execution_count": 25,
     "metadata": {},
     "output_type": "execute_result"
    }
   ],
   "source": [
    "depression_dataset.head()"
   ]
  },
  {
   "cell_type": "markdown",
   "metadata": {},
   "source": [
    "## save id for both MDD and control as data frame"
   ]
  },
  {
   "cell_type": "code",
   "execution_count": 26,
   "metadata": {},
   "outputs": [],
   "source": [
    "guido_ids = pd.DataFrame(guido_sub_sample.index)\n",
    "guido_ids['mdd'] = 1\n",
    "control_ids = pd.DataFrame(control_subset.index)\n",
    "control_ids['mdd'] = 0"
   ]
  },
  {
   "cell_type": "markdown",
   "metadata": {},
   "source": []
  },
  {
   "cell_type": "markdown",
   "metadata": {},
   "source": [
    "## concat id mdd and control to one csv "
   ]
  },
  {
   "cell_type": "code",
   "execution_count": 27,
   "metadata": {},
   "outputs": [],
   "source": [
    "depression_ids = pd.concat([guido_ids, control_ids])"
   ]
  },
  {
   "cell_type": "code",
   "execution_count": null,
   "metadata": {},
   "outputs": [],
   "source": [
    "depression_ids.to_csv('depression_ids.csv', index=False)\n",
    "depression_ids.head()"
   ]
  },
  {
   "cell_type": "markdown",
   "metadata": {},
   "source": [
    "## save seprate CSV for MDD and COntrol"
   ]
  },
  {
   "cell_type": "code",
   "execution_count": null,
   "metadata": {},
   "outputs": [],
   "source": [
    "guido_ids.to_csv('MDD_ids.csv', index=False)\n",
    "control_ids.to_csv('control_ids.csv', index=False)"
   ]
  },
  {
   "cell_type": "code",
   "execution_count": null,
   "metadata": {},
   "outputs": [],
   "source": [
    "depression_ids['f.eid']"
   ]
  },
  {
   "cell_type": "code",
   "execution_count": null,
   "metadata": {},
   "outputs": [],
   "source": [
    "depression_dataset['MDD'].value_counts()"
   ]
  },
  {
   "cell_type": "code",
   "execution_count": 28,
   "metadata": {},
   "outputs": [
    {
     "data": {
      "text/plain": [
       "(1039, 2)"
      ]
     },
     "execution_count": 28,
     "metadata": {},
     "output_type": "execute_result"
    }
   ],
   "source": [
    "subject_ukbb_ids=depression_ids\n",
    "subject_ukbb_ids.shape"
   ]
  },
  {
   "cell_type": "code",
   "execution_count": 29,
   "metadata": {},
   "outputs": [
    {
     "data": {
      "text/plain": [
       "1039"
      ]
     },
     "execution_count": 29,
     "metadata": {},
     "output_type": "execute_result"
    }
   ],
   "source": [
    "subject_ukbb_ids\n",
    "len(subject_ukbb_ids)"
   ]
  },
  {
   "cell_type": "code",
   "execution_count": 30,
   "metadata": {},
   "outputs": [
    {
     "data": {
      "text/plain": [
       "0      4235172\n",
       "1      3318947\n",
       "2      4921548\n",
       "3      3426498\n",
       "4      1863265\n",
       "        ...   \n",
       "625    4302520\n",
       "626    5895433\n",
       "627    4970401\n",
       "628    4849987\n",
       "629    2494887\n",
       "Name: f.eid, Length: 1039, dtype: int64"
      ]
     },
     "execution_count": 30,
     "metadata": {},
     "output_type": "execute_result"
    }
   ],
   "source": [
    "subject_ukbb_ids['f.eid']"
   ]
  },
  {
   "cell_type": "markdown",
   "metadata": {},
   "source": [
    "##  read ids of MDD and control "
   ]
  },
  {
   "cell_type": "code",
   "execution_count": 33,
   "metadata": {},
   "outputs": [
    {
     "name": "stdout",
     "output_type": "stream",
     "text": [
      "       f.eid  mdd\n",
      "0    4235172    1\n",
      "1    3318947    1\n",
      "2    4921548    1\n",
      "3    3426498    1\n",
      "4    1863265    1\n",
      "..       ...  ...\n",
      "404  5598675    1\n",
      "405  3384948    1\n",
      "406  5723045    1\n",
      "407  3380854    1\n",
      "408  3091214    1\n",
      "\n",
      "[409 rows x 2 columns]\n"
     ]
    }
   ],
   "source": [
    "MDD_ids = pd.read_csv('MDD_ids.csv')\n",
    "print(MDD_ids)"
   ]
  },
  {
   "cell_type": "code",
   "execution_count": 34,
   "metadata": {},
   "outputs": [
    {
     "data": {
      "text/plain": [
       "409"
      ]
     },
     "execution_count": 34,
     "metadata": {},
     "output_type": "execute_result"
    }
   ],
   "source": [
    "len(MDD_ids['f.eid'])"
   ]
  },
  {
   "cell_type": "code",
   "execution_count": 32,
   "metadata": {},
   "outputs": [],
   "source": [
    "control_ids= pd.read_csv('control_ids.csv')"
   ]
  },
  {
   "cell_type": "code",
   "execution_count": 35,
   "metadata": {},
   "outputs": [
    {
     "data": {
      "text/plain": [
       "630"
      ]
     },
     "execution_count": 35,
     "metadata": {},
     "output_type": "execute_result"
    }
   ],
   "source": [
    "len(control_ids)"
   ]
  },
  {
   "cell_type": "code",
   "execution_count": 12,
   "metadata": {},
   "outputs": [
    {
     "data": {
      "text/html": [
       "<div>\n",
       "<style scoped>\n",
       "    .dataframe tbody tr th:only-of-type {\n",
       "        vertical-align: middle;\n",
       "    }\n",
       "\n",
       "    .dataframe tbody tr th {\n",
       "        vertical-align: top;\n",
       "    }\n",
       "\n",
       "    .dataframe thead th {\n",
       "        text-align: right;\n",
       "    }\n",
       "</style>\n",
       "<table border=\"1\" class=\"dataframe\">\n",
       "  <thead>\n",
       "    <tr style=\"text-align: right;\">\n",
       "      <th></th>\n",
       "      <th>f.eid</th>\n",
       "      <th>mdd</th>\n",
       "    </tr>\n",
       "  </thead>\n",
       "  <tbody>\n",
       "    <tr>\n",
       "      <th>0</th>\n",
       "      <td>4235172</td>\n",
       "      <td>1</td>\n",
       "    </tr>\n",
       "    <tr>\n",
       "      <th>1</th>\n",
       "      <td>3318947</td>\n",
       "      <td>1</td>\n",
       "    </tr>\n",
       "    <tr>\n",
       "      <th>2</th>\n",
       "      <td>4921548</td>\n",
       "      <td>1</td>\n",
       "    </tr>\n",
       "    <tr>\n",
       "      <th>3</th>\n",
       "      <td>3426498</td>\n",
       "      <td>1</td>\n",
       "    </tr>\n",
       "    <tr>\n",
       "      <th>4</th>\n",
       "      <td>1863265</td>\n",
       "      <td>1</td>\n",
       "    </tr>\n",
       "    <tr>\n",
       "      <th>...</th>\n",
       "      <td>...</td>\n",
       "      <td>...</td>\n",
       "    </tr>\n",
       "    <tr>\n",
       "      <th>1034</th>\n",
       "      <td>5694545</td>\n",
       "      <td>0</td>\n",
       "    </tr>\n",
       "    <tr>\n",
       "      <th>1035</th>\n",
       "      <td>2730866</td>\n",
       "      <td>0</td>\n",
       "    </tr>\n",
       "    <tr>\n",
       "      <th>1036</th>\n",
       "      <td>5895433</td>\n",
       "      <td>0</td>\n",
       "    </tr>\n",
       "    <tr>\n",
       "      <th>1037</th>\n",
       "      <td>5636535</td>\n",
       "      <td>0</td>\n",
       "    </tr>\n",
       "    <tr>\n",
       "      <th>1038</th>\n",
       "      <td>2915023</td>\n",
       "      <td>0</td>\n",
       "    </tr>\n",
       "  </tbody>\n",
       "</table>\n",
       "<p>1039 rows × 2 columns</p>\n",
       "</div>"
      ],
      "text/plain": [
       "        f.eid  mdd\n",
       "0     4235172    1\n",
       "1     3318947    1\n",
       "2     4921548    1\n",
       "3     3426498    1\n",
       "4     1863265    1\n",
       "...       ...  ...\n",
       "1034  5694545    0\n",
       "1035  2730866    0\n",
       "1036  5895433    0\n",
       "1037  5636535    0\n",
       "1038  2915023    0\n",
       "\n",
       "[1039 rows x 2 columns]"
      ]
     },
     "execution_count": 12,
     "metadata": {},
     "output_type": "execute_result"
    }
   ],
   "source": [
    "merged_ids = pd.read_csv('merged_ids.csv')\n",
    "merged_ids"
   ]
  },
  {
   "cell_type": "code",
   "execution_count": null,
   "metadata": {},
   "outputs": [],
   "source": []
  }
 ],
 "metadata": {
  "kernelspec": {
   "display_name": "Python 3",
   "language": "python",
   "name": "python3"
  },
  "language_info": {
   "codemirror_mode": {
    "name": "ipython",
    "version": 3
   },
   "file_extension": ".py",
   "mimetype": "text/x-python",
   "name": "python",
   "nbconvert_exporter": "python",
   "pygments_lexer": "ipython3",
   "version": "3.8.3"
  }
 },
 "nbformat": 4,
 "nbformat_minor": 5
}

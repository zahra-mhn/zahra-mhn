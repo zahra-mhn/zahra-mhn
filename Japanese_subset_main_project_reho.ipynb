{
 "cells": [
  {
   "cell_type": "markdown",
   "metadata": {},
   "source": [
    "# Japanese subset_ main thesis project -ReHo"
   ]
  },
  {
   "cell_type": "code",
   "execution_count": 1,
   "metadata": {},
   "outputs": [],
   "source": [
    "import pandas as pd\n",
    "import os\n",
    "import torch\n",
    "from torch import nn\n",
    "from torchvision.datasets import MNIST\n",
    "from torch.utils.data import DataLoader, ConcatDataset, TensorDataset\n",
    "from torchvision import transforms\n",
    "from sklearn.model_selection import KFold\n",
    "import torch.optim as optim\n",
    "import torch.nn.functional as F\n",
    "import numpy as np\n",
    "import nibabel as nib\n",
    "import matplotlib.pyplot as plt\n",
    "from sklearn.model_selection import train_test_split"
   ]
  },
  {
   "cell_type": "markdown",
   "metadata": {},
   "source": [
    "## start of classsification using Reho"
   ]
  },
  {
   "cell_type": "code",
   "execution_count": 2,
   "metadata": {},
   "outputs": [
    {
     "name": "stdout",
     "output_type": "stream",
     "text": [
      "255 255\n"
     ]
    }
   ],
   "source": [
    "control_base_path = '/dbstore/zmohaghegh/Japanese_subset/summary_measures/Control_reho/ReHo_Normalised_z/'\n",
    "mdd_base_path = '/dbstore/zmohaghegh/Japanese_subset/summary_measures/MDD_reho/ReHo_Normalised_z/'\n",
    "\n",
    "#define data path for control and MDD seprately\n",
    "\n",
    "control_files_path = [control_base_path + c for c in os.listdir(control_base_path) if c.startswith('R')]\n",
    "mdd_files_path = [mdd_base_path + m for m in os.listdir(mdd_base_path) if m.startswith('R')]\n",
    "print(len(control_files_path), len(mdd_files_path))"
   ]
  },
  {
   "cell_type": "markdown",
   "metadata": {},
   "source": [
    "### load data with nan "
   ]
  },
  {
   "cell_type": "code",
   "execution_count": 3,
   "metadata": {},
   "outputs": [],
   "source": [
    "#loading data seprately and set a label column for Control=0 and MDD=1\n",
    "\n",
    "control_dataset_reho_zero = [[nib.load(c).get_fdata(),0] for c in control_files_path]\n",
    "mdd_dataset_reho_zero = [[nib.load(m).get_fdata(),1] for m in mdd_files_path]"
   ]
  },
  {
   "cell_type": "markdown",
   "metadata": {},
   "source": [
    "##### define numpy array for doing the zero nan"
   ]
  },
  {
   "cell_type": "code",
   "execution_count": 4,
   "metadata": {},
   "outputs": [
    {
     "name": "stdout",
     "output_type": "stream",
     "text": [
      "(91, 109, 91)\n",
      "255\n",
      "1\n",
      "(91, 109, 91)\n",
      "255\n"
     ]
    },
    {
     "name": "stderr",
     "output_type": "stream",
     "text": [
      "/data/zmohaghegh/venv/lib64/python3.6/site-packages/ipykernel_launcher.py:8: VisibleDeprecationWarning: Creating an ndarray from ragged nested sequences (which is a list-or-tuple of lists-or-tuples-or ndarrays with different lengths or shapes) is deprecated. If you meant to do this, you must specify 'dtype=object' when creating the ndarray\n",
      "  \n",
      "/data/zmohaghegh/venv/lib64/python3.6/site-packages/ipykernel_launcher.py:9: VisibleDeprecationWarning: Creating an ndarray from ragged nested sequences (which is a list-or-tuple of lists-or-tuples-or ndarrays with different lengths or shapes) is deprecated. If you meant to do this, you must specify 'dtype=object' when creating the ndarray\n",
      "  if __name__ == '__main__':\n"
     ]
    },
    {
     "data": {
      "text/plain": [
       "0"
      ]
     },
     "execution_count": 4,
     "metadata": {},
     "output_type": "execute_result"
    }
   ],
   "source": [
    "control_reho_zero_nan2= control_dataset_reho_zero\n",
    "mdd_reho_zero_nan2 = mdd_dataset_reho_zero\n",
    "\n",
    "print(mdd_reho_zero_nan2[0][0].shape)\n",
    "print(len(mdd_reho_zero_nan2))\n",
    "print(mdd_reho_zero_nan2[0][1])\n",
    "\n",
    "mdd_reho_zero_nan3 = np.array(mdd_reho_zero_nan2)\n",
    "control_reho_zero_nan3 =np.array(control_reho_zero_nan2)\n",
    "print(control_reho_zero_nan2[0][0].shape)\n",
    "print(len(control_reho_zero_nan2))\n",
    "\n",
    "control_reho_zero_nan3[0][1]"
   ]
  },
  {
   "cell_type": "code",
   "execution_count": 5,
   "metadata": {},
   "outputs": [
    {
     "data": {
      "text/plain": [
       "255"
      ]
     },
     "execution_count": 5,
     "metadata": {},
     "output_type": "execute_result"
    }
   ],
   "source": [
    "len(mdd_dataset_reho_zero)"
   ]
  },
  {
   "cell_type": "code",
   "execution_count": 6,
   "metadata": {},
   "outputs": [
    {
     "data": {
      "text/plain": [
       "255"
      ]
     },
     "execution_count": 6,
     "metadata": {},
     "output_type": "execute_result"
    }
   ],
   "source": [
    "len(control_dataset_reho_zero)"
   ]
  },
  {
   "cell_type": "code",
   "execution_count": 7,
   "metadata": {},
   "outputs": [
    {
     "data": {
      "text/plain": [
       "2"
      ]
     },
     "execution_count": 7,
     "metadata": {},
     "output_type": "execute_result"
    }
   ],
   "source": [
    "len(mdd_dataset_reho_zero[0])\n",
    "len(control_dataset_reho_zero[0])"
   ]
  },
  {
   "cell_type": "code",
   "execution_count": 8,
   "metadata": {},
   "outputs": [
    {
     "data": {
      "text/plain": [
       "(91, 109, 91)"
      ]
     },
     "execution_count": 8,
     "metadata": {},
     "output_type": "execute_result"
    }
   ],
   "source": [
    "mdd_dataset_reho_zero[0][0].shape\n",
    "control_dataset_reho_zero[0][0].shape"
   ]
  },
  {
   "cell_type": "code",
   "execution_count": 9,
   "metadata": {},
   "outputs": [
    {
     "data": {
      "text/plain": [
       "array([        nan,         nan,         nan,         nan,         nan,\n",
       "               nan,         nan,         nan,         nan,         nan,\n",
       "               nan,         nan,         nan,         nan,         nan,\n",
       "               nan,  0.84428144,  0.79683548,  0.81698316,  0.81124616,\n",
       "        0.7445063 ,  0.58621883,  0.37639371,  0.31544447,  0.26352054,\n",
       "       -0.03605158,  0.08161569,  0.33698365,  0.47744834,  0.6262241 ,\n",
       "        0.54178131,  0.63222915,  0.73859745,  0.97454691,  1.05264175,\n",
       "        0.96295232,  0.82701445,  0.47442257,  0.12972231, -0.13232711,\n",
       "       -0.1364637 , -0.20667242, -0.36424959,  0.04453607,  0.46118417,\n",
       "        0.54277307,  0.53507698,  0.33272326,  0.62601441,  0.47528505,\n",
       "        0.18374254, -0.0439913 , -0.08049857,  0.01097339,  0.17220072,\n",
       "       -0.07944057,  0.05261297, -0.24137823, -0.3461414 , -0.53761476,\n",
       "       -0.35510996, -0.24967036,  0.00409639,  0.05395242,  0.36063883,\n",
       "        0.77951801,  1.08243525,  1.01388049,  0.39845243,  0.24669346,\n",
       "        0.17852901,  0.88710594,  1.03975177,  1.00863314,  0.95102024,\n",
       "        0.97843838,         nan,         nan,         nan,         nan,\n",
       "               nan,         nan,         nan,         nan,         nan,\n",
       "               nan,         nan,         nan,         nan,         nan,\n",
       "               nan])"
      ]
     },
     "execution_count": 9,
     "metadata": {},
     "output_type": "execute_result"
    }
   ],
   "source": [
    "control_dataset_reho_zero[190][0][:,34,56]"
   ]
  },
  {
   "cell_type": "code",
   "execution_count": 10,
   "metadata": {},
   "outputs": [
    {
     "data": {
      "text/plain": [
       "array([            nan,             nan,             nan,             nan,\n",
       "                   nan,             nan,             nan,             nan,\n",
       "                   nan,             nan,             nan,             nan,\n",
       "                   nan,             nan,             nan,             nan,\n",
       "        1.45227027e+00,  1.58096850e+00,  1.55474269e+00,  1.78304231e+00,\n",
       "        1.76300514e+00,  1.83052921e+00,  1.73060858e+00,  1.49151731e+00,\n",
       "        8.38405073e-01,  1.51621774e-01,  5.58712631e-02,  7.96048989e-05,\n",
       "       -4.80724126e-01, -2.73976892e-01, -4.16711837e-01, -7.36057162e-01,\n",
       "       -9.18137878e-02,  1.02721065e-01, -2.07152441e-02, -1.40896872e-01,\n",
       "       -1.06029892e+00, -1.56802857e+00, -1.51698637e+00,  3.41506273e-01,\n",
       "        6.67224765e-01,  3.86154920e-01,  7.52673447e-02,  5.10709226e-01,\n",
       "        1.27161467e+00,  7.03470409e-01,  8.21025670e-01,  6.33770823e-01,\n",
       "       -2.22559988e-01, -1.43178129e+00, -1.59917831e+00, -1.46645176e+00,\n",
       "       -1.42161059e+00, -1.59846115e+00, -1.43462229e+00, -1.10574567e+00,\n",
       "       -4.14674819e-01, -8.34896713e-02,  1.02813733e+00,  8.25832844e-01,\n",
       "        3.50431830e-01,  6.54603958e-01,  7.78769374e-01,  1.68393207e+00,\n",
       "        1.70185030e+00,  1.32389045e+00,  1.35253930e+00,  1.62199521e+00,\n",
       "        1.45914495e+00,  1.38224781e+00,  1.37869036e+00,  1.41899765e+00,\n",
       "        1.36579216e+00,  1.06594896e+00,  2.45684996e-01,  2.56595492e-01,\n",
       "                   nan,             nan,             nan,             nan,\n",
       "                   nan,             nan,             nan,             nan,\n",
       "                   nan,             nan,             nan,             nan,\n",
       "                   nan,             nan,             nan])"
      ]
     },
     "execution_count": 10,
     "metadata": {},
     "output_type": "execute_result"
    }
   ],
   "source": [
    "mdd_dataset_reho_zero[100][0][:,34,56]"
   ]
  },
  {
   "cell_type": "code",
   "execution_count": 11,
   "metadata": {},
   "outputs": [
    {
     "data": {
      "text/plain": [
       "array([ 0.        ,  0.        ,  0.        ,  0.        ,  0.        ,\n",
       "        0.        ,  0.        ,  0.        ,  0.        ,  0.        ,\n",
       "        0.        ,  0.        ,  0.        ,  0.        ,  0.        ,\n",
       "        0.        ,  0.48777372,  1.2406584 ,  1.4356035 ,  1.22117043,\n",
       "        1.00571787,  0.76214719,  0.35963631, -0.23168679, -0.45638958,\n",
       "       -0.16080996,  0.49989119,  0.93124443,  0.74422765,  0.7854051 ,\n",
       "        0.88619387,  0.38361844,  0.3941094 ,  0.49163163,  1.13368094,\n",
       "        0.6418246 ,  0.22323866, -0.18731211, -0.44641194, -0.56746888,\n",
       "       -0.63471437, -0.19365352,  0.34087026,  0.4244968 ,  0.18198553,\n",
       "       -0.35061437, -0.87546802, -0.82348537, -0.78925931, -0.69691849,\n",
       "       -0.32085621,  0.64473861,  0.47025567,  0.25582269, -0.15222025,\n",
       "        0.21086404,  0.8183105 ,  1.42699277,  0.99631751,  0.58198655,\n",
       "        0.23567411,  1.42640007,  1.15368652, -1.85775161, -1.73210943,\n",
       "       -1.69069016, -1.30803788,  1.19026971, -0.84467965, -1.92099607,\n",
       "       -1.56057   , -0.54629689, -0.19649118, -0.29094055, -0.33175945,\n",
       "       -0.45632941,  0.        ,  0.        ,  0.        ,  0.        ,\n",
       "        0.        ,  0.        ,  0.        ,  0.        ,  0.        ,\n",
       "        0.        ,  0.        ,  0.        ,  0.        ,  0.        ,\n",
       "        0.        ])"
      ]
     },
     "execution_count": 11,
     "metadata": {},
     "output_type": "execute_result"
    }
   ],
   "source": [
    "#example control\n",
    "zero_nan_control_800= np.nan_to_num(control_dataset_reho_zero[100][0],copy=True)\n",
    "zero_nan_control_800[:,34,56]"
   ]
  },
  {
   "cell_type": "code",
   "execution_count": 12,
   "metadata": {},
   "outputs": [
    {
     "data": {
      "text/plain": [
       "array([ 0.        ,  0.        ,  0.        ,  0.        ,  0.        ,\n",
       "        0.        ,  0.        ,  0.        ,  0.        ,  0.        ,\n",
       "        0.        ,  0.        ,  0.        ,  0.        ,  0.        ,\n",
       "        0.        , -0.29152313,  0.44130495,  0.96773052,  0.73992622,\n",
       "        0.2600117 , -0.74334651, -0.90461767, -0.20272742,  0.47446784,\n",
       "        0.54080647,  0.2975871 ,  0.25276366, -0.06263041,  0.01617018,\n",
       "        0.26543203,  0.18063113,  0.06255207,  0.17151089, -0.14120804,\n",
       "       -0.56722862, -0.31063247, -0.25900012, -0.12108749, -0.64518219,\n",
       "       -1.4728694 , -1.89632857, -1.14513648, -0.17089775,  0.44840688,\n",
       "       -0.37902629, -0.96976787, -1.1759299 , -0.70549959, -0.72158879,\n",
       "       -0.49296591,  0.06177398,  0.81728059,  0.86775333,  1.03077555,\n",
       "        1.16670609,  1.47919154,  1.60115576,  1.42342389,  0.93247628,\n",
       "        0.48033294,  0.09809522, -0.33412564,  0.20377555,  0.15091807,\n",
       "       -0.15625139, -0.15019156, -0.35716426,  0.00880462,  0.26110956,\n",
       "        0.32117105,  1.26215851,  1.72534251,  1.21366763,  0.81217551,\n",
       "        1.55748332,  0.        ,  0.        ,  0.        ,  0.        ,\n",
       "        0.        ,  0.        ,  0.        ,  0.        ,  0.        ,\n",
       "        0.        ,  0.        ,  0.        ,  0.        ,  0.        ,\n",
       "        0.        ])"
      ]
     },
     "execution_count": 12,
     "metadata": {},
     "output_type": "execute_result"
    }
   ],
   "source": [
    "#example mdd\n",
    "zero_nan_mdd_700= np.nan_to_num(mdd_dataset_reho_zero[200][0],copy=True)\n",
    "zero_nan_mdd_700[:,34,56]"
   ]
  },
  {
   "cell_type": "code",
   "execution_count": 13,
   "metadata": {},
   "outputs": [
    {
     "name": "stdout",
     "output_type": "stream",
     "text": [
      "(255, 2)\n",
      "(91, 109, 91)\n",
      "0\n",
      "0\n",
      "(2,)\n",
      "<class 'numpy.ndarray'>\n"
     ]
    }
   ],
   "source": [
    "#zero_nan_control\n",
    "print(control_reho_zero_nan3.shape)\n",
    "print(control_reho_zero_nan3[0][0].shape)\n",
    "print(control_reho_zero_nan3[0][1])\n",
    "print(control_reho_zero_nan3[100][1])\n",
    "print(control_reho_zero_nan3[0].shape)\n",
    "print(type(control_reho_zero_nan3))\n",
    "\n",
    "\n",
    "for i in range(len(control_dataset_reho_zero)):    \n",
    "    control_reho_zero_nan3[i][0] =np.nan_to_num(control_dataset_reho_zero[i][0],copy=True)\n",
    "    control_reho_zero_nan3[i][1] =np.nan_to_num(control_dataset_reho_zero[i][1],copy=True)"
   ]
  },
  {
   "cell_type": "code",
   "execution_count": 14,
   "metadata": {},
   "outputs": [
    {
     "name": "stdout",
     "output_type": "stream",
     "text": [
      "(255, 2)\n",
      "(91, 109, 91)\n",
      "0\n",
      "0\n"
     ]
    },
    {
     "data": {
      "text/plain": [
       "array([ 0.        ,  0.        ,  0.        ,  0.        ,  0.        ,\n",
       "        0.        ,  0.        ,  0.        ,  0.        ,  0.        ,\n",
       "        0.        ,  0.        ,  0.        ,  0.        ,  0.        ,\n",
       "        0.        , -1.06614435, -1.01540589, -0.71072811, -0.44491008,\n",
       "       -0.34172788, -0.25811049, -0.20024702, -0.13896149,  0.21498063,\n",
       "        0.51091492,  0.57632029,  0.53002542,  0.78445596,  0.96108156,\n",
       "        0.82715279,  0.9089272 ,  0.9437722 ,  0.98673213,  1.0297544 ,\n",
       "        1.3200103 ,  0.99331921,  0.00941133,  0.32382074,  0.57887042,\n",
       "        0.77261919,  0.47314835, -0.37916994,  0.05379576,  0.39684567,\n",
       "        0.44778129,  0.74853742,  1.06071186,  0.96000719,  0.76873165,\n",
       "        0.70595926,  0.54874903,  0.1659247 , -0.01674568,  0.2624737 ,\n",
       "        0.23249663,  0.13489975, -0.11505482,  0.30504587, -0.06905459,\n",
       "        0.01931714, -0.13842943,  0.31110176,  0.4200452 ,  0.41377753,\n",
       "       -0.08890891,  0.23268196,  0.39775434,  0.5576129 ,  0.5384196 ,\n",
       "        0.87809867,  1.06008244,  1.16844773,  1.23354816,  1.20356679,\n",
       "        1.12493098,  0.        ,  0.        ,  0.        ,  0.        ,\n",
       "        0.        ,  0.        ,  0.        ,  0.        ,  0.        ,\n",
       "        0.        ,  0.        ,  0.        ,  0.        ,  0.        ,\n",
       "        0.        ])"
      ]
     },
     "execution_count": 14,
     "metadata": {},
     "output_type": "execute_result"
    }
   ],
   "source": [
    "print(control_reho_zero_nan3.shape)\n",
    "print(control_reho_zero_nan3[0][0].shape)\n",
    "print(control_reho_zero_nan3[0][1]) ## mdd label for control=0\n",
    "print(control_reho_zero_nan3[110][1])\n",
    "control_reho_zero_nan3[110][0][:,34,56]\n"
   ]
  },
  {
   "cell_type": "code",
   "execution_count": 15,
   "metadata": {},
   "outputs": [
    {
     "name": "stdout",
     "output_type": "stream",
     "text": [
      "(255, 2)\n",
      "(91, 109, 91)\n",
      "<class 'numpy.ndarray'>\n"
     ]
    },
    {
     "data": {
      "text/plain": [
       "(255, 2)"
      ]
     },
     "execution_count": 15,
     "metadata": {},
     "output_type": "execute_result"
    }
   ],
   "source": [
    "#zero_nan_mdd\n",
    "\n",
    "print(mdd_reho_zero_nan3.shape)\n",
    "print(mdd_reho_zero_nan3[0][0].shape)\n",
    "print(type(mdd_reho_zero_nan3))\n",
    "\n",
    "for i in range(len(mdd_dataset_reho_zero)):    \n",
    "    mdd_reho_zero_nan3[i][0] =np.nan_to_num(mdd_dataset_reho_zero[i][0],copy=True)\n",
    "    mdd_reho_zero_nan3[i][1] =np.nan_to_num(mdd_dataset_reho_zero[i][1],copy=True)\n",
    "\n",
    "mdd_reho_zero_nan3.shape"
   ]
  },
  {
   "cell_type": "code",
   "execution_count": 16,
   "metadata": {},
   "outputs": [
    {
     "name": "stdout",
     "output_type": "stream",
     "text": [
      "(255, 2)\n",
      "(91, 109, 91)\n",
      "(2,)\n",
      "1\n"
     ]
    },
    {
     "data": {
      "text/plain": [
       "array([ 0.        ,  0.        ,  0.        ,  0.        ,  0.        ,\n",
       "        0.        ,  0.        ,  0.        ,  0.        ,  0.        ,\n",
       "        0.        ,  0.        ,  0.        ,  0.        ,  0.        ,\n",
       "        0.        ,  1.15539241,  1.09352338,  1.0503757 ,  1.43768322,\n",
       "        1.51124728,  1.43333316,  0.91985607,  0.08519863,  0.00556017,\n",
       "       -0.52437329, -0.77414989, -1.12355745, -1.14360178, -1.20118988,\n",
       "       -0.74124074, -0.30203831, -0.13550924, -0.58327138, -0.92846113,\n",
       "       -0.50423551, -0.61148393, -0.59212548, -0.61149406, -0.64308512,\n",
       "       -0.73825824, -0.75959575, -0.96736431, -0.5596289 , -0.66086632,\n",
       "       -0.96182823, -1.21448779, -1.07356155, -0.8627215 , -0.84807622,\n",
       "       -1.20948648, -1.15942013, -0.94385028, -0.81308424, -1.16578507,\n",
       "       -1.2775619 , -1.09162247, -1.41870797, -0.78159875,  0.2320734 ,\n",
       "        0.72339165,  0.75407511,  0.96091902,  0.93616128,  1.08235204,\n",
       "        1.20815241,  1.57756925,  1.41936743,  1.42582369,  1.35411692,\n",
       "        1.0311377 ,  1.0431962 ,  0.80032986,  0.46558991, -0.09556559,\n",
       "        0.30094936,  0.        ,  0.        ,  0.        ,  0.        ,\n",
       "        0.        ,  0.        ,  0.        ,  0.        ,  0.        ,\n",
       "        0.        ,  0.        ,  0.        ,  0.        ,  0.        ,\n",
       "        0.        ])"
      ]
     },
     "execution_count": 16,
     "metadata": {},
     "output_type": "execute_result"
    }
   ],
   "source": [
    "print(mdd_reho_zero_nan3.shape)\n",
    "\n",
    "mdd_reho_zero_nan3.shape\n",
    "print(mdd_reho_zero_nan3[0][0].shape)\n",
    "print(mdd_reho_zero_nan3[0].shape)\n",
    "print(mdd_reho_zero_nan3[0][1])\n",
    "mdd_reho_zero_nan3[210][0][:,34,56]"
   ]
  },
  {
   "cell_type": "markdown",
   "metadata": {},
   "source": [
    "### load and add 1 channel to dimension of data 'without nan'"
   ]
  },
  {
   "cell_type": "code",
   "execution_count": 17,
   "metadata": {},
   "outputs": [],
   "source": [
    "# np.reshape(control_dataset[0][0], (1, 91, 109, 91))\n",
    "\n",
    "control_reho_4d_zero_nan = [[np.reshape(c[0], (1, 91, 109, 91)), c[1]] for c in control_reho_zero_nan3]\n",
    "mdd_reho_4d_zero_nan = [[np.reshape(m[0], (1, 91, 109, 91)), m[1]] for m in mdd_reho_zero_nan3]"
   ]
  },
  {
   "cell_type": "code",
   "execution_count": 18,
   "metadata": {
    "scrolled": true
   },
   "outputs": [
    {
     "name": "stdout",
     "output_type": "stream",
     "text": [
      "(1, 91, 109, 91)\n"
     ]
    },
    {
     "data": {
      "text/plain": [
       "1"
      ]
     },
     "execution_count": 18,
     "metadata": {},
     "output_type": "execute_result"
    }
   ],
   "source": [
    "print(mdd_reho_4d_zero_nan[200][0].shape)\n",
    "mdd_reho_4d_zero_nan[200][1]"
   ]
  },
  {
   "cell_type": "code",
   "execution_count": 19,
   "metadata": {},
   "outputs": [
    {
     "name": "stdout",
     "output_type": "stream",
     "text": [
      "(1, 91, 109, 91)\n"
     ]
    },
    {
     "data": {
      "text/plain": [
       "0"
      ]
     },
     "execution_count": 19,
     "metadata": {},
     "output_type": "execute_result"
    }
   ],
   "source": [
    "print(control_reho_4d_zero_nan[100][0].shape)\n",
    "control_reho_4d_zero_nan[100][1]"
   ]
  },
  {
   "cell_type": "code",
   "execution_count": 20,
   "metadata": {},
   "outputs": [
    {
     "data": {
      "text/plain": [
       "255"
      ]
     },
     "execution_count": 20,
     "metadata": {},
     "output_type": "execute_result"
    }
   ],
   "source": [
    "len(mdd_reho_4d_zero_nan)"
   ]
  },
  {
   "cell_type": "code",
   "execution_count": 21,
   "metadata": {},
   "outputs": [
    {
     "data": {
      "text/plain": [
       "2"
      ]
     },
     "execution_count": 21,
     "metadata": {},
     "output_type": "execute_result"
    }
   ],
   "source": [
    "len(mdd_reho_4d_zero_nan[0])"
   ]
  },
  {
   "cell_type": "markdown",
   "metadata": {},
   "source": [
    "### concat data for control and MDD without nan"
   ]
  },
  {
   "cell_type": "code",
   "execution_count": 22,
   "metadata": {},
   "outputs": [
    {
     "name": "stdout",
     "output_type": "stream",
     "text": [
      "(1, 91, 109, 91)\n",
      "1\n",
      "0\n"
     ]
    },
    {
     "data": {
      "text/plain": [
       "array([ 0.        ,  0.        ,  0.        ,  0.        ,  0.        ,\n",
       "        0.        ,  0.        ,  0.        ,  0.        ,  0.        ,\n",
       "        0.        ,  0.33312091,  0.06847724, -0.01332448,  0.25450975,\n",
       "        0.18561168,  0.62408435,  0.00435615, -0.64261788, -1.11098552,\n",
       "       -1.33609593, -1.46832263, -1.18205512, -0.63163793,  0.17810667,\n",
       "        0.17898022,  0.26126394,  0.45428491, -0.04555789, -0.14852883,\n",
       "       -0.81909472, -1.12703812, -1.16551518, -1.29773605, -0.84779751,\n",
       "       -0.61350608, -0.59259439, -0.59763038, -0.56037432, -0.2379358 ,\n",
       "       -0.50788766, -0.98722398, -1.62808084, -1.5638597 , -1.24100637,\n",
       "       -0.99000007, -0.86490786, -1.10475743, -1.04548001, -1.4244467 ,\n",
       "       -1.67849422, -0.91127968, -1.05153143, -1.20191872, -0.6885078 ,\n",
       "       -0.11124627,  0.07369193,  0.03454851, -0.29502261, -0.86841565,\n",
       "       -0.70042658, -0.55885959, -0.15037392, -0.56065845, -0.86743265,\n",
       "       -1.50171769, -1.6106174 , -1.1426816 , -1.21337485, -1.52589715,\n",
       "       -1.42460024, -1.23404479, -1.25024295, -0.76064479,  0.00603982,\n",
       "        0.11350131,  0.24984801,  0.36520642,  0.75044948,  0.97059351,\n",
       "        0.        ,  0.        ,  0.        ,  0.        ,  0.        ,\n",
       "        0.        ,  0.        ,  0.        ,  0.        ,  0.        ,\n",
       "        0.        ])"
      ]
     },
     "execution_count": 22,
     "metadata": {},
     "output_type": "execute_result"
    }
   ],
   "source": [
    "dataset_ukbb_reho_zero_nan= ConcatDataset([control_reho_4d_zero_nan, mdd_reho_4d_zero_nan])\n",
    "\n",
    "print(dataset_ukbb_reho_zero_nan[0][0].shape)\n",
    "print(dataset_ukbb_reho_zero_nan[400][1])\n",
    "print(dataset_ukbb_reho_zero_nan[210][1])\n",
    "\n",
    "\n",
    "dataset_ukbb_reho_zero_nan[400][0][0,:,54,45]\n",
    "\n",
    "#subject number=1500, mdd label,reho value for voxels along axial with y ,z dimention = 54,45"
   ]
  },
  {
   "cell_type": "code",
   "execution_count": 23,
   "metadata": {},
   "outputs": [
    {
     "data": {
      "text/plain": [
       "510"
      ]
     },
     "execution_count": 23,
     "metadata": {},
     "output_type": "execute_result"
    }
   ],
   "source": [
    "len(dataset_ukbb_reho_zero_nan)"
   ]
  },
  {
   "cell_type": "code",
   "execution_count": 24,
   "metadata": {},
   "outputs": [
    {
     "data": {
      "text/plain": [
       "2"
      ]
     },
     "execution_count": 24,
     "metadata": {},
     "output_type": "execute_result"
    }
   ],
   "source": [
    "len(dataset_ukbb_reho_zero_nan[0])"
   ]
  },
  {
   "cell_type": "code",
   "execution_count": 25,
   "metadata": {},
   "outputs": [
    {
     "name": "stdout",
     "output_type": "stream",
     "text": [
      "0\n",
      "1\n",
      "0\n"
     ]
    },
    {
     "data": {
      "text/plain": [
       "()"
      ]
     },
     "execution_count": 25,
     "metadata": {},
     "output_type": "execute_result"
    }
   ],
   "source": [
    "print(dataset_ukbb_reho_zero_nan[200][1]) # subject 800 label MDD =0\n",
    "print(dataset_ukbb_reho_zero_nan[400][1]) # subject 1500 label MDD =1 \n",
    "\n",
    "#problem solved : mdd_zero_nan label have problem : instead of 1 integer we have an array (91,109,91)\n",
    "\n",
    "print(dataset_ukbb_reho_zero_nan[0][1])\n",
    "\n",
    "dataset_ukbb_reho_zero_nan[400][1].shape"
   ]
  },
  {
   "cell_type": "code",
   "execution_count": 26,
   "metadata": {},
   "outputs": [
    {
     "data": {
      "text/plain": [
       "1"
      ]
     },
     "execution_count": 26,
     "metadata": {},
     "output_type": "execute_result"
    }
   ],
   "source": [
    "dataset_ukbb_reho_zero_nan[400][1]"
   ]
  },
  {
   "cell_type": "markdown",
   "metadata": {},
   "source": [
    "### Network architecture"
   ]
  },
  {
   "cell_type": "code",
   "execution_count": 27,
   "metadata": {},
   "outputs": [],
   "source": [
    "#Define a Convolutional Neural Network : BASED ON https://www.biorxiv.org/content/10.1101/2019.12.17.879346v1\n",
    "\n",
    "class ConvNet(nn.Module):\n",
    "    def __init__(self):\n",
    "        super(ConvNet, self).__init__()\n",
    "        \n",
    "        self.downsample = nn.AvgPool3d(2, stride=2, padding=0)\n",
    "        \n",
    "        self.CNNlayer = nn.Sequential(\n",
    "            nn.Conv3d(1, 64, kernel_size=3, stride=1),\n",
    "            nn.ELU(),\n",
    "            nn.Conv3d(64, 16, kernel_size=3, stride=1),\n",
    "            nn.ELU(),\n",
    "            nn.MaxPool3d(2)\n",
    "        )\n",
    "        \n",
    "        self.flat1 = nn.Linear(160000, 16)   \n",
    "        self.flat2 = nn.Linear(16, 1)\n",
    "            \n",
    "    def forward(self, x):\n",
    "        x=self.downsample(x)\n",
    "        #print(f'avg-pool: {x.size()}\\n----------')\n",
    "        #print(f'number of nan in this layer = {torch.isnan(x).sum()}')\n",
    "        \n",
    "        x=self.CNNlayer(x)\n",
    "        #print(f'convolution1+2+maxpool: {x.size()} \\n----------')\n",
    "        \n",
    "        x=x.reshape(x.size(0), -1)\n",
    "        #print(f'reshape after cnn: {x.size()}\\n----------')\n",
    "        \n",
    "        x=F.elu(self.flat1(x))\n",
    "        #print(f'fully-connected1: {x.size()}\\n----------')\n",
    "                    \n",
    "        x=self.flat2(x)\n",
    "        #print(f'fully-connected2: {x.size()}\\n----------')\n",
    "        \n",
    "        return x"
   ]
  },
  {
   "cell_type": "markdown",
   "metadata": {},
   "source": [
    "### lunch wandb"
   ]
  },
  {
   "cell_type": "code",
   "execution_count": 28,
   "metadata": {},
   "outputs": [
    {
     "name": "stdout",
     "output_type": "stream",
     "text": [
      "\u001b[34m\u001b[1mwandb\u001b[0m: Appending key for api.wandb.ai to your netrc file: /data/zmohaghegh/.netrc\r\n"
     ]
    }
   ],
   "source": [
    "import wandb\n",
    "!wandb login 390734ff44d817dbba59927d4eb542e564627b3b"
   ]
  },
  {
   "cell_type": "markdown",
   "metadata": {},
   "source": [
    "### Train and Test (without CV)"
   ]
  },
  {
   "cell_type": "code",
   "execution_count": 29,
   "metadata": {},
   "outputs": [
    {
     "name": "stdout",
     "output_type": "stream",
     "text": [
      "510\n",
      "357\n",
      "102\n",
      "51\n"
     ]
    }
   ],
   "source": [
    "### spilit data to train-test and validation\n",
    "\n",
    "dataset_size= len(dataset_ukbb_reho_zero_nan)\n",
    "train_count = int(0.7 * dataset_size) \n",
    "valid_count= int(0.2 * dataset_size)\n",
    "test_count = dataset_size - train_count -valid_count\n",
    "\n",
    "print(dataset_size)\n",
    "print(train_count)\n",
    "print(valid_count)\n",
    "print(test_count)"
   ]
  },
  {
   "cell_type": "code",
   "execution_count": 30,
   "metadata": {},
   "outputs": [],
   "source": [
    "from sklearn.metrics import accuracy_score, balanced_accuracy_score, f1_score,confusion_matrix"
   ]
  },
  {
   "cell_type": "code",
   "execution_count": 31,
   "metadata": {
    "scrolled": true
   },
   "outputs": [
    {
     "name": "stderr",
     "output_type": "stream",
     "text": [
      "\u001b[34m\u001b[1mwandb\u001b[0m: Currently logged in as: \u001b[33mzahramhn\u001b[0m (use `wandb login --relogin` to force relogin)\n"
     ]
    },
    {
     "data": {
      "text/html": [
       "\n",
       "                Tracking run with wandb version 0.10.20<br/>\n",
       "                Syncing run <strong style=\"color:#cdcd00\">astral-eon-34</strong> to <a href=\"https://wandb.ai\" target=\"_blank\">Weights & Biases</a> <a href=\"https://docs.wandb.com/integrations/jupyter.html\" target=\"_blank\">(Documentation)</a>.<br/>\n",
       "                Project page: <a href=\"https://wandb.ai/zahramhn/mdd-japanese-reho\" target=\"_blank\">https://wandb.ai/zahramhn/mdd-japanese-reho</a><br/>\n",
       "                Run page: <a href=\"https://wandb.ai/zahramhn/mdd-japanese-reho/runs/dg843a83\" target=\"_blank\">https://wandb.ai/zahramhn/mdd-japanese-reho/runs/dg843a83</a><br/>\n",
       "                Run data is saved locally in <code>/data/zmohaghegh/TempStats_3D-CNN/wandb/run-20210427_130630-dg843a83</code><br/><br/>\n",
       "            "
      ],
      "text/plain": [
       "<IPython.core.display.HTML object>"
      ]
     },
     "metadata": {},
     "output_type": "display_data"
    },
    {
     "name": "stdout",
     "output_type": "stream",
     "text": [
      "*********Starting epoch 1\n"
     ]
    },
    {
     "name": "stderr",
     "output_type": "stream",
     "text": [
      "/data/zmohaghegh/venv/lib64/python3.6/site-packages/torch/autograd/__init__.py:147: UserWarning: CUDA initialization: The NVIDIA driver on your system is too old (found version 10010). Please update your GPU driver by downloading and installing a new version from the URL: http://www.nvidia.com/Download/index.aspx Alternatively, go to: https://pytorch.org to install a PyTorch version that has been compiled with your version of the CUDA driver. (Triggered internally at  /pytorch/c10/cuda/CUDAFunctions.cpp:109.)\n",
      "  allow_unreachable=True, accumulate_grad=True)  # allow_unreachable flag\n"
     ]
    },
    {
     "name": "stdout",
     "output_type": "stream",
     "text": [
      "acc_train :56.582633053221286\n",
      "loss_train = 0.06892525957104258\n",
      "Training process has finished\n",
      "starting validation :\n",
      "acc_valid :50.98039215686274\n",
      "loss_valid = 0.07116705932109504\n",
      "Saving trained model.\n",
      "validation process has finished.\n",
      "*********Starting epoch 2\n",
      "acc_train :78.71148459383754\n",
      "loss_train = 0.05136321747118962\n",
      "Training process has finished\n",
      "starting validation :\n",
      "acc_valid :61.76470588235294\n",
      "loss_valid = 0.0685076024048573\n",
      "Saving trained model.\n",
      "validation process has finished.\n",
      "*********Starting epoch 3\n",
      "acc_train :87.6750700280112\n",
      "loss_train = 0.03218618011654887\n",
      "Training process has finished\n",
      "starting validation :\n",
      "acc_valid :67.6470588235294\n",
      "loss_valid = 0.07303642524990847\n",
      "Saving trained model.\n",
      "validation process has finished.\n",
      "*********Starting epoch 4\n",
      "acc_train :93.27731092436974\n",
      "loss_train = 0.019447080249116375\n",
      "Training process has finished\n",
      "starting validation :\n",
      "acc_valid :69.6078431372549\n",
      "loss_valid = 0.07393573021816112\n",
      "Saving trained model.\n",
      "validation process has finished.\n",
      "*********Starting epoch 5\n",
      "acc_train :88.51540616246498\n",
      "loss_train = 0.022527433489534475\n",
      "Training process has finished\n",
      "starting validation :\n",
      "acc_valid :67.6470588235294\n",
      "loss_valid = 0.07008621422734991\n",
      "validation process has finished.\n",
      "*********Starting epoch 6\n",
      "acc_train :94.67787114845939\n",
      "loss_train = 0.013436077346338919\n",
      "Training process has finished\n",
      "starting validation :\n",
      "acc_valid :68.62745098039215\n",
      "loss_valid = 0.08824162761723814\n",
      "validation process has finished.\n",
      "*********Starting epoch 7\n",
      "acc_train :99.15966386554622\n",
      "loss_train = 0.00644497982561718\n",
      "Training process has finished\n",
      "starting validation :\n",
      "acc_valid :66.66666666666667\n",
      "loss_valid = 0.09500799965464088\n",
      "validation process has finished.\n",
      "*********Starting epoch 8\n",
      "acc_train :99.71988795518207\n",
      "loss_train = 0.0020470300570869997\n",
      "Training process has finished\n",
      "starting validation :\n",
      "acc_valid :66.66666666666667\n",
      "loss_valid = 0.13297059335364145\n",
      "validation process has finished.\n",
      "*********Starting epoch 9\n",
      "acc_train :100.0\n",
      "loss_train = 0.0009911247300268152\n",
      "Training process has finished\n",
      "starting validation :\n",
      "acc_valid :65.68627450980392\n",
      "loss_valid = 0.11997092227726491\n",
      "validation process has finished.\n",
      "*********Starting epoch 10\n",
      "acc_train :100.0\n",
      "loss_train = 0.0006221041245350824\n",
      "Training process has finished\n",
      "starting validation :\n",
      "acc_valid :67.6470588235294\n",
      "loss_valid = 0.11072594614638084\n",
      "validation process has finished.\n"
     ]
    }
   ],
   "source": [
    "wandb.init(project='mdd-japanese-reho')  \n",
    "\n",
    "#define the newtwork \n",
    "network = ConvNet()\n",
    "network = network.double()\n",
    "\n",
    "#set hyper parameter\n",
    "learning_rate= 0.001\n",
    "num_epochs = 10\n",
    "BATCH_SIZE = 10\n",
    "best_acc= None\n",
    "\n",
    "# Define a Loss function \n",
    "loss_function = nn.BCEWithLogitsLoss()  \n",
    "\n",
    "# create the optimizer\n",
    "optimizer = optim.SGD(network.parameters(), momentum=0.9, lr = learning_rate, weight_decay=1e-3)\n",
    "\n",
    "# load data splits\n",
    "train_dataset, test_dataset ,valid_dataset = torch.utils.data.random_split(dataset_ukbb_reho_zero_nan, (train_count, test_count,valid_count))\n",
    "\n",
    "train_dataset_loader = torch.utils.data.DataLoader(train_dataset, batch_size=BATCH_SIZE, shuffle=True)  \n",
    "test_dataset_loader  = torch.utils.data.DataLoader(test_dataset , batch_size=BATCH_SIZE, shuffle=False)\n",
    "valid_dataset_loader  = torch.utils.data.DataLoader(valid_dataset , batch_size=BATCH_SIZE, shuffle=True)\n",
    "\n",
    "\n",
    "#dataloaders = {'train': train_dataset_loader, 'test': test_dataset_loader, 'valid': valid_dataset_loader}\n",
    "\n",
    "network.train()\n",
    "# start training loop:\n",
    "for epoch in range(0, num_epochs):\n",
    "    print(f'*********Starting epoch {epoch+1}')\n",
    "    \n",
    "    train_loss = 0\n",
    "    total =0 \n",
    "    correct = 0\n",
    "    \n",
    "    # train model/network \n",
    "    for i, data in enumerate(train_dataset_loader, 0):\n",
    "        #print(f'train {i}')\n",
    "            \n",
    "        # get the inputs; data is a list of [inputs, labels]\n",
    "        inputs, labels = data\n",
    "            \n",
    "        # zero the gradient buffers\n",
    "        optimizer.zero_grad()\n",
    "            \n",
    "        # forward pass\n",
    "        outputs = network(inputs)\n",
    "    \n",
    "        outputss = outputs.squeeze(1) #### [10,1] ---> [10]\n",
    "        \n",
    "        #nloss requires a 1-D tensor of class indices of the target (outputs in your case) but not one-hot vectors of the target.\n",
    "        #The shape of the target should be [mini_batch_size], \n",
    "        #but in your case it happens to be [mini_batch_size,num_classes].\n",
    "        \n",
    "        predicted = outputss.data > 0.0 # the loss function contain also a sigmoid layer <0 = false >0 =true\n",
    "        \n",
    "        labels = labels.double()\n",
    "        \n",
    "        #calcuate loss/error\n",
    "        loss = loss_function(outputss, labels)\n",
    "              \n",
    "        # backward pass\n",
    "        loss.backward()\n",
    "            \n",
    "        # Does the update , gradient descent\n",
    "        optimizer.step() \n",
    "            \n",
    "        #loss_list.append(loss.item())\n",
    "        train_loss += loss.item()\n",
    "        total += labels.size(0)\n",
    "        correct += (predicted == labels).sum().item()\n",
    "    \n",
    "    print(f'acc_train :{100 * correct/total}')\n",
    "    print (f'loss_train = {train_loss/total}')\n",
    "    \n",
    "    wandb.log({ \"epoch_reho\": epoch ,\"train_Loss_reho\": train_loss/total, \"trian_acc_reho\" :100 * correct /total })\n",
    "\n",
    "    \n",
    "    print('Training process has finished') \n",
    "\n",
    "    print('starting validation :')\n",
    "\n",
    "    network.eval()\n",
    "\n",
    "    valid_loss=0\n",
    "    total=0\n",
    "    correct=0\n",
    "\n",
    "    with torch.no_grad():\n",
    "        for i, data in enumerate(valid_dataset_loader, 0):\n",
    "            #print(f'valid {i}')\n",
    "            inputs, lables = data\n",
    "\n",
    "            outputs = network(inputs)\n",
    "\n",
    "            outputss=outputs.squeeze(1) #[10,1] ---> [10]\n",
    "            lables=lables.double()\n",
    "\n",
    "            # prediction \n",
    "            predicted = outputss.data > 0.0\n",
    "\n",
    "            loss = loss_function(outputss, lables)\n",
    "\n",
    "            valid_loss += loss.item()\n",
    "            total += lables.size(0)\n",
    "            correct += (predicted == lables).sum().item()\n",
    "\n",
    "        print(f'acc_valid :{100 * correct/total}')\n",
    "        print (f'loss_valid = {valid_loss/total}')\n",
    "\n",
    "        wandb.log({ \"validation_acc_reho 100\" :100 * correct /total, \"validation_Loss_reho\": valid_loss/total })\n",
    "\n",
    "        current_valid_acc =100 * correct/total\n",
    "        if not best_acc or best_acc < current_valid_acc:\n",
    "            best_acc = current_valid_acc\n",
    "            \n",
    "            print('Saving trained model.')\n",
    "            PATH_best = './model-japanese-best-acc-reho.pth'\n",
    "            torch.save(network.state_dict(), PATH_best)\n",
    "        print('validation process has finished.')"
   ]
  },
  {
   "cell_type": "markdown",
   "metadata": {},
   "source": [
    "### Test the network using the test data without CV"
   ]
  },
  {
   "cell_type": "code",
   "execution_count": 32,
   "metadata": {},
   "outputs": [
    {
     "name": "stdout",
     "output_type": "stream",
     "text": [
      "Starting testing\n",
      "test_loss= 0.06361892273627388\n",
      "test_acc= 78.43137254901961\n"
     ]
    }
   ],
   "source": [
    "network.load_state_dict(torch.load(PATH_best))\n",
    "\n",
    "test_loss = 0\n",
    "correct = 0\n",
    "total= 0\n",
    "\n",
    "print('Starting testing')\n",
    "\n",
    "network.eval()\n",
    "\n",
    "with torch.no_grad():\n",
    "    for i, data in enumerate(test_dataset_loader, 0):\n",
    "        #print(f'test {i}')\n",
    "        \n",
    "        inputs, lables = data\n",
    "        lables = lables.double() # loss function get only double not Long\n",
    "        \n",
    "        outputs = network(inputs)\n",
    "        #print(outputs.size())\n",
    "        \n",
    "        outputss = outputs.squeeze(1) #[10,1] ---> [10]\n",
    "        #print(outputss.size())\n",
    "        #print(lables.size())\n",
    "    \n",
    "        predicted = outputss.data > 0.0\n",
    "        \n",
    "        loss = loss_function(outputss, lables)\n",
    "        \n",
    "        test_loss += loss.item()\n",
    "        total += lables.size(0)\n",
    "        correct += (predicted == lables).sum().item()\n",
    "        \n",
    "    wandb.log({ \"test_Accuracy_reho\": 100 * correct /total  , \"test_Loss_reho\": test_loss/total })\n",
    "\n",
    "    print(f'test_loss= {test_loss/total}')\n",
    "    print(f'test_acc= {100 * correct / total}')"
   ]
  },
  {
   "cell_type": "markdown",
   "metadata": {},
   "source": [
    "## Cross validation loop "
   ]
  },
  {
   "cell_type": "code",
   "execution_count": 33,
   "metadata": {},
   "outputs": [
    {
     "name": "stdout",
     "output_type": "stream",
     "text": [
      "408\n",
      "102\n"
     ]
    }
   ],
   "source": [
    "from sklearn.model_selection import train_test_split\n",
    "train_dataset_cv, test_dataset_cv = train_test_split(dataset_ukbb_reho_zero_nan, test_size=0.20, train_size=0.8,shuffle=True)\n",
    "print(len(train_dataset_cv))\n",
    "print(len(test_dataset_cv))"
   ]
  },
  {
   "cell_type": "markdown",
   "metadata": {},
   "source": [
    "### train and validation loop CV"
   ]
  },
  {
   "cell_type": "code",
   "execution_count": 34,
   "metadata": {
    "scrolled": true
   },
   "outputs": [
    {
     "data": {
      "text/html": [
       "Finishing last run (ID:dg843a83) before initializing another..."
      ],
      "text/plain": [
       "<IPython.core.display.HTML object>"
      ]
     },
     "metadata": {},
     "output_type": "display_data"
    },
    {
     "data": {
      "text/html": [
       "<br/>Waiting for W&B process to finish, PID 33118<br/>Program ended successfully."
      ],
      "text/plain": [
       "<IPython.core.display.HTML object>"
      ]
     },
     "metadata": {},
     "output_type": "display_data"
    },
    {
     "data": {
      "application/vnd.jupyter.widget-view+json": {
       "model_id": "",
       "version_major": 2,
       "version_minor": 0
      },
      "text/plain": [
       "VBox(children=(Label(value=' 0.00MB of 0.00MB uploaded (0.00MB deduped)\\r'), FloatProgress(value=1.0, max=1.0)…"
      ]
     },
     "metadata": {},
     "output_type": "display_data"
    },
    {
     "data": {
      "text/html": [
       "Find user logs for this run at: <code>/data/zmohaghegh/TempStats_3D-CNN/wandb/run-20210427_130630-dg843a83/logs/debug.log</code>"
      ],
      "text/plain": [
       "<IPython.core.display.HTML object>"
      ]
     },
     "metadata": {},
     "output_type": "display_data"
    },
    {
     "data": {
      "text/html": [
       "Find internal logs for this run at: <code>/data/zmohaghegh/TempStats_3D-CNN/wandb/run-20210427_130630-dg843a83/logs/debug-internal.log</code>"
      ],
      "text/plain": [
       "<IPython.core.display.HTML object>"
      ]
     },
     "metadata": {},
     "output_type": "display_data"
    },
    {
     "data": {
      "text/html": [
       "<h3>Run summary:</h3><br/><style>\n",
       "    table.wandb td:nth-child(1) { padding: 0 10px; text-align: right }\n",
       "    </style><table class=\"wandb\">\n",
       "<tr><td>epoch_reho</td><td>9</td></tr><tr><td>train_Loss_reho</td><td>0.00062</td></tr><tr><td>trian_acc_reho</td><td>100.0</td></tr><tr><td>_runtime</td><td>2916</td></tr><tr><td>_timestamp</td><td>1619524506</td></tr><tr><td>_step</td><td>20</td></tr><tr><td>validation_acc_reho 100</td><td>67.64706</td></tr><tr><td>validation_Loss_reho</td><td>0.11073</td></tr><tr><td>test_Accuracy_reho</td><td>78.43137</td></tr><tr><td>test_Loss_reho</td><td>0.06362</td></tr></table>"
      ],
      "text/plain": [
       "<IPython.core.display.HTML object>"
      ]
     },
     "metadata": {},
     "output_type": "display_data"
    },
    {
     "data": {
      "text/html": [
       "<h3>Run history:</h3><br/><style>\n",
       "    table.wandb td:nth-child(1) { padding: 0 10px; text-align: right }\n",
       "    </style><table class=\"wandb\">\n",
       "<tr><td>epoch_reho</td><td>▁▂▃▃▄▅▆▆▇█</td></tr><tr><td>train_Loss_reho</td><td>█▆▄▃▃▂▂▁▁▁</td></tr><tr><td>trian_acc_reho</td><td>▁▅▆▇▆▇████</td></tr><tr><td>_runtime</td><td>▁▁▂▂▃▃▃▃▄▄▅▅▆▆▆▆▇▇███</td></tr><tr><td>_timestamp</td><td>▁▁▂▂▃▃▃▃▄▄▅▅▆▆▆▆▇▇███</td></tr><tr><td>_step</td><td>▁▁▂▂▂▃▃▃▄▄▅▅▅▆▆▆▇▇▇██</td></tr><tr><td>validation_acc_reho 100</td><td>▁▅▇█▇█▇▇▇▇</td></tr><tr><td>validation_Loss_reho</td><td>▁▁▁▂▁▃▄█▇▆</td></tr><tr><td>test_Accuracy_reho</td><td>▁</td></tr><tr><td>test_Loss_reho</td><td>▁</td></tr></table><br/>"
      ],
      "text/plain": [
       "<IPython.core.display.HTML object>"
      ]
     },
     "metadata": {},
     "output_type": "display_data"
    },
    {
     "data": {
      "text/html": [
       "Synced 5 W&B file(s), 0 media file(s), 0 artifact file(s) and 0 other file(s)"
      ],
      "text/plain": [
       "<IPython.core.display.HTML object>"
      ]
     },
     "metadata": {},
     "output_type": "display_data"
    },
    {
     "data": {
      "text/html": [
       "\n",
       "                    <br/>Synced <strong style=\"color:#cdcd00\">astral-eon-34</strong>: <a href=\"https://wandb.ai/zahramhn/mdd-japanese-reho/runs/dg843a83\" target=\"_blank\">https://wandb.ai/zahramhn/mdd-japanese-reho/runs/dg843a83</a><br/>\n",
       "                "
      ],
      "text/plain": [
       "<IPython.core.display.HTML object>"
      ]
     },
     "metadata": {},
     "output_type": "display_data"
    },
    {
     "data": {
      "text/html": [
       "...Successfully finished last run (ID:dg843a83). Initializing new run:<br/><br/>"
      ],
      "text/plain": [
       "<IPython.core.display.HTML object>"
      ]
     },
     "metadata": {},
     "output_type": "display_data"
    },
    {
     "data": {
      "text/html": [
       "\n",
       "                Tracking run with wandb version 0.10.20<br/>\n",
       "                Syncing run <strong style=\"color:#cdcd00\">expert-waterfall-35</strong> to <a href=\"https://wandb.ai\" target=\"_blank\">Weights & Biases</a> <a href=\"https://docs.wandb.com/integrations/jupyter.html\" target=\"_blank\">(Documentation)</a>.<br/>\n",
       "                Project page: <a href=\"https://wandb.ai/zahramhn/mdd-japanese-reho\" target=\"_blank\">https://wandb.ai/zahramhn/mdd-japanese-reho</a><br/>\n",
       "                Run page: <a href=\"https://wandb.ai/zahramhn/mdd-japanese-reho/runs/2cgidcxr\" target=\"_blank\">https://wandb.ai/zahramhn/mdd-japanese-reho/runs/2cgidcxr</a><br/>\n",
       "                Run data is saved locally in <code>/data/zmohaghegh/TempStats_3D-CNN/wandb/run-20210427_135506-2cgidcxr</code><br/><br/>\n",
       "            "
      ],
      "text/plain": [
       "<IPython.core.display.HTML object>"
      ]
     },
     "metadata": {},
     "output_type": "display_data"
    },
    {
     "name": "stdout",
     "output_type": "stream",
     "text": [
      "FOLD 0\n",
      "--------------------------------\n",
      "*********Starting epoch 1\n",
      "train loss= 0.06829911043678237\n",
      "train Acc= 58.58895705521472\n",
      "Training process has finished.\n",
      "Starting testing\n",
      "valid_acc :73.17073170731707\n",
      "valid_loss: 0.06867389760840906\n",
      "Saving best valid -trained model.\n",
      "validation process has finished\n",
      "*********Starting epoch 2\n",
      "train loss= 0.05210400455724899\n",
      "train Acc= 76.68711656441718\n",
      "Training process has finished.\n",
      "Starting testing\n",
      "valid_acc :54.8780487804878\n",
      "valid_loss: 0.11070922375649213\n",
      "validation process has finished\n",
      "*********Starting epoch 3\n",
      "train loss= 0.03923946774617465\n",
      "train Acc= 80.06134969325153\n",
      "Training process has finished.\n",
      "Starting testing\n",
      "valid_acc :71.95121951219512\n",
      "valid_loss: 0.06664339519521005\n",
      "Saving best valid -trained model.\n",
      "validation process has finished\n",
      "*********Starting epoch 4\n",
      "train loss= 0.022747756525360575\n",
      "train Acc= 90.49079754601227\n",
      "Training process has finished.\n",
      "Starting testing\n",
      "valid_acc :71.95121951219512\n",
      "valid_loss: 0.07016518263421666\n",
      "validation process has finished\n",
      "*********Starting epoch 5\n",
      "train loss= 0.011320054172278998\n",
      "train Acc= 96.93251533742331\n",
      "Training process has finished.\n",
      "Starting testing\n",
      "valid_acc :71.95121951219512\n",
      "valid_loss: 0.0788213176859596\n",
      "validation process has finished\n",
      "*********Starting epoch 6\n",
      "train loss= 0.007465105544494504\n",
      "train Acc= 97.85276073619632\n",
      "Training process has finished.\n",
      "Starting testing\n",
      "valid_acc :67.07317073170732\n",
      "valid_loss: 0.08899911176345242\n",
      "validation process has finished\n",
      "*********Starting epoch 7\n",
      "train loss= 0.0030117345497565166\n",
      "train Acc= 99.69325153374233\n",
      "Training process has finished.\n",
      "Starting testing\n",
      "valid_acc :67.07317073170732\n",
      "valid_loss: 0.09148556539265242\n",
      "validation process has finished\n",
      "*********Starting epoch 8\n",
      "train loss= 0.0009411754171418872\n",
      "train Acc= 100.0\n",
      "Training process has finished.\n",
      "Starting testing\n",
      "valid_acc :68.29268292682927\n",
      "valid_loss: 0.09504047681771859\n",
      "validation process has finished\n",
      "Accuracy for fold 0: 68 %\n",
      "--------------------------------\n",
      "FOLD 1\n",
      "--------------------------------\n",
      "*********Starting epoch 1\n",
      "train loss= 0.06964705148631917\n",
      "train Acc= 54.9079754601227\n",
      "Training process has finished.\n",
      "Starting testing\n",
      "valid_acc :69.51219512195122\n",
      "valid_loss: 0.0723597242967367\n",
      "Saving best valid -trained model.\n",
      "validation process has finished\n",
      "*********Starting epoch 2\n",
      "train loss= 0.05591988215098389\n",
      "train Acc= 75.15337423312883\n",
      "Training process has finished.\n",
      "Starting testing\n",
      "valid_acc :67.07317073170732\n",
      "valid_loss: 0.06553220441391823\n",
      "Saving best valid -trained model.\n",
      "validation process has finished\n",
      "*********Starting epoch 3\n",
      "train loss= 0.038335474606522334\n",
      "train Acc= 84.04907975460122\n",
      "Training process has finished.\n",
      "Starting testing\n",
      "valid_acc :69.51219512195122\n",
      "valid_loss: 0.05932451877673434\n",
      "Saving best valid -trained model.\n",
      "validation process has finished\n",
      "*********Starting epoch 4\n",
      "train loss= 0.022206419862441536\n",
      "train Acc= 90.79754601226993\n",
      "Training process has finished.\n",
      "Starting testing\n",
      "valid_acc :73.17073170731707\n",
      "valid_loss: 0.056974239942342395\n",
      "Saving best valid -trained model.\n",
      "validation process has finished\n",
      "*********Starting epoch 5\n",
      "train loss= 0.017476794498521433\n",
      "train Acc= 93.86503067484662\n",
      "Training process has finished.\n",
      "Starting testing\n",
      "valid_acc :71.95121951219512\n",
      "valid_loss: 0.07365319242459725\n",
      "validation process has finished\n",
      "*********Starting epoch 6\n",
      "train loss= 0.008466793294595619\n",
      "train Acc= 97.54601226993866\n",
      "Training process has finished.\n",
      "Starting testing\n",
      "valid_acc :75.60975609756098\n",
      "valid_loss: 0.06521487217422968\n",
      "validation process has finished\n",
      "*********Starting epoch 7\n",
      "train loss= 0.0027356302181482657\n",
      "train Acc= 99.69325153374233\n",
      "Training process has finished.\n",
      "Starting testing\n",
      "valid_acc :74.39024390243902\n",
      "valid_loss: 0.07076056072146238\n",
      "validation process has finished\n",
      "*********Starting epoch 8\n",
      "train loss= 0.0009594841301816632\n",
      "train Acc= 100.0\n",
      "Training process has finished.\n",
      "Starting testing\n",
      "valid_acc :74.39024390243902\n",
      "valid_loss: 0.07924557277544875\n",
      "validation process has finished\n",
      "Accuracy for fold 1: 74 %\n",
      "--------------------------------\n",
      "FOLD 2\n",
      "--------------------------------\n",
      "*********Starting epoch 1\n",
      "train loss= 0.07021446210290079\n",
      "train Acc= 57.668711656441715\n",
      "Training process has finished.\n",
      "Starting testing\n",
      "valid_acc :54.8780487804878\n",
      "valid_loss: 0.07137310874731646\n",
      "Saving best valid -trained model.\n",
      "validation process has finished\n",
      "*********Starting epoch 2\n",
      "train loss= 0.055279220664922024\n",
      "train Acc= 72.69938650306749\n",
      "Training process has finished.\n",
      "Starting testing\n",
      "valid_acc :74.39024390243902\n",
      "valid_loss: 0.053843150013223644\n",
      "Saving best valid -trained model.\n",
      "validation process has finished\n",
      "*********Starting epoch 3\n",
      "train loss= 0.03999254586728145\n",
      "train Acc= 83.43558282208589\n",
      "Training process has finished.\n",
      "Starting testing\n",
      "valid_acc :73.17073170731707\n",
      "valid_loss: 0.05122047303813526\n",
      "Saving best valid -trained model.\n",
      "validation process has finished\n",
      "*********Starting epoch 4\n",
      "train loss= 0.024545537345597074\n",
      "train Acc= 89.87730061349693\n",
      "Training process has finished.\n",
      "Starting testing\n",
      "valid_acc :76.82926829268293\n",
      "valid_loss: 0.06608484395644869\n",
      "validation process has finished\n",
      "*********Starting epoch 5\n",
      "train loss= 0.02161824876466997\n",
      "train Acc= 92.02453987730061\n",
      "Training process has finished.\n",
      "Starting testing\n",
      "valid_acc :74.39024390243902\n",
      "valid_loss: 0.06283042936918956\n",
      "validation process has finished\n",
      "*********Starting epoch 6\n",
      "train loss= 0.005665641212083635\n",
      "train Acc= 99.69325153374233\n",
      "Training process has finished.\n",
      "Starting testing\n",
      "valid_acc :78.04878048780488\n",
      "valid_loss: 0.07303452120672559\n",
      "validation process has finished\n",
      "*********Starting epoch 7\n",
      "train loss= 0.002258351349810716\n",
      "train Acc= 99.69325153374233\n",
      "Training process has finished.\n",
      "Starting testing\n",
      "valid_acc :75.60975609756098\n",
      "valid_loss: 0.08532998098319267\n",
      "validation process has finished\n",
      "*********Starting epoch 8\n",
      "train loss= 0.0006895920717282769\n",
      "train Acc= 100.0\n",
      "Training process has finished.\n",
      "Starting testing\n",
      "valid_acc :75.60975609756098\n",
      "valid_loss: 0.07788650760611841\n",
      "validation process has finished\n",
      "Accuracy for fold 2: 75 %\n",
      "--------------------------------\n",
      "FOLD 3\n",
      "--------------------------------\n",
      "*********Starting epoch 1\n",
      "train loss= 0.07163871278791592\n",
      "train Acc= 51.07033639143731\n",
      "Training process has finished.\n",
      "Starting testing\n",
      "valid_acc :53.08641975308642\n",
      "valid_loss: 0.07269783299371738\n",
      "Saving best valid -trained model.\n",
      "validation process has finished\n",
      "*********Starting epoch 2\n",
      "train loss= 0.05907372464903074\n",
      "train Acc= 66.66666666666667\n",
      "Training process has finished.\n",
      "Starting testing\n",
      "valid_acc :67.90123456790124\n",
      "valid_loss: 0.07310648909248225\n",
      "validation process has finished\n",
      "*********Starting epoch 3\n",
      "train loss= 0.04087595963166094\n",
      "train Acc= 83.18042813455658\n",
      "Training process has finished.\n",
      "Starting testing\n",
      "valid_acc :80.24691358024691\n",
      "valid_loss: 0.04821583723369227\n",
      "Saving best valid -trained model.\n",
      "validation process has finished\n",
      "*********Starting epoch 4\n",
      "train loss= 0.025814939792857067\n",
      "train Acc= 90.8256880733945\n",
      "Training process has finished.\n",
      "Starting testing\n",
      "valid_acc :81.48148148148148\n",
      "valid_loss: 0.054851387009215914\n",
      "validation process has finished\n",
      "*********Starting epoch 5\n",
      "train loss= 0.015644821452615573\n",
      "train Acc= 94.80122324159021\n",
      "Training process has finished.\n",
      "Starting testing\n",
      "valid_acc :66.66666666666667\n",
      "valid_loss: 0.10449480175049639\n",
      "validation process has finished\n",
      "*********Starting epoch 6\n",
      "train loss= 0.012106593744169732\n",
      "train Acc= 95.10703363914374\n",
      "Training process has finished.\n",
      "Starting testing\n",
      "valid_acc :81.48148148148148\n",
      "valid_loss: 0.06027822635099225\n",
      "validation process has finished\n",
      "*********Starting epoch 7\n",
      "train loss= 0.003358669614639772\n",
      "train Acc= 100.0\n",
      "Training process has finished.\n",
      "Starting testing\n",
      "valid_acc :82.71604938271605\n",
      "valid_loss: 0.053629728669337406\n",
      "validation process has finished\n",
      "*********Starting epoch 8\n",
      "train loss= 0.0015589410223628176\n",
      "train Acc= 100.0\n",
      "Training process has finished.\n",
      "Starting testing\n",
      "valid_acc :83.95061728395062\n",
      "valid_loss: 0.061256616634038474\n",
      "validation process has finished\n",
      "Accuracy for fold 3: 83 %\n",
      "--------------------------------\n",
      "FOLD 4\n",
      "--------------------------------\n",
      "*********Starting epoch 1\n",
      "train loss= 0.06984236027686608\n",
      "train Acc= 53.211009174311926\n",
      "Training process has finished.\n",
      "Starting testing\n"
     ]
    },
    {
     "name": "stdout",
     "output_type": "stream",
     "text": [
      "valid_acc :60.49382716049383\n",
      "valid_loss: 0.07273116986330252\n",
      "Saving best valid -trained model.\n",
      "validation process has finished\n",
      "*********Starting epoch 2\n",
      "train loss= 0.05080330406102534\n",
      "train Acc= 75.53516819571865\n",
      "Training process has finished.\n",
      "Starting testing\n",
      "valid_acc :61.72839506172839\n",
      "valid_loss: 0.0736958843594428\n",
      "validation process has finished\n",
      "*********Starting epoch 3\n",
      "train loss= 0.031540677988846424\n",
      "train Acc= 87.46177370030581\n",
      "Training process has finished.\n",
      "Starting testing\n",
      "valid_acc :66.66666666666667\n",
      "valid_loss: 0.08426294194781402\n",
      "validation process has finished\n",
      "*********Starting epoch 4\n",
      "train loss= 0.022899811719781945\n",
      "train Acc= 90.51987767584097\n",
      "Training process has finished.\n",
      "Starting testing\n",
      "valid_acc :70.37037037037037\n",
      "valid_loss: 0.07462654400683957\n",
      "validation process has finished\n",
      "*********Starting epoch 5\n",
      "train loss= 0.00951988968533569\n",
      "train Acc= 98.47094801223241\n",
      "Training process has finished.\n",
      "Starting testing\n",
      "valid_acc :72.8395061728395\n",
      "valid_loss: 0.07494368015167874\n",
      "validation process has finished\n",
      "*********Starting epoch 6\n",
      "train loss= 0.004133779033184384\n",
      "train Acc= 99.38837920489297\n",
      "Training process has finished.\n",
      "Starting testing\n",
      "valid_acc :67.90123456790124\n",
      "valid_loss: 0.07417397471402241\n",
      "validation process has finished\n",
      "*********Starting epoch 7\n",
      "train loss= 0.003306151857567479\n",
      "train Acc= 99.38837920489297\n",
      "Training process has finished.\n",
      "Starting testing\n",
      "valid_acc :72.8395061728395\n",
      "valid_loss: 0.09378582234080499\n",
      "validation process has finished\n",
      "*********Starting epoch 8\n",
      "train loss= 0.00127173601824399\n",
      "train Acc= 100.0\n",
      "Training process has finished.\n",
      "Starting testing\n",
      "valid_acc :69.1358024691358\n",
      "valid_loss: 0.09251587301226057\n",
      "validation process has finished\n",
      "Accuracy for fold 4: 69 %\n",
      "--------------------------------\n"
     ]
    }
   ],
   "source": [
    "wandb.init(project='mdd-japanese-reho')  \n",
    "\n",
    "k_folds = 5\n",
    "kfold_results = {}\n",
    "kfold = KFold(n_splits=k_folds, shuffle=True)\n",
    "\n",
    "#torch.manual_seed(42)\n",
    "num_epochs = 8\n",
    "batch_size = 10\n",
    "learning_rate= 0.001\n",
    "\n",
    "\n",
    "#Define a Loss function \n",
    "loss_function = nn.BCEWithLogitsLoss()\n",
    "\n",
    "for fold, (train_ids, valid_ids) in enumerate(kfold.split(train_dataset_cv)):\n",
    "    best_loss_cv= None\n",
    "    \n",
    "    print(f\"FOLD {fold}\\n--------------------------------\")\n",
    "    \n",
    "    # Sample elements randomly from a given list of ids,\n",
    "    train_subsampler = torch.utils.data.SubsetRandomSampler(train_ids)\n",
    "    valid_subsampler = torch.utils.data.SubsetRandomSampler(valid_ids)\n",
    "    \n",
    "    # Define data loaders for training and testing data in this fold\n",
    "    train_loader = torch.utils.data.DataLoader(train_dataset_cv, batch_size=batch_size, sampler=train_subsampler)\n",
    "    valid_loader = torch.utils.data.DataLoader(train_dataset_cv, batch_size=batch_size, sampler=valid_subsampler)\n",
    "    \n",
    "    #define network\n",
    "    network = ConvNet()\n",
    "    network = network.double()\n",
    "    \n",
    "    # create our optimizer\n",
    "    optimizer = optim.SGD(network.parameters(), momentum=0.9, lr = learning_rate, weight_decay=1e-3)\n",
    "    \n",
    "    # in the training loop:\n",
    "    \n",
    "    network.train() # prepare model for training\n",
    "    \n",
    "    for epoch in range(0, num_epochs):\n",
    "        print(f'*********Starting epoch {epoch+1}')\n",
    "        \n",
    "        train_loss_cv = 0\n",
    "        total =0\n",
    "        correct=0\n",
    "\n",
    "        # train model/network \n",
    "        for i, data in enumerate(train_loader, 0):\n",
    "            #print(f'train {i}')\n",
    "            \n",
    "            # get the inputs; data is a list of [inputs, labels]\n",
    "            inputs, labels = data\n",
    "            \n",
    "            # zero the gradient buffers\n",
    "            optimizer.zero_grad()\n",
    "            \n",
    "            # forward pass\n",
    "            outputs = network(inputs)\n",
    "            \n",
    "            # print(outputs.size)\n",
    "            outputss=outputs.squeeze(1) #### [10,1] ---> [10]\n",
    "            \n",
    "            # prediction \n",
    "            predicted = outputss.data > 0.0\n",
    "            \n",
    "            labels=labels.double()\n",
    "            \n",
    "            #calcuate loss/error\n",
    "            loss = loss_function(outputss, labels)\n",
    "            \n",
    "            # backward pass\n",
    "            loss.backward()\n",
    "            \n",
    "            # Does the update , gradient descent\n",
    "            optimizer.step() \n",
    "            \n",
    "            correct += (predicted == labels).sum().item()\n",
    "            train_loss_cv += loss.item()\n",
    "            total += labels.size(0)\n",
    "            \n",
    "        wandb.log({ \"epoch_cv\": epoch , \"train_Loss_cv\": train_loss_cv/total, \"train_acc_cv\": 100 * correct / total })\n",
    "        \n",
    "        print(f'train loss= {train_loss_cv/total}')\n",
    "        print(f'train Acc= {100 * correct / total}')\n",
    "        \n",
    "        \n",
    "        print('Training process has finished.')\n",
    "        print('Starting testing')\n",
    "\n",
    "        # validate the network using the validation data, for this fold\n",
    "        correct= 0\n",
    "        total = 0\n",
    "        valid_loss_cv=0\n",
    "        \n",
    "        network.eval()\n",
    "\n",
    "        with torch.no_grad():\n",
    "            for i, data in enumerate(valid_loader, 0):\n",
    "                #print(f'test {i}')\n",
    "\n",
    "                inputs, lables = data\n",
    "\n",
    "                outputs = network(inputs)\n",
    "\n",
    "                outputss=outputs.squeeze(1) #[10,1] ---> [10]\n",
    "                lables=lables.double()\n",
    "\n",
    "                # prediction \n",
    "                predicted = outputss.data > 0.0\n",
    "\n",
    "                loss = loss_function(outputss, lables)\n",
    "\n",
    "                valid_loss_cv += loss.item()\n",
    "                total += lables.size(0)\n",
    "                correct += (predicted == lables).sum().item()\n",
    "\n",
    "            wandb.log({ \"validation_acc_cv\": 100 * correct /total, \"validation_Loss_cv\": valid_loss_cv/total , \"learning rate\":learning_rate})\n",
    "            \n",
    "            current_valid_loss_cv = valid_loss_cv/total\n",
    "            \n",
    "            print(f'valid_acc :{100 * correct /total}')\n",
    "            print(f'valid_loss: {valid_loss_cv/total}')\n",
    "                  \n",
    "            if not best_loss_cv or best_loss_cv > current_valid_loss_cv:\n",
    "                best_loss_cv = current_valid_loss_cv\n",
    "                \n",
    "                print('Saving best valid -trained model.')\n",
    "                path_best_loss_reho = f'/data/zmohaghegh/TempStats_3D-CNN/best_model_reho_japanese/model-japanese_best-reho-fold-{fold}.pth'\n",
    "                torch.save(network.state_dict(), path_best_loss_reho )\n",
    "                \n",
    "            print('validation process has finished')\n",
    "        \n",
    "    print('Accuracy for fold %d: %d %%' % (fold, 100.0 * correct / total))\n",
    "    print('--------------------------------')\n",
    "        \n",
    "    kfold_results[fold] = 100.0 * (correct / total)"
   ]
  },
  {
   "cell_type": "markdown",
   "metadata": {},
   "source": [
    "### results of train and validation for CV"
   ]
  },
  {
   "cell_type": "code",
   "execution_count": 35,
   "metadata": {},
   "outputs": [
    {
     "name": "stdout",
     "output_type": "stream",
     "text": [
      "K-FOLD CROSS VALIDATION RESULTS FOR japanese reho 5 FOLDS\n",
      "--------------------------------\n",
      "Fold 0: 68.29268292682927 %\n",
      "Fold 1: 74.39024390243902 %\n",
      "Fold 2: 75.60975609756098 %\n",
      "Fold 3: 83.9506172839506 %\n",
      "Fold 4: 69.1358024691358 %\n",
      "Average: 74.27582053598314 %\n"
     ]
    }
   ],
   "source": [
    "print(f\"K-FOLD CROSS VALIDATION RESULTS FOR japanese reho {k_folds} FOLDS\\n--------------------------------\")\n",
    "_sum = 0.0\n",
    "\n",
    "for key, value in kfold_results.items():\n",
    "    print(f'Fold {key}: {value} %')\n",
    "    _sum += value\n",
    "\n",
    "print(f'Average: {_sum/len(kfold_results.items())} %')"
   ]
  },
  {
   "cell_type": "markdown",
   "metadata": {},
   "source": [
    "### Test loop for Cross validation "
   ]
  },
  {
   "cell_type": "code",
   "execution_count": 36,
   "metadata": {},
   "outputs": [],
   "source": [
    "from sklearn.metrics import confusion_matrix\n",
    "from sklearn.metrics import ConfusionMatrixDisplay\n",
    "from sklearn.metrics import roc_curve\n",
    "from sklearn.metrics import RocCurveDisplay"
   ]
  },
  {
   "cell_type": "code",
   "execution_count": 37,
   "metadata": {
    "scrolled": true
   },
   "outputs": [
    {
     "data": {
      "text/html": [
       "Finishing last run (ID:2cgidcxr) before initializing another..."
      ],
      "text/plain": [
       "<IPython.core.display.HTML object>"
      ]
     },
     "metadata": {},
     "output_type": "display_data"
    },
    {
     "data": {
      "text/html": [
       "<br/>Waiting for W&B process to finish, PID 56544<br/>Program ended successfully."
      ],
      "text/plain": [
       "<IPython.core.display.HTML object>"
      ]
     },
     "metadata": {},
     "output_type": "display_data"
    },
    {
     "data": {
      "application/vnd.jupyter.widget-view+json": {
       "model_id": "",
       "version_major": 2,
       "version_minor": 0
      },
      "text/plain": [
       "VBox(children=(Label(value=' 0.00MB of 0.00MB uploaded (0.00MB deduped)\\r'), FloatProgress(value=1.0, max=1.0)…"
      ]
     },
     "metadata": {},
     "output_type": "display_data"
    },
    {
     "data": {
      "text/html": [
       "Find user logs for this run at: <code>/data/zmohaghegh/TempStats_3D-CNN/wandb/run-20210427_135506-2cgidcxr/logs/debug.log</code>"
      ],
      "text/plain": [
       "<IPython.core.display.HTML object>"
      ]
     },
     "metadata": {},
     "output_type": "display_data"
    },
    {
     "data": {
      "text/html": [
       "Find internal logs for this run at: <code>/data/zmohaghegh/TempStats_3D-CNN/wandb/run-20210427_135506-2cgidcxr/logs/debug-internal.log</code>"
      ],
      "text/plain": [
       "<IPython.core.display.HTML object>"
      ]
     },
     "metadata": {},
     "output_type": "display_data"
    },
    {
     "data": {
      "text/html": [
       "<h3>Run summary:</h3><br/><style>\n",
       "    table.wandb td:nth-child(1) { padding: 0 10px; text-align: right }\n",
       "    </style><table class=\"wandb\">\n",
       "<tr><td>epoch_cv</td><td>7</td></tr><tr><td>train_Loss_cv</td><td>0.00127</td></tr><tr><td>train_acc_cv</td><td>100.0</td></tr><tr><td>_runtime</td><td>9928</td></tr><tr><td>_timestamp</td><td>1619534438</td></tr><tr><td>_step</td><td>79</td></tr><tr><td>validation_acc_cv</td><td>69.1358</td></tr><tr><td>validation_Loss_cv</td><td>0.09252</td></tr><tr><td>learning rate</td><td>0.001</td></tr></table>"
      ],
      "text/plain": [
       "<IPython.core.display.HTML object>"
      ]
     },
     "metadata": {},
     "output_type": "display_data"
    },
    {
     "data": {
      "text/html": [
       "<h3>Run history:</h3><br/><style>\n",
       "    table.wandb td:nth-child(1) { padding: 0 10px; text-align: right }\n",
       "    </style><table class=\"wandb\">\n",
       "<tr><td>epoch_cv</td><td>▁▂▃▄▅▆▇█▁▂▃▄▅▆▇█▁▂▃▄▅▆▇█▁▂▃▄▅▆▇█▁▂▃▄▅▆▇█</td></tr><tr><td>train_Loss_cv</td><td>█▆▅▃▂▂▁▁█▆▅▃▃▂▁▁█▆▅▃▃▁▁▁█▇▅▃▂▂▁▁█▆▄▃▂▁▁▁</td></tr><tr><td>train_acc_cv</td><td>▂▅▅▇████▂▄▆▇▇███▂▄▆▇▇███▁▃▆▇▇▇██▁▅▆▇████</td></tr><tr><td>_runtime</td><td>▁▁▁▂▂▂▂▂▂▃▃▃▃▃▄▄▄▄▄▄▅▅▅▅▅▅▆▆▆▆▆▇▇▇▇▇▇███</td></tr><tr><td>_timestamp</td><td>▁▁▁▂▂▂▂▂▂▃▃▃▃▃▄▄▄▄▄▄▅▅▅▅▅▅▆▆▆▆▆▇▇▇▇▇▇███</td></tr><tr><td>_step</td><td>▁▁▁▂▂▂▂▂▂▃▃▃▃▃▃▄▄▄▄▄▅▅▅▅▅▅▆▆▆▆▆▆▇▇▇▇▇███</td></tr><tr><td>validation_acc_cv</td><td>▆▁▅▅▅▄▄▄▅▄▅▆▅▆▆▆▁▆▆▆▆▇▆▆▁▄▇▇▄▇██▃▃▄▅▅▄▅▅</td></tr><tr><td>validation_Loss_cv</td><td>▃█▃▃▄▆▆▆▄▃▂▂▄▃▄▄▄▂▁▃▃▄▅▄▄▄▁▂▇▂▂▂▄▄▅▄▄▄▆▆</td></tr><tr><td>learning rate</td><td>▁▁▁▁▁▁▁▁▁▁▁▁▁▁▁▁▁▁▁▁▁▁▁▁▁▁▁▁▁▁▁▁▁▁▁▁▁▁▁▁</td></tr></table><br/>"
      ],
      "text/plain": [
       "<IPython.core.display.HTML object>"
      ]
     },
     "metadata": {},
     "output_type": "display_data"
    },
    {
     "data": {
      "text/html": [
       "Synced 5 W&B file(s), 0 media file(s), 0 artifact file(s) and 0 other file(s)"
      ],
      "text/plain": [
       "<IPython.core.display.HTML object>"
      ]
     },
     "metadata": {},
     "output_type": "display_data"
    },
    {
     "data": {
      "text/html": [
       "\n",
       "                    <br/>Synced <strong style=\"color:#cdcd00\">expert-waterfall-35</strong>: <a href=\"https://wandb.ai/zahramhn/mdd-japanese-reho/runs/2cgidcxr\" target=\"_blank\">https://wandb.ai/zahramhn/mdd-japanese-reho/runs/2cgidcxr</a><br/>\n",
       "                "
      ],
      "text/plain": [
       "<IPython.core.display.HTML object>"
      ]
     },
     "metadata": {},
     "output_type": "display_data"
    },
    {
     "data": {
      "text/html": [
       "...Successfully finished last run (ID:2cgidcxr). Initializing new run:<br/><br/>"
      ],
      "text/plain": [
       "<IPython.core.display.HTML object>"
      ]
     },
     "metadata": {},
     "output_type": "display_data"
    },
    {
     "data": {
      "text/html": [
       "\n",
       "                Tracking run with wandb version 0.10.20<br/>\n",
       "                Syncing run <strong style=\"color:#cdcd00\">divine-haze-36</strong> to <a href=\"https://wandb.ai\" target=\"_blank\">Weights & Biases</a> <a href=\"https://docs.wandb.com/integrations/jupyter.html\" target=\"_blank\">(Documentation)</a>.<br/>\n",
       "                Project page: <a href=\"https://wandb.ai/zahramhn/mdd-japanese-reho\" target=\"_blank\">https://wandb.ai/zahramhn/mdd-japanese-reho</a><br/>\n",
       "                Run page: <a href=\"https://wandb.ai/zahramhn/mdd-japanese-reho/runs/bepzqaek\" target=\"_blank\">https://wandb.ai/zahramhn/mdd-japanese-reho/runs/bepzqaek</a><br/>\n",
       "                Run data is saved locally in <code>/data/zmohaghegh/TempStats_3D-CNN/wandb/run-20210427_164038-bepzqaek</code><br/><br/>\n",
       "            "
      ],
      "text/plain": [
       "<IPython.core.display.HTML object>"
      ]
     },
     "metadata": {},
     "output_type": "display_data"
    },
    {
     "name": "stdout",
     "output_type": "stream",
     "text": [
      "Start TEST FOR FOLD 0\n",
      "test_Acc_CV\": 70.58823529411765\n",
      "F1_score CV ReHo :0.7010663914688683\n",
      "Balanced ACC CV ReHo :0.7084615384615385\n",
      "Loss CV ReHo : 0.060696910588520836\n",
      "Start TEST FOR FOLD 1\n",
      "test_Acc_CV\": 74.50980392156863\n",
      "F1_score CV ReHo :0.7421167297328288\n",
      "Balanced ACC CV ReHo :0.7430769230769231\n",
      "Loss CV ReHo : 0.07309844436456685\n",
      "Start TEST FOR FOLD 2\n",
      "test_Acc_CV\": 71.56862745098039\n",
      "F1_score CV ReHo :0.7043000277497329\n",
      "Balanced ACC CV ReHo :0.7119230769230769\n",
      "Loss CV ReHo : 0.07247735541005176\n",
      "Start TEST FOR FOLD 3\n",
      "test_Acc_CV\": 69.6078431372549\n",
      "F1_score CV ReHo :0.6959907869713301\n",
      "Balanced ACC CV ReHo :0.6965384615384616\n",
      "Loss CV ReHo : 0.06185432103578348\n",
      "Start TEST FOR FOLD 4\n",
      "test_Acc_CV\": 71.56862745098039\n",
      "F1_score CV ReHo :0.7129490325742278\n",
      "Balanced ACC CV ReHo :0.7138461538461538\n",
      "Loss CV ReHo : 0.06821246963077587\n"
     ]
    },
    {
     "data": {
      "image/png": "[encoded data removed]",
      "text/plain": [
       "<Figure size 432x288 with 2 Axes>"
      ]
     },
     "metadata": {
      "needs_background": "light"
     },
     "output_type": "display_data"
    },
    {
     "data": {
      "image/png": "[encoded data removed]",
      "text/plain": [
       "<Figure size 432x288 with 1 Axes>"
      ]
     },
     "metadata": {
      "needs_background": "light"
     },
     "output_type": "display_data"
    },
    {
     "data": {
      "image/png": "[encoded data removed]",
      "text/plain": [
       "<Figure size 432x288 with 2 Axes>"
      ]
     },
     "metadata": {
      "needs_background": "light"
     },
     "output_type": "display_data"
    },
    {
     "data": {
      "image/png": "[encoded data removed]",
      "text/plain": [
       "<Figure size 432x288 with 1 Axes>"
      ]
     },
     "metadata": {
      "needs_background": "light"
     },
     "output_type": "display_data"
    },
    {
     "data": {
      "image/png": "[encoded data removed]",
      "text/plain": [
       "<Figure size 432x288 with 2 Axes>"
      ]
     },
     "metadata": {
      "needs_background": "light"
     },
     "output_type": "display_data"
    },
    {
     "data": {
      "image/png": "[encoded data removed]",
      "text/plain": [
       "<Figure size 432x288 with 1 Axes>"
      ]
     },
     "metadata": {
      "needs_background": "light"
     },
     "output_type": "display_data"
    },
    {
     "data": {
      "image/png": "[encoded data removed]",
      "text/plain": [
       "<Figure size 432x288 with 2 Axes>"
      ]
     },
     "metadata": {
      "needs_background": "light"
     },
     "output_type": "display_data"
    },
    {
     "data": {
      "image/png": "[encoded data removed]",
      "text/plain": [
       "<Figure size 432x288 with 1 Axes>"
      ]
     },
     "metadata": {
      "needs_background": "light"
     },
     "output_type": "display_data"
    },
    {
     "data": {
      "image/png": "[encoded data removed]",
      "text/plain": [
       "<Figure size 432x288 with 2 Axes>"
      ]
     },
     "metadata": {
      "needs_background": "light"
     },
     "output_type": "display_data"
    },
    {
     "data": {
      "image/png": "[encoded data removed]",
      "text/plain": [
       "<Figure size 432x288 with 1 Axes>"
      ]
     },
     "metadata": {
      "needs_background": "light"
     },
     "output_type": "display_data"
    }
   ],
   "source": [
    "wandb.init(project='mdd-japanese-reho')  \n",
    "\n",
    "#Sample elements randomly \n",
    "\n",
    "test_loader  = torch.utils.data.DataLoader(test_dataset_cv , batch_size=batch_size, shuffle=False)\n",
    "\n",
    "bal_acc_fold=[]\n",
    "F1_score_fold=[]\n",
    "\n",
    "for k in np.arange(5): \n",
    "\n",
    "    print(f'Start TEST FOR FOLD {k}')\n",
    "\n",
    "    path_fold = f'/data/zmohaghegh/TempStats_3D-CNN/best_model_reho_japanese/model-japanese_best-reho-fold-{k}.pth'\n",
    "\n",
    "    network.load_state_dict(torch.load(path_fold))\n",
    "\n",
    "    test_loss_cv=0\n",
    "    total = 0\n",
    "    correct=0\n",
    "\n",
    "    F1_labels=[]\n",
    "    F1_pred=[]\n",
    "\n",
    "    network.eval() # preoare model for test and evaluation\n",
    "\n",
    "    with torch.no_grad():\n",
    "        #print('Start testing CV...')\n",
    "        for i, data in enumerate(test_loader, 0):\n",
    "            #print(f'test {i}')\n",
    "\n",
    "            inputs, lables = data\n",
    "\n",
    "            outputs = network(inputs)\n",
    "\n",
    "            lables=lables.double()\n",
    "            outputss=outputs.squeeze(1) #[10,1] ---> [10]\n",
    "\n",
    "            #do the prediction \n",
    "            predicted = outputss.data > 0.0\n",
    "\n",
    "            #calculate loss\n",
    "            loss = loss_function(outputss, lables)\n",
    "\n",
    "            test_loss_cv += loss.item()\n",
    "            correct += (predicted == lables).sum().item()\n",
    "            total += lables.size(0)\n",
    "\n",
    "            if i==0:\n",
    "                F1_labels=lables.int().numpy()\n",
    "                F1_pred=predicted.int().numpy()\n",
    "            else:\n",
    "                F1_labels= np.concatenate((F1_labels, lables.int().numpy()))\n",
    "                F1_pred = np.concatenate((F1_pred, predicted.int().numpy()))\n",
    "            \n",
    "        wandb.log({ \"test_Acc_CV\": 100 * correct /total  , \"test_Loss_CV\": test_loss_cv/total })\n",
    "        \n",
    "        acc = accuracy_score(F1_labels, F1_pred)\n",
    "        bal_acc= balanced_accuracy_score(F1_labels, F1_pred)\n",
    "\n",
    "        F1_Score = f1_score(F1_labels, F1_pred, average='weighted')\n",
    "        tn, fp, fn, tp = confusion_matrix(F1_labels, F1_pred).ravel()\n",
    "    \n",
    "        F1_score_fold.append(F1_Score)\n",
    "        bal_acc_fold.append(bal_acc)\n",
    "        \n",
    "        #PLotting Confusion matrix and ROC curve\n",
    "        \n",
    "        conf_matrix = confusion_matrix(F1_labels, F1_pred)\n",
    "        conf_matrix_display = ConfusionMatrixDisplay(conf_matrix).plot()\n",
    "        \n",
    "        fp_rate, tp_rate, threshold = roc_curve(F1_labels, F1_pred)\n",
    "        ROC_display = RocCurveDisplay(fpr=fp_rate, tpr=tp_rate).plot()\n",
    "       \n",
    "\n",
    "        wandb.log({ \"test_balanced_Acc_CV\": bal_acc , \"test_Acc_CV\": 100 * correct /total, \"test_F1_score_CV\": F1_Score , \"test_Loss_CV\": test_loss_cv/total })\n",
    "        \n",
    "        print(f'test_Acc_CV\": {100 * correct /total}')\n",
    "        print(f'F1_score CV ReHo :{F1_Score}')\n",
    "        print(f'Balanced ACC CV ReHo :{bal_acc}')\n",
    "        print(f'Loss CV ReHo : {test_loss_cv/total}')"
   ]
  },
  {
   "cell_type": "code",
   "execution_count": 38,
   "metadata": {},
   "outputs": [
    {
     "name": "stdout",
     "output_type": "stream",
     "text": [
      " Average Balance ACC japan ReHo = 71.47692307692307\n",
      "standard deviation :1.5378075533063027\n",
      " Average F1_score japan ReHo = 0.7112845936993976\n",
      "standard deviation :0.016373682003243788\n"
     ]
    }
   ],
   "source": [
    "import statistics\n",
    "\n",
    "F1_score_avg= sum(F1_score_fold)/len(F1_score_fold)\n",
    "F1_score_std= statistics.pstdev(F1_score_fold)\n",
    "bal_acc_avg = 100 * (sum(bal_acc_fold)/len(bal_acc_fold))\n",
    "bal_acc_std = 100* statistics.pstdev(bal_acc_fold)\n",
    "\n",
    "print(f' Average Balance ACC japan ReHo = {bal_acc_avg}')\n",
    "print(f'standard deviation :{bal_acc_std}')\n",
    "print(f' Average F1_score japan ReHo = { F1_score_avg}')\n",
    "print(f'standard deviation :{F1_score_std}')"
   ]
  },
  {
   "cell_type": "code",
   "execution_count": null,
   "metadata": {},
   "outputs": [],
   "source": []
  }
 ],
 "metadata": {
  "kernelspec": {
   "display_name": "Python 3",
   "language": "python",
   "name": "python3"
  },
  "language_info": {
   "codemirror_mode": {
    "name": "ipython",
    "version": 3
   },
   "file_extension": ".py",
   "mimetype": "text/x-python",
   "name": "python",
   "nbconvert_exporter": "python",
   "pygments_lexer": "ipython3",
   "version": "3.8.3"
  }
 },
 "nbformat": 4,
 "nbformat_minor": 2
}

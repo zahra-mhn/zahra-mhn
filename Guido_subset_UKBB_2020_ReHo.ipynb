{
 "cells": [
  {
   "cell_type": "markdown",
   "metadata": {},
   "source": [
    "# UKBB Guido subset_ main thesis project -ReHo"
   ]
  },
  {
   "cell_type": "code",
   "execution_count": 1,
   "metadata": {},
   "outputs": [],
   "source": [
    "import pandas as pd\n",
    "import os\n",
    "import torch\n",
    "from torch import nn\n",
    "from torchvision.datasets import MNIST\n",
    "from torch.utils.data import DataLoader, ConcatDataset, TensorDataset\n",
    "from torchvision import transforms\n",
    "from sklearn.model_selection import KFold\n",
    "import torch.optim as optim\n",
    "import torch.nn.functional as F\n",
    "import numpy as np\n",
    "import nibabel as nib\n",
    "import matplotlib.pyplot as plt\n",
    "from sklearn.model_selection import train_test_split"
   ]
  },
  {
   "cell_type": "markdown",
   "metadata": {},
   "source": [
    "## start of classsification using Reho"
   ]
  },
  {
   "cell_type": "code",
   "execution_count": 2,
   "metadata": {},
   "outputs": [
    {
     "name": "stdout",
     "output_type": "stream",
     "text": [
      "406 401\n"
     ]
    }
   ],
   "source": [
    "control_base_path = '/dbstore/zmohaghegh/UKBiobank_subset/Summary_measure_new/Control/ReHo/ReHo_Normalised_z/'\n",
    "mdd_base_path = '/dbstore/zmohaghegh/UKBiobank_subset/Summary_measure_new/MDD/ReHo/ReHo_Normalised_z/'\n",
    "\n",
    "#define data path for control and MDD seprately\n",
    "\n",
    "control_files_path = [control_base_path + f for f in os.listdir(control_base_path) if f.startswith('ReHo')]\n",
    "mdd_files_path = [mdd_base_path + f for f in os.listdir(mdd_base_path) if f.startswith('ReHo')]\n",
    "print(len(control_files_path), len(mdd_files_path))"
   ]
  },
  {
   "cell_type": "markdown",
   "metadata": {},
   "source": [
    "### load data with nan "
   ]
  },
  {
   "cell_type": "code",
   "execution_count": 3,
   "metadata": {},
   "outputs": [],
   "source": [
    "#loading data seprately and set a label column for Control=0 and MDD=1\n",
    "\n",
    "control_dataset_reho_zero = [[nib.load(c).get_fdata(),0] for c in control_files_path]\n",
    "mdd_dataset_reho_zero = [[nib.load(m).get_fdata(),1] for m in mdd_files_path]"
   ]
  },
  {
   "cell_type": "markdown",
   "metadata": {},
   "source": [
    "##### define numpy array for doing the zero nan"
   ]
  },
  {
   "cell_type": "code",
   "execution_count": 4,
   "metadata": {},
   "outputs": [
    {
     "name": "stdout",
     "output_type": "stream",
     "text": [
      "(91, 109, 91)\n",
      "401\n",
      "1\n",
      "(91, 109, 91)\n",
      "406\n"
     ]
    },
    {
     "name": "stderr",
     "output_type": "stream",
     "text": [
      "/data/zmohaghegh/venv/lib64/python3.6/site-packages/ipykernel_launcher.py:8: VisibleDeprecationWarning: Creating an ndarray from ragged nested sequences (which is a list-or-tuple of lists-or-tuples-or ndarrays with different lengths or shapes) is deprecated. If you meant to do this, you must specify 'dtype=object' when creating the ndarray\n",
      "  \n",
      "/data/zmohaghegh/venv/lib64/python3.6/site-packages/ipykernel_launcher.py:9: VisibleDeprecationWarning: Creating an ndarray from ragged nested sequences (which is a list-or-tuple of lists-or-tuples-or ndarrays with different lengths or shapes) is deprecated. If you meant to do this, you must specify 'dtype=object' when creating the ndarray\n",
      "  if __name__ == '__main__':\n"
     ]
    },
    {
     "data": {
      "text/plain": [
       "0"
      ]
     },
     "execution_count": 4,
     "metadata": {},
     "output_type": "execute_result"
    }
   ],
   "source": [
    "control_reho_zero_nan2= control_dataset_reho_zero\n",
    "mdd_reho_zero_nan2 = mdd_dataset_reho_zero\n",
    "\n",
    "print(mdd_reho_zero_nan2[0][0].shape)\n",
    "print(len(mdd_reho_zero_nan2))\n",
    "print(mdd_reho_zero_nan2[0][1])\n",
    "\n",
    "mdd_reho_zero_nan3 = np.array(mdd_reho_zero_nan2)\n",
    "control_reho_zero_nan3 =np.array(control_reho_zero_nan2)\n",
    "print(control_reho_zero_nan2[0][0].shape)\n",
    "print(len(control_reho_zero_nan2))\n",
    "\n",
    "control_reho_zero_nan3[0][1]"
   ]
  },
  {
   "cell_type": "code",
   "execution_count": 5,
   "metadata": {},
   "outputs": [
    {
     "data": {
      "text/plain": [
       "401"
      ]
     },
     "execution_count": 5,
     "metadata": {},
     "output_type": "execute_result"
    }
   ],
   "source": [
    "len(mdd_dataset_reho_zero)"
   ]
  },
  {
   "cell_type": "code",
   "execution_count": 6,
   "metadata": {},
   "outputs": [
    {
     "data": {
      "text/plain": [
       "406"
      ]
     },
     "execution_count": 6,
     "metadata": {},
     "output_type": "execute_result"
    }
   ],
   "source": [
    "len(control_dataset_reho_zero)"
   ]
  },
  {
   "cell_type": "code",
   "execution_count": 7,
   "metadata": {},
   "outputs": [
    {
     "data": {
      "text/plain": [
       "2"
      ]
     },
     "execution_count": 7,
     "metadata": {},
     "output_type": "execute_result"
    }
   ],
   "source": [
    "len(mdd_dataset_reho_zero[0])\n",
    "len(control_dataset_reho_zero[0])"
   ]
  },
  {
   "cell_type": "code",
   "execution_count": 8,
   "metadata": {},
   "outputs": [
    {
     "data": {
      "text/plain": [
       "(91, 109, 91)"
      ]
     },
     "execution_count": 8,
     "metadata": {},
     "output_type": "execute_result"
    }
   ],
   "source": [
    "mdd_dataset_reho_zero[0][0].shape\n",
    "control_dataset_reho_zero[0][0].shape"
   ]
  },
  {
   "cell_type": "code",
   "execution_count": 9,
   "metadata": {},
   "outputs": [
    {
     "data": {
      "text/plain": [
       "array([        nan,         nan,         nan,         nan,         nan,\n",
       "               nan,         nan,         nan,         nan,         nan,\n",
       "               nan,         nan,         nan,         nan,         nan,\n",
       "               nan,  1.12550211,  1.15470362,  1.21175969,  1.24106169,\n",
       "        1.27152824,  1.30393469,  1.31607091,  1.15562212,  0.73888594,\n",
       "        0.51428944,  0.82918566,  1.03576005,  0.80490899,  0.3247368 ,\n",
       "        0.09796771,  0.13353619,  0.11749519,  0.32198218,  0.72249311,\n",
       "        0.51509976, -0.4462651 , -0.98521936, -0.76221055, -0.26030189,\n",
       "        0.44888762,  1.03747642,  1.25865352,  1.30971968,  1.27973843,\n",
       "        1.19814634,  1.08664191,  0.96786159,  0.79747653,  0.60798132,\n",
       "        0.46213761,  0.29620972,  0.17520891, -0.13644496, -1.05051053,\n",
       "       -2.3524518 , -2.04095626, -0.80242002, -0.78191942, -0.40896198,\n",
       "        0.33673894,  0.86772221,  1.09378672,  1.26220214,  1.40480113,\n",
       "        1.44873357,  1.37333369,  1.2148087 ,  1.05106485,  0.94853705,\n",
       "        0.99256855,  1.0557704 ,  1.02893019,  0.95031571,  0.89016521,\n",
       "        0.96179903,         nan,         nan,         nan,         nan,\n",
       "               nan,         nan,         nan,         nan,         nan,\n",
       "               nan,         nan,         nan,         nan,         nan,\n",
       "               nan])"
      ]
     },
     "execution_count": 9,
     "metadata": {},
     "output_type": "execute_result"
    }
   ],
   "source": [
    "control_dataset_reho_zero[400][0][:,34,56]"
   ]
  },
  {
   "cell_type": "code",
   "execution_count": 10,
   "metadata": {},
   "outputs": [
    {
     "data": {
      "text/plain": [
       "array([        nan,         nan,         nan,         nan,         nan,\n",
       "               nan,         nan,         nan,         nan,         nan,\n",
       "               nan,         nan,         nan,         nan,         nan,\n",
       "               nan,  1.21149242,  1.32380092,  1.37073934,  1.4142952 ,\n",
       "        1.44033265,  1.39442766,  1.28269625,  1.09229827,  0.47384778,\n",
       "       -0.35695356, -0.39824989,  0.05438031,  0.16181107,  0.05587393,\n",
       "        0.11543607,  0.01960329, -0.29691103, -0.49344996, -0.70651323,\n",
       "       -0.96867234, -1.11298954, -0.68337023,  0.03072086,  0.68174613,\n",
       "        0.95977503,  1.05144298,  1.15947974,  1.28555131,  1.37307799,\n",
       "        1.43382919,  1.44437182,  1.49855125,  1.58629799,  1.60798669,\n",
       "        1.58436382,  1.30921352,  0.59295458, -0.22422616, -0.62735111,\n",
       "       -0.94800943, -1.41227424, -1.85290849, -1.89540088, -1.45713973,\n",
       "       -0.5410347 ,  0.52465016,  0.99950457,  1.28322899,  1.42436516,\n",
       "        1.47826397,  1.47122824,  1.39253831,  1.3458854 ,  1.37500393,\n",
       "        1.41239488,  1.30566835,  1.16205645,  1.25646985,  1.47338617,\n",
       "        1.59002984,         nan,         nan,         nan,         nan,\n",
       "               nan,         nan,         nan,         nan,         nan,\n",
       "               nan,         nan,         nan,         nan,         nan,\n",
       "               nan])"
      ]
     },
     "execution_count": 10,
     "metadata": {},
     "output_type": "execute_result"
    }
   ],
   "source": [
    "mdd_dataset_reho_zero[200][0][:,34,56]"
   ]
  },
  {
   "cell_type": "code",
   "execution_count": 11,
   "metadata": {},
   "outputs": [
    {
     "data": {
      "text/plain": [
       "array([ 0.        ,  0.        ,  0.        ,  0.        ,  0.        ,\n",
       "        0.        ,  0.        ,  0.        ,  0.        ,  0.        ,\n",
       "        0.        ,  0.        ,  0.        ,  0.        ,  0.        ,\n",
       "        0.        ,  1.12550211,  1.15470362,  1.21175969,  1.24106169,\n",
       "        1.27152824,  1.30393469,  1.31607091,  1.15562212,  0.73888594,\n",
       "        0.51428944,  0.82918566,  1.03576005,  0.80490899,  0.3247368 ,\n",
       "        0.09796771,  0.13353619,  0.11749519,  0.32198218,  0.72249311,\n",
       "        0.51509976, -0.4462651 , -0.98521936, -0.76221055, -0.26030189,\n",
       "        0.44888762,  1.03747642,  1.25865352,  1.30971968,  1.27973843,\n",
       "        1.19814634,  1.08664191,  0.96786159,  0.79747653,  0.60798132,\n",
       "        0.46213761,  0.29620972,  0.17520891, -0.13644496, -1.05051053,\n",
       "       -2.3524518 , -2.04095626, -0.80242002, -0.78191942, -0.40896198,\n",
       "        0.33673894,  0.86772221,  1.09378672,  1.26220214,  1.40480113,\n",
       "        1.44873357,  1.37333369,  1.2148087 ,  1.05106485,  0.94853705,\n",
       "        0.99256855,  1.0557704 ,  1.02893019,  0.95031571,  0.89016521,\n",
       "        0.96179903,  0.        ,  0.        ,  0.        ,  0.        ,\n",
       "        0.        ,  0.        ,  0.        ,  0.        ,  0.        ,\n",
       "        0.        ,  0.        ,  0.        ,  0.        ,  0.        ,\n",
       "        0.        ])"
      ]
     },
     "execution_count": 11,
     "metadata": {},
     "output_type": "execute_result"
    }
   ],
   "source": [
    "#example control\n",
    "zero_nan_control_800= np.nan_to_num(control_dataset_reho_zero[400][0],copy=True)\n",
    "zero_nan_control_800[:,34,56]"
   ]
  },
  {
   "cell_type": "code",
   "execution_count": 12,
   "metadata": {},
   "outputs": [
    {
     "data": {
      "text/plain": [
       "array([ 0.        ,  0.        ,  0.        ,  0.        ,  0.        ,\n",
       "        0.        ,  0.        ,  0.        ,  0.        ,  0.        ,\n",
       "        0.        ,  0.        ,  0.        ,  0.        ,  0.        ,\n",
       "        0.        ,  1.21149242,  1.32380092,  1.37073934,  1.4142952 ,\n",
       "        1.44033265,  1.39442766,  1.28269625,  1.09229827,  0.47384778,\n",
       "       -0.35695356, -0.39824989,  0.05438031,  0.16181107,  0.05587393,\n",
       "        0.11543607,  0.01960329, -0.29691103, -0.49344996, -0.70651323,\n",
       "       -0.96867234, -1.11298954, -0.68337023,  0.03072086,  0.68174613,\n",
       "        0.95977503,  1.05144298,  1.15947974,  1.28555131,  1.37307799,\n",
       "        1.43382919,  1.44437182,  1.49855125,  1.58629799,  1.60798669,\n",
       "        1.58436382,  1.30921352,  0.59295458, -0.22422616, -0.62735111,\n",
       "       -0.94800943, -1.41227424, -1.85290849, -1.89540088, -1.45713973,\n",
       "       -0.5410347 ,  0.52465016,  0.99950457,  1.28322899,  1.42436516,\n",
       "        1.47826397,  1.47122824,  1.39253831,  1.3458854 ,  1.37500393,\n",
       "        1.41239488,  1.30566835,  1.16205645,  1.25646985,  1.47338617,\n",
       "        1.59002984,  0.        ,  0.        ,  0.        ,  0.        ,\n",
       "        0.        ,  0.        ,  0.        ,  0.        ,  0.        ,\n",
       "        0.        ,  0.        ,  0.        ,  0.        ,  0.        ,\n",
       "        0.        ])"
      ]
     },
     "execution_count": 12,
     "metadata": {},
     "output_type": "execute_result"
    }
   ],
   "source": [
    "#example mdd\n",
    "zero_nan_mdd_700= np.nan_to_num(mdd_dataset_reho_zero[200][0],copy=True)\n",
    "zero_nan_mdd_700[:,34,56]"
   ]
  },
  {
   "cell_type": "code",
   "execution_count": 13,
   "metadata": {},
   "outputs": [
    {
     "name": "stdout",
     "output_type": "stream",
     "text": [
      "(406, 2)\n",
      "(91, 109, 91)\n",
      "0\n",
      "0\n",
      "(2,)\n",
      "<class 'numpy.ndarray'>\n"
     ]
    }
   ],
   "source": [
    "#zero_nan_control\n",
    "print(control_reho_zero_nan3.shape)\n",
    "print(control_reho_zero_nan3[0][0].shape)\n",
    "print(control_reho_zero_nan3[0][1])\n",
    "print(control_reho_zero_nan3[100][1])\n",
    "print(control_reho_zero_nan3[0].shape)\n",
    "print(type(control_reho_zero_nan3))\n",
    "\n",
    "\n",
    "for i in range(len(control_dataset_reho_zero)):    \n",
    "    control_reho_zero_nan3[i][0] =np.nan_to_num(control_dataset_reho_zero[i][0],copy=True)\n",
    "    control_reho_zero_nan3[i][1] =np.nan_to_num(control_dataset_reho_zero[i][1],copy=True)"
   ]
  },
  {
   "cell_type": "code",
   "execution_count": 14,
   "metadata": {},
   "outputs": [
    {
     "name": "stdout",
     "output_type": "stream",
     "text": [
      "(406, 2)\n",
      "(91, 109, 91)\n",
      "0\n",
      "0\n"
     ]
    },
    {
     "data": {
      "text/plain": [
       "array([ 0.        ,  0.        ,  0.        ,  0.        ,  0.        ,\n",
       "        0.        ,  0.        ,  0.        ,  0.        ,  0.        ,\n",
       "        0.        ,  0.        ,  0.        ,  0.        ,  0.        ,\n",
       "        0.        ,  1.03706789,  0.9384445 ,  1.02045286,  1.08525765,\n",
       "        1.14096582,  1.2619375 ,  1.3255043 ,  1.24580979,  0.97607547,\n",
       "        0.65649235,  0.61685491,  0.89809757,  1.12224627,  1.19249892,\n",
       "        1.09637868,  0.34877521, -1.27452624, -1.91937733, -1.69016302,\n",
       "       -1.55144036, -1.6726886 , -2.33689332, -1.64726007,  0.19250433,\n",
       "        0.8690486 ,  1.02865875,  1.13394439,  1.16226077,  1.1960578 ,\n",
       "        1.24796295,  1.25617349,  1.12054193,  0.8205567 ,  0.62111205,\n",
       "        0.63774258,  0.77285439,  0.67045969, -0.15786178, -1.08324039,\n",
       "       -1.17349052, -1.23186243, -1.36752427, -1.68216169, -1.93453085,\n",
       "       -2.13499188, -1.60536325, -0.33979508,  0.63937038,  1.09100926,\n",
       "        1.16399229,  1.05315506,  1.00087965,  1.06204903,  1.14368641,\n",
       "        1.21600616,  1.27789998,  1.33074033,  1.3524518 ,  1.32901955,\n",
       "        1.31602955,  0.        ,  0.        ,  0.        ,  0.        ,\n",
       "        0.        ,  0.        ,  0.        ,  0.        ,  0.        ,\n",
       "        0.        ,  0.        ,  0.        ,  0.        ,  0.        ,\n",
       "        0.        ])"
      ]
     },
     "execution_count": 14,
     "metadata": {},
     "output_type": "execute_result"
    }
   ],
   "source": [
    "print(control_reho_zero_nan3.shape)\n",
    "print(control_reho_zero_nan3[0][0].shape)\n",
    "print(control_reho_zero_nan3[0][1]) ## mdd label for control=0\n",
    "print(control_reho_zero_nan3[310][1])\n",
    "control_reho_zero_nan3[310][0][:,34,56]\n"
   ]
  },
  {
   "cell_type": "code",
   "execution_count": 15,
   "metadata": {},
   "outputs": [
    {
     "name": "stdout",
     "output_type": "stream",
     "text": [
      "(401, 2)\n",
      "(91, 109, 91)\n",
      "<class 'numpy.ndarray'>\n"
     ]
    },
    {
     "data": {
      "text/plain": [
       "(401, 2)"
      ]
     },
     "execution_count": 15,
     "metadata": {},
     "output_type": "execute_result"
    }
   ],
   "source": [
    "#zero_nan_mdd\n",
    "\n",
    "print(mdd_reho_zero_nan3.shape)\n",
    "print(mdd_reho_zero_nan3[0][0].shape)\n",
    "print(type(mdd_reho_zero_nan3))\n",
    "\n",
    "for i in range(len(mdd_dataset_reho_zero)):    \n",
    "    mdd_reho_zero_nan3[i][0] =np.nan_to_num(mdd_dataset_reho_zero[i][0],copy=True)\n",
    "    mdd_reho_zero_nan3[i][1] =np.nan_to_num(mdd_dataset_reho_zero[i][1],copy=True)\n",
    "\n",
    "mdd_reho_zero_nan3.shape"
   ]
  },
  {
   "cell_type": "code",
   "execution_count": 16,
   "metadata": {},
   "outputs": [
    {
     "name": "stdout",
     "output_type": "stream",
     "text": [
      "(401, 2)\n",
      "(91, 109, 91)\n",
      "(2,)\n",
      "1\n"
     ]
    },
    {
     "data": {
      "text/plain": [
       "array([ 0.        ,  0.        ,  0.        ,  0.        ,  0.        ,\n",
       "        0.        ,  0.        ,  0.        ,  0.        ,  0.        ,\n",
       "        0.        ,  0.        ,  0.        ,  0.        ,  0.        ,\n",
       "        0.        , -0.56254029, -0.62003809, -0.57283431, -0.50712872,\n",
       "       -0.30198112, -0.0582086 ,  0.02541892, -0.01032379, -0.11676157,\n",
       "       -0.2859858 , -0.18603709,  0.33650085,  0.86129177,  0.83771479,\n",
       "        0.19064164, -0.68813682, -1.23493278, -1.21529114, -0.88047671,\n",
       "       -0.66947949, -0.76486373, -0.75320095, -0.13258187,  0.6074875 ,\n",
       "        0.9118017 ,  0.98118085,  0.99861676,  1.03189039,  1.06631362,\n",
       "        1.07297766,  0.96297002,  0.65217191,  0.22133434, -0.17221576,\n",
       "       -0.29581794,  0.03177249,  0.23534812,  0.09004166, -0.32193381,\n",
       "       -0.83996934, -0.72975945, -0.10848653,  0.08674272, -0.11443979,\n",
       "       -0.26144397, -0.10588351,  0.23360884,  0.47974265,  0.44174951,\n",
       "       -0.04003727, -0.47461516, -0.18290855,  0.38045034,  0.69512677,\n",
       "        0.81574875,  0.87616211,  0.91483885,  0.9078787 ,  0.86669594,\n",
       "        0.85110193,  0.        ,  0.        ,  0.        ,  0.        ,\n",
       "        0.        ,  0.        ,  0.        ,  0.        ,  0.        ,\n",
       "        0.        ,  0.        ,  0.        ,  0.        ,  0.        ,\n",
       "        0.        ])"
      ]
     },
     "execution_count": 16,
     "metadata": {},
     "output_type": "execute_result"
    }
   ],
   "source": [
    "print(mdd_reho_zero_nan3.shape)\n",
    "\n",
    "mdd_reho_zero_nan3.shape\n",
    "print(mdd_reho_zero_nan3[0][0].shape)\n",
    "print(mdd_reho_zero_nan3[0].shape)\n",
    "print(mdd_reho_zero_nan3[0][1])\n",
    "mdd_reho_zero_nan3[210][0][:,34,56]"
   ]
  },
  {
   "cell_type": "markdown",
   "metadata": {},
   "source": [
    "### load and add 1 channel to dimension of data 'without nan'"
   ]
  },
  {
   "cell_type": "code",
   "execution_count": 17,
   "metadata": {},
   "outputs": [],
   "source": [
    "# np.reshape(control_dataset[0][0], (1, 91, 109, 91))\n",
    "\n",
    "control_reho_4d_zero_nan = [[np.reshape(c[0], (1, 91, 109, 91)), c[1]] for c in control_reho_zero_nan3]\n",
    "mdd_reho_4d_zero_nan = [[np.reshape(m[0], (1, 91, 109, 91)), m[1]] for m in mdd_reho_zero_nan3]"
   ]
  },
  {
   "cell_type": "code",
   "execution_count": 18,
   "metadata": {
    "scrolled": true
   },
   "outputs": [
    {
     "name": "stdout",
     "output_type": "stream",
     "text": [
      "(1, 91, 109, 91)\n"
     ]
    },
    {
     "data": {
      "text/plain": [
       "1"
      ]
     },
     "execution_count": 18,
     "metadata": {},
     "output_type": "execute_result"
    }
   ],
   "source": [
    "print(mdd_reho_4d_zero_nan[200][0].shape)\n",
    "mdd_reho_4d_zero_nan[200][1]"
   ]
  },
  {
   "cell_type": "code",
   "execution_count": 19,
   "metadata": {},
   "outputs": [
    {
     "name": "stdout",
     "output_type": "stream",
     "text": [
      "(1, 91, 109, 91)\n"
     ]
    },
    {
     "data": {
      "text/plain": [
       "0"
      ]
     },
     "execution_count": 19,
     "metadata": {},
     "output_type": "execute_result"
    }
   ],
   "source": [
    "print(control_reho_4d_zero_nan[400][0].shape)\n",
    "control_reho_4d_zero_nan[400][1]"
   ]
  },
  {
   "cell_type": "code",
   "execution_count": 20,
   "metadata": {},
   "outputs": [
    {
     "data": {
      "text/plain": [
       "401"
      ]
     },
     "execution_count": 20,
     "metadata": {},
     "output_type": "execute_result"
    }
   ],
   "source": [
    "len(mdd_reho_4d_zero_nan)"
   ]
  },
  {
   "cell_type": "code",
   "execution_count": 21,
   "metadata": {},
   "outputs": [
    {
     "data": {
      "text/plain": [
       "2"
      ]
     },
     "execution_count": 21,
     "metadata": {},
     "output_type": "execute_result"
    }
   ],
   "source": [
    "len(mdd_reho_4d_zero_nan[0])"
   ]
  },
  {
   "cell_type": "markdown",
   "metadata": {},
   "source": [
    "### concat data for control and MDD without nan"
   ]
  },
  {
   "cell_type": "code",
   "execution_count": 22,
   "metadata": {},
   "outputs": [
    {
     "name": "stdout",
     "output_type": "stream",
     "text": [
      "(1, 91, 109, 91)\n",
      "1\n",
      "0\n"
     ]
    },
    {
     "data": {
      "text/plain": [
       "array([ 0.        ,  0.        ,  0.        ,  0.        ,  0.        ,\n",
       "        0.        ,  0.        ,  0.        ,  0.        ,  0.        ,\n",
       "        0.        , -0.13979426,  0.26504141,  0.79321927,  1.03530395,\n",
       "        0.95822531,  0.72130316,  0.54342115,  0.52703273,  0.38807321,\n",
       "       -0.36160758, -1.00250971, -0.92002475, -0.59315968, -0.33839601,\n",
       "       -0.24098404, -0.24408905, -0.45129445, -1.23698962, -1.6253171 ,\n",
       "       -1.3776747 , -0.95998418, -0.6003564 , -0.25603795, -0.38067424,\n",
       "       -0.86593616, -1.38537419, -1.84334159, -2.28111601, -2.12450886,\n",
       "       -1.84475493, -1.85137296, -1.74967813, -1.47786558, -1.3160212 ,\n",
       "       -1.28893721, -1.27241957, -1.34027207, -1.64550495, -2.09431171,\n",
       "       -2.0272963 , -1.54926789, -2.01730371, -2.71395802, -2.86028552,\n",
       "       -2.20267773, -1.36556864, -1.18109953, -1.1811223 , -1.12405205,\n",
       "       -1.02910972, -0.9689374 , -0.48387772,  0.2121698 ,  0.79681349,\n",
       "        1.03762221,  1.13592207,  1.12907672,  1.10616612,  0.92780596,\n",
       "        0.67305106,  0.59400314,  0.61334223,  0.53650266,  0.58402997,\n",
       "        0.58448529,  0.39664119,  0.17119563,  0.11701116,  0.38287207,\n",
       "        0.        ,  0.        ,  0.        ,  0.        ,  0.        ,\n",
       "        0.        ,  0.        ,  0.        ,  0.        ,  0.        ,\n",
       "        0.        ])"
      ]
     },
     "execution_count": 22,
     "metadata": {},
     "output_type": "execute_result"
    }
   ],
   "source": [
    "dataset_ukbb_reho_zero_nan= ConcatDataset([control_reho_4d_zero_nan, mdd_reho_4d_zero_nan])\n",
    "\n",
    "print(dataset_ukbb_reho_zero_nan[0][0].shape)\n",
    "print(dataset_ukbb_reho_zero_nan[500][1])\n",
    "print(dataset_ukbb_reho_zero_nan[310][1])\n",
    "\n",
    "\n",
    "dataset_ukbb_reho_zero_nan[500][0][0,:,54,45]\n",
    "\n",
    "#subject number=1500, mdd label,reho value for voxels along axial with y ,z dimention = 54,45"
   ]
  },
  {
   "cell_type": "code",
   "execution_count": 23,
   "metadata": {},
   "outputs": [
    {
     "data": {
      "text/plain": [
       "807"
      ]
     },
     "execution_count": 23,
     "metadata": {},
     "output_type": "execute_result"
    }
   ],
   "source": [
    "len(dataset_ukbb_reho_zero_nan)"
   ]
  },
  {
   "cell_type": "code",
   "execution_count": 24,
   "metadata": {},
   "outputs": [
    {
     "data": {
      "text/plain": [
       "2"
      ]
     },
     "execution_count": 24,
     "metadata": {},
     "output_type": "execute_result"
    }
   ],
   "source": [
    "len(dataset_ukbb_reho_zero_nan[0])"
   ]
  },
  {
   "cell_type": "code",
   "execution_count": 25,
   "metadata": {},
   "outputs": [
    {
     "name": "stdout",
     "output_type": "stream",
     "text": [
      "0\n",
      "1\n",
      "0\n"
     ]
    },
    {
     "data": {
      "text/plain": [
       "()"
      ]
     },
     "execution_count": 25,
     "metadata": {},
     "output_type": "execute_result"
    }
   ],
   "source": [
    "print(dataset_ukbb_reho_zero_nan[200][1]) # subject 800 label MDD =0\n",
    "print(dataset_ukbb_reho_zero_nan[500][1]) # subject 1500 label MDD =1 \n",
    "\n",
    "#problem solved : mdd_zero_nan label have problem : instead of 1 integer we have an array (91,109,91)\n",
    "\n",
    "print(dataset_ukbb_reho_zero_nan[0][1])\n",
    "\n",
    "dataset_ukbb_reho_zero_nan[500][1].shape"
   ]
  },
  {
   "cell_type": "code",
   "execution_count": 26,
   "metadata": {},
   "outputs": [
    {
     "data": {
      "text/plain": [
       "1"
      ]
     },
     "execution_count": 26,
     "metadata": {},
     "output_type": "execute_result"
    }
   ],
   "source": [
    "dataset_ukbb_reho_zero_nan[500][1]"
   ]
  },
  {
   "cell_type": "markdown",
   "metadata": {},
   "source": [
    "### Network architecture"
   ]
  },
  {
   "cell_type": "code",
   "execution_count": 27,
   "metadata": {},
   "outputs": [],
   "source": [
    "#Define a Convolutional Neural Network : BASED ON https://www.biorxiv.org/content/10.1101/2019.12.17.879346v1\n",
    "\n",
    "class ConvNet(nn.Module):\n",
    "    def __init__(self):\n",
    "        super(ConvNet, self).__init__()\n",
    "        \n",
    "        self.downsample = nn.AvgPool3d(2, stride=2, padding=0)\n",
    "        \n",
    "        self.CNNlayer = nn.Sequential(\n",
    "            nn.Conv3d(1, 64, kernel_size=3, stride=1),\n",
    "            nn.ELU(),\n",
    "            nn.Conv3d(64, 16, kernel_size=3, stride=1),\n",
    "            nn.ELU(),\n",
    "            nn.MaxPool3d(2)\n",
    "        )\n",
    "        \n",
    "        self.flat1 = nn.Linear(160000, 16)   \n",
    "        self.flat2 = nn.Linear(16, 1)\n",
    "            \n",
    "    def forward(self, x):\n",
    "        x=self.downsample(x)\n",
    "        #print(f'avg-pool: {x.size()}\\n----------')\n",
    "        #print(f'number of nan in this layer = {torch.isnan(x).sum()}')\n",
    "        \n",
    "        x=self.CNNlayer(x)\n",
    "        #print(f'convolution1+2+maxpool: {x.size()} \\n----------')\n",
    "        \n",
    "        x=x.reshape(x.size(0), -1)\n",
    "        #print(f'reshape after cnn: {x.size()}\\n----------')\n",
    "        \n",
    "        x=F.elu(self.flat1(x))\n",
    "        #print(f'fully-connected1: {x.size()}\\n----------')\n",
    "                    \n",
    "        x=self.flat2(x)\n",
    "        #print(f'fully-connected2: {x.size()}\\n----------')\n",
    "        \n",
    "        return x"
   ]
  },
  {
   "cell_type": "markdown",
   "metadata": {},
   "source": [
    "### lunch wandb"
   ]
  },
  {
   "cell_type": "code",
   "execution_count": 28,
   "metadata": {},
   "outputs": [
    {
     "name": "stdout",
     "output_type": "stream",
     "text": [
      "\u001b[34m\u001b[1mwandb\u001b[0m: Appending key for api.wandb.ai to your netrc file: /data/zmohaghegh/.netrc\r\n"
     ]
    }
   ],
   "source": [
    "import wandb\n",
    "!wandb login 390734ff44d817dbba59927d4eb542e564627b3b"
   ]
  },
  {
   "cell_type": "markdown",
   "metadata": {},
   "source": [
    "### Train and Test (without CV)"
   ]
  },
  {
   "cell_type": "code",
   "execution_count": 29,
   "metadata": {},
   "outputs": [
    {
     "name": "stdout",
     "output_type": "stream",
     "text": [
      "807\n",
      "564\n",
      "161\n",
      "82\n"
     ]
    }
   ],
   "source": [
    "### spilit data to train-test and validation\n",
    "\n",
    "dataset_size= len(dataset_ukbb_reho_zero_nan)\n",
    "train_count = int(0.7 * dataset_size) \n",
    "valid_count= int(0.2 * dataset_size)\n",
    "test_count = dataset_size - train_count -valid_count\n",
    "\n",
    "print(dataset_size)\n",
    "print(train_count)\n",
    "print(valid_count)\n",
    "print(test_count)"
   ]
  },
  {
   "cell_type": "code",
   "execution_count": 30,
   "metadata": {},
   "outputs": [],
   "source": [
    "from sklearn.metrics import accuracy_score, balanced_accuracy_score, f1_score,confusion_matrix"
   ]
  },
  {
   "cell_type": "code",
   "execution_count": 31,
   "metadata": {
    "scrolled": true
   },
   "outputs": [
    {
     "name": "stderr",
     "output_type": "stream",
     "text": [
      "\u001b[34m\u001b[1mwandb\u001b[0m: Currently logged in as: \u001b[33mzahramhn\u001b[0m (use `wandb login --relogin` to force relogin)\n"
     ]
    },
    {
     "data": {
      "text/html": [
       "\n",
       "                Tracking run with wandb version 0.10.20<br/>\n",
       "                Syncing run <strong style=\"color:#cdcd00\">proud-sun-13</strong> to <a href=\"https://wandb.ai\" target=\"_blank\">Weights & Biases</a> <a href=\"https://docs.wandb.com/integrations/jupyter.html\" target=\"_blank\">(Documentation)</a>.<br/>\n",
       "                Project page: <a href=\"https://wandb.ai/zahramhn/MDD-guido2020-classification-Reho\" target=\"_blank\">https://wandb.ai/zahramhn/MDD-guido2020-classification-Reho</a><br/>\n",
       "                Run page: <a href=\"https://wandb.ai/zahramhn/MDD-guido2020-classification-Reho/runs/2gyv7dcv\" target=\"_blank\">https://wandb.ai/zahramhn/MDD-guido2020-classification-Reho/runs/2gyv7dcv</a><br/>\n",
       "                Run data is saved locally in <code>/data/zmohaghegh/TempStats_3D-CNN/wandb/run-20210613_230438-2gyv7dcv</code><br/><br/>\n",
       "            "
      ],
      "text/plain": [
       "<IPython.core.display.HTML object>"
      ]
     },
     "metadata": {},
     "output_type": "display_data"
    },
    {
     "name": "stdout",
     "output_type": "stream",
     "text": [
      "*********Starting epoch 1\n",
      "acc_train :50.53191489361702\n",
      "loss_train = 0.07077743874119233\n",
      "Training process has finished\n",
      "starting validation :\n",
      "acc_valid :48.4472049689441\n",
      "loss_valid = 0.07307865044012148\n",
      "Saving trained model.\n",
      "validation process has finished.\n",
      "*********Starting epoch 2\n",
      "acc_train :52.4822695035461\n",
      "loss_train = 0.06836081913283923\n",
      "Training process has finished\n",
      "starting validation :\n",
      "acc_valid :53.41614906832298\n",
      "loss_valid = 0.07281517754589399\n",
      "Saving trained model.\n",
      "validation process has finished.\n",
      "*********Starting epoch 3\n",
      "acc_train :65.95744680851064\n",
      "loss_train = 0.06412676532442559\n",
      "Training process has finished\n",
      "starting validation :\n",
      "acc_valid :53.41614906832298\n",
      "loss_valid = 0.08044443809316143\n",
      "validation process has finished.\n",
      "*********Starting epoch 4\n",
      "acc_train :75.53191489361703\n",
      "loss_train = 0.054450208451695195\n",
      "Training process has finished\n",
      "starting validation :\n",
      "acc_valid :53.41614906832298\n",
      "loss_valid = 0.08519696095374737\n",
      "validation process has finished.\n",
      "*********Starting epoch 5\n",
      "acc_train :84.57446808510639\n",
      "loss_train = 0.03985396599831017\n",
      "Training process has finished\n",
      "starting validation :\n",
      "acc_valid :48.4472049689441\n",
      "loss_valid = 0.08666060364711158\n",
      "validation process has finished.\n",
      "*********Starting epoch 6\n",
      "acc_train :86.17021276595744\n",
      "loss_train = 0.03210956083575081\n",
      "Training process has finished\n",
      "starting validation :\n",
      "acc_valid :49.68944099378882\n",
      "loss_valid = 0.10482284736749836\n",
      "validation process has finished.\n",
      "*********Starting epoch 7\n",
      "acc_train :92.90780141843972\n",
      "loss_train = 0.020182214633145085\n",
      "Training process has finished\n",
      "starting validation :\n",
      "acc_valid :49.06832298136646\n",
      "loss_valid = 0.11571638428525712\n",
      "validation process has finished.\n",
      "*********Starting epoch 8\n",
      "acc_train :99.29078014184397\n",
      "loss_train = 0.008067654867485315\n",
      "Training process has finished\n",
      "starting validation :\n",
      "acc_valid :52.17391304347826\n",
      "loss_valid = 0.11976656484626788\n",
      "validation process has finished.\n",
      "*********Starting epoch 9\n",
      "acc_train :100.0\n",
      "loss_train = 0.0020974600696624106\n",
      "Training process has finished\n",
      "starting validation :\n",
      "acc_valid :50.31055900621118\n",
      "loss_valid = 0.12827101563261648\n",
      "validation process has finished.\n",
      "*********Starting epoch 10\n",
      "acc_train :100.0\n",
      "loss_train = 0.0010443380251848756\n",
      "Training process has finished\n",
      "starting validation :\n",
      "acc_valid :47.82608695652174\n",
      "loss_valid = 0.13997786556886632\n",
      "validation process has finished.\n"
     ]
    }
   ],
   "source": [
    "wandb.init(project='MDD-guido2020-classification-Reho')  \n",
    "\n",
    "#define the newtwork \n",
    "network = ConvNet()\n",
    "network = network.double()\n",
    "\n",
    "#set hyper parameter\n",
    "learning_rate= 0.001\n",
    "num_epochs = 10\n",
    "BATCH_SIZE = 10\n",
    "best_acc= None\n",
    "\n",
    "# Define a Loss function \n",
    "loss_function = nn.BCEWithLogitsLoss()  \n",
    "\n",
    "# create the optimizer\n",
    "optimizer = optim.SGD(network.parameters(), momentum=0.9, lr = learning_rate, weight_decay=1e-3)\n",
    "\n",
    "# load data splits\n",
    "train_dataset, test_dataset ,valid_dataset = torch.utils.data.random_split(dataset_ukbb_reho_zero_nan, (train_count, test_count,valid_count))\n",
    "\n",
    "train_dataset_loader = torch.utils.data.DataLoader(train_dataset, batch_size=BATCH_SIZE, shuffle=True)  \n",
    "test_dataset_loader  = torch.utils.data.DataLoader(test_dataset , batch_size=BATCH_SIZE, shuffle=False)\n",
    "valid_dataset_loader  = torch.utils.data.DataLoader(valid_dataset , batch_size=BATCH_SIZE, shuffle=True)\n",
    "\n",
    "\n",
    "#dataloaders = {'train': train_dataset_loader, 'test': test_dataset_loader, 'valid': valid_dataset_loader}\n",
    "\n",
    "network.train()\n",
    "# start training loop:\n",
    "for epoch in range(0, num_epochs):\n",
    "    print(f'*********Starting epoch {epoch+1}')\n",
    "    \n",
    "    train_loss = 0\n",
    "    total =0 \n",
    "    correct = 0\n",
    "    \n",
    "    # train model/network \n",
    "    for i, data in enumerate(train_dataset_loader, 0):\n",
    "        #print(f'train {i}')\n",
    "            \n",
    "        # get the inputs; data is a list of [inputs, labels]\n",
    "        inputs, labels = data\n",
    "            \n",
    "        # zero the gradient buffers\n",
    "        optimizer.zero_grad()\n",
    "            \n",
    "        # forward pass\n",
    "        outputs = network(inputs)\n",
    "    \n",
    "        outputss = outputs.squeeze(1) #### [10,1] ---> [10]\n",
    "        \n",
    "        #nloss requires a 1-D tensor of class indices of the target (outputs in your case) but not one-hot vectors of the target.\n",
    "        #The shape of the target should be [mini_batch_size], \n",
    "        #but in your case it happens to be [mini_batch_size,num_classes].\n",
    "        \n",
    "        predicted = outputss.data > 0.0 # the loss function contain also a sigmoid layer <0 = false >0 =true\n",
    "        \n",
    "        labels = labels.double()\n",
    "        \n",
    "        #calcuate loss/error\n",
    "        loss = loss_function(outputss, labels)\n",
    "              \n",
    "        # backward pass\n",
    "        loss.backward()\n",
    "            \n",
    "        # Does the update , gradient descent\n",
    "        optimizer.step() \n",
    "            \n",
    "        #loss_list.append(loss.item())\n",
    "        train_loss += loss.item()\n",
    "        total += labels.size(0)\n",
    "        correct += (predicted == labels).sum().item()\n",
    "    \n",
    "    print(f'acc_train :{100 * correct/total}')\n",
    "    print (f'loss_train = {train_loss/total}')\n",
    "    \n",
    "    wandb.log({ \"epoch_reho\": epoch ,\"train_Loss_reho\": train_loss/total, \"trian_acc_reho\" :100 * correct /total })\n",
    "\n",
    "    \n",
    "    print('Training process has finished') \n",
    "\n",
    "    print('starting validation :')\n",
    "\n",
    "    network.eval()\n",
    "\n",
    "    valid_loss=0\n",
    "    total=0\n",
    "    correct=0\n",
    "\n",
    "    with torch.no_grad():\n",
    "        for i, data in enumerate(valid_dataset_loader, 0):\n",
    "            #print(f'valid {i}')\n",
    "            inputs, lables = data\n",
    "\n",
    "            outputs = network(inputs)\n",
    "\n",
    "            outputss=outputs.squeeze(1) #[10,1] ---> [10]\n",
    "            lables=lables.double()\n",
    "\n",
    "            # prediction \n",
    "            predicted = outputss.data > 0.0\n",
    "\n",
    "            loss = loss_function(outputss, lables)\n",
    "\n",
    "            valid_loss += loss.item()\n",
    "            total += lables.size(0)\n",
    "            correct += (predicted == lables).sum().item()\n",
    "\n",
    "        print(f'acc_valid :{100 * correct/total}')\n",
    "        print (f'loss_valid = {valid_loss/total}')\n",
    "\n",
    "        wandb.log({ \"validation_acc_reho\" :100 * correct /total, \"validation_Loss_reho\": valid_loss/total })\n",
    "\n",
    "        current_valid_acc =100 * correct/total\n",
    "        if not best_acc or best_acc < current_valid_acc:\n",
    "            best_acc = current_valid_acc\n",
    "            \n",
    "            print('Saving trained model.')\n",
    "            PATH_best = './model-best acc-reho.pth'\n",
    "            torch.save(network.state_dict(), PATH_best)\n",
    "        print('validation process has finished.')"
   ]
  },
  {
   "cell_type": "markdown",
   "metadata": {},
   "source": [
    "### Test the network using the test data without CV"
   ]
  },
  {
   "cell_type": "code",
   "execution_count": 32,
   "metadata": {},
   "outputs": [
    {
     "name": "stdout",
     "output_type": "stream",
     "text": [
      "Starting testing\n",
      "test_loss= 0.07411652745575432\n",
      "test_acc= 56.09756097560975\n"
     ]
    }
   ],
   "source": [
    "network.load_state_dict(torch.load(PATH_best))\n",
    "\n",
    "test_loss = 0\n",
    "correct = 0\n",
    "total= 0\n",
    "\n",
    "print('Starting testing')\n",
    "\n",
    "network.eval()\n",
    "\n",
    "with torch.no_grad():\n",
    "    for i, data in enumerate(test_dataset_loader, 0):\n",
    "        #print(f'test {i}')\n",
    "        \n",
    "        inputs, lables = data\n",
    "        lables = lables.double() # loss function get only double not Long\n",
    "        \n",
    "        outputs = network(inputs)\n",
    "        #print(outputs.size())\n",
    "        \n",
    "        outputss = outputs.squeeze(1) #[10,1] ---> [10]\n",
    "        #print(outputss.size())\n",
    "        #print(lables.size())\n",
    "    \n",
    "        predicted = outputss.data > 0.0\n",
    "        \n",
    "        loss = loss_function(outputss, lables)\n",
    "        \n",
    "        test_loss += loss.item()\n",
    "        total += lables.size(0)\n",
    "        correct += (predicted == lables).sum().item()\n",
    "        \n",
    "    wandb.log({ \"test_Accuracy_reho\": 100 * correct /total  , \"test_Loss_reho\": test_loss/total })\n",
    "\n",
    "    print(f'test_loss= {test_loss/total}')\n",
    "    print(f'test_acc= {100 * correct / total}')"
   ]
  },
  {
   "cell_type": "markdown",
   "metadata": {},
   "source": [
    "## Cross validation loop "
   ]
  },
  {
   "cell_type": "code",
   "execution_count": 33,
   "metadata": {},
   "outputs": [
    {
     "name": "stdout",
     "output_type": "stream",
     "text": [
      "645\n"
     ]
    },
    {
     "data": {
      "text/plain": [
       "162"
      ]
     },
     "execution_count": 33,
     "metadata": {},
     "output_type": "execute_result"
    }
   ],
   "source": [
    "from sklearn.model_selection import train_test_split\n",
    "train_dataset_cv, test_dataset_cv = train_test_split(dataset_ukbb_reho_zero_nan, test_size=0.20, train_size=0.8,shuffle=True)\n",
    "print(len(train_dataset_cv))\n",
    "len(test_dataset_cv)"
   ]
  },
  {
   "cell_type": "markdown",
   "metadata": {},
   "source": [
    "### train and validation loop CV"
   ]
  },
  {
   "cell_type": "code",
   "execution_count": 34,
   "metadata": {
    "scrolled": true
   },
   "outputs": [
    {
     "data": {
      "text/html": [
       "Finishing last run (ID:2gyv7dcv) before initializing another..."
      ],
      "text/plain": [
       "<IPython.core.display.HTML object>"
      ]
     },
     "metadata": {},
     "output_type": "display_data"
    },
    {
     "data": {
      "text/html": [
       "<br/>Waiting for W&B process to finish, PID 2114<br/>Program ended successfully."
      ],
      "text/plain": [
       "<IPython.core.display.HTML object>"
      ]
     },
     "metadata": {},
     "output_type": "display_data"
    },
    {
     "data": {
      "application/vnd.jupyter.widget-view+json": {
       "model_id": "",
       "version_major": 2,
       "version_minor": 0
      },
      "text/plain": [
       "VBox(children=(Label(value=' 0.00MB of 0.00MB uploaded (0.00MB deduped)\\r'), FloatProgress(value=1.0, max=1.0)…"
      ]
     },
     "metadata": {},
     "output_type": "display_data"
    },
    {
     "data": {
      "text/html": [
       "Find user logs for this run at: <code>/data/zmohaghegh/TempStats_3D-CNN/wandb/run-20210613_230438-2gyv7dcv/logs/debug.log</code>"
      ],
      "text/plain": [
       "<IPython.core.display.HTML object>"
      ]
     },
     "metadata": {},
     "output_type": "display_data"
    },
    {
     "data": {
      "text/html": [
       "Find internal logs for this run at: <code>/data/zmohaghegh/TempStats_3D-CNN/wandb/run-20210613_230438-2gyv7dcv/logs/debug-internal.log</code>"
      ],
      "text/plain": [
       "<IPython.core.display.HTML object>"
      ]
     },
     "metadata": {},
     "output_type": "display_data"
    },
    {
     "data": {
      "text/html": [
       "<h3>Run summary:</h3><br/><style>\n",
       "    table.wandb td:nth-child(1) { padding: 0 10px; text-align: right }\n",
       "    </style><table class=\"wandb\">\n",
       "<tr><td>epoch_reho</td><td>9</td></tr><tr><td>train_Loss_reho</td><td>0.00104</td></tr><tr><td>trian_acc_reho</td><td>100.0</td></tr><tr><td>_runtime</td><td>7583</td></tr><tr><td>_timestamp</td><td>1623625861</td></tr><tr><td>_step</td><td>20</td></tr><tr><td>validation_acc_reho</td><td>47.82609</td></tr><tr><td>validation_Loss_reho</td><td>0.13998</td></tr><tr><td>test_Accuracy_reho</td><td>56.09756</td></tr><tr><td>test_Loss_reho</td><td>0.07412</td></tr></table>"
      ],
      "text/plain": [
       "<IPython.core.display.HTML object>"
      ]
     },
     "metadata": {},
     "output_type": "display_data"
    },
    {
     "data": {
      "text/html": [
       "<h3>Run history:</h3><br/><style>\n",
       "    table.wandb td:nth-child(1) { padding: 0 10px; text-align: right }\n",
       "    </style><table class=\"wandb\">\n",
       "<tr><td>epoch_reho</td><td>▁▂▃▃▄▅▆▆▇█</td></tr><tr><td>train_Loss_reho</td><td>██▇▆▅▄▃▂▁▁</td></tr><tr><td>trian_acc_reho</td><td>▁▁▃▅▆▆▇███</td></tr><tr><td>_runtime</td><td>▁▁▂▂▃▃▃▄▄▄▅▅▆▆▇▇▇▇███</td></tr><tr><td>_timestamp</td><td>▁▁▂▂▃▃▃▄▄▄▅▅▆▆▇▇▇▇███</td></tr><tr><td>_step</td><td>▁▁▂▂▂▃▃▃▄▄▅▅▅▆▆▆▇▇▇██</td></tr><tr><td>validation_acc_reho</td><td>▂███▂▃▃▆▄▁</td></tr><tr><td>validation_Loss_reho</td><td>▁▁▂▂▂▄▅▆▇█</td></tr><tr><td>test_Accuracy_reho</td><td>▁</td></tr><tr><td>test_Loss_reho</td><td>▁</td></tr></table><br/>"
      ],
      "text/plain": [
       "<IPython.core.display.HTML object>"
      ]
     },
     "metadata": {},
     "output_type": "display_data"
    },
    {
     "data": {
      "text/html": [
       "Synced 5 W&B file(s), 0 media file(s), 0 artifact file(s) and 0 other file(s)"
      ],
      "text/plain": [
       "<IPython.core.display.HTML object>"
      ]
     },
     "metadata": {},
     "output_type": "display_data"
    },
    {
     "data": {
      "text/html": [
       "\n",
       "                    <br/>Synced <strong style=\"color:#cdcd00\">proud-sun-13</strong>: <a href=\"https://wandb.ai/zahramhn/MDD-guido2020-classification-Reho/runs/2gyv7dcv\" target=\"_blank\">https://wandb.ai/zahramhn/MDD-guido2020-classification-Reho/runs/2gyv7dcv</a><br/>\n",
       "                "
      ],
      "text/plain": [
       "<IPython.core.display.HTML object>"
      ]
     },
     "metadata": {},
     "output_type": "display_data"
    },
    {
     "data": {
      "text/html": [
       "...Successfully finished last run (ID:2gyv7dcv). Initializing new run:<br/><br/>"
      ],
      "text/plain": [
       "<IPython.core.display.HTML object>"
      ]
     },
     "metadata": {},
     "output_type": "display_data"
    },
    {
     "data": {
      "text/html": [
       "\n",
       "                Tracking run with wandb version 0.10.20<br/>\n",
       "                Syncing run <strong style=\"color:#cdcd00\">warm-galaxy-14</strong> to <a href=\"https://wandb.ai\" target=\"_blank\">Weights & Biases</a> <a href=\"https://docs.wandb.com/integrations/jupyter.html\" target=\"_blank\">(Documentation)</a>.<br/>\n",
       "                Project page: <a href=\"https://wandb.ai/zahramhn/MDD-guido2020-classification-Reho\" target=\"_blank\">https://wandb.ai/zahramhn/MDD-guido2020-classification-Reho</a><br/>\n",
       "                Run page: <a href=\"https://wandb.ai/zahramhn/MDD-guido2020-classification-Reho/runs/9940tie2\" target=\"_blank\">https://wandb.ai/zahramhn/MDD-guido2020-classification-Reho/runs/9940tie2</a><br/>\n",
       "                Run data is saved locally in <code>/data/zmohaghegh/TempStats_3D-CNN/wandb/run-20210614_011101-9940tie2</code><br/><br/>\n",
       "            "
      ],
      "text/plain": [
       "<IPython.core.display.HTML object>"
      ]
     },
     "metadata": {},
     "output_type": "display_data"
    },
    {
     "name": "stdout",
     "output_type": "stream",
     "text": [
      "FOLD 0\n",
      "--------------------------------\n",
      "*********Starting epoch 1\n",
      "train loss= 0.07148051569507151\n",
      "train Acc= 53.29457364341085\n",
      "Training process has finished.\n",
      "Start validating\n",
      "valid_acc :48.83720930232558\n",
      "valid_loss: 0.069807225871141\n",
      "Saving best valid -trained model.\n",
      "validation process has finished\n",
      "*********Starting epoch 2\n",
      "train loss= 0.06911413141108251\n",
      "train Acc= 56.97674418604651\n",
      "Training process has finished.\n",
      "Start validating\n",
      "valid_acc :51.16279069767442\n",
      "valid_loss: 0.0695247294768989\n",
      "Saving best valid -trained model.\n",
      "validation process has finished\n",
      "*********Starting epoch 3\n",
      "train loss= 0.06875404701411143\n",
      "train Acc= 53.48837209302326\n",
      "Training process has finished.\n",
      "Start validating\n",
      "valid_acc :52.713178294573645\n",
      "valid_loss: 0.06972361669198289\n",
      "Saving best valid -trained model.\n",
      "validation process has finished\n",
      "*********Starting epoch 4\n",
      "train loss= 0.06442025278299598\n",
      "train Acc= 63.75968992248062\n",
      "Training process has finished.\n",
      "Start validating\n",
      "valid_acc :53.48837209302326\n",
      "valid_loss: 0.06836663763481188\n",
      "Saving best valid -trained model.\n",
      "validation process has finished\n",
      "*********Starting epoch 5\n",
      "train loss= 0.05389780485447303\n",
      "train Acc= 75.3875968992248\n",
      "Training process has finished.\n",
      "Start validating\n",
      "valid_acc :55.81395348837209\n",
      "valid_loss: 0.06921636751865695\n",
      "Saving best valid -trained model.\n",
      "validation process has finished\n",
      "*********Starting epoch 6\n",
      "train loss= 0.04462453365053872\n",
      "train Acc= 80.23255813953489\n",
      "Training process has finished.\n",
      "Start validating\n",
      "valid_acc :53.48837209302326\n",
      "valid_loss: 0.07461147301336384\n",
      "validation process has finished\n",
      "*********Starting epoch 7\n",
      "train loss= 0.02393097582463028\n",
      "train Acc= 94.76744186046511\n",
      "Training process has finished.\n",
      "Start validating\n",
      "valid_acc :55.03875968992248\n",
      "valid_loss: 0.08573146899333856\n",
      "validation process has finished\n",
      "*********Starting epoch 8\n",
      "train loss= 0.01054848414865027\n",
      "train Acc= 97.67441860465117\n",
      "Training process has finished.\n",
      "Start validating\n",
      "valid_acc :55.81395348837209\n",
      "valid_loss: 0.09237312652866535\n",
      "validation process has finished\n",
      "*********Starting epoch 9\n",
      "train loss= 0.00644682739200331\n",
      "train Acc= 99.03100775193798\n",
      "Training process has finished.\n",
      "Start validating\n",
      "valid_acc :54.263565891472865\n",
      "valid_loss: 0.12823702399471762\n",
      "validation process has finished\n",
      "*********Starting epoch 10\n",
      "train loss= 0.0033216902787778896\n",
      "train Acc= 99.8062015503876\n",
      "Training process has finished.\n",
      "Start validating\n",
      "valid_acc :49.6124031007752\n",
      "valid_loss: 0.12046931248424919\n",
      "validation process has finished\n",
      "Accuracy for fold 0: 49 %\n",
      "--------------------------------\n",
      "FOLD 1\n",
      "--------------------------------\n",
      "*********Starting epoch 1\n",
      "train loss= 0.07246814268069161\n",
      "train Acc= 47.48062015503876\n",
      "Training process has finished.\n",
      "Start validating\n",
      "valid_acc :54.263565891472865\n",
      "valid_loss: 0.06978136340603441\n",
      "Saving best valid -trained model.\n",
      "validation process has finished\n",
      "*********Starting epoch 2\n",
      "train loss= 0.06981312657326447\n",
      "train Acc= 51.35658914728682\n",
      "Training process has finished.\n",
      "Start validating\n",
      "valid_acc :51.93798449612403\n",
      "valid_loss: 0.06967989261141301\n",
      "validation process has finished\n",
      "*********Starting epoch 3\n",
      "train loss= 0.06952354239797157\n",
      "train Acc= 50.3875968992248\n",
      "Training process has finished.\n",
      "Start validating\n",
      "valid_acc :52.713178294573645\n",
      "valid_loss: 0.0695287604433267\n",
      "validation process has finished\n",
      "*********Starting epoch 4\n",
      "train loss= 0.06906517682920066\n",
      "train Acc= 55.23255813953488\n",
      "Training process has finished.\n",
      "Start validating\n",
      "valid_acc :51.93798449612403\n",
      "valid_loss: 0.06930010187406035\n",
      "validation process has finished\n",
      "*********Starting epoch 5\n",
      "train loss= 0.06763327519827945\n",
      "train Acc= 58.13953488372093\n",
      "Training process has finished.\n",
      "Start validating\n",
      "valid_acc :52.713178294573645\n",
      "valid_loss: 0.06864689583499614\n",
      "validation process has finished\n",
      "*********Starting epoch 6\n",
      "train loss= 0.06222025635433015\n",
      "train Acc= 67.44186046511628\n",
      "Training process has finished.\n",
      "Start validating\n",
      "valid_acc :59.689922480620154\n",
      "valid_loss: 0.06626649191542343\n",
      "Saving best valid -trained model.\n",
      "validation process has finished\n",
      "*********Starting epoch 7\n",
      "train loss= 0.054095991115583796\n",
      "train Acc= 76.74418604651163\n",
      "Training process has finished.\n",
      "Start validating\n",
      "valid_acc :51.93798449612403\n",
      "valid_loss: 0.0795176713658187\n",
      "validation process has finished\n",
      "*********Starting epoch 8\n",
      "train loss= 0.04335675033366044\n",
      "train Acc= 79.26356589147287\n",
      "Training process has finished.\n",
      "Start validating\n",
      "valid_acc :53.48837209302326\n",
      "valid_loss: 0.08796831773468437\n",
      "validation process has finished\n",
      "*********Starting epoch 9\n",
      "train loss= 0.024365915822212186\n",
      "train Acc= 93.6046511627907\n",
      "Training process has finished.\n",
      "Start validating\n",
      "valid_acc :56.58914728682171\n",
      "valid_loss: 0.07345879154358631\n",
      "validation process has finished\n",
      "*********Starting epoch 10\n",
      "train loss= 0.009904256900254961\n",
      "train Acc= 98.83720930232558\n",
      "Training process has finished.\n",
      "Start validating\n",
      "valid_acc :58.91472868217054\n",
      "valid_loss: 0.08024289419073599\n",
      "validation process has finished\n",
      "Accuracy for fold 1: 58 %\n",
      "--------------------------------\n",
      "FOLD 2\n",
      "--------------------------------\n",
      "*********Starting epoch 1\n",
      "train loss= 0.07069178052506914\n",
      "train Acc= 53.10077519379845\n",
      "Training process has finished.\n",
      "Start validating\n",
      "valid_acc :58.13953488372093\n",
      "valid_loss: 0.06941391486227068\n",
      "Saving best valid -trained model.\n",
      "validation process has finished\n",
      "*********Starting epoch 2\n",
      "train loss= 0.06922815312045842\n",
      "train Acc= 52.906976744186046\n",
      "Training process has finished.\n",
      "Start validating\n",
      "valid_acc :50.3875968992248\n",
      "valid_loss: 0.06933622157617582\n",
      "validation process has finished\n",
      "*********Starting epoch 3\n",
      "train loss= 0.06725911008692143\n",
      "train Acc= 59.30232558139535\n",
      "Training process has finished.\n",
      "Start validating\n",
      "valid_acc :57.36434108527132\n",
      "valid_loss: 0.06855553056391227\n",
      "validation process has finished\n",
      "*********Starting epoch 4\n",
      "train loss= 0.06269724265881926\n",
      "train Acc= 67.63565891472868\n",
      "Training process has finished.\n",
      "Start validating\n",
      "valid_acc :57.36434108527132\n",
      "valid_loss: 0.06960690518460597\n",
      "validation process has finished\n",
      "*********Starting epoch 5\n",
      "train loss= 0.048699184148117955\n",
      "train Acc= 80.81395348837209\n",
      "Training process has finished.\n",
      "Start validating\n",
      "valid_acc :48.06201550387597\n",
      "valid_loss: 0.08781605890755417\n",
      "validation process has finished\n",
      "*********Starting epoch 6\n",
      "train loss= 0.03416630757666422\n",
      "train Acc= 87.79069767441861\n",
      "Training process has finished.\n",
      "Start validating\n",
      "valid_acc :51.93798449612403\n",
      "valid_loss: 0.09712221066827202\n",
      "validation process has finished\n",
      "*********Starting epoch 7\n",
      "train loss= 0.018199174174116376\n",
      "train Acc= 95.73643410852713\n",
      "Training process has finished.\n",
      "Start validating\n",
      "valid_acc :44.96124031007752\n",
      "valid_loss: 0.11144568201579796\n",
      "validation process has finished\n",
      "*********Starting epoch 8\n",
      "train loss= 0.010479441134329987\n",
      "train Acc= 97.48062015503876\n",
      "Training process has finished.\n",
      "Start validating\n",
      "valid_acc :50.3875968992248\n",
      "valid_loss: 0.15320054231701463\n",
      "validation process has finished\n",
      "*********Starting epoch 9\n",
      "train loss= 0.006997795984720807\n",
      "train Acc= 99.2248062015504\n",
      "Training process has finished.\n",
      "Start validating\n",
      "valid_acc :44.18604651162791\n",
      "valid_loss: 0.13788225905375562\n",
      "validation process has finished\n",
      "*********Starting epoch 10\n",
      "train loss= 0.0023095791026101716\n",
      "train Acc= 100.0\n",
      "Training process has finished.\n",
      "Start validating\n",
      "valid_acc :45.736434108527135\n",
      "valid_loss: 0.1400196308709979\n",
      "validation process has finished\n",
      "Accuracy for fold 2: 45 %\n",
      "--------------------------------\n",
      "FOLD 3\n",
      "--------------------------------\n",
      "*********Starting epoch 1\n",
      "train loss= 0.07201234930997447\n",
      "train Acc= 49.031007751937985\n",
      "Training process has finished.\n",
      "Start validating\n",
      "valid_acc :46.51162790697674\n",
      "valid_loss: 0.07085958889193437\n",
      "Saving best valid -trained model.\n",
      "validation process has finished\n",
      "*********Starting epoch 2\n",
      "train loss= 0.06914151295139369\n",
      "train Acc= 55.62015503875969\n",
      "Training process has finished.\n",
      "Start validating\n",
      "valid_acc :41.86046511627907\n",
      "valid_loss: 0.07016201667663476\n",
      "validation process has finished\n",
      "*********Starting epoch 3\n",
      "train loss= 0.06688611800458646\n",
      "train Acc= 67.82945736434108\n",
      "Training process has finished.\n",
      "Start validating\n",
      "valid_acc :46.51162790697674\n",
      "valid_loss: 0.07207055385244576\n",
      "validation process has finished\n",
      "*********Starting epoch 4\n",
      "train loss= 0.06489265073546087\n",
      "train Acc= 64.14728682170542\n",
      "Training process has finished.\n",
      "Start validating\n"
     ]
    },
    {
     "name": "stdout",
     "output_type": "stream",
     "text": [
      "valid_acc :46.51162790697674\n",
      "valid_loss: 0.07694173675295345\n",
      "validation process has finished\n",
      "*********Starting epoch 5\n",
      "train loss= 0.05625072590337056\n",
      "train Acc= 71.12403100775194\n",
      "Training process has finished.\n",
      "Start validating\n",
      "valid_acc :45.736434108527135\n",
      "valid_loss: 0.07941031511328131\n",
      "validation process has finished\n",
      "*********Starting epoch 6\n",
      "train loss= 0.043108774786137616\n",
      "train Acc= 83.33333333333333\n",
      "Training process has finished.\n",
      "Start validating\n",
      "valid_acc :54.263565891472865\n",
      "valid_loss: 0.09236932055424604\n",
      "Saving best valid -trained model.\n",
      "validation process has finished\n",
      "*********Starting epoch 7\n",
      "train loss= 0.02845642549939242\n",
      "train Acc= 89.72868217054264\n",
      "Training process has finished.\n",
      "Start validating\n",
      "valid_acc :55.03875968992248\n",
      "valid_loss: 0.09133456446839579\n",
      "Saving best valid -trained model.\n",
      "validation process has finished\n",
      "*********Starting epoch 8\n",
      "train loss= 0.012549432366309989\n",
      "train Acc= 98.64341085271317\n",
      "Training process has finished.\n",
      "Start validating\n",
      "valid_acc :54.263565891472865\n",
      "valid_loss: 0.10669948545322099\n",
      "validation process has finished\n",
      "*********Starting epoch 9\n",
      "train loss= 0.004782553243920499\n",
      "train Acc= 99.6124031007752\n",
      "Training process has finished.\n",
      "Start validating\n",
      "valid_acc :55.03875968992248\n",
      "valid_loss: 0.1190727638709975\n",
      "validation process has finished\n",
      "*********Starting epoch 10\n",
      "train loss= 0.001687451477905671\n",
      "train Acc= 100.0\n",
      "Training process has finished.\n",
      "Start validating\n",
      "valid_acc :51.93798449612403\n",
      "valid_loss: 0.12915046364761562\n",
      "validation process has finished\n",
      "Accuracy for fold 3: 51 %\n",
      "--------------------------------\n",
      "FOLD 4\n",
      "--------------------------------\n",
      "*********Starting epoch 1\n",
      "train loss= 0.07191128949351616\n",
      "train Acc= 49.8062015503876\n",
      "Training process has finished.\n",
      "Start validating\n",
      "valid_acc :55.81395348837209\n",
      "valid_loss: 0.06894015960126104\n",
      "Saving best valid -trained model.\n",
      "validation process has finished\n",
      "*********Starting epoch 2\n",
      "train loss= 0.06772058389270083\n",
      "train Acc= 54.651162790697676\n",
      "Training process has finished.\n",
      "Start validating\n",
      "valid_acc :47.286821705426355\n",
      "valid_loss: 0.07095187946870217\n",
      "validation process has finished\n",
      "*********Starting epoch 3\n",
      "train loss= 0.06407815729775988\n",
      "train Acc= 68.7984496124031\n",
      "Training process has finished.\n",
      "Start validating\n",
      "valid_acc :55.81395348837209\n",
      "valid_loss: 0.06852224739043493\n",
      "validation process has finished\n",
      "*********Starting epoch 4\n",
      "train loss= 0.05569474165063991\n",
      "train Acc= 77.32558139534883\n",
      "Training process has finished.\n",
      "Start validating\n",
      "valid_acc :52.713178294573645\n",
      "valid_loss: 0.06950487273051707\n",
      "validation process has finished\n",
      "*********Starting epoch 5\n",
      "train loss= 0.04444500541235441\n",
      "train Acc= 82.94573643410853\n",
      "Training process has finished.\n",
      "Start validating\n",
      "valid_acc :44.96124031007752\n",
      "valid_loss: 0.12351852812509638\n",
      "validation process has finished\n",
      "*********Starting epoch 6\n",
      "train loss= 0.031069032583654593\n",
      "train Acc= 89.34108527131782\n",
      "Training process has finished.\n",
      "Start validating\n",
      "valid_acc :56.58914728682171\n",
      "valid_loss: 0.07688934876666549\n",
      "Saving best valid -trained model.\n",
      "validation process has finished\n",
      "*********Starting epoch 7\n",
      "train loss= 0.0145740954991041\n",
      "train Acc= 96.12403100775194\n",
      "Training process has finished.\n",
      "Start validating\n",
      "valid_acc :57.36434108527132\n",
      "valid_loss: 0.08368852276561377\n",
      "Saving best valid -trained model.\n",
      "validation process has finished\n",
      "*********Starting epoch 8\n",
      "train loss= 0.005900109521086602\n",
      "train Acc= 99.6124031007752\n",
      "Training process has finished.\n",
      "Start validating\n",
      "valid_acc :55.03875968992248\n",
      "valid_loss: 0.10036370430896012\n",
      "validation process has finished\n",
      "*********Starting epoch 9\n",
      "train loss= 0.002125036692042734\n",
      "train Acc= 100.0\n",
      "Training process has finished.\n",
      "Start validating\n",
      "valid_acc :51.93798449612403\n",
      "valid_loss: 0.11739253946919362\n",
      "validation process has finished\n",
      "*********Starting epoch 10\n",
      "train loss= 0.0010777630980702848\n",
      "train Acc= 100.0\n",
      "Training process has finished.\n",
      "Start validating\n",
      "valid_acc :53.48837209302326\n",
      "valid_loss: 0.11332595689717664\n",
      "validation process has finished\n",
      "Accuracy for fold 4: 53 %\n",
      "--------------------------------\n"
     ]
    }
   ],
   "source": [
    "wandb.init(project='MDD-guido2020-classification-Reho')  \n",
    "\n",
    "k_folds = 5\n",
    "kfold_results = {}\n",
    "kfold = KFold(n_splits=k_folds, shuffle=True)\n",
    "\n",
    "#torch.manual_seed(42)\n",
    "num_epochs = 10\n",
    "batch_size = 10\n",
    "learning_rate= 0.001\n",
    "\n",
    "#Define a Loss function \n",
    "loss_function = nn.BCEWithLogitsLoss()\n",
    "\n",
    "for fold, (train_ids, valid_ids) in enumerate(kfold.split(train_dataset_cv)):\n",
    "    best_acc_cv= None\n",
    "    \n",
    "    print(f\"FOLD {fold}\\n--------------------------------\")\n",
    "    \n",
    "    # Sample elements randomly from a given list of ids,\n",
    "    train_subsampler = torch.utils.data.SubsetRandomSampler(train_ids)\n",
    "    valid_subsampler = torch.utils.data.SubsetRandomSampler(valid_ids)\n",
    "    \n",
    "    # Define data loaders for training and testing data in this fold\n",
    "    train_loader = torch.utils.data.DataLoader(train_dataset_cv, batch_size=batch_size, sampler=train_subsampler)\n",
    "    valid_loader = torch.utils.data.DataLoader(train_dataset_cv, batch_size=batch_size, sampler=valid_subsampler)\n",
    "    \n",
    "    #define network\n",
    "    network = ConvNet()\n",
    "    network = network.double()\n",
    "    \n",
    "    # create our optimizer\n",
    "    optimizer = optim.SGD(network.parameters(), momentum=0.9, lr = learning_rate, weight_decay=1e-3)\n",
    "    \n",
    "    # in the training loop:\n",
    "    \n",
    "    network.train() # prepare model for training\n",
    "    \n",
    "    for epoch in range(0, num_epochs):\n",
    "        print(f'*********Starting epoch {epoch+1}')\n",
    "        \n",
    "        train_loss_cv = 0\n",
    "        total =0\n",
    "        correct=0\n",
    "\n",
    "        # train model/network \n",
    "        for i, data in enumerate(train_loader, 0):\n",
    "            #print(f'train {i}')\n",
    "            \n",
    "            # get the inputs; data is a list of [inputs, labels]\n",
    "            inputs, labels = data\n",
    "            \n",
    "            # zero the gradient buffers\n",
    "            optimizer.zero_grad()\n",
    "            \n",
    "            # forward pass\n",
    "            outputs = network(inputs)\n",
    "            \n",
    "            # print(outputs.size)\n",
    "            outputss=outputs.squeeze(1) #### [10,1] ---> [10]\n",
    "            \n",
    "            # prediction \n",
    "            predicted = outputss.data > 0.0\n",
    "            \n",
    "            labels=labels.double()\n",
    "            \n",
    "            #calcuate loss/error\n",
    "            loss = loss_function(outputss, labels)\n",
    "            \n",
    "            # backward pass\n",
    "            loss.backward()\n",
    "            \n",
    "            # Does the update , gradient descent\n",
    "            optimizer.step() \n",
    "            \n",
    "            correct += (predicted == labels).sum().item()\n",
    "            train_loss_cv += loss.item()\n",
    "            total += labels.size(0)\n",
    "            \n",
    "        wandb.log({ \"epoch_cv\": epoch , \"train_Loss_cv\": train_loss_cv/total, \"train_acc_cv\": 100 * correct / total })\n",
    "        \n",
    "        print(f'train loss= {train_loss_cv/total}')\n",
    "        print(f'train Acc= {100 * correct / total}')\n",
    "        \n",
    "        \n",
    "        print('Training process has finished.')\n",
    "        print('Start validating')\n",
    "\n",
    "        # validate the network using the validation data, for this fold\n",
    "        correct= 0\n",
    "        total = 0\n",
    "        valid_loss_cv=0\n",
    "        \n",
    "        network.eval()\n",
    "\n",
    "        with torch.no_grad():\n",
    "            for i, data in enumerate(valid_loader, 0):\n",
    "                #print(f'test {i}')\n",
    "\n",
    "                inputs, lables = data\n",
    "\n",
    "                outputs = network(inputs)\n",
    "\n",
    "                outputss=outputs.squeeze(1) #[10,1] ---> [10]\n",
    "                lables=lables.double()\n",
    "\n",
    "                # prediction \n",
    "                predicted = outputss.data > 0.0\n",
    "\n",
    "                loss = loss_function(outputss, lables)\n",
    "\n",
    "                valid_loss_cv += loss.item()\n",
    "                total += lables.size(0)\n",
    "                correct += (predicted == lables).sum().item()\n",
    "\n",
    "            wandb.log({ \"validation_acc_cv\": 100 * correct /total, \"validation_Loss_cv\": valid_loss_cv/total })\n",
    "            \n",
    "            current_valid_acc_cv = 100 * correct /total\n",
    "            \n",
    "            print(f'valid_acc :{100 * correct /total}')\n",
    "            print(f'valid_loss: {valid_loss_cv/total}')\n",
    "                  \n",
    "            if not best_acc_cv or best_acc_cv < current_valid_acc_cv:\n",
    "                best_acc_cv = current_valid_acc_cv\n",
    "                \n",
    "                print('Saving best valid -trained model.')\n",
    "                path_best_acc_reho = f'/data/zmohaghegh/TempStats_3D-CNN/best_valid_acc_reho_2020/model-best-reho-fold-{fold}.pth'\n",
    "                torch.save(network.state_dict(), path_best_acc_reho )\n",
    "                \n",
    "            print('validation process has finished')\n",
    "                \n",
    "    print('Accuracy for fold %d: %d %%' % (fold, 100.0 * correct / total))\n",
    "    print('--------------------------------')\n",
    "        \n",
    "    kfold_results[fold] = 100.0 * (correct / total)"
   ]
  },
  {
   "cell_type": "markdown",
   "metadata": {},
   "source": [
    "### results of train and validation for CV"
   ]
  },
  {
   "cell_type": "code",
   "execution_count": 35,
   "metadata": {},
   "outputs": [
    {
     "name": "stdout",
     "output_type": "stream",
     "text": [
      "K-FOLD CROSS VALIDATION RESULTS FOR reho 5 FOLDS\n",
      "--------------------------------\n",
      "Fold 0: 49.6124031007752 %\n",
      "Fold 1: 58.91472868217055 %\n",
      "Fold 2: 45.73643410852713 %\n",
      "Fold 3: 51.93798449612403 %\n",
      "Fold 4: 53.48837209302325 %\n",
      "Average: 51.93798449612403 %\n"
     ]
    }
   ],
   "source": [
    "print(f\"K-FOLD CROSS VALIDATION RESULTS FOR reho {k_folds} FOLDS\\n--------------------------------\")\n",
    "_sum = 0.0\n",
    "\n",
    "for key, value in kfold_results.items():\n",
    "    print(f'Fold {key}: {value} %')\n",
    "    _sum += value\n",
    "\n",
    "print(f'Average: {_sum/len(kfold_results.items())} %')"
   ]
  },
  {
   "cell_type": "markdown",
   "metadata": {},
   "source": [
    "### Test loop for Cross validation "
   ]
  },
  {
   "cell_type": "code",
   "execution_count": 36,
   "metadata": {},
   "outputs": [],
   "source": [
    "from sklearn.metrics import confusion_matrix\n",
    "from sklearn.metrics import ConfusionMatrixDisplay\n",
    "from sklearn.metrics import roc_curve\n",
    "from sklearn.metrics import RocCurveDisplay"
   ]
  },
  {
   "cell_type": "code",
   "execution_count": 37,
   "metadata": {
    "scrolled": true
   },
   "outputs": [
    {
     "data": {
      "text/html": [
       "Finishing last run (ID:9940tie2) before initializing another..."
      ],
      "text/plain": [
       "<IPython.core.display.HTML object>"
      ]
     },
     "metadata": {},
     "output_type": "display_data"
    },
    {
     "data": {
      "text/html": [
       "<br/>Waiting for W&B process to finish, PID 14609<br/>Program ended successfully."
      ],
      "text/plain": [
       "<IPython.core.display.HTML object>"
      ]
     },
     "metadata": {},
     "output_type": "display_data"
    },
    {
     "data": {
      "application/vnd.jupyter.widget-view+json": {
       "model_id": "",
       "version_major": 2,
       "version_minor": 0
      },
      "text/plain": [
       "VBox(children=(Label(value=' 0.00MB of 0.00MB uploaded (0.00MB deduped)\\r'), FloatProgress(value=1.0, max=1.0)…"
      ]
     },
     "metadata": {},
     "output_type": "display_data"
    },
    {
     "data": {
      "text/html": [
       "Find user logs for this run at: <code>/data/zmohaghegh/TempStats_3D-CNN/wandb/run-20210614_011101-9940tie2/logs/debug.log</code>"
      ],
      "text/plain": [
       "<IPython.core.display.HTML object>"
      ]
     },
     "metadata": {},
     "output_type": "display_data"
    },
    {
     "data": {
      "text/html": [
       "Find internal logs for this run at: <code>/data/zmohaghegh/TempStats_3D-CNN/wandb/run-20210614_011101-9940tie2/logs/debug-internal.log</code>"
      ],
      "text/plain": [
       "<IPython.core.display.HTML object>"
      ]
     },
     "metadata": {},
     "output_type": "display_data"
    },
    {
     "data": {
      "text/html": [
       "<h3>Run summary:</h3><br/><style>\n",
       "    table.wandb td:nth-child(1) { padding: 0 10px; text-align: right }\n",
       "    </style><table class=\"wandb\">\n",
       "<tr><td>epoch_cv</td><td>9</td></tr><tr><td>train_Loss_cv</td><td>0.00108</td></tr><tr><td>train_acc_cv</td><td>100.0</td></tr><tr><td>_runtime</td><td>26713</td></tr><tr><td>_timestamp</td><td>1623652578</td></tr><tr><td>_step</td><td>99</td></tr><tr><td>validation_acc_cv</td><td>53.48837</td></tr><tr><td>validation_Loss_cv</td><td>0.11333</td></tr></table>"
      ],
      "text/plain": [
       "<IPython.core.display.HTML object>"
      ]
     },
     "metadata": {},
     "output_type": "display_data"
    },
    {
     "data": {
      "text/html": [
       "<h3>Run history:</h3><br/><style>\n",
       "    table.wandb td:nth-child(1) { padding: 0 10px; text-align: right }\n",
       "    </style><table class=\"wandb\">\n",
       "<tr><td>epoch_cv</td><td>▁▂▃▃▅▆▆▇▁▂▃▃▅▆▆▇▁▂▃▃▅▆▆▇▁▂▃▃▅▆▆▇▁▂▃▃▅▆▆█</td></tr><tr><td>train_Loss_cv</td><td>███▇▅▃▂▂████▇▆▅▃██▇▇▄▃▂▂██▇▇▅▄▂▁██▇▆▄▂▁▁</td></tr><tr><td>train_acc_cv</td><td>▂▂▂▃▅▇██▁▂▁▂▄▅▅▇▂▂▃▄▆▇██▁▂▄▃▆▇██▁▂▄▅▇▇██</td></tr><tr><td>_runtime</td><td>▁▁▁▁▂▂▂▂▂▃▃▃▃▃▃▄▄▄▄▄▅▅▅▅▅▅▆▆▆▆▆▇▇▇▇▇▇███</td></tr><tr><td>_timestamp</td><td>▁▁▁▁▂▂▂▂▂▃▃▃▃▃▃▄▄▄▄▄▅▅▅▅▅▅▆▆▆▆▆▇▇▇▇▇▇███</td></tr><tr><td>_step</td><td>▁▁▁▁▂▂▂▂▂▃▃▃▃▃▃▄▄▄▄▄▅▅▅▅▅▅▆▆▆▆▆▇▇▇▇▇▇███</td></tr><tr><td>validation_acc_cv</td><td>▄▅▅▆▆▆▆▆▆▅▅▅█▅▆▇▇▄▇▇▅▂▄▂▃▁▃▃▆▆▆▆▆▃▆▅▇▇▆▆</td></tr><tr><td>validation_Loss_cv</td><td>▁▁▁▁▂▃▃▆▁▁▁▁▁▂▃▂▁▁▁▁▃▅█▇▁▁▁▂▃▃▄▅▁▁▁▁▂▂▄▅</td></tr></table><br/>"
      ],
      "text/plain": [
       "<IPython.core.display.HTML object>"
      ]
     },
     "metadata": {},
     "output_type": "display_data"
    },
    {
     "data": {
      "text/html": [
       "Synced 5 W&B file(s), 0 media file(s), 0 artifact file(s) and 0 other file(s)"
      ],
      "text/plain": [
       "<IPython.core.display.HTML object>"
      ]
     },
     "metadata": {},
     "output_type": "display_data"
    },
    {
     "data": {
      "text/html": [
       "\n",
       "                    <br/>Synced <strong style=\"color:#cdcd00\">warm-galaxy-14</strong>: <a href=\"https://wandb.ai/zahramhn/MDD-guido2020-classification-Reho/runs/9940tie2\" target=\"_blank\">https://wandb.ai/zahramhn/MDD-guido2020-classification-Reho/runs/9940tie2</a><br/>\n",
       "                "
      ],
      "text/plain": [
       "<IPython.core.display.HTML object>"
      ]
     },
     "metadata": {},
     "output_type": "display_data"
    },
    {
     "data": {
      "text/html": [
       "...Successfully finished last run (ID:9940tie2). Initializing new run:<br/><br/>"
      ],
      "text/plain": [
       "<IPython.core.display.HTML object>"
      ]
     },
     "metadata": {},
     "output_type": "display_data"
    },
    {
     "data": {
      "text/html": [
       "\n",
       "                Tracking run with wandb version 0.10.20<br/>\n",
       "                Syncing run <strong style=\"color:#cdcd00\">robust-shadow-15</strong> to <a href=\"https://wandb.ai\" target=\"_blank\">Weights & Biases</a> <a href=\"https://docs.wandb.com/integrations/jupyter.html\" target=\"_blank\">(Documentation)</a>.<br/>\n",
       "                Project page: <a href=\"https://wandb.ai/zahramhn/MDD-guido2020-classification-Reho\" target=\"_blank\">https://wandb.ai/zahramhn/MDD-guido2020-classification-Reho</a><br/>\n",
       "                Run page: <a href=\"https://wandb.ai/zahramhn/MDD-guido2020-classification-Reho/runs/y335xwpm\" target=\"_blank\">https://wandb.ai/zahramhn/MDD-guido2020-classification-Reho/runs/y335xwpm</a><br/>\n",
       "                Run data is saved locally in <code>/data/zmohaghegh/TempStats_3D-CNN/wandb/run-20210614_083618-y335xwpm</code><br/><br/>\n",
       "            "
      ],
      "text/plain": [
       "<IPython.core.display.HTML object>"
      ]
     },
     "metadata": {},
     "output_type": "display_data"
    },
    {
     "name": "stdout",
     "output_type": "stream",
     "text": [
      "Start TEST FOR FOLD 0\n",
      "test_Acc_CV\": 56.79012345679013\n",
      "F1_score CV ReHo :0.5302038522279708\n",
      "Balanced ACC CV ReHo :0.5333539699736882\n",
      "Loss CV ReHo : 0.07577613280763522\n",
      "Start TEST FOR FOLD 1\n",
      "test_Acc_CV\": 54.32098765432099\n",
      "F1_score CV ReHo :0.48513145015462755\n",
      "Balanced ACC CV ReHo :0.5020894598359387\n",
      "Loss CV ReHo : 0.07429937569090654\n",
      "Start TEST FOR FOLD 2\n",
      "test_Acc_CV\": 54.93827160493827\n",
      "F1_score CV ReHo :0.5192500795004708\n",
      "Balanced ACC CV ReHo :0.5184182015167931\n",
      "Loss CV ReHo : 0.07250540469018812\n",
      "Start TEST FOR FOLD 3\n",
      "test_Acc_CV\": 54.32098765432099\n",
      "F1_score CV ReHo :0.5143526837709227\n",
      "Balanced ACC CV ReHo :0.5129236960222876\n",
      "Loss CV ReHo : 0.08779222611667735\n",
      "Start TEST FOR FOLD 4\n",
      "test_Acc_CV\": 49.382716049382715\n",
      "F1_score CV ReHo :0.47567096081588833\n",
      "Balanced ACC CV ReHo :0.5184955889181242\n",
      "Loss CV ReHo : 0.10549614984026683\n"
     ]
    },
    {
     "data": {
      "image/png": "[encoded data removed]",
      "text/plain": [
       "<Figure size 432x288 with 2 Axes>"
      ]
     },
     "metadata": {
      "needs_background": "light"
     },
     "output_type": "display_data"
    },
    {
     "data": {
      "image/png": "[encoded data removed]",
      "text/plain": [
       "<Figure size 432x288 with 1 Axes>"
      ]
     },
     "metadata": {
      "needs_background": "light"
     },
     "output_type": "display_data"
    },
    {
     "data": {
      "image/png": "[encoded data removed]",
      "text/plain": [
       "<Figure size 432x288 with 2 Axes>"
      ]
     },
     "metadata": {
      "needs_background": "light"
     },
     "output_type": "display_data"
    },
    {
     "data": {
      "image/png": "[encoded data removed]",
      "text/plain": [
       "<Figure size 432x288 with 1 Axes>"
      ]
     },
     "metadata": {
      "needs_background": "light"
     },
     "output_type": "display_data"
    },
    {
     "data": {
      "image/png": "[encoded data removed]",
      "text/plain": [
       "<Figure size 432x288 with 2 Axes>"
      ]
     },
     "metadata": {
      "needs_background": "light"
     },
     "output_type": "display_data"
    },
    {
     "data": {
      "image/png": "[encoded data removed]",
      "text/plain": [
       "<Figure size 432x288 with 1 Axes>"
      ]
     },
     "metadata": {
      "needs_background": "light"
     },
     "output_type": "display_data"
    },
    {
     "data": {
      "image/png": "[encoded data removed]",
      "text/plain": [
       "<Figure size 432x288 with 2 Axes>"
      ]
     },
     "metadata": {
      "needs_background": "light"
     },
     "output_type": "display_data"
    },
    {
     "data": {
      "image/png": "[encoded data removed]",
      "text/plain": [
       "<Figure size 432x288 with 1 Axes>"
      ]
     },
     "metadata": {
      "needs_background": "light"
     },
     "output_type": "display_data"
    },
    {
     "data": {
      "image/png": "[encoded data removed]",
      "text/plain": [
       "<Figure size 432x288 with 2 Axes>"
      ]
     },
     "metadata": {
      "needs_background": "light"
     },
     "output_type": "display_data"
    },
    {
     "data": {
      "image/png": "[encoded data removed]",
      "text/plain": [
       "<Figure size 432x288 with 1 Axes>"
      ]
     },
     "metadata": {
      "needs_background": "light"
     },
     "output_type": "display_data"
    }
   ],
   "source": [
    "wandb.init(project='MDD-guido2020-classification-Reho')  \n",
    "\n",
    "#Sample elements randomly \n",
    "test_loader  = torch.utils.data.DataLoader(test_dataset_cv , batch_size=batch_size, shuffle=True)\n",
    "\n",
    "accuracy_fold=[]\n",
    "F1_score_fold=[]\n",
    "bal_acc_fold=[]\n",
    "\n",
    "for k in np.arange(5): \n",
    "\n",
    "    print(f'Start TEST FOR FOLD {k}')\n",
    "\n",
    "    path_fold = f'/data/zmohaghegh/TempStats_3D-CNN/best_valid_acc_reho_2020/model-best-reho-fold-{k}.pth'\n",
    "\n",
    "    network.load_state_dict(torch.load(path_fold))\n",
    "\n",
    "    test_loss_cv=0\n",
    "    total = 0\n",
    "    correct=0\n",
    "\n",
    "    F1_labels=[]\n",
    "    F1_pred=[]\n",
    "\n",
    "    network.eval() # preoare model for test and evaluation\n",
    "\n",
    "    with torch.no_grad():\n",
    "        #print('Start testing CV...')\n",
    "        for i, data in enumerate(test_loader, 0):\n",
    "            #print(f'test {i}')\n",
    "\n",
    "            inputs, lables = data\n",
    "\n",
    "            outputs = network(inputs)\n",
    "\n",
    "            lables=lables.double()\n",
    "            outputss=outputs.squeeze(1) #[10,1] ---> [10]\n",
    "\n",
    "            #do the prediction \n",
    "            predicted = outputss.data > 0.0\n",
    "\n",
    "            #calculate loss\n",
    "            loss = loss_function(outputss, lables)\n",
    "\n",
    "            test_loss_cv += loss.item()\n",
    "            correct += (predicted == lables).sum().item()\n",
    "            total += lables.size(0)\n",
    "\n",
    "            if i==0:\n",
    "                F1_labels=lables.int().numpy()\n",
    "                F1_pred=predicted.int().numpy()\n",
    "            else:\n",
    "                F1_labels= np.concatenate((F1_labels, lables.int().numpy()))\n",
    "                F1_pred = np.concatenate((F1_pred, predicted.int().numpy()))\n",
    "            \n",
    "        wandb.log({ \"test_Acc_CV\": 100 * correct /total  , \"test_Loss_CV\": test_loss_cv/total })\n",
    "        \n",
    "        accuracy=100 * correct /total\n",
    "        acc = accuracy_score(F1_labels, F1_pred)\n",
    "        bal_acc= balanced_accuracy_score(F1_labels, F1_pred)\n",
    "\n",
    "        F1_Score = f1_score(F1_labels, F1_pred, average='weighted')\n",
    "        tn, fp, fn, tp = confusion_matrix(F1_labels, F1_pred).ravel()\n",
    "        \n",
    "        F1_score_fold.append(F1_Score)\n",
    "        bal_acc_fold.append(bal_acc)\n",
    "        accuracy_fold.append(accuracy)\n",
    "        \n",
    "        #PLotting Confusion matrix and ROC curve\n",
    "        conf_matrix = confusion_matrix(F1_labels, F1_pred)\n",
    "        conf_matrix_display = ConfusionMatrixDisplay(conf_matrix).plot()\n",
    "        fp_rate, tp_rate, threshold = roc_curve(F1_labels, F1_pred)\n",
    "        ROC_display = RocCurveDisplay(fpr=fp_rate, tpr=tp_rate).plot()\n",
    "\n",
    "        wandb.log({ \"test_balanced_Acc_CV\": bal_acc , \"test_Acc_CV\": 100 * correct /total, \"test_F1_score_CV\": F1_Score , \"test_Loss_CV\": test_loss_cv/total })\n",
    "        \n",
    "        print(f'test_Acc_CV\": {accuracy}')\n",
    "        print(f'F1_score CV ReHo :{F1_Score}')\n",
    "        print(f'Balanced ACC CV ReHo :{bal_acc}')\n",
    "        print(f'Loss CV ReHo : {test_loss_cv/total}')"
   ]
  },
  {
   "cell_type": "code",
   "execution_count": 38,
   "metadata": {},
   "outputs": [
    {
     "name": "stdout",
     "output_type": "stream",
     "text": [
      " Average Balance ACC ReHo =0.5170561832533663\n",
      "standard deviation :0.01010569240544706\n",
      " Average F1_score ReHo = 0.504921805293976\n",
      "standard deviation :0.02088393098522864\n"
     ]
    }
   ],
   "source": [
    "import statistics\n",
    "\n",
    "accuracy_avg=sum(accuracy_fold)/len(accuracy_fold)\n",
    "accuracy_std=statistics.pstdev(accuracy_fold)\n",
    "\n",
    "\n",
    "F1_score_avg= sum(F1_score_fold)/len(F1_score_fold)\n",
    "F1_score_std= statistics.pstdev(F1_score_fold)\n",
    "\n",
    "bal_acc_avg = sum(bal_acc_fold)/len(bal_acc_fold)\n",
    "bal_acc_std = statistics.pstdev(bal_acc_fold)\n",
    "\n",
    "#print(f' Average Accuracy ReHo ={accuracy_avg}')\n",
    "#print(f'standard deviation :{accuracy_std}')\n",
    "\n",
    "print(f' Average Balance ACC ReHo ={bal_acc_avg}')\n",
    "print(f'standard deviation :{bal_acc_std}')\n",
    "\n",
    "print(f' Average F1_score ReHo = { F1_score_avg}')\n",
    "print(f'standard deviation :{F1_score_std}')"
   ]
  },
  {
   "cell_type": "code",
   "execution_count": null,
   "metadata": {},
   "outputs": [],
   "source": []
  }
 ],
 "metadata": {
  "kernelspec": {
   "display_name": "Python 3",
   "language": "python",
   "name": "python3"
  },
  "language_info": {
   "codemirror_mode": {
    "name": "ipython",
    "version": 3
   },
   "file_extension": ".py",
   "mimetype": "text/x-python",
   "name": "python",
   "nbconvert_exporter": "python",
   "pygments_lexer": "ipython3",
   "version": "3.8.3"
  }
 },
 "nbformat": 4,
 "nbformat_minor": 2
}

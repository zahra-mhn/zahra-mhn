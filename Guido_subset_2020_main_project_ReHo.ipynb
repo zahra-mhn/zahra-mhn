{
 "cells": [
  {
   "cell_type": "markdown",
   "metadata": {},
   "source": [
    "# Guido subset_ main thesis project -ReHo"
   ]
  },
  {
   "cell_type": "code",
   "execution_count": 1,
   "metadata": {},
   "outputs": [],
   "source": [
    "import pandas as pd\n",
    "import os\n",
    "import torch\n",
    "from torch import nn\n",
    "from torchvision.datasets import MNIST\n",
    "from torch.utils.data import DataLoader, ConcatDataset, TensorDataset\n",
    "from torchvision import transforms\n",
    "from sklearn.model_selection import KFold\n",
    "import torch.optim as optim\n",
    "import torch.nn.functional as F\n",
    "import numpy as np\n",
    "import nibabel as nib\n",
    "import matplotlib.pyplot as plt\n",
    "from sklearn.model_selection import train_test_split"
   ]
  },
  {
   "cell_type": "markdown",
   "metadata": {},
   "source": [
    "## start of classsification using Reho"
   ]
  },
  {
   "cell_type": "code",
   "execution_count": 2,
   "metadata": {},
   "outputs": [
    {
     "name": "stdout",
     "output_type": "stream",
     "text": [
      "406 401\n"
     ]
    }
   ],
   "source": [
    "control_base_path = '/dbstore/zmohaghegh/UKBiobank_subset/summary_measures_2020/ReHo_Control/ReHo_Normalised_z/'\n",
    "mdd_base_path = '/dbstore/zmohaghegh/UKBiobank_subset/summary_measures_2020/MDD_Reho/ReHo_Normalised_z/'\n",
    "\n",
    "#define data path for control and MDD seprately\n",
    "\n",
    "control_files_path = [control_base_path + f for f in os.listdir(control_base_path) if f.startswith('ReHo')]\n",
    "mdd_files_path = [mdd_base_path + f for f in os.listdir(mdd_base_path) if f.startswith('ReHo')]\n",
    "print(len(control_files_path), len(mdd_files_path))"
   ]
  },
  {
   "cell_type": "markdown",
   "metadata": {},
   "source": [
    "### load data with nan "
   ]
  },
  {
   "cell_type": "code",
   "execution_count": 3,
   "metadata": {},
   "outputs": [],
   "source": [
    "#loading data seprately and set a label column for Control=0 and MDD=1\n",
    "\n",
    "control_dataset_reho_zero = [[nib.load(c).get_fdata(),0] for c in control_files_path]\n",
    "mdd_dataset_reho_zero = [[nib.load(m).get_fdata(),1] for m in mdd_files_path]"
   ]
  },
  {
   "cell_type": "markdown",
   "metadata": {},
   "source": [
    "##### define numpy array for doing the zero nan"
   ]
  },
  {
   "cell_type": "code",
   "execution_count": 4,
   "metadata": {},
   "outputs": [
    {
     "name": "stdout",
     "output_type": "stream",
     "text": [
      "(91, 109, 91)\n",
      "401\n",
      "1\n",
      "(91, 109, 91)\n",
      "406\n"
     ]
    },
    {
     "name": "stderr",
     "output_type": "stream",
     "text": [
      "/data/zmohaghegh/venv/lib64/python3.6/site-packages/ipykernel_launcher.py:8: VisibleDeprecationWarning: Creating an ndarray from ragged nested sequences (which is a list-or-tuple of lists-or-tuples-or ndarrays with different lengths or shapes) is deprecated. If you meant to do this, you must specify 'dtype=object' when creating the ndarray\n",
      "  \n",
      "/data/zmohaghegh/venv/lib64/python3.6/site-packages/ipykernel_launcher.py:9: VisibleDeprecationWarning: Creating an ndarray from ragged nested sequences (which is a list-or-tuple of lists-or-tuples-or ndarrays with different lengths or shapes) is deprecated. If you meant to do this, you must specify 'dtype=object' when creating the ndarray\n",
      "  if __name__ == '__main__':\n"
     ]
    },
    {
     "data": {
      "text/plain": [
       "0"
      ]
     },
     "execution_count": 4,
     "metadata": {},
     "output_type": "execute_result"
    }
   ],
   "source": [
    "control_reho_zero_nan2= control_dataset_reho_zero\n",
    "mdd_reho_zero_nan2 = mdd_dataset_reho_zero\n",
    "\n",
    "print(mdd_reho_zero_nan2[0][0].shape)\n",
    "print(len(mdd_reho_zero_nan2))\n",
    "print(mdd_reho_zero_nan2[0][1])\n",
    "\n",
    "mdd_reho_zero_nan3 = np.array(mdd_reho_zero_nan2)\n",
    "control_reho_zero_nan3 =np.array(control_reho_zero_nan2)\n",
    "print(control_reho_zero_nan2[0][0].shape)\n",
    "print(len(control_reho_zero_nan2))\n",
    "\n",
    "control_reho_zero_nan3[0][1]"
   ]
  },
  {
   "cell_type": "code",
   "execution_count": 5,
   "metadata": {},
   "outputs": [
    {
     "data": {
      "text/plain": [
       "401"
      ]
     },
     "execution_count": 5,
     "metadata": {},
     "output_type": "execute_result"
    }
   ],
   "source": [
    "len(mdd_dataset_reho_zero)"
   ]
  },
  {
   "cell_type": "code",
   "execution_count": 6,
   "metadata": {},
   "outputs": [
    {
     "data": {
      "text/plain": [
       "406"
      ]
     },
     "execution_count": 6,
     "metadata": {},
     "output_type": "execute_result"
    }
   ],
   "source": [
    "len(control_dataset_reho_zero)"
   ]
  },
  {
   "cell_type": "code",
   "execution_count": 7,
   "metadata": {},
   "outputs": [
    {
     "data": {
      "text/plain": [
       "2"
      ]
     },
     "execution_count": 7,
     "metadata": {},
     "output_type": "execute_result"
    }
   ],
   "source": [
    "len(mdd_dataset_reho_zero[0])\n",
    "len(control_dataset_reho_zero[0])"
   ]
  },
  {
   "cell_type": "code",
   "execution_count": 8,
   "metadata": {},
   "outputs": [
    {
     "data": {
      "text/plain": [
       "(91, 109, 91)"
      ]
     },
     "execution_count": 8,
     "metadata": {},
     "output_type": "execute_result"
    }
   ],
   "source": [
    "mdd_dataset_reho_zero[0][0].shape\n",
    "control_dataset_reho_zero[0][0].shape"
   ]
  },
  {
   "cell_type": "code",
   "execution_count": 9,
   "metadata": {},
   "outputs": [
    {
     "data": {
      "text/plain": [
       "array([        nan,         nan,         nan,         nan,         nan,\n",
       "               nan,         nan,         nan,         nan,         nan,\n",
       "               nan,         nan,         nan,         nan,         nan,\n",
       "               nan,  1.68043089,  1.56969142,  1.86985874,  1.86096191,\n",
       "        1.93146718,  2.11725903,  2.55462217,  1.91065693,  0.50844282,\n",
       "        0.05930695,  0.66814291,  1.64210677,  1.08213818,  0.25858074,\n",
       "       -0.56684363, -0.7189495 , -1.00350475, -1.3447212 , -1.21441877,\n",
       "       -1.15065515, -1.24084473, -0.9478718 , -0.31155097, -0.26281989,\n",
       "       -0.07350048,  0.28912649,  0.87050122,  1.24497306,  1.28742945,\n",
       "        1.01400137,  1.10193563,  1.00789368,  0.5122267 , -0.2069111 ,\n",
       "       -0.59625113, -0.91880149, -1.0220412 , -0.95108175, -0.74096751,\n",
       "       -0.69755989, -1.0146656 , -0.39677244, -0.46503615, -0.83524621,\n",
       "       -0.38343135, -0.36499518, -0.55830753, -0.06751805,  1.04009187,\n",
       "        1.75702274,  1.7453953 ,  0.46958524, -0.02432077,  0.23539945,\n",
       "        0.79556984,  1.27290535,  1.64042091,  1.55074537,  1.17592084,\n",
       "        1.17333663,         nan,         nan,         nan,         nan,\n",
       "               nan,         nan,         nan,         nan,         nan,\n",
       "               nan,         nan,         nan,         nan,         nan,\n",
       "               nan])"
      ]
     },
     "execution_count": 9,
     "metadata": {},
     "output_type": "execute_result"
    }
   ],
   "source": [
    "control_dataset_reho_zero[400][0][:,34,56]"
   ]
  },
  {
   "cell_type": "code",
   "execution_count": 10,
   "metadata": {},
   "outputs": [
    {
     "data": {
      "text/plain": [
       "array([        nan,         nan,         nan,         nan,         nan,\n",
       "               nan,         nan,         nan,         nan,         nan,\n",
       "               nan,         nan,         nan,         nan,         nan,\n",
       "               nan,  1.79748166,  2.23244691,  2.46228266,  2.37676692,\n",
       "        2.67950821,  2.8220706 ,  2.97384691,  2.47968459,  1.04447949,\n",
       "        0.56868804,  0.62520432,  1.05440676,  1.60742342,  1.8340683 ,\n",
       "        1.42638516,  0.63835311,  0.064312  , -0.15793628, -0.19672982,\n",
       "       -0.30844241, -0.67446357, -0.93465775, -0.32266736,  0.79667002,\n",
       "        2.15235949,  2.49152207,  2.13894486,  1.57521474,  1.40513873,\n",
       "        1.20334697,  2.04586911,  2.34183478,  2.3888669 ,  1.93715811,\n",
       "        1.14480829,  0.53450775, -0.11468144, -0.90341431, -1.31888795,\n",
       "       -0.82898754, -0.40580711, -0.09777391, -0.034695  , -0.10849591,\n",
       "        0.70127684,  1.35595429,  0.89943755,  0.23620752, -0.77099097,\n",
       "       -0.67806715,  0.20867163,  1.50419176,  1.35776031,  1.09177458,\n",
       "        1.18598926,  1.34679615,  1.66678762,  1.95769322,  2.06944013,\n",
       "        1.92946398,         nan,         nan,         nan,         nan,\n",
       "               nan,         nan,         nan,         nan,         nan,\n",
       "               nan,         nan,         nan,         nan,         nan,\n",
       "               nan])"
      ]
     },
     "execution_count": 10,
     "metadata": {},
     "output_type": "execute_result"
    }
   ],
   "source": [
    "mdd_dataset_reho_zero[200][0][:,34,56]"
   ]
  },
  {
   "cell_type": "code",
   "execution_count": 11,
   "metadata": {},
   "outputs": [
    {
     "data": {
      "text/plain": [
       "array([ 0.        ,  0.        ,  0.        ,  0.        ,  0.        ,\n",
       "        0.        ,  0.        ,  0.        ,  0.        ,  0.        ,\n",
       "        0.        ,  0.        ,  0.        ,  0.        ,  0.        ,\n",
       "        0.        ,  1.68043089,  1.56969142,  1.86985874,  1.86096191,\n",
       "        1.93146718,  2.11725903,  2.55462217,  1.91065693,  0.50844282,\n",
       "        0.05930695,  0.66814291,  1.64210677,  1.08213818,  0.25858074,\n",
       "       -0.56684363, -0.7189495 , -1.00350475, -1.3447212 , -1.21441877,\n",
       "       -1.15065515, -1.24084473, -0.9478718 , -0.31155097, -0.26281989,\n",
       "       -0.07350048,  0.28912649,  0.87050122,  1.24497306,  1.28742945,\n",
       "        1.01400137,  1.10193563,  1.00789368,  0.5122267 , -0.2069111 ,\n",
       "       -0.59625113, -0.91880149, -1.0220412 , -0.95108175, -0.74096751,\n",
       "       -0.69755989, -1.0146656 , -0.39677244, -0.46503615, -0.83524621,\n",
       "       -0.38343135, -0.36499518, -0.55830753, -0.06751805,  1.04009187,\n",
       "        1.75702274,  1.7453953 ,  0.46958524, -0.02432077,  0.23539945,\n",
       "        0.79556984,  1.27290535,  1.64042091,  1.55074537,  1.17592084,\n",
       "        1.17333663,  0.        ,  0.        ,  0.        ,  0.        ,\n",
       "        0.        ,  0.        ,  0.        ,  0.        ,  0.        ,\n",
       "        0.        ,  0.        ,  0.        ,  0.        ,  0.        ,\n",
       "        0.        ])"
      ]
     },
     "execution_count": 11,
     "metadata": {},
     "output_type": "execute_result"
    }
   ],
   "source": [
    "#example control\n",
    "zero_nan_control_800= np.nan_to_num(control_dataset_reho_zero[400][0],copy=True)\n",
    "zero_nan_control_800[:,34,56]"
   ]
  },
  {
   "cell_type": "code",
   "execution_count": 12,
   "metadata": {},
   "outputs": [
    {
     "data": {
      "text/plain": [
       "array([ 0.        ,  0.        ,  0.        ,  0.        ,  0.        ,\n",
       "        0.        ,  0.        ,  0.        ,  0.        ,  0.        ,\n",
       "        0.        ,  0.        ,  0.        ,  0.        ,  0.        ,\n",
       "        0.        ,  1.79748166,  2.23244691,  2.46228266,  2.37676692,\n",
       "        2.67950821,  2.8220706 ,  2.97384691,  2.47968459,  1.04447949,\n",
       "        0.56868804,  0.62520432,  1.05440676,  1.60742342,  1.8340683 ,\n",
       "        1.42638516,  0.63835311,  0.064312  , -0.15793628, -0.19672982,\n",
       "       -0.30844241, -0.67446357, -0.93465775, -0.32266736,  0.79667002,\n",
       "        2.15235949,  2.49152207,  2.13894486,  1.57521474,  1.40513873,\n",
       "        1.20334697,  2.04586911,  2.34183478,  2.3888669 ,  1.93715811,\n",
       "        1.14480829,  0.53450775, -0.11468144, -0.90341431, -1.31888795,\n",
       "       -0.82898754, -0.40580711, -0.09777391, -0.034695  , -0.10849591,\n",
       "        0.70127684,  1.35595429,  0.89943755,  0.23620752, -0.77099097,\n",
       "       -0.67806715,  0.20867163,  1.50419176,  1.35776031,  1.09177458,\n",
       "        1.18598926,  1.34679615,  1.66678762,  1.95769322,  2.06944013,\n",
       "        1.92946398,  0.        ,  0.        ,  0.        ,  0.        ,\n",
       "        0.        ,  0.        ,  0.        ,  0.        ,  0.        ,\n",
       "        0.        ,  0.        ,  0.        ,  0.        ,  0.        ,\n",
       "        0.        ])"
      ]
     },
     "execution_count": 12,
     "metadata": {},
     "output_type": "execute_result"
    }
   ],
   "source": [
    "#example mdd\n",
    "zero_nan_mdd_700= np.nan_to_num(mdd_dataset_reho_zero[200][0],copy=True)\n",
    "zero_nan_mdd_700[:,34,56]"
   ]
  },
  {
   "cell_type": "code",
   "execution_count": 13,
   "metadata": {},
   "outputs": [
    {
     "name": "stdout",
     "output_type": "stream",
     "text": [
      "(406, 2)\n",
      "(91, 109, 91)\n",
      "0\n",
      "0\n",
      "(2,)\n",
      "<class 'numpy.ndarray'>\n"
     ]
    }
   ],
   "source": [
    "#zero_nan_control\n",
    "print(control_reho_zero_nan3.shape)\n",
    "print(control_reho_zero_nan3[0][0].shape)\n",
    "print(control_reho_zero_nan3[0][1])\n",
    "print(control_reho_zero_nan3[100][1])\n",
    "print(control_reho_zero_nan3[0].shape)\n",
    "print(type(control_reho_zero_nan3))\n",
    "\n",
    "\n",
    "for i in range(len(control_dataset_reho_zero)):    \n",
    "    control_reho_zero_nan3[i][0] =np.nan_to_num(control_dataset_reho_zero[i][0],copy=True)\n",
    "    control_reho_zero_nan3[i][1] =np.nan_to_num(control_dataset_reho_zero[i][1],copy=True)"
   ]
  },
  {
   "cell_type": "code",
   "execution_count": 14,
   "metadata": {},
   "outputs": [
    {
     "name": "stdout",
     "output_type": "stream",
     "text": [
      "(406, 2)\n",
      "(91, 109, 91)\n",
      "0\n",
      "0\n"
     ]
    },
    {
     "data": {
      "text/plain": [
       "array([ 0.        ,  0.        ,  0.        ,  0.        ,  0.        ,\n",
       "        0.        ,  0.        ,  0.        ,  0.        ,  0.        ,\n",
       "        0.        ,  0.        ,  0.        ,  0.        ,  0.        ,\n",
       "        0.        ,  1.92880917,  1.65505862,  1.50674844,  2.09607053,\n",
       "        2.05625844,  2.41848874,  2.81477833,  2.72659802,  0.56506944,\n",
       "       -0.57554001, -0.57232052,  0.4258582 ,  1.86898804,  2.42637134,\n",
       "        0.73444235, -1.2418406 , -1.55629468, -0.67085862, -0.38477191,\n",
       "       -0.59492254, -0.74451315, -1.08082223, -1.03288448, -0.70927638,\n",
       "       -0.61947405, -0.0504877 ,  1.20987523,  1.3354032 ,  1.1982826 ,\n",
       "        0.79785603,  1.10096228, -0.05129792, -0.35614774, -0.5955022 ,\n",
       "        0.29684177,  0.87079233,  0.94436699, -0.40263551, -0.84259462,\n",
       "       -0.74756503, -0.91505301, -0.75655597, -1.34471273, -1.12159681,\n",
       "       -0.88892096, -0.87314522, -0.3770186 ,  0.09685825,  0.41978529,\n",
       "        1.64266217,  1.3973223 ,  1.64998627,  1.87235522,  1.9905386 ,\n",
       "        1.86089349,  2.12484097,  2.40207648,  2.95822525,  3.04288554,\n",
       "        2.82631922,  0.        ,  0.        ,  0.        ,  0.        ,\n",
       "        0.        ,  0.        ,  0.        ,  0.        ,  0.        ,\n",
       "        0.        ,  0.        ,  0.        ,  0.        ,  0.        ,\n",
       "        0.        ])"
      ]
     },
     "execution_count": 14,
     "metadata": {},
     "output_type": "execute_result"
    }
   ],
   "source": [
    "print(control_reho_zero_nan3.shape)\n",
    "print(control_reho_zero_nan3[0][0].shape)\n",
    "print(control_reho_zero_nan3[0][1]) ## mdd label for control=0\n",
    "print(control_reho_zero_nan3[310][1])\n",
    "control_reho_zero_nan3[310][0][:,34,56]\n"
   ]
  },
  {
   "cell_type": "code",
   "execution_count": 15,
   "metadata": {},
   "outputs": [
    {
     "name": "stdout",
     "output_type": "stream",
     "text": [
      "(401, 2)\n",
      "(91, 109, 91)\n",
      "<class 'numpy.ndarray'>\n"
     ]
    },
    {
     "data": {
      "text/plain": [
       "(401, 2)"
      ]
     },
     "execution_count": 15,
     "metadata": {},
     "output_type": "execute_result"
    }
   ],
   "source": [
    "#zero_nan_mdd\n",
    "\n",
    "print(mdd_reho_zero_nan3.shape)\n",
    "print(mdd_reho_zero_nan3[0][0].shape)\n",
    "print(type(mdd_reho_zero_nan3))\n",
    "\n",
    "for i in range(len(mdd_dataset_reho_zero)):    \n",
    "    mdd_reho_zero_nan3[i][0] =np.nan_to_num(mdd_dataset_reho_zero[i][0],copy=True)\n",
    "    mdd_reho_zero_nan3[i][1] =np.nan_to_num(mdd_dataset_reho_zero[i][1],copy=True)\n",
    "\n",
    "mdd_reho_zero_nan3.shape"
   ]
  },
  {
   "cell_type": "code",
   "execution_count": 16,
   "metadata": {},
   "outputs": [
    {
     "name": "stdout",
     "output_type": "stream",
     "text": [
      "(401, 2)\n",
      "(91, 109, 91)\n",
      "(2,)\n",
      "1\n"
     ]
    },
    {
     "data": {
      "text/plain": [
       "array([ 0.        ,  0.        ,  0.        ,  0.        ,  0.        ,\n",
       "        0.        ,  0.        ,  0.        ,  0.        ,  0.        ,\n",
       "        0.        ,  0.        ,  0.        ,  0.        ,  0.        ,\n",
       "        0.        ,  0.89694434,  1.53167081,  1.40648949,  0.90064555,\n",
       "        0.50201535,  1.05856395,  1.67457688,  0.33942047, -0.31369969,\n",
       "       -0.86556798, -0.37977558,  0.27634034,  0.99926221,  0.79770249,\n",
       "       -0.22853535, -0.82520247, -0.65290391, -0.62675053,  0.0279612 ,\n",
       "        0.10059064, -1.12045527, -1.14470899, -0.3832809 , -0.16794838,\n",
       "        0.68927377,  1.24274755,  0.80247015,  1.30472624,  1.91071725,\n",
       "        2.41066408,  2.15777278,  2.05791116,  1.47320616,  0.74505085,\n",
       "       -0.22453272, -0.89213282, -1.32719958, -1.27261472, -1.20149791,\n",
       "       -1.18277717, -0.85600626, -0.2043324 ,  0.1393735 ,  0.37202767,\n",
       "       -0.18662888, -0.3457886 , -0.0859847 , -0.29503322, -0.49483332,\n",
       "       -0.72829646, -0.56183022, -0.27383313,  0.34166506,  1.35535753,\n",
       "        1.45775628,  1.33243108,  1.73973191,  2.39372563,  2.53319359,\n",
       "        2.80952382,  0.        ,  0.        ,  0.        ,  0.        ,\n",
       "        0.        ,  0.        ,  0.        ,  0.        ,  0.        ,\n",
       "        0.        ,  0.        ,  0.        ,  0.        ,  0.        ,\n",
       "        0.        ])"
      ]
     },
     "execution_count": 16,
     "metadata": {},
     "output_type": "execute_result"
    }
   ],
   "source": [
    "print(mdd_reho_zero_nan3.shape)\n",
    "\n",
    "mdd_reho_zero_nan3.shape\n",
    "print(mdd_reho_zero_nan3[0][0].shape)\n",
    "print(mdd_reho_zero_nan3[0].shape)\n",
    "print(mdd_reho_zero_nan3[0][1])\n",
    "mdd_reho_zero_nan3[210][0][:,34,56]"
   ]
  },
  {
   "cell_type": "markdown",
   "metadata": {},
   "source": [
    "### load and add 1 channel to dimension of data 'without nan'"
   ]
  },
  {
   "cell_type": "code",
   "execution_count": 17,
   "metadata": {},
   "outputs": [],
   "source": [
    "# np.reshape(control_dataset[0][0], (1, 91, 109, 91))\n",
    "\n",
    "control_reho_4d_zero_nan = [[np.reshape(c[0], (1, 91, 109, 91)), c[1]] for c in control_reho_zero_nan3]\n",
    "mdd_reho_4d_zero_nan = [[np.reshape(m[0], (1, 91, 109, 91)), m[1]] for m in mdd_reho_zero_nan3]"
   ]
  },
  {
   "cell_type": "code",
   "execution_count": 18,
   "metadata": {
    "scrolled": true
   },
   "outputs": [
    {
     "name": "stdout",
     "output_type": "stream",
     "text": [
      "(1, 91, 109, 91)\n"
     ]
    },
    {
     "data": {
      "text/plain": [
       "1"
      ]
     },
     "execution_count": 18,
     "metadata": {},
     "output_type": "execute_result"
    }
   ],
   "source": [
    "print(mdd_reho_4d_zero_nan[200][0].shape)\n",
    "mdd_reho_4d_zero_nan[200][1]"
   ]
  },
  {
   "cell_type": "code",
   "execution_count": 19,
   "metadata": {},
   "outputs": [
    {
     "name": "stdout",
     "output_type": "stream",
     "text": [
      "(1, 91, 109, 91)\n"
     ]
    },
    {
     "data": {
      "text/plain": [
       "0"
      ]
     },
     "execution_count": 19,
     "metadata": {},
     "output_type": "execute_result"
    }
   ],
   "source": [
    "print(control_reho_4d_zero_nan[400][0].shape)\n",
    "control_reho_4d_zero_nan[400][1]"
   ]
  },
  {
   "cell_type": "code",
   "execution_count": 20,
   "metadata": {},
   "outputs": [
    {
     "data": {
      "text/plain": [
       "401"
      ]
     },
     "execution_count": 20,
     "metadata": {},
     "output_type": "execute_result"
    }
   ],
   "source": [
    "len(mdd_reho_4d_zero_nan)"
   ]
  },
  {
   "cell_type": "code",
   "execution_count": 21,
   "metadata": {},
   "outputs": [
    {
     "data": {
      "text/plain": [
       "2"
      ]
     },
     "execution_count": 21,
     "metadata": {},
     "output_type": "execute_result"
    }
   ],
   "source": [
    "len(mdd_reho_4d_zero_nan[0])"
   ]
  },
  {
   "cell_type": "markdown",
   "metadata": {},
   "source": [
    "### concat data for control and MDD without nan"
   ]
  },
  {
   "cell_type": "code",
   "execution_count": 22,
   "metadata": {},
   "outputs": [
    {
     "name": "stdout",
     "output_type": "stream",
     "text": [
      "(1, 91, 109, 91)\n",
      "1\n",
      "0\n"
     ]
    },
    {
     "data": {
      "text/plain": [
       "array([ 0.        ,  0.        ,  0.        ,  0.        ,  0.        ,\n",
       "        0.        ,  0.        ,  0.        ,  0.        ,  0.        ,\n",
       "        0.        ,  0.7354008 ,  0.97225487,  0.6655516 ,  0.5045414 ,\n",
       "        0.23751946,  0.39128035,  0.04286977, -0.19165701, -0.04427373,\n",
       "        0.3572045 , -0.29436272, -0.98918092, -1.48211277, -0.93318349,\n",
       "        0.07038743,  0.27300313, -0.31109539, -0.86865693, -0.24555571,\n",
       "        0.11219197, -0.10363912, -1.05470514, -1.54315436, -1.04447842,\n",
       "       -0.05038481,  0.2438602 ,  0.2133141 ,  0.15438046,  0.02535832,\n",
       "       -0.20282435, -0.51745832, -0.33087346, -0.18913874, -0.82077676,\n",
       "       -0.89444751, -0.80883682, -0.77305537, -1.18561471, -1.12578225,\n",
       "       -1.00993824, -0.75254011, -0.35766476, -0.07388546, -0.44285613,\n",
       "       -0.57027304, -0.82279837, -0.74773669, -0.94457603, -0.80450368,\n",
       "       -0.97555399, -1.16351736, -0.53341681,  0.19823286, -0.00336363,\n",
       "       -1.02229309, -1.242064  , -0.98520249, -0.14166881, -0.43373957,\n",
       "       -1.22061431, -0.89539278, -0.08725192,  0.09057721,  0.44254082,\n",
       "        0.57293999,  1.06071663,  1.33886921,  1.43052614,  1.90495205,\n",
       "        0.        ,  0.        ,  0.        ,  0.        ,  0.        ,\n",
       "        0.        ,  0.        ,  0.        ,  0.        ,  0.        ,\n",
       "        0.        ])"
      ]
     },
     "execution_count": 22,
     "metadata": {},
     "output_type": "execute_result"
    }
   ],
   "source": [
    "dataset_ukbb_reho_zero_nan= ConcatDataset([control_reho_4d_zero_nan, mdd_reho_4d_zero_nan])\n",
    "\n",
    "print(dataset_ukbb_reho_zero_nan[0][0].shape)\n",
    "print(dataset_ukbb_reho_zero_nan[500][1])\n",
    "print(dataset_ukbb_reho_zero_nan[310][1])\n",
    "\n",
    "\n",
    "dataset_ukbb_reho_zero_nan[500][0][0,:,54,45]\n",
    "\n",
    "#subject number=1500, mdd label,reho value for voxels along axial with y ,z dimention = 54,45"
   ]
  },
  {
   "cell_type": "code",
   "execution_count": 23,
   "metadata": {},
   "outputs": [
    {
     "data": {
      "text/plain": [
       "807"
      ]
     },
     "execution_count": 23,
     "metadata": {},
     "output_type": "execute_result"
    }
   ],
   "source": [
    "len(dataset_ukbb_reho_zero_nan)"
   ]
  },
  {
   "cell_type": "code",
   "execution_count": 24,
   "metadata": {},
   "outputs": [
    {
     "data": {
      "text/plain": [
       "2"
      ]
     },
     "execution_count": 24,
     "metadata": {},
     "output_type": "execute_result"
    }
   ],
   "source": [
    "len(dataset_ukbb_reho_zero_nan[0])"
   ]
  },
  {
   "cell_type": "code",
   "execution_count": 25,
   "metadata": {},
   "outputs": [
    {
     "name": "stdout",
     "output_type": "stream",
     "text": [
      "0\n",
      "1\n",
      "0\n"
     ]
    },
    {
     "data": {
      "text/plain": [
       "()"
      ]
     },
     "execution_count": 25,
     "metadata": {},
     "output_type": "execute_result"
    }
   ],
   "source": [
    "print(dataset_ukbb_reho_zero_nan[200][1]) # subject 800 label MDD =0\n",
    "print(dataset_ukbb_reho_zero_nan[500][1]) # subject 1500 label MDD =1 \n",
    "\n",
    "#problem solved : mdd_zero_nan label have problem : instead of 1 integer we have an array (91,109,91)\n",
    "\n",
    "print(dataset_ukbb_reho_zero_nan[0][1])\n",
    "\n",
    "dataset_ukbb_reho_zero_nan[500][1].shape"
   ]
  },
  {
   "cell_type": "code",
   "execution_count": 26,
   "metadata": {},
   "outputs": [
    {
     "data": {
      "text/plain": [
       "1"
      ]
     },
     "execution_count": 26,
     "metadata": {},
     "output_type": "execute_result"
    }
   ],
   "source": [
    "dataset_ukbb_reho_zero_nan[500][1]"
   ]
  },
  {
   "cell_type": "markdown",
   "metadata": {},
   "source": [
    "### Network architecture"
   ]
  },
  {
   "cell_type": "code",
   "execution_count": 27,
   "metadata": {},
   "outputs": [],
   "source": [
    "#Define a Convolutional Neural Network : BASED ON https://www.biorxiv.org/content/10.1101/2019.12.17.879346v1\n",
    "\n",
    "class ConvNet(nn.Module):\n",
    "    def __init__(self):\n",
    "        super(ConvNet, self).__init__()\n",
    "        \n",
    "        self.downsample = nn.AvgPool3d(2, stride=2, padding=0)\n",
    "        \n",
    "        self.CNNlayer = nn.Sequential(\n",
    "            nn.Conv3d(1, 64, kernel_size=3, stride=1),\n",
    "            nn.ELU(),\n",
    "            nn.Conv3d(64, 16, kernel_size=3, stride=1),\n",
    "            nn.ELU(),\n",
    "            nn.MaxPool3d(2)\n",
    "        )\n",
    "        \n",
    "        self.flat1 = nn.Linear(160000, 16)   \n",
    "        self.flat2 = nn.Linear(16, 1)\n",
    "            \n",
    "    def forward(self, x):\n",
    "        x=self.downsample(x)\n",
    "        #print(f'avg-pool: {x.size()}\\n----------')\n",
    "        #print(f'number of nan in this layer = {torch.isnan(x).sum()}')\n",
    "        \n",
    "        x=self.CNNlayer(x)\n",
    "        #print(f'convolution1+2+maxpool: {x.size()} \\n----------')\n",
    "        \n",
    "        x=x.reshape(x.size(0), -1)\n",
    "        #print(f'reshape after cnn: {x.size()}\\n----------')\n",
    "        \n",
    "        x=F.elu(self.flat1(x))\n",
    "        #print(f'fully-connected1: {x.size()}\\n----------')\n",
    "                    \n",
    "        x=self.flat2(x)\n",
    "        #print(f'fully-connected2: {x.size()}\\n----------')\n",
    "        \n",
    "        return x"
   ]
  },
  {
   "cell_type": "markdown",
   "metadata": {},
   "source": [
    "### lunch wandb"
   ]
  },
  {
   "cell_type": "code",
   "execution_count": 28,
   "metadata": {},
   "outputs": [
    {
     "name": "stdout",
     "output_type": "stream",
     "text": [
      "\u001b[34m\u001b[1mwandb\u001b[0m: Appending key for api.wandb.ai to your netrc file: /data/zmohaghegh/.netrc\r\n"
     ]
    }
   ],
   "source": [
    "import wandb\n",
    "!wandb login 390734ff44d817dbba59927d4eb542e564627b3b"
   ]
  },
  {
   "cell_type": "markdown",
   "metadata": {},
   "source": [
    "### Train and Test (without CV)"
   ]
  },
  {
   "cell_type": "code",
   "execution_count": 29,
   "metadata": {},
   "outputs": [
    {
     "name": "stdout",
     "output_type": "stream",
     "text": [
      "807\n",
      "564\n",
      "161\n",
      "82\n"
     ]
    }
   ],
   "source": [
    "### spilit data to train-test and validation\n",
    "\n",
    "dataset_size= len(dataset_ukbb_reho_zero_nan)\n",
    "train_count = int(0.7 * dataset_size) \n",
    "valid_count= int(0.2 * dataset_size)\n",
    "test_count = dataset_size - train_count -valid_count\n",
    "\n",
    "print(dataset_size)\n",
    "print(train_count)\n",
    "print(valid_count)\n",
    "print(test_count)"
   ]
  },
  {
   "cell_type": "code",
   "execution_count": 30,
   "metadata": {},
   "outputs": [],
   "source": [
    "from sklearn.metrics import accuracy_score, balanced_accuracy_score, f1_score,confusion_matrix"
   ]
  },
  {
   "cell_type": "code",
   "execution_count": 31,
   "metadata": {
    "scrolled": true
   },
   "outputs": [
    {
     "name": "stderr",
     "output_type": "stream",
     "text": [
      "\u001b[34m\u001b[1mwandb\u001b[0m: Currently logged in as: \u001b[33mzahramhn\u001b[0m (use `wandb login --relogin` to force relogin)\n"
     ]
    },
    {
     "data": {
      "text/html": [
       "\n",
       "                Tracking run with wandb version 0.10.20<br/>\n",
       "                Syncing run <strong style=\"color:#cdcd00\">vital-sound-10</strong> to <a href=\"https://wandb.ai\" target=\"_blank\">Weights & Biases</a> <a href=\"https://docs.wandb.com/integrations/jupyter.html\" target=\"_blank\">(Documentation)</a>.<br/>\n",
       "                Project page: <a href=\"https://wandb.ai/zahramhn/MDD-guido2020-classification-Reho\" target=\"_blank\">https://wandb.ai/zahramhn/MDD-guido2020-classification-Reho</a><br/>\n",
       "                Run page: <a href=\"https://wandb.ai/zahramhn/MDD-guido2020-classification-Reho/runs/2xey99w5\" target=\"_blank\">https://wandb.ai/zahramhn/MDD-guido2020-classification-Reho/runs/2xey99w5</a><br/>\n",
       "                Run data is saved locally in <code>/data/zmohaghegh/TempStats_3D-CNN/wandb/run-20210427_235009-2xey99w5</code><br/><br/>\n",
       "            "
      ],
      "text/plain": [
       "<IPython.core.display.HTML object>"
      ]
     },
     "metadata": {},
     "output_type": "display_data"
    },
    {
     "name": "stdout",
     "output_type": "stream",
     "text": [
      "*********Starting epoch 1\n",
      "acc_train :50.0\n",
      "loss_train = 0.0709229617415587\n",
      "Training process has finished\n",
      "starting validation :\n",
      "acc_valid :42.857142857142854\n",
      "loss_valid = 0.07337788879188792\n",
      "Saving trained model.\n",
      "validation process has finished.\n",
      "*********Starting epoch 2\n",
      "acc_train :51.773049645390074\n",
      "loss_train = 0.06951329507519662\n",
      "Training process has finished\n",
      "starting validation :\n",
      "acc_valid :47.82608695652174\n",
      "loss_valid = 0.07360584769437369\n",
      "Saving trained model.\n",
      "validation process has finished.\n",
      "*********Starting epoch 3\n",
      "acc_train :55.319148936170215\n",
      "loss_train = 0.06943058058168498\n",
      "Training process has finished\n",
      "starting validation :\n",
      "acc_valid :60.24844720496895\n",
      "loss_valid = 0.07229574971500284\n",
      "Saving trained model.\n",
      "validation process has finished.\n",
      "*********Starting epoch 4\n",
      "acc_train :59.219858156028366\n",
      "loss_train = 0.06791198845084113\n",
      "Training process has finished\n",
      "starting validation :\n",
      "acc_valid :46.58385093167702\n",
      "loss_valid = 0.07512461897737191\n",
      "validation process has finished.\n",
      "*********Starting epoch 5\n",
      "acc_train :67.55319148936171\n",
      "loss_train = 0.06335347641048146\n",
      "Training process has finished\n",
      "starting validation :\n",
      "acc_valid :61.49068322981366\n",
      "loss_valid = 0.06847559520987898\n",
      "Saving trained model.\n",
      "validation process has finished.\n",
      "*********Starting epoch 6\n",
      "acc_train :76.59574468085107\n",
      "loss_train = 0.05538553129416329\n",
      "Training process has finished\n",
      "starting validation :\n",
      "acc_valid :52.17391304347826\n",
      "loss_valid = 0.07347467934361565\n",
      "validation process has finished.\n",
      "*********Starting epoch 7\n",
      "acc_train :82.44680851063829\n",
      "loss_train = 0.04353057566546432\n",
      "Training process has finished\n",
      "starting validation :\n",
      "acc_valid :50.31055900621118\n",
      "loss_valid = 0.09604692455516976\n",
      "validation process has finished.\n",
      "*********Starting epoch 8\n",
      "acc_train :85.46099290780141\n",
      "loss_train = 0.03554169888873347\n",
      "Training process has finished\n",
      "starting validation :\n",
      "acc_valid :63.35403726708075\n",
      "loss_valid = 0.07485367296579094\n",
      "Saving trained model.\n",
      "validation process has finished.\n",
      "*********Starting epoch 9\n",
      "acc_train :99.11347517730496\n",
      "loss_train = 0.012016843864320182\n",
      "Training process has finished\n",
      "starting validation :\n",
      "acc_valid :49.06832298136646\n",
      "loss_valid = 0.11815090620764228\n",
      "validation process has finished.\n",
      "*********Starting epoch 10\n",
      "acc_train :98.40425531914893\n",
      "loss_train = 0.007347893002252581\n",
      "Training process has finished\n",
      "starting validation :\n",
      "acc_valid :60.869565217391305\n",
      "loss_valid = 0.11200609909812666\n",
      "validation process has finished.\n"
     ]
    }
   ],
   "source": [
    "wandb.init(project='MDD-guido2020-classification-Reho')  \n",
    "\n",
    "#define the newtwork \n",
    "network = ConvNet()\n",
    "network = network.double()\n",
    "\n",
    "#set hyper parameter\n",
    "learning_rate= 0.001\n",
    "num_epochs = 10\n",
    "BATCH_SIZE = 10\n",
    "best_acc= None\n",
    "\n",
    "# Define a Loss function \n",
    "loss_function = nn.BCEWithLogitsLoss()  \n",
    "\n",
    "# create the optimizer\n",
    "optimizer = optim.SGD(network.parameters(), momentum=0.9, lr = learning_rate, weight_decay=1e-3)\n",
    "\n",
    "# load data splits\n",
    "train_dataset, test_dataset ,valid_dataset = torch.utils.data.random_split(dataset_ukbb_reho_zero_nan, (train_count, test_count,valid_count))\n",
    "\n",
    "train_dataset_loader = torch.utils.data.DataLoader(train_dataset, batch_size=BATCH_SIZE, shuffle=True)  \n",
    "test_dataset_loader  = torch.utils.data.DataLoader(test_dataset , batch_size=BATCH_SIZE, shuffle=False)\n",
    "valid_dataset_loader  = torch.utils.data.DataLoader(valid_dataset , batch_size=BATCH_SIZE, shuffle=True)\n",
    "\n",
    "\n",
    "#dataloaders = {'train': train_dataset_loader, 'test': test_dataset_loader, 'valid': valid_dataset_loader}\n",
    "\n",
    "network.train()\n",
    "# start training loop:\n",
    "for epoch in range(0, num_epochs):\n",
    "    print(f'*********Starting epoch {epoch+1}')\n",
    "    \n",
    "    train_loss = 0\n",
    "    total =0 \n",
    "    correct = 0\n",
    "    \n",
    "    # train model/network \n",
    "    for i, data in enumerate(train_dataset_loader, 0):\n",
    "        #print(f'train {i}')\n",
    "            \n",
    "        # get the inputs; data is a list of [inputs, labels]\n",
    "        inputs, labels = data\n",
    "            \n",
    "        # zero the gradient buffers\n",
    "        optimizer.zero_grad()\n",
    "            \n",
    "        # forward pass\n",
    "        outputs = network(inputs)\n",
    "    \n",
    "        outputss = outputs.squeeze(1) #### [10,1] ---> [10]\n",
    "        \n",
    "        #nloss requires a 1-D tensor of class indices of the target (outputs in your case) but not one-hot vectors of the target.\n",
    "        #The shape of the target should be [mini_batch_size], \n",
    "        #but in your case it happens to be [mini_batch_size,num_classes].\n",
    "        \n",
    "        predicted = outputss.data > 0.0 # the loss function contain also a sigmoid layer <0 = false >0 =true\n",
    "        \n",
    "        labels = labels.double()\n",
    "        \n",
    "        #calcuate loss/error\n",
    "        loss = loss_function(outputss, labels)\n",
    "              \n",
    "        # backward pass\n",
    "        loss.backward()\n",
    "            \n",
    "        # Does the update , gradient descent\n",
    "        optimizer.step() \n",
    "            \n",
    "        #loss_list.append(loss.item())\n",
    "        train_loss += loss.item()\n",
    "        total += labels.size(0)\n",
    "        correct += (predicted == labels).sum().item()\n",
    "    \n",
    "    print(f'acc_train :{100 * correct/total}')\n",
    "    print (f'loss_train = {train_loss/total}')\n",
    "    \n",
    "    wandb.log({ \"epoch_reho\": epoch ,\"train_Loss_reho\": train_loss/total, \"trian_acc_reho\" :100 * correct /total })\n",
    "\n",
    "    \n",
    "    print('Training process has finished') \n",
    "\n",
    "    print('starting validation :')\n",
    "\n",
    "    network.eval()\n",
    "\n",
    "    valid_loss=0\n",
    "    total=0\n",
    "    correct=0\n",
    "\n",
    "    with torch.no_grad():\n",
    "        for i, data in enumerate(valid_dataset_loader, 0):\n",
    "            #print(f'valid {i}')\n",
    "            inputs, lables = data\n",
    "\n",
    "            outputs = network(inputs)\n",
    "\n",
    "            outputss=outputs.squeeze(1) #[10,1] ---> [10]\n",
    "            lables=lables.double()\n",
    "\n",
    "            # prediction \n",
    "            predicted = outputss.data > 0.0\n",
    "\n",
    "            loss = loss_function(outputss, lables)\n",
    "\n",
    "            valid_loss += loss.item()\n",
    "            total += lables.size(0)\n",
    "            correct += (predicted == lables).sum().item()\n",
    "\n",
    "        print(f'acc_valid :{100 * correct/total}')\n",
    "        print (f'loss_valid = {valid_loss/total}')\n",
    "\n",
    "        wandb.log({ \"validation_acc_reho\" :100 * correct /total, \"validation_Loss_reho\": valid_loss/total })\n",
    "\n",
    "        current_valid_acc =100 * correct/total\n",
    "        if not best_acc or best_acc < current_valid_acc:\n",
    "            best_acc = current_valid_acc\n",
    "            \n",
    "            print('Saving trained model.')\n",
    "            PATH_best = './model-best acc-reho.pth'\n",
    "            torch.save(network.state_dict(), PATH_best)\n",
    "        print('validation process has finished.')"
   ]
  },
  {
   "cell_type": "markdown",
   "metadata": {},
   "source": [
    "### Test the network using the test data without CV"
   ]
  },
  {
   "cell_type": "code",
   "execution_count": 32,
   "metadata": {},
   "outputs": [
    {
     "name": "stdout",
     "output_type": "stream",
     "text": [
      "Starting testing\n",
      "test_loss= 0.08067705450018713\n",
      "test_acc= 52.4390243902439\n"
     ]
    }
   ],
   "source": [
    "network.load_state_dict(torch.load(PATH_best))\n",
    "\n",
    "test_loss = 0\n",
    "correct = 0\n",
    "total= 0\n",
    "\n",
    "print('Starting testing')\n",
    "\n",
    "network.eval()\n",
    "\n",
    "with torch.no_grad():\n",
    "    for i, data in enumerate(test_dataset_loader, 0):\n",
    "        #print(f'test {i}')\n",
    "        \n",
    "        inputs, lables = data\n",
    "        lables = lables.double() # loss function get only double not Long\n",
    "        \n",
    "        outputs = network(inputs)\n",
    "        #print(outputs.size())\n",
    "        \n",
    "        outputss = outputs.squeeze(1) #[10,1] ---> [10]\n",
    "        #print(outputss.size())\n",
    "        #print(lables.size())\n",
    "    \n",
    "        predicted = outputss.data > 0.0\n",
    "        \n",
    "        loss = loss_function(outputss, lables)\n",
    "        \n",
    "        test_loss += loss.item()\n",
    "        total += lables.size(0)\n",
    "        correct += (predicted == lables).sum().item()\n",
    "        \n",
    "    wandb.log({ \"test_Accuracy_reho\": 100 * correct /total  , \"test_Loss_reho\": test_loss/total })\n",
    "\n",
    "    print(f'test_loss= {test_loss/total}')\n",
    "    print(f'test_acc= {100 * correct / total}')"
   ]
  },
  {
   "cell_type": "markdown",
   "metadata": {},
   "source": [
    "## Cross validation loop "
   ]
  },
  {
   "cell_type": "code",
   "execution_count": 33,
   "metadata": {},
   "outputs": [
    {
     "name": "stdout",
     "output_type": "stream",
     "text": [
      "645\n"
     ]
    },
    {
     "data": {
      "text/plain": [
       "162"
      ]
     },
     "execution_count": 33,
     "metadata": {},
     "output_type": "execute_result"
    }
   ],
   "source": [
    "from sklearn.model_selection import train_test_split\n",
    "train_dataset_cv, test_dataset_cv = train_test_split(dataset_ukbb_reho_zero_nan, test_size=0.20, train_size=0.8,shuffle=True)\n",
    "print(len(train_dataset_cv))\n",
    "len(test_dataset_cv)"
   ]
  },
  {
   "cell_type": "markdown",
   "metadata": {},
   "source": [
    "### train and validation loop CV"
   ]
  },
  {
   "cell_type": "code",
   "execution_count": 34,
   "metadata": {
    "scrolled": true
   },
   "outputs": [
    {
     "data": {
      "text/html": [
       "Finishing last run (ID:2xey99w5) before initializing another..."
      ],
      "text/plain": [
       "<IPython.core.display.HTML object>"
      ]
     },
     "metadata": {},
     "output_type": "display_data"
    },
    {
     "data": {
      "text/html": [
       "<br/>Waiting for W&B process to finish, PID 24275<br/>Program ended successfully."
      ],
      "text/plain": [
       "<IPython.core.display.HTML object>"
      ]
     },
     "metadata": {},
     "output_type": "display_data"
    },
    {
     "data": {
      "application/vnd.jupyter.widget-view+json": {
       "model_id": "",
       "version_major": 2,
       "version_minor": 0
      },
      "text/plain": [
       "VBox(children=(Label(value=' 0.00MB of 0.00MB uploaded (0.00MB deduped)\\r'), FloatProgress(value=1.0, max=1.0)…"
      ]
     },
     "metadata": {},
     "output_type": "display_data"
    },
    {
     "data": {
      "text/html": [
       "Find user logs for this run at: <code>/data/zmohaghegh/TempStats_3D-CNN/wandb/run-20210427_235009-2xey99w5/logs/debug.log</code>"
      ],
      "text/plain": [
       "<IPython.core.display.HTML object>"
      ]
     },
     "metadata": {},
     "output_type": "display_data"
    },
    {
     "data": {
      "text/html": [
       "Find internal logs for this run at: <code>/data/zmohaghegh/TempStats_3D-CNN/wandb/run-20210427_235009-2xey99w5/logs/debug-internal.log</code>"
      ],
      "text/plain": [
       "<IPython.core.display.HTML object>"
      ]
     },
     "metadata": {},
     "output_type": "display_data"
    },
    {
     "data": {
      "text/html": [
       "<h3>Run summary:</h3><br/><style>\n",
       "    table.wandb td:nth-child(1) { padding: 0 10px; text-align: right }\n",
       "    </style><table class=\"wandb\">\n",
       "<tr><td>epoch_reho</td><td>9</td></tr><tr><td>train_Loss_reho</td><td>0.00735</td></tr><tr><td>trian_acc_reho</td><td>98.40426</td></tr><tr><td>_runtime</td><td>10224</td></tr><tr><td>_timestamp</td><td>1619570434</td></tr><tr><td>_step</td><td>20</td></tr><tr><td>validation_acc_reho</td><td>60.86957</td></tr><tr><td>validation_Loss_reho</td><td>0.11201</td></tr><tr><td>test_Accuracy_reho</td><td>52.43902</td></tr><tr><td>test_Loss_reho</td><td>0.08068</td></tr></table>"
      ],
      "text/plain": [
       "<IPython.core.display.HTML object>"
      ]
     },
     "metadata": {},
     "output_type": "display_data"
    },
    {
     "data": {
      "text/html": [
       "<h3>Run history:</h3><br/><style>\n",
       "    table.wandb td:nth-child(1) { padding: 0 10px; text-align: right }\n",
       "    </style><table class=\"wandb\">\n",
       "<tr><td>epoch_reho</td><td>▁▂▃▃▄▅▆▆▇█</td></tr><tr><td>train_Loss_reho</td><td>████▇▆▅▄▂▁</td></tr><tr><td>trian_acc_reho</td><td>▁▁▂▂▄▅▆▆██</td></tr><tr><td>_runtime</td><td>▁▁▂▂▃▃▃▃▄▄▅▅▆▆▆▆▇▇███</td></tr><tr><td>_timestamp</td><td>▁▁▂▂▃▃▃▃▄▄▅▅▆▆▆▆▇▇███</td></tr><tr><td>_step</td><td>▁▁▂▂▂▃▃▃▄▄▅▅▅▆▆▆▇▇▇██</td></tr><tr><td>validation_acc_reho</td><td>▁▃▇▂▇▄▄█▃▇</td></tr><tr><td>validation_Loss_reho</td><td>▂▂▂▂▁▂▅▂█▇</td></tr><tr><td>test_Accuracy_reho</td><td>▁</td></tr><tr><td>test_Loss_reho</td><td>▁</td></tr></table><br/>"
      ],
      "text/plain": [
       "<IPython.core.display.HTML object>"
      ]
     },
     "metadata": {},
     "output_type": "display_data"
    },
    {
     "data": {
      "text/html": [
       "Synced 5 W&B file(s), 0 media file(s), 0 artifact file(s) and 0 other file(s)"
      ],
      "text/plain": [
       "<IPython.core.display.HTML object>"
      ]
     },
     "metadata": {},
     "output_type": "display_data"
    },
    {
     "data": {
      "text/html": [
       "\n",
       "                    <br/>Synced <strong style=\"color:#cdcd00\">vital-sound-10</strong>: <a href=\"https://wandb.ai/zahramhn/MDD-guido2020-classification-Reho/runs/2xey99w5\" target=\"_blank\">https://wandb.ai/zahramhn/MDD-guido2020-classification-Reho/runs/2xey99w5</a><br/>\n",
       "                "
      ],
      "text/plain": [
       "<IPython.core.display.HTML object>"
      ]
     },
     "metadata": {},
     "output_type": "display_data"
    },
    {
     "data": {
      "text/html": [
       "...Successfully finished last run (ID:2xey99w5). Initializing new run:<br/><br/>"
      ],
      "text/plain": [
       "<IPython.core.display.HTML object>"
      ]
     },
     "metadata": {},
     "output_type": "display_data"
    },
    {
     "data": {
      "text/html": [
       "\n",
       "                Tracking run with wandb version 0.10.20<br/>\n",
       "                Syncing run <strong style=\"color:#cdcd00\">gentle-plasma-11</strong> to <a href=\"https://wandb.ai\" target=\"_blank\">Weights & Biases</a> <a href=\"https://docs.wandb.com/integrations/jupyter.html\" target=\"_blank\">(Documentation)</a>.<br/>\n",
       "                Project page: <a href=\"https://wandb.ai/zahramhn/MDD-guido2020-classification-Reho\" target=\"_blank\">https://wandb.ai/zahramhn/MDD-guido2020-classification-Reho</a><br/>\n",
       "                Run page: <a href=\"https://wandb.ai/zahramhn/MDD-guido2020-classification-Reho/runs/3lglc2rw\" target=\"_blank\">https://wandb.ai/zahramhn/MDD-guido2020-classification-Reho/runs/3lglc2rw</a><br/>\n",
       "                Run data is saved locally in <code>/data/zmohaghegh/TempStats_3D-CNN/wandb/run-20210428_024034-3lglc2rw</code><br/><br/>\n",
       "            "
      ],
      "text/plain": [
       "<IPython.core.display.HTML object>"
      ]
     },
     "metadata": {},
     "output_type": "display_data"
    },
    {
     "name": "stdout",
     "output_type": "stream",
     "text": [
      "FOLD 0\n",
      "--------------------------------\n",
      "*********Starting epoch 1\n",
      "train loss= 0.07118099828611332\n",
      "train Acc= 50.58139534883721\n",
      "Training process has finished.\n",
      "Start validating\n",
      "valid_acc :51.16279069767442\n",
      "valid_loss: 0.07049118121878493\n",
      "Saving best valid -trained model.\n",
      "validation process has finished\n",
      "*********Starting epoch 2\n",
      "train loss= 0.06789044160097264\n",
      "train Acc= 59.10852713178294\n",
      "Training process has finished.\n",
      "Start validating\n",
      "valid_acc :48.83720930232558\n",
      "valid_loss: 0.07315307260822775\n",
      "validation process has finished\n",
      "*********Starting epoch 3\n",
      "train loss= 0.06627314585522857\n",
      "train Acc= 60.85271317829457\n",
      "Training process has finished.\n",
      "Start validating\n",
      "valid_acc :50.3875968992248\n",
      "valid_loss: 0.07009508517863194\n",
      "validation process has finished\n",
      "*********Starting epoch 4\n",
      "train loss= 0.059042772122259286\n",
      "train Acc= 72.86821705426357\n",
      "Training process has finished.\n",
      "Start validating\n",
      "valid_acc :50.3875968992248\n",
      "valid_loss: 0.07780730712231473\n",
      "validation process has finished\n",
      "*********Starting epoch 5\n",
      "train loss= 0.04551208721158936\n",
      "train Acc= 81.0077519379845\n",
      "Training process has finished.\n",
      "Start validating\n",
      "valid_acc :54.263565891472865\n",
      "valid_loss: 0.07429990836186495\n",
      "Saving best valid -trained model.\n",
      "validation process has finished\n",
      "*********Starting epoch 6\n",
      "train loss= 0.025630349201894595\n",
      "train Acc= 94.96124031007751\n",
      "Training process has finished.\n",
      "Start validating\n",
      "valid_acc :46.51162790697674\n",
      "valid_loss: 0.08611304791860876\n",
      "validation process has finished\n",
      "*********Starting epoch 7\n",
      "train loss= 0.013027804466352565\n",
      "train Acc= 97.67441860465117\n",
      "Training process has finished.\n",
      "Start validating\n",
      "valid_acc :55.03875968992248\n",
      "valid_loss: 0.09066277286807993\n",
      "Saving best valid -trained model.\n",
      "validation process has finished\n",
      "*********Starting epoch 8\n",
      "train loss= 0.005882832162709151\n",
      "train Acc= 98.83720930232558\n",
      "Training process has finished.\n",
      "Start validating\n",
      "valid_acc :56.58914728682171\n",
      "valid_loss: 0.09539211533814342\n",
      "Saving best valid -trained model.\n",
      "validation process has finished\n",
      "*********Starting epoch 9\n",
      "train loss= 0.00288433198670184\n",
      "train Acc= 100.0\n",
      "Training process has finished.\n",
      "Start validating\n",
      "valid_acc :58.13953488372093\n",
      "valid_loss: 0.10127776575312787\n",
      "Saving best valid -trained model.\n",
      "validation process has finished\n",
      "*********Starting epoch 10\n",
      "train loss= 0.0011375147283228827\n",
      "train Acc= 100.0\n",
      "Training process has finished.\n",
      "Start validating\n",
      "valid_acc :55.81395348837209\n",
      "valid_loss: 0.11039902485557573\n",
      "validation process has finished\n",
      "Accuracy for fold 0: 55 %\n",
      "--------------------------------\n",
      "FOLD 1\n",
      "--------------------------------\n",
      "*********Starting epoch 1\n",
      "train loss= 0.07090955547833204\n",
      "train Acc= 45.542635658914726\n",
      "Training process has finished.\n",
      "Start validating\n",
      "valid_acc :56.58914728682171\n",
      "valid_loss: 0.06945191572173869\n",
      "Saving best valid -trained model.\n",
      "validation process has finished\n",
      "*********Starting epoch 2\n",
      "train loss= 0.06928213775049431\n",
      "train Acc= 51.93798449612403\n",
      "Training process has finished.\n",
      "Start validating\n",
      "valid_acc :42.63565891472868\n",
      "valid_loss: 0.07123431934560423\n",
      "validation process has finished\n",
      "*********Starting epoch 3\n",
      "train loss= 0.06734748683084921\n",
      "train Acc= 60.46511627906977\n",
      "Training process has finished.\n",
      "Start validating\n",
      "valid_acc :52.713178294573645\n",
      "valid_loss: 0.07204726095440628\n",
      "validation process has finished\n",
      "*********Starting epoch 4\n",
      "train loss= 0.06315856234424932\n",
      "train Acc= 63.372093023255815\n",
      "Training process has finished.\n",
      "Start validating\n",
      "valid_acc :51.16279069767442\n",
      "valid_loss: 0.07113753848899546\n",
      "validation process has finished\n",
      "*********Starting epoch 5\n",
      "train loss= 0.05686942796268533\n",
      "train Acc= 69.96124031007751\n",
      "Training process has finished.\n",
      "Start validating\n",
      "valid_acc :44.18604651162791\n",
      "valid_loss: 0.08024015679653518\n",
      "validation process has finished\n",
      "*********Starting epoch 6\n",
      "train loss= 0.05313854859015295\n",
      "train Acc= 69.57364341085271\n",
      "Training process has finished.\n",
      "Start validating\n",
      "valid_acc :53.48837209302326\n",
      "valid_loss: 0.07273585652593267\n",
      "validation process has finished\n",
      "*********Starting epoch 7\n",
      "train loss= 0.036195760491910166\n",
      "train Acc= 87.40310077519379\n",
      "Training process has finished.\n",
      "Start validating\n",
      "valid_acc :56.58914728682171\n",
      "valid_loss: 0.072239146765617\n",
      "validation process has finished\n",
      "*********Starting epoch 8\n",
      "train loss= 0.0172483814788796\n",
      "train Acc= 97.09302325581395\n",
      "Training process has finished.\n",
      "Start validating\n",
      "valid_acc :47.286821705426355\n",
      "valid_loss: 0.09240764475548315\n",
      "validation process has finished\n",
      "*********Starting epoch 9\n",
      "train loss= 0.007204084111231837\n",
      "train Acc= 99.6124031007752\n",
      "Training process has finished.\n",
      "Start validating\n",
      "valid_acc :49.6124031007752\n",
      "valid_loss: 0.08697796242801377\n",
      "validation process has finished\n",
      "*********Starting epoch 10\n",
      "train loss= 0.0029238634770019176\n",
      "train Acc= 100.0\n",
      "Training process has finished.\n",
      "Start validating\n",
      "valid_acc :51.93798449612403\n",
      "valid_loss: 0.09634741460823479\n",
      "validation process has finished\n",
      "Accuracy for fold 1: 51 %\n",
      "--------------------------------\n",
      "FOLD 2\n",
      "--------------------------------\n",
      "*********Starting epoch 1\n",
      "train loss= 0.07118639013454187\n",
      "train Acc= 49.224806201550386\n",
      "Training process has finished.\n",
      "Start validating\n",
      "valid_acc :50.3875968992248\n",
      "valid_loss: 0.06979272783145175\n",
      "Saving best valid -trained model.\n",
      "validation process has finished\n",
      "*********Starting epoch 2\n",
      "train loss= 0.06942977500216314\n",
      "train Acc= 53.48837209302326\n",
      "Training process has finished.\n",
      "Start validating\n",
      "valid_acc :52.713178294573645\n",
      "valid_loss: 0.06959079371169094\n",
      "Saving best valid -trained model.\n",
      "validation process has finished\n",
      "*********Starting epoch 3\n",
      "train loss= 0.06871312958201596\n",
      "train Acc= 55.03875968992248\n",
      "Training process has finished.\n",
      "Start validating\n",
      "valid_acc :54.263565891472865\n",
      "valid_loss: 0.06940542702079912\n",
      "Saving best valid -trained model.\n",
      "validation process has finished\n",
      "*********Starting epoch 4\n",
      "train loss= 0.06649708123183984\n",
      "train Acc= 64.34108527131782\n",
      "Training process has finished.\n",
      "Start validating\n",
      "valid_acc :51.16279069767442\n",
      "valid_loss: 0.06987126657017005\n",
      "validation process has finished\n",
      "*********Starting epoch 5\n",
      "train loss= 0.061287561124646894\n",
      "train Acc= 69.37984496124031\n",
      "Training process has finished.\n",
      "Start validating\n",
      "valid_acc :58.13953488372093\n",
      "valid_loss: 0.06861485024427129\n",
      "Saving best valid -trained model.\n",
      "validation process has finished\n",
      "*********Starting epoch 6\n",
      "train loss= 0.05178246576699449\n",
      "train Acc= 77.71317829457364\n",
      "Training process has finished.\n",
      "Start validating\n",
      "valid_acc :53.48837209302326\n",
      "valid_loss: 0.07306582031799055\n",
      "validation process has finished\n",
      "*********Starting epoch 7\n",
      "train loss= 0.05279094154942416\n",
      "train Acc= 72.28682170542636\n",
      "Training process has finished.\n",
      "Start validating\n",
      "valid_acc :55.03875968992248\n",
      "valid_loss: 0.07123233531655529\n",
      "validation process has finished\n",
      "*********Starting epoch 8\n",
      "train loss= 0.03629477990185611\n",
      "train Acc= 84.68992248062015\n",
      "Training process has finished.\n",
      "Start validating\n",
      "valid_acc :55.81395348837209\n",
      "valid_loss: 0.07639688915718879\n",
      "validation process has finished\n",
      "*********Starting epoch 9\n",
      "train loss= 0.014788346673151407\n",
      "train Acc= 97.28682170542636\n",
      "Training process has finished.\n",
      "Start validating\n",
      "valid_acc :51.93798449612403\n",
      "valid_loss: 0.09384055810360009\n",
      "validation process has finished\n",
      "*********Starting epoch 10\n",
      "train loss= 0.005263579608825523\n",
      "train Acc= 99.8062015503876\n",
      "Training process has finished.\n",
      "Start validating\n",
      "valid_acc :54.263565891472865\n",
      "valid_loss: 0.0973810076254608\n",
      "validation process has finished\n",
      "Accuracy for fold 2: 54 %\n",
      "--------------------------------\n",
      "FOLD 3\n",
      "--------------------------------\n",
      "*********Starting epoch 1\n",
      "train loss= 0.07215330917780945\n",
      "train Acc= 50.0\n",
      "Training process has finished.\n",
      "Start validating\n",
      "valid_acc :49.6124031007752\n",
      "valid_loss: 0.07077456942292082\n",
      "Saving best valid -trained model.\n",
      "validation process has finished\n",
      "*********Starting epoch 2\n",
      "train loss= 0.06896114027891846\n",
      "train Acc= 54.651162790697676\n",
      "Training process has finished.\n",
      "Start validating\n",
      "valid_acc :49.6124031007752\n",
      "valid_loss: 0.07179798293381373\n",
      "validation process has finished\n",
      "*********Starting epoch 3\n",
      "train loss= 0.06667648523372403\n",
      "train Acc= 56.58914728682171\n",
      "Training process has finished.\n",
      "Start validating\n",
      "valid_acc :51.16279069767442\n",
      "valid_loss: 0.06926810640866832\n",
      "Saving best valid -trained model.\n"
     ]
    },
    {
     "name": "stdout",
     "output_type": "stream",
     "text": [
      "validation process has finished\n",
      "*********Starting epoch 4\n",
      "train loss= 0.06745643478957404\n",
      "train Acc= 56.78294573643411\n",
      "Training process has finished.\n",
      "Start validating\n",
      "valid_acc :49.6124031007752\n",
      "valid_loss: 0.07056073724235873\n",
      "validation process has finished\n",
      "*********Starting epoch 5\n",
      "train loss= 0.06761425437117545\n",
      "train Acc= 55.62015503875969\n",
      "Training process has finished.\n",
      "Start validating\n",
      "valid_acc :60.46511627906977\n",
      "valid_loss: 0.06881914107534137\n",
      "Saving best valid -trained model.\n",
      "validation process has finished\n",
      "*********Starting epoch 6\n",
      "train loss= 0.0673453105644664\n",
      "train Acc= 67.44186046511628\n",
      "Training process has finished.\n",
      "Start validating\n",
      "valid_acc :49.6124031007752\n",
      "valid_loss: 0.07538524571136007\n",
      "validation process has finished\n",
      "*********Starting epoch 7\n",
      "train loss= 0.0570574445623225\n",
      "train Acc= 68.4108527131783\n",
      "Training process has finished.\n",
      "Start validating\n",
      "valid_acc :50.3875968992248\n",
      "valid_loss: 0.07761984236112007\n",
      "validation process has finished\n",
      "*********Starting epoch 8\n",
      "train loss= 0.03709961264349854\n",
      "train Acc= 88.95348837209302\n",
      "Training process has finished.\n",
      "Start validating\n",
      "valid_acc :51.93798449612403\n",
      "valid_loss: 0.09087320341913396\n",
      "validation process has finished\n",
      "*********Starting epoch 9\n",
      "train loss= 0.01965710022458104\n",
      "train Acc= 96.12403100775194\n",
      "Training process has finished.\n",
      "Start validating\n",
      "valid_acc :55.03875968992248\n",
      "valid_loss: 0.09783276956761691\n",
      "validation process has finished\n",
      "*********Starting epoch 10\n",
      "train loss= 0.007428930437614223\n",
      "train Acc= 100.0\n",
      "Training process has finished.\n",
      "Start validating\n",
      "valid_acc :56.58914728682171\n",
      "valid_loss: 0.08953777560954632\n",
      "validation process has finished\n",
      "Accuracy for fold 3: 56 %\n",
      "--------------------------------\n",
      "FOLD 4\n",
      "--------------------------------\n",
      "*********Starting epoch 1\n",
      "train loss= 0.07128686699863787\n",
      "train Acc= 49.6124031007752\n",
      "Training process has finished.\n",
      "Start validating\n",
      "valid_acc :49.6124031007752\n",
      "valid_loss: 0.07004100504478498\n",
      "Saving best valid -trained model.\n",
      "validation process has finished\n",
      "*********Starting epoch 2\n",
      "train loss= 0.06979366700715434\n",
      "train Acc= 50.968992248062015\n",
      "Training process has finished.\n",
      "Start validating\n",
      "valid_acc :49.6124031007752\n",
      "valid_loss: 0.07016380429680334\n",
      "validation process has finished\n",
      "*********Starting epoch 3\n",
      "train loss= 0.06943516518398944\n",
      "train Acc= 53.48837209302326\n",
      "Training process has finished.\n",
      "Start validating\n",
      "valid_acc :49.6124031007752\n",
      "valid_loss: 0.07015814057400285\n",
      "validation process has finished\n",
      "*********Starting epoch 4\n",
      "train loss= 0.06838036869719484\n",
      "train Acc= 52.906976744186046\n",
      "Training process has finished.\n",
      "Start validating\n",
      "valid_acc :51.93798449612403\n",
      "valid_loss: 0.07035217111574661\n",
      "Saving best valid -trained model.\n",
      "validation process has finished\n",
      "*********Starting epoch 5\n",
      "train loss= 0.06688321705498002\n",
      "train Acc= 61.04651162790697\n",
      "Training process has finished.\n",
      "Start validating\n",
      "valid_acc :48.06201550387597\n",
      "valid_loss: 0.06967742408696201\n",
      "validation process has finished\n",
      "*********Starting epoch 6\n",
      "train loss= 0.06322023313805199\n",
      "train Acc= 65.50387596899225\n",
      "Training process has finished.\n",
      "Start validating\n",
      "valid_acc :48.06201550387597\n",
      "valid_loss: 0.07228732195151652\n",
      "validation process has finished\n",
      "*********Starting epoch 7\n",
      "train loss= 0.05300074919301834\n",
      "train Acc= 72.86821705426357\n",
      "Training process has finished.\n",
      "Start validating\n",
      "valid_acc :51.16279069767442\n",
      "valid_loss: 0.08207978067438922\n",
      "validation process has finished\n",
      "*********Starting epoch 8\n",
      "train loss= 0.04173505995275548\n",
      "train Acc= 82.17054263565892\n",
      "Training process has finished.\n",
      "Start validating\n",
      "valid_acc :54.263565891472865\n",
      "valid_loss: 0.07873115928822591\n",
      "Saving best valid -trained model.\n",
      "validation process has finished\n",
      "*********Starting epoch 9\n",
      "train loss= 0.025645890692425434\n",
      "train Acc= 92.05426356589147\n",
      "Training process has finished.\n",
      "Start validating\n",
      "valid_acc :54.263565891472865\n",
      "valid_loss: 0.08225967991687592\n",
      "validation process has finished\n",
      "*********Starting epoch 10\n",
      "train loss= 0.010419194153782362\n",
      "train Acc= 98.64341085271317\n",
      "Training process has finished.\n",
      "Start validating\n",
      "valid_acc :55.81395348837209\n",
      "valid_loss: 0.10485393300732876\n",
      "Saving best valid -trained model.\n",
      "validation process has finished\n",
      "Accuracy for fold 4: 55 %\n",
      "--------------------------------\n"
     ]
    }
   ],
   "source": [
    "wandb.init(project='MDD-guido2020-classification-Reho')  \n",
    "\n",
    "k_folds = 5\n",
    "kfold_results = {}\n",
    "kfold = KFold(n_splits=k_folds, shuffle=True)\n",
    "\n",
    "#torch.manual_seed(42)\n",
    "num_epochs = 10\n",
    "batch_size = 10\n",
    "learning_rate= 0.001\n",
    "\n",
    "#Define a Loss function \n",
    "loss_function = nn.BCEWithLogitsLoss()\n",
    "\n",
    "for fold, (train_ids, valid_ids) in enumerate(kfold.split(train_dataset_cv)):\n",
    "    best_acc_cv= None\n",
    "    \n",
    "    print(f\"FOLD {fold}\\n--------------------------------\")\n",
    "    \n",
    "    # Sample elements randomly from a given list of ids,\n",
    "    train_subsampler = torch.utils.data.SubsetRandomSampler(train_ids)\n",
    "    valid_subsampler = torch.utils.data.SubsetRandomSampler(valid_ids)\n",
    "    \n",
    "    # Define data loaders for training and testing data in this fold\n",
    "    train_loader = torch.utils.data.DataLoader(train_dataset_cv, batch_size=batch_size, sampler=train_subsampler)\n",
    "    valid_loader = torch.utils.data.DataLoader(train_dataset_cv, batch_size=batch_size, sampler=valid_subsampler)\n",
    "    \n",
    "    #define network\n",
    "    network = ConvNet()\n",
    "    network = network.double()\n",
    "    \n",
    "    # create our optimizer\n",
    "    optimizer = optim.SGD(network.parameters(), momentum=0.9, lr = learning_rate, weight_decay=1e-3)\n",
    "    \n",
    "    # in the training loop:\n",
    "    \n",
    "    network.train() # prepare model for training\n",
    "    \n",
    "    for epoch in range(0, num_epochs):\n",
    "        print(f'*********Starting epoch {epoch+1}')\n",
    "        \n",
    "        train_loss_cv = 0\n",
    "        total =0\n",
    "        correct=0\n",
    "\n",
    "        # train model/network \n",
    "        for i, data in enumerate(train_loader, 0):\n",
    "            #print(f'train {i}')\n",
    "            \n",
    "            # get the inputs; data is a list of [inputs, labels]\n",
    "            inputs, labels = data\n",
    "            \n",
    "            # zero the gradient buffers\n",
    "            optimizer.zero_grad()\n",
    "            \n",
    "            # forward pass\n",
    "            outputs = network(inputs)\n",
    "            \n",
    "            # print(outputs.size)\n",
    "            outputss=outputs.squeeze(1) #### [10,1] ---> [10]\n",
    "            \n",
    "            # prediction \n",
    "            predicted = outputss.data > 0.0\n",
    "            \n",
    "            labels=labels.double()\n",
    "            \n",
    "            #calcuate loss/error\n",
    "            loss = loss_function(outputss, labels)\n",
    "            \n",
    "            # backward pass\n",
    "            loss.backward()\n",
    "            \n",
    "            # Does the update , gradient descent\n",
    "            optimizer.step() \n",
    "            \n",
    "            correct += (predicted == labels).sum().item()\n",
    "            train_loss_cv += loss.item()\n",
    "            total += labels.size(0)\n",
    "            \n",
    "        wandb.log({ \"epoch_cv\": epoch , \"train_Loss_cv\": train_loss_cv/total, \"train_acc_cv\": 100 * correct / total })\n",
    "        \n",
    "        print(f'train loss= {train_loss_cv/total}')\n",
    "        print(f'train Acc= {100 * correct / total}')\n",
    "        \n",
    "        \n",
    "        print('Training process has finished.')\n",
    "        print('Start validating')\n",
    "\n",
    "        # validate the network using the validation data, for this fold\n",
    "        correct= 0\n",
    "        total = 0\n",
    "        valid_loss_cv=0\n",
    "        \n",
    "        network.eval()\n",
    "\n",
    "        with torch.no_grad():\n",
    "            for i, data in enumerate(valid_loader, 0):\n",
    "                #print(f'test {i}')\n",
    "\n",
    "                inputs, lables = data\n",
    "\n",
    "                outputs = network(inputs)\n",
    "\n",
    "                outputss=outputs.squeeze(1) #[10,1] ---> [10]\n",
    "                lables=lables.double()\n",
    "\n",
    "                # prediction \n",
    "                predicted = outputss.data > 0.0\n",
    "\n",
    "                loss = loss_function(outputss, lables)\n",
    "\n",
    "                valid_loss_cv += loss.item()\n",
    "                total += lables.size(0)\n",
    "                correct += (predicted == lables).sum().item()\n",
    "\n",
    "            wandb.log({ \"validation_acc_cv\": 100 * correct /total, \"validation_Loss_cv\": valid_loss_cv/total })\n",
    "            \n",
    "            current_valid_acc_cv = 100 * correct /total\n",
    "            \n",
    "            print(f'valid_acc :{100 * correct /total}')\n",
    "            print(f'valid_loss: {valid_loss_cv/total}')\n",
    "                  \n",
    "            if not best_acc_cv or best_acc_cv < current_valid_acc_cv:\n",
    "                best_acc_cv = current_valid_acc_cv\n",
    "                \n",
    "                print('Saving best valid -trained model.')\n",
    "                path_best_acc_reho = f'/data/zmohaghegh/TempStats_3D-CNN/best_valid_acc_reho_2020/model-best-reho-fold-{fold}.pth'\n",
    "                torch.save(network.state_dict(), path_best_acc_reho )\n",
    "                \n",
    "            print('validation process has finished')\n",
    "                \n",
    "    print('Accuracy for fold %d: %d %%' % (fold, 100.0 * correct / total))\n",
    "    print('--------------------------------')\n",
    "        \n",
    "    kfold_results[fold] = 100.0 * (correct / total)"
   ]
  },
  {
   "cell_type": "markdown",
   "metadata": {},
   "source": [
    "### results of train and validation for CV"
   ]
  },
  {
   "cell_type": "code",
   "execution_count": 35,
   "metadata": {},
   "outputs": [
    {
     "name": "stdout",
     "output_type": "stream",
     "text": [
      "K-FOLD CROSS VALIDATION RESULTS FOR reho 5 FOLDS\n",
      "--------------------------------\n",
      "Fold 0: 55.81395348837209 %\n",
      "Fold 1: 51.93798449612403 %\n",
      "Fold 2: 54.263565891472865 %\n",
      "Fold 3: 56.58914728682171 %\n",
      "Fold 4: 55.81395348837209 %\n",
      "Average: 54.88372093023256 %\n"
     ]
    }
   ],
   "source": [
    "print(f\"K-FOLD CROSS VALIDATION RESULTS FOR reho {k_folds} FOLDS\\n--------------------------------\")\n",
    "_sum = 0.0\n",
    "\n",
    "for key, value in kfold_results.items():\n",
    "    print(f'Fold {key}: {value} %')\n",
    "    _sum += value\n",
    "\n",
    "print(f'Average: {_sum/len(kfold_results.items())} %')"
   ]
  },
  {
   "cell_type": "markdown",
   "metadata": {},
   "source": [
    "### Test loop for Cross validation "
   ]
  },
  {
   "cell_type": "code",
   "execution_count": 36,
   "metadata": {},
   "outputs": [],
   "source": [
    "from sklearn.metrics import confusion_matrix\n",
    "from sklearn.metrics import ConfusionMatrixDisplay\n",
    "from sklearn.metrics import roc_curve\n",
    "from sklearn.metrics import RocCurveDisplay"
   ]
  },
  {
   "cell_type": "code",
   "execution_count": 37,
   "metadata": {
    "scrolled": true
   },
   "outputs": [
    {
     "data": {
      "text/html": [
       "Finishing last run (ID:3lglc2rw) before initializing another..."
      ],
      "text/plain": [
       "<IPython.core.display.HTML object>"
      ]
     },
     "metadata": {},
     "output_type": "display_data"
    },
    {
     "data": {
      "text/html": [
       "<br/>Waiting for W&B process to finish, PID 26259<br/>Program ended successfully."
      ],
      "text/plain": [
       "<IPython.core.display.HTML object>"
      ]
     },
     "metadata": {},
     "output_type": "display_data"
    },
    {
     "data": {
      "application/vnd.jupyter.widget-view+json": {
       "model_id": "",
       "version_major": 2,
       "version_minor": 0
      },
      "text/plain": [
       "VBox(children=(Label(value=' 0.00MB of 0.00MB uploaded (0.00MB deduped)\\r'), FloatProgress(value=1.0, max=1.0)…"
      ]
     },
     "metadata": {},
     "output_type": "display_data"
    },
    {
     "data": {
      "text/html": [
       "Find user logs for this run at: <code>/data/zmohaghegh/TempStats_3D-CNN/wandb/run-20210428_024034-3lglc2rw/logs/debug.log</code>"
      ],
      "text/plain": [
       "<IPython.core.display.HTML object>"
      ]
     },
     "metadata": {},
     "output_type": "display_data"
    },
    {
     "data": {
      "text/html": [
       "Find internal logs for this run at: <code>/data/zmohaghegh/TempStats_3D-CNN/wandb/run-20210428_024034-3lglc2rw/logs/debug-internal.log</code>"
      ],
      "text/plain": [
       "<IPython.core.display.HTML object>"
      ]
     },
     "metadata": {},
     "output_type": "display_data"
    },
    {
     "data": {
      "text/html": [
       "<h3>Run summary:</h3><br/><style>\n",
       "    table.wandb td:nth-child(1) { padding: 0 10px; text-align: right }\n",
       "    </style><table class=\"wandb\">\n",
       "<tr><td>epoch_cv</td><td>9</td></tr><tr><td>train_Loss_cv</td><td>0.01042</td></tr><tr><td>train_acc_cv</td><td>98.64341</td></tr><tr><td>_runtime</td><td>45406</td></tr><tr><td>_timestamp</td><td>1619615844</td></tr><tr><td>_step</td><td>99</td></tr><tr><td>validation_acc_cv</td><td>55.81395</td></tr><tr><td>validation_Loss_cv</td><td>0.10485</td></tr></table>"
      ],
      "text/plain": [
       "<IPython.core.display.HTML object>"
      ]
     },
     "metadata": {},
     "output_type": "display_data"
    },
    {
     "data": {
      "text/html": [
       "<h3>Run history:</h3><br/><style>\n",
       "    table.wandb td:nth-child(1) { padding: 0 10px; text-align: right }\n",
       "    </style><table class=\"wandb\">\n",
       "<tr><td>epoch_cv</td><td>▁▂▃▃▅▆▆▇▁▂▃▃▅▆▆▇▁▂▃▃▅▆▆▇▁▂▃▃▅▆▆▇▁▂▃▃▅▆▆█</td></tr><tr><td>train_Loss_cv</td><td>██▇▇▃▂▁▁███▇▆▄▂▁███▇▆▆▄▂██▇██▆▄▃████▇▆▅▂</td></tr><tr><td>train_acc_cv</td><td>▂▃▃▅▇███▁▂▃▃▄▆██▁▂▂▃▅▄▆█▂▂▂▂▄▄▇█▂▂▂▂▄▅▆█</td></tr><tr><td>_runtime</td><td>▁▁▁▁▂▂▂▂▂▃▃▃▃▃▃▄▄▄▄▄▅▅▅▅▅▅▆▆▆▆▆▇▇▇▇▇▇███</td></tr><tr><td>_timestamp</td><td>▁▁▁▁▂▂▂▂▂▃▃▃▃▃▃▄▄▄▄▄▅▅▅▅▅▅▆▆▆▆▆▇▇▇▇▇▇███</td></tr><tr><td>_step</td><td>▁▁▁▁▂▂▂▂▂▃▃▃▃▃▃▄▄▄▄▄▅▅▅▅▅▅▆▆▆▆▆▇▇▇▇▇▇███</td></tr><tr><td>validation_acc_cv</td><td>▅▄▅▅▃▇▇█▇▁▆▅▆▇▃▄▅▆▆▅▆▇▇▅▄▄▅▄▄▅▅▇▄▄▄▅▃▅▆▇</td></tr><tr><td>validation_Loss_cv</td><td>▁▂▁▃▄▅▆▇▁▁▂▁▂▂▆▄▁▁▁▁▂▁▂▆▁▁▁▁▂▃▅▇▁▁▁▁▂▄▃█</td></tr></table><br/>"
      ],
      "text/plain": [
       "<IPython.core.display.HTML object>"
      ]
     },
     "metadata": {},
     "output_type": "display_data"
    },
    {
     "data": {
      "text/html": [
       "Synced 5 W&B file(s), 0 media file(s), 0 artifact file(s) and 0 other file(s)"
      ],
      "text/plain": [
       "<IPython.core.display.HTML object>"
      ]
     },
     "metadata": {},
     "output_type": "display_data"
    },
    {
     "data": {
      "text/html": [
       "\n",
       "                    <br/>Synced <strong style=\"color:#cdcd00\">gentle-plasma-11</strong>: <a href=\"https://wandb.ai/zahramhn/MDD-guido2020-classification-Reho/runs/3lglc2rw\" target=\"_blank\">https://wandb.ai/zahramhn/MDD-guido2020-classification-Reho/runs/3lglc2rw</a><br/>\n",
       "                "
      ],
      "text/plain": [
       "<IPython.core.display.HTML object>"
      ]
     },
     "metadata": {},
     "output_type": "display_data"
    },
    {
     "data": {
      "text/html": [
       "...Successfully finished last run (ID:3lglc2rw). Initializing new run:<br/><br/>"
      ],
      "text/plain": [
       "<IPython.core.display.HTML object>"
      ]
     },
     "metadata": {},
     "output_type": "display_data"
    },
    {
     "data": {
      "text/html": [
       "\n",
       "                Tracking run with wandb version 0.10.20<br/>\n",
       "                Syncing run <strong style=\"color:#cdcd00\">dazzling-glitter-12</strong> to <a href=\"https://wandb.ai\" target=\"_blank\">Weights & Biases</a> <a href=\"https://docs.wandb.com/integrations/jupyter.html\" target=\"_blank\">(Documentation)</a>.<br/>\n",
       "                Project page: <a href=\"https://wandb.ai/zahramhn/MDD-guido2020-classification-Reho\" target=\"_blank\">https://wandb.ai/zahramhn/MDD-guido2020-classification-Reho</a><br/>\n",
       "                Run page: <a href=\"https://wandb.ai/zahramhn/MDD-guido2020-classification-Reho/runs/1l5yvy4x\" target=\"_blank\">https://wandb.ai/zahramhn/MDD-guido2020-classification-Reho/runs/1l5yvy4x</a><br/>\n",
       "                Run data is saved locally in <code>/data/zmohaghegh/TempStats_3D-CNN/wandb/run-20210428_151725-1l5yvy4x</code><br/><br/>\n",
       "            "
      ],
      "text/plain": [
       "<IPython.core.display.HTML object>"
      ]
     },
     "metadata": {},
     "output_type": "display_data"
    },
    {
     "name": "stdout",
     "output_type": "stream",
     "text": [
      "Start TEST FOR FOLD 0\n",
      "test_Acc_CV\": 51.23456790123457\n",
      "F1_score CV ReHo :0.5129590806739655\n",
      "Balanced ACC CV ReHo :0.514588452088452\n",
      "Loss CV ReHo : 0.11535212243908084\n",
      "Start TEST FOR FOLD 1\n",
      "test_Acc_CV\": 45.67901234567901\n",
      "F1_score CV ReHo :0.28646160284578365\n",
      "Balanced ACC CV ReHo :0.5\n",
      "Loss CV ReHo : 0.0732030375132629\n",
      "Start TEST FOR FOLD 2\n",
      "test_Acc_CV\": 48.76543209876543\n",
      "F1_score CV ReHo :0.4593854358782044\n",
      "Balanced ACC CV ReHo :0.507985257985258\n",
      "Loss CV ReHo : 0.07366067995926431\n",
      "Start TEST FOR FOLD 3\n",
      "test_Acc_CV\": 54.32098765432099\n",
      "F1_score CV ReHo :0.5440473832630695\n",
      "Balanced ACC CV ReHo :0.542997542997543\n",
      "Loss CV ReHo : 0.07222620451098287\n",
      "Start TEST FOR FOLD 4\n",
      "test_Acc_CV\": 56.79012345679013\n",
      "F1_score CV ReHo :0.5415397714248289\n",
      "Balanced ACC CV ReHo :0.54745085995086\n",
      "Loss CV ReHo : 0.09846920937160356\n"
     ]
    },
    {
     "data": {
      "image/png": "[encoded data removed]",
      "text/plain": [
       "<Figure size 432x288 with 2 Axes>"
      ]
     },
     "metadata": {
      "needs_background": "light"
     },
     "output_type": "display_data"
    },
    {
     "data": {
      "image/png": "[encoded data removed]",
      "text/plain": [
       "<Figure size 432x288 with 1 Axes>"
      ]
     },
     "metadata": {
      "needs_background": "light"
     },
     "output_type": "display_data"
    },
    {
     "data": {
      "image/png": "[encoded data removed]",
      "text/plain": [
       "<Figure size 432x288 with 2 Axes>"
      ]
     },
     "metadata": {
      "needs_background": "light"
     },
     "output_type": "display_data"
    },
    {
     "data": {
      "image/png": "[encoded data removed]",
      "text/plain": [
       "<Figure size 432x288 with 1 Axes>"
      ]
     },
     "metadata": {
      "needs_background": "light"
     },
     "output_type": "display_data"
    },
    {
     "data": {
      "image/png": "[encoded data removed]",
      "text/plain": [
       "<Figure size 432x288 with 2 Axes>"
      ]
     },
     "metadata": {
      "needs_background": "light"
     },
     "output_type": "display_data"
    },
    {
     "data": {
      "image/png": "[encoded data removed]",
      "text/plain": [
       "<Figure size 432x288 with 1 Axes>"
      ]
     },
     "metadata": {
      "needs_background": "light"
     },
     "output_type": "display_data"
    },
    {
     "data": {
      "image/png": "[encoded data removed]",
      "text/plain": [
       "<Figure size 432x288 with 2 Axes>"
      ]
     },
     "metadata": {
      "needs_background": "light"
     },
     "output_type": "display_data"
    },
    {
     "data": {
      "image/png": "[encoded data removed]",
      "text/plain": [
       "<Figure size 432x288 with 1 Axes>"
      ]
     },
     "metadata": {
      "needs_background": "light"
     },
     "output_type": "display_data"
    },
    {
     "data": {
      "image/png": "[encoded data removed]",
      "text/plain": [
       "<Figure size 432x288 with 2 Axes>"
      ]
     },
     "metadata": {
      "needs_background": "light"
     },
     "output_type": "display_data"
    },
    {
     "data": {
      "image/png": "[encoded data removed]",
      "text/plain": [
       "<Figure size 432x288 with 1 Axes>"
      ]
     },
     "metadata": {
      "needs_background": "light"
     },
     "output_type": "display_data"
    }
   ],
   "source": [
    "wandb.init(project='MDD-guido2020-classification-Reho')  \n",
    "\n",
    "#Sample elements randomly \n",
    "test_loader  = torch.utils.data.DataLoader(test_dataset_cv , batch_size=batch_size, shuffle=True)\n",
    "\n",
    "accuracy_fold=[]\n",
    "F1_score_fold=[]\n",
    "bal_acc_fold=[]\n",
    "\n",
    "for k in np.arange(5): \n",
    "\n",
    "    print(f'Start TEST FOR FOLD {k}')\n",
    "\n",
    "    path_fold = f'/data/zmohaghegh/TempStats_3D-CNN/best_valid_acc_reho_2020/model-best-reho-fold-{k}.pth'\n",
    "\n",
    "    network.load_state_dict(torch.load(path_fold))\n",
    "\n",
    "    test_loss_cv=0\n",
    "    total = 0\n",
    "    correct=0\n",
    "\n",
    "    F1_labels=[]\n",
    "    F1_pred=[]\n",
    "\n",
    "    network.eval() # preoare model for test and evaluation\n",
    "\n",
    "    with torch.no_grad():\n",
    "        #print('Start testing CV...')\n",
    "        for i, data in enumerate(test_loader, 0):\n",
    "            #print(f'test {i}')\n",
    "\n",
    "            inputs, lables = data\n",
    "\n",
    "            outputs = network(inputs)\n",
    "\n",
    "            lables=lables.double()\n",
    "            outputss=outputs.squeeze(1) #[10,1] ---> [10]\n",
    "\n",
    "            #do the prediction \n",
    "            predicted = outputss.data > 0.0\n",
    "\n",
    "            #calculate loss\n",
    "            loss = loss_function(outputss, lables)\n",
    "\n",
    "            test_loss_cv += loss.item()\n",
    "            correct += (predicted == lables).sum().item()\n",
    "            total += lables.size(0)\n",
    "\n",
    "            if i==0:\n",
    "                F1_labels=lables.int().numpy()\n",
    "                F1_pred=predicted.int().numpy()\n",
    "            else:\n",
    "                F1_labels= np.concatenate((F1_labels, lables.int().numpy()))\n",
    "                F1_pred = np.concatenate((F1_pred, predicted.int().numpy()))\n",
    "            \n",
    "        wandb.log({ \"test_Acc_CV\": 100 * correct /total  , \"test_Loss_CV\": test_loss_cv/total })\n",
    "        \n",
    "        accuracy=100 * correct /total\n",
    "        acc = accuracy_score(F1_labels, F1_pred)\n",
    "        bal_acc= balanced_accuracy_score(F1_labels, F1_pred)\n",
    "\n",
    "        F1_Score = f1_score(F1_labels, F1_pred, average='weighted')\n",
    "        tn, fp, fn, tp = confusion_matrix(F1_labels, F1_pred).ravel()\n",
    "        \n",
    "        F1_score_fold.append(F1_Score)\n",
    "        bal_acc_fold.append(bal_acc)\n",
    "        accuracy_fold.append(accuracy)\n",
    "        \n",
    "        #PLotting Confusion matrix and ROC curve\n",
    "        conf_matrix = confusion_matrix(F1_labels, F1_pred)\n",
    "        conf_matrix_display = ConfusionMatrixDisplay(conf_matrix).plot()\n",
    "        fp_rate, tp_rate, threshold = roc_curve(F1_labels, F1_pred)\n",
    "        ROC_display = RocCurveDisplay(fpr=fp_rate, tpr=tp_rate).plot()\n",
    "\n",
    "        wandb.log({ \"test_balanced_Acc_CV\": bal_acc , \"test_Acc_CV\": 100 * correct /total, \"test_F1_score_CV\": F1_Score , \"test_Loss_CV\": test_loss_cv/total })\n",
    "        \n",
    "        print(f'test_Acc_CV\": {accuracy}')\n",
    "        print(f'F1_score CV ReHo :{F1_Score}')\n",
    "        print(f'Balanced ACC CV ReHo :{bal_acc}')\n",
    "        print(f'Loss CV ReHo : {test_loss_cv/total}')"
   ]
  },
  {
   "cell_type": "code",
   "execution_count": 38,
   "metadata": {},
   "outputs": [
    {
     "name": "stdout",
     "output_type": "stream",
     "text": [
      " Average Balance ACC ReHo =0.5226044226044226\n",
      "standard deviation :0.019090104698158236\n",
      " Average F1_score ReHo = 0.4688786548171704\n",
      "standard deviation :0.09616565041876046\n"
     ]
    }
   ],
   "source": [
    "import statistics\n",
    "\n",
    "accuracy_avg=sum(accuracy_fold)/len(accuracy_fold)\n",
    "accuracy_std=statistics.pstdev(accuracy_fold)\n",
    "\n",
    "\n",
    "F1_score_avg= sum(F1_score_fold)/len(F1_score_fold)\n",
    "F1_score_std= statistics.pstdev(F1_score_fold)\n",
    "\n",
    "bal_acc_avg = sum(bal_acc_fold)/len(bal_acc_fold)\n",
    "bal_acc_std = statistics.pstdev(bal_acc_fold)\n",
    "\n",
    "#print(f' Average Accuracy ReHo ={accuracy_avg}')\n",
    "#print(f'standard deviation :{accuracy_std}')\n",
    "\n",
    "print(f' Average Balance ACC ReHo ={bal_acc_avg}')\n",
    "print(f'standard deviation :{bal_acc_std}')\n",
    "\n",
    "print(f' Average F1_score ReHo = { F1_score_avg}')\n",
    "print(f'standard deviation :{F1_score_std}')"
   ]
  },
  {
   "cell_type": "code",
   "execution_count": null,
   "metadata": {},
   "outputs": [],
   "source": []
  }
 ],
 "metadata": {
  "kernelspec": {
   "display_name": "Python 3",
   "language": "python",
   "name": "python3"
  },
  "language_info": {
   "codemirror_mode": {
    "name": "ipython",
    "version": 3
   },
   "file_extension": ".py",
   "mimetype": "text/x-python",
   "name": "python",
   "nbconvert_exporter": "python",
   "pygments_lexer": "ipython3",
   "version": "3.8.3"
  }
 },
 "nbformat": 4,
 "nbformat_minor": 2
}
